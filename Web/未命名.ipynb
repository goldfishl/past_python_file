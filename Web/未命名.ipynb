{
 "cells": [
  {
   "cell_type": "markdown",
   "id": "a8b85a7b",
   "metadata": {},
   "source": [
    "# Web Front-end Developer"
   ]
  },
  {
   "cell_type": "markdown",
   "id": "0ee629c1",
   "metadata": {},
   "source": []
  },
  {
   "cell_type": "markdown",
   "id": "adb300a3",
   "metadata": {},
   "source": [
    "### Tooling\n",
    "Once you've learned the \"raw\" technologies that can be used to build web pages (such as HTML, CSS, and JavaScript), you'll soon start to come across various tools that can be used to make your work easier or more efficient. Examples include:\n",
    "\n",
    "The developer tools inside modern browsers that can be used to debug your code.\n",
    "Testing tools that can be used to run tests to show whether your code is behaving as you intended it to.\n",
    "Libraries and frameworks built on top of JavaScript that allow you to build certain types of web site much more quickly and effectively.\n",
    "\n",
    "So-called \"Linters\", which take a set of rules, look at your code, and highlight places where you haven't followed the rules properly.\n",
    "\n",
    "Minifiers, which remove all the whitespace from your code files to make it so that they  are smaller and therefore download from the server more quickly."
   ]
  },
  {
   "cell_type": "markdown",
   "id": "23ba09cf",
   "metadata": {},
   "source": [
    "### Concepts\n",
    "Cross-browser compatibility is the practice of trying to make sure your webpage works across as many devices as possible. This includes using technologies that all the browsers support, delivering better experiences to browsers that can handle them (progressive enhancement), and/or writing code so that it falls back to a simpler but still usable experience in older browsers (graceful degradation). It also involves a lot of testing to see if anything fails in certain browsers, and then more work to fix those failures.\n",
    "\n",
    "Responsive web design is the practice of making your functionality and layouts flexible so they can automatically adapt to different browsers. An obvious example is a website that is laid out one way in a widescreen browser on the desktop, but displays as a more compact, single-column layout on mobile phone browsers. Try adjusting the width of your browser window now, and see what happens.\n",
    "\n",
    "Performance means getting web sites to load as quickly as possible, but also making them intuitive and easy to use so that users don't get frustrated and go somewhere else.\n",
    "\n",
    "Accessibility means making your websites usable by as many different kinds of people as possible (related concepts are diversity and inclusion, and inclusive design). This includes people with visual impairments, hearing impairments, cognitive disabilities, or physical disabilities. It also goes beyond people with disabilities — how about young or old people, people from different cultures, people using mobile devices, or people with unreliable or slow network connections?\n",
    "\n",
    "Internationalization means making websites usable by people from different cultures, who speak different languages to your own. There are technical considerations here (such as altering your layout so that it still works OK for right-to-left, or even vertical languages), and human ones (such as using simple, non-slang language so that people who have your language as their second or third language are more likely to understand your text).\n",
    "Privacy & Security. These two concepts are related but different. Privacy refers to allowing people to go about their business privately and not spying on them or collecting more of their data than you absolutely need to. Security refers to constructing your website in a secure way so that malicious users cannot steal information contained on it from you or your users."
   ]
  },
  {
   "cell_type": "markdown",
   "id": "d2fa761e",
   "metadata": {},
   "source": [
    "# HTML(HyperText Markup Language)\n",
    "It is a markup language that tells web browsers how to structure the web pages you visit.HTML is a fairly simple language made up of elements"
   ]
  },
  {
   "cell_type": "markdown",
   "id": "3af5c7f2",
   "metadata": {},
   "source": [
    "Note: Tags in HTML are case-insensitive. This means they can be written in uppercase or lowercase. For example, a `<title>` tag could be written as `<title>`, `<TITLE>`, `<Title>`, `<TiTlE>`, etc., and it will work"
   ]
  }
 ],
 "metadata": {
  "kernelspec": {
   "display_name": "conda env:python36",
   "language": "python",
   "name": "python36"
  },
  "language_info": {
   "codemirror_mode": {
    "name": "ipython",
    "version": 3
   },
   "file_extension": ".py",
   "mimetype": "text/x-python",
   "name": "python",
   "nbconvert_exporter": "python",
   "pygments_lexer": "ipython3",
   "version": "3.6.13"
  }
 },
 "nbformat": 4,
 "nbformat_minor": 5
}
