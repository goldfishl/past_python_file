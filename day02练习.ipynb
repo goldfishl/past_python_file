{
 "cells": [
  {
   "cell_type": "markdown",
   "id": "8e81ad89",
   "metadata": {},
   "source": [
    "# Python大数据分析与挖掘day02\n",
    "## 算数运算符"
   ]
  },
  {
   "cell_type": "markdown",
   "id": "da50020a",
   "metadata": {},
   "source": [
    "## 练习\n",
    "假设你有1000元，你投资后每年有10%的收益。\n",
    "### 问题1\n",
    "两年后，你有多少钱？\n",
    "### 问题2\n",
    "七年后，你有多少钱？（用幂运算表示）"
   ]
  },
  {
   "cell_type": "code",
   "execution_count": 12,
   "id": "43f03ab4",
   "metadata": {},
   "outputs": [
    {
     "name": "stdout",
     "output_type": "stream",
     "text": [
      "1210.0\n"
     ]
    }
   ],
   "source": [
    "# 1000 * 0.1 + 1000\n",
    "# 1000 * (1 + 0.1)\n",
    "\n",
    "# 两年之后的结余\n",
    "shouyi = 1000 * (1 + 0.1) * (1 + 0.1)\n",
    "\n",
    "print(shouyi)"
   ]
  },
  {
   "cell_type": "code",
   "execution_count": 13,
   "id": "ad22412d",
   "metadata": {
    "scrolled": true
   },
   "outputs": [
    {
     "name": "stdout",
     "output_type": "stream",
     "text": [
      "1948.7171000000012\n"
     ]
    }
   ],
   "source": [
    "print(1000 * (1.1 ** 7))"
   ]
  },
  {
   "cell_type": "code",
   "execution_count": null,
   "id": "6ae04f33",
   "metadata": {},
   "outputs": [],
   "source": []
  },
  {
   "cell_type": "code",
   "execution_count": null,
   "id": "322adb23",
   "metadata": {},
   "outputs": [],
   "source": []
  },
  {
   "cell_type": "code",
   "execution_count": null,
   "id": "dca67ff8",
   "metadata": {},
   "outputs": [],
   "source": []
  },
  {
   "cell_type": "code",
   "execution_count": null,
   "id": "7b860e92",
   "metadata": {},
   "outputs": [],
   "source": []
  },
  {
   "cell_type": "code",
   "execution_count": null,
   "id": "b8a7a88d",
   "metadata": {},
   "outputs": [],
   "source": []
  },
  {
   "cell_type": "code",
   "execution_count": null,
   "id": "23ce429f",
   "metadata": {},
   "outputs": [],
   "source": []
  },
  {
   "cell_type": "code",
   "execution_count": null,
   "id": "7e38f340",
   "metadata": {},
   "outputs": [],
   "source": []
  },
  {
   "cell_type": "markdown",
   "id": "e39fd09e",
   "metadata": {},
   "source": [
    "## 练习\n",
    "100天后是星期几？（提示：用余数解决）"
   ]
  },
  {
   "cell_type": "code",
   "execution_count": 16,
   "id": "82be971f",
   "metadata": {},
   "outputs": [
    {
     "data": {
      "text/plain": [
       "2"
      ]
     },
     "execution_count": 16,
     "metadata": {},
     "output_type": "execute_result"
    }
   ],
   "source": [
    "100 % 7"
   ]
  },
  {
   "cell_type": "markdown",
   "id": "7b238553",
   "metadata": {},
   "source": [
    "## 练习(使用赋值运算符)\n",
    "根据用户输入的当前资产总数（浮点数），每年投资收益率（整数），N年\n",
    "\n",
    "输出“N年后的资产总数xxxx”\n",
    "\n",
    "示例 输入 1000 20 5 输出 “5年后的资产总数2488.3199999999993”"
   ]
  },
  {
   "cell_type": "code",
   "execution_count": 20,
   "id": "78172ad1",
   "metadata": {},
   "outputs": [
    {
     "name": "stdout",
     "output_type": "stream",
     "text": [
      "700000\n",
      "5\n",
      "30\n",
      "3025359.6626054673\n"
     ]
    }
   ],
   "source": [
    "benjin = input()\n",
    "benjin = int(benjin)\n",
    "\n",
    "rate = input()\n",
    "rate = int(rate)\n",
    "rate /= 100\n",
    "rate += 1\n",
    "\n",
    "year = input()\n",
    "year = int(year)\n",
    "\n",
    "\n",
    "print(benjin * (rate ** year))"
   ]
  },
  {
   "cell_type": "code",
   "execution_count": null,
   "id": "370fade9",
   "metadata": {},
   "outputs": [],
   "source": []
  },
  {
   "cell_type": "code",
   "execution_count": null,
   "id": "936db155",
   "metadata": {},
   "outputs": [],
   "source": []
  },
  {
   "cell_type": "code",
   "execution_count": null,
   "id": "340a4c3e",
   "metadata": {},
   "outputs": [],
   "source": []
  },
  {
   "cell_type": "markdown",
   "id": "a17a8669",
   "metadata": {},
   "source": [
    "# 列表list\n",
    "## 练习\n",
    "你收集了家里房子的面积信息。如下所示，你的房子的不同部分的面积暂时被储存在不同的变量中。\n",
    "\n",
    "创建一个列表，变量名命名为`areas`（面积），包含走廊（hallway）、厨房（kitchen）、客厅（living_room）、卧室（bed）和浴室（bathroom）的面积，按照这个顺序。使用预定义的变量。\n",
    "\n",
    "用print()函数打印`areas`。"
   ]
  },
  {
   "cell_type": "code",
   "execution_count": 22,
   "id": "786f98c5",
   "metadata": {},
   "outputs": [
    {
     "name": "stdout",
     "output_type": "stream",
     "text": [
      "[11.25, 18.0, 20.0, 10.75, 9.5]\n"
     ]
    }
   ],
   "source": [
    "# 单位为平方米\n",
    "hallway = 11.25 # 走廊\n",
    "kitchen = 18.0 # 厨房\n",
    "living_room = 20.0 # 客厅\n",
    "bedroom = 10.75 # 卧室\n",
    "bathroom = 9.50 # 浴室\n",
    "\n",
    "# 创建你的列表areas\n",
    "areas = [hallway, kitchen, living_room, bedroom, bathroom]\n",
    "\n",
    "# 打印areas\n",
    "print(areas)"
   ]
  },
  {
   "cell_type": "markdown",
   "id": "4fb53915",
   "metadata": {},
   "source": [
    "## 练习\n",
    "下列哪些是合法定义的列表\n",
    "\n",
    "A. [1, 3, 4, 2] \n",
    "\n",
    "B. [[1, 2, 3], [4, 5, 7]] \n",
    "\n",
    "C. [1 + 2, \"a\" * 5, 3]\n",
    "\n",
    "d. {\"dsa\", 123}\n",
    "\n",
    "e. [\"dsa\"; 123]"
   ]
  },
  {
   "cell_type": "code",
   "execution_count": 24,
   "id": "d7b52dce",
   "metadata": {},
   "outputs": [
    {
     "data": {
      "text/plain": [
       "'vvvv'"
      ]
     },
     "execution_count": 24,
     "metadata": {},
     "output_type": "execute_result"
    }
   ],
   "source": [
    "\"v\" * 4"
   ]
  },
  {
   "cell_type": "code",
   "execution_count": null,
   "id": "343b34d8",
   "metadata": {},
   "outputs": [],
   "source": []
  },
  {
   "cell_type": "code",
   "execution_count": null,
   "id": "01601274",
   "metadata": {},
   "outputs": [],
   "source": []
  },
  {
   "cell_type": "code",
   "execution_count": null,
   "id": "cdf9a26e",
   "metadata": {},
   "outputs": [],
   "source": []
  },
  {
   "cell_type": "code",
   "execution_count": null,
   "id": "004924ab",
   "metadata": {},
   "outputs": [],
   "source": []
  },
  {
   "cell_type": "code",
   "execution_count": null,
   "id": "c1b380d9",
   "metadata": {},
   "outputs": [],
   "source": []
  },
  {
   "cell_type": "code",
   "execution_count": null,
   "id": "6867d4e5",
   "metadata": {},
   "outputs": [],
   "source": []
  },
  {
   "cell_type": "code",
   "execution_count": null,
   "id": "0e5ec6c2",
   "metadata": {},
   "outputs": [],
   "source": []
  },
  {
   "cell_type": "markdown",
   "id": "5e8f931b",
   "metadata": {},
   "source": [
    "## 列表中的列表"
   ]
  },
  {
   "cell_type": "code",
   "execution_count": 1,
   "id": "117585f0",
   "metadata": {},
   "outputs": [
    {
     "name": "stdout",
     "output_type": "stream",
     "text": [
      "[['hallway', 11.25], ['kitchen', 18.0], ['living_room', 20.0], ['bedroom', 10.75], ['bathroom', 9.5]]\n"
     ]
    }
   ],
   "source": [
    "# 单位为平方米\n",
    "hallway = 11.25 # 走廊\n",
    "kitchen = 18.0 # 厨房\n",
    "living_room = 20.0 # 客厅\n",
    "bedroom = 10.75 # 卧室\n",
    "bathroom = 9.50 # 浴室\n",
    "\n",
    "# 补全房屋信息\n",
    "house = [[\"hallway\", hallway],\n",
    "         [\"kitchen\", kitchen],\n",
    "         [\"living_room\", living_room],\n",
    "         [\"bedroom\", bedroom],\n",
    "         [\"bathroom\", bathroom]]\n",
    "\n",
    "# 打印house\n",
    "print(house)"
   ]
  },
  {
   "cell_type": "markdown",
   "id": "1ec99b1b",
   "metadata": {},
   "source": [
    "## 列表子集\n",
    "### 列表的索引练习\n",
    "#### 练习1\n",
    "打印`house`的第二元素\n",
    "#### 练习2\n",
    "用负索引打印出浴室的信息\n",
    "#### 练习3\n",
    "打印出客厅的信息"
   ]
  },
  {
   "cell_type": "code",
   "execution_count": 26,
   "id": "0a428709",
   "metadata": {},
   "outputs": [
    {
     "data": {
      "text/plain": [
       "['kitchen', 18.0]"
      ]
     },
     "execution_count": 26,
     "metadata": {},
     "output_type": "execute_result"
    }
   ],
   "source": [
    "house[1]"
   ]
  },
  {
   "cell_type": "code",
   "execution_count": 27,
   "id": "80a23383",
   "metadata": {},
   "outputs": [
    {
     "data": {
      "text/plain": [
       "['bathroom', 9.5]"
      ]
     },
     "execution_count": 27,
     "metadata": {},
     "output_type": "execute_result"
    }
   ],
   "source": [
    "house[-1]"
   ]
  },
  {
   "cell_type": "code",
   "execution_count": 28,
   "id": "10a4e222",
   "metadata": {},
   "outputs": [
    {
     "data": {
      "text/plain": [
       "['living_room', 20.0]"
      ]
     },
     "execution_count": 28,
     "metadata": {},
     "output_type": "execute_result"
    }
   ],
   "source": [
    "house[2]"
   ]
  },
  {
   "cell_type": "code",
   "execution_count": null,
   "id": "fad365f0",
   "metadata": {},
   "outputs": [],
   "source": []
  },
  {
   "cell_type": "code",
   "execution_count": null,
   "id": "e73998b0",
   "metadata": {},
   "outputs": [],
   "source": []
  },
  {
   "cell_type": "code",
   "execution_count": null,
   "id": "77644089",
   "metadata": {},
   "outputs": [],
   "source": []
  },
  {
   "cell_type": "code",
   "execution_count": null,
   "id": "1b152ac5",
   "metadata": {},
   "outputs": [],
   "source": []
  },
  {
   "cell_type": "code",
   "execution_count": null,
   "id": "1686fba5",
   "metadata": {},
   "outputs": [],
   "source": []
  },
  {
   "cell_type": "code",
   "execution_count": null,
   "id": "e322b1d2",
   "metadata": {},
   "outputs": [],
   "source": []
  },
  {
   "cell_type": "code",
   "execution_count": null,
   "id": "15073ff5",
   "metadata": {},
   "outputs": [],
   "source": []
  },
  {
   "cell_type": "code",
   "execution_count": null,
   "id": "c4839bb3",
   "metadata": {},
   "outputs": [],
   "source": []
  },
  {
   "cell_type": "markdown",
   "id": "b8f26a8e",
   "metadata": {},
   "source": [
    "#### 练习3\n",
    "使用切片法创建一个列表`down`，其中包含`house`的前3个元素。"
   ]
  },
  {
   "cell_type": "code",
   "execution_count": 31,
   "id": "afe4a0d8",
   "metadata": {},
   "outputs": [
    {
     "name": "stdout",
     "output_type": "stream",
     "text": [
      "[['hallway', 11.25], ['kitchen', 18.0], ['living_room', 20.0]]\n"
     ]
    }
   ],
   "source": [
    "down = house[0:3]\n",
    "print(down)"
   ]
  },
  {
   "cell_type": "code",
   "execution_count": null,
   "id": "2c53a472",
   "metadata": {},
   "outputs": [],
   "source": []
  },
  {
   "cell_type": "code",
   "execution_count": null,
   "id": "03a21812",
   "metadata": {},
   "outputs": [],
   "source": []
  },
  {
   "cell_type": "code",
   "execution_count": null,
   "id": "54516e01",
   "metadata": {},
   "outputs": [],
   "source": []
  },
  {
   "cell_type": "code",
   "execution_count": null,
   "id": "35c076f0",
   "metadata": {},
   "outputs": [],
   "source": []
  },
  {
   "cell_type": "code",
   "execution_count": null,
   "id": "47c9869a",
   "metadata": {},
   "outputs": [],
   "source": []
  },
  {
   "cell_type": "markdown",
   "id": "ee4f9c9f",
   "metadata": {},
   "source": [
    "#### 练习4\n",
    "做类似的事情来创建一个新的变量`up`，它包含`house`的最后2个元素。"
   ]
  },
  {
   "cell_type": "code",
   "execution_count": 33,
   "id": "3fbb0eb5",
   "metadata": {},
   "outputs": [
    {
     "name": "stdout",
     "output_type": "stream",
     "text": [
      "[['bedroom', 10.75], ['bathroom', 9.5]]\n"
     ]
    }
   ],
   "source": [
    "up = house[-2:]\n",
    "print(up)"
   ]
  },
  {
   "cell_type": "code",
   "execution_count": null,
   "id": "5567f9df",
   "metadata": {},
   "outputs": [],
   "source": []
  },
  {
   "cell_type": "code",
   "execution_count": null,
   "id": "333f5381",
   "metadata": {},
   "outputs": [],
   "source": []
  },
  {
   "cell_type": "code",
   "execution_count": null,
   "id": "4d0ab11a",
   "metadata": {},
   "outputs": [],
   "source": []
  },
  {
   "cell_type": "code",
   "execution_count": null,
   "id": "d4bcb1bb",
   "metadata": {},
   "outputs": [],
   "source": []
  },
  {
   "cell_type": "markdown",
   "id": "335aba6f",
   "metadata": {},
   "source": [
    "### 练习5\n",
    "要对包含在列表中的列表的元素，可以使用与之前相同的技巧：方括号。\n",
    "```python\n",
    "x = [[\"a\", \"b\", \"c\"],\n",
    "     [\"d\", \"e\", \"f\"],\n",
    "     [\"g\", \"h\", \"i\"]]\n",
    "\n",
    "x[2][0] # \"g\"\n",
    "x[2][:2] # [\"g\", \"h\"]\n",
    "```\n",
    "`x[2]`的结果是一个列表，你可以通过添加额外的方括号再次子集。\n",
    "\n",
    "那么`house[-1][1]`是什么呢？"
   ]
  },
  {
   "cell_type": "code",
   "execution_count": null,
   "id": "bf78d9e2",
   "metadata": {},
   "outputs": [],
   "source": [
    "[['hallway', 11.25], \n",
    " ['kitchen', 18.0], \n",
    " ['living_room', 20.0], \n",
    " ['bedroom', 10.75], \n",
    " ['bathroom', 9.5]]"
   ]
  },
  {
   "cell_type": "code",
   "execution_count": null,
   "id": "431de84f",
   "metadata": {},
   "outputs": [],
   "source": []
  },
  {
   "cell_type": "code",
   "execution_count": null,
   "id": "aa2fd189",
   "metadata": {},
   "outputs": [],
   "source": []
  },
  {
   "cell_type": "code",
   "execution_count": null,
   "id": "6a430b51",
   "metadata": {},
   "outputs": [],
   "source": []
  },
  {
   "cell_type": "code",
   "execution_count": null,
   "id": "3ad81fca",
   "metadata": {},
   "outputs": [],
   "source": []
  },
  {
   "cell_type": "code",
   "execution_count": null,
   "id": "7e57112e",
   "metadata": {},
   "outputs": [],
   "source": []
  },
  {
   "cell_type": "code",
   "execution_count": null,
   "id": "b9529a4e",
   "metadata": {},
   "outputs": [],
   "source": []
  },
  {
   "cell_type": "code",
   "execution_count": null,
   "id": "400c4f7f",
   "metadata": {},
   "outputs": [],
   "source": []
  },
  {
   "cell_type": "code",
   "execution_count": null,
   "id": "54ef79ec",
   "metadata": {},
   "outputs": [],
   "source": []
  },
  {
   "cell_type": "code",
   "execution_count": null,
   "id": "2448aeda",
   "metadata": {},
   "outputs": [],
   "source": []
  },
  {
   "cell_type": "code",
   "execution_count": null,
   "id": "924900a1",
   "metadata": {},
   "outputs": [],
   "source": []
  },
  {
   "cell_type": "code",
   "execution_count": null,
   "id": "03e4018f",
   "metadata": {},
   "outputs": [],
   "source": []
  },
  {
   "cell_type": "code",
   "execution_count": null,
   "id": "87b9d521",
   "metadata": {},
   "outputs": [],
   "source": []
  },
  {
   "cell_type": "code",
   "execution_count": null,
   "id": "6473b87b",
   "metadata": {},
   "outputs": [],
   "source": []
  },
  {
   "cell_type": "code",
   "execution_count": null,
   "id": "23d05aeb",
   "metadata": {},
   "outputs": [],
   "source": []
  },
  {
   "cell_type": "code",
   "execution_count": null,
   "id": "081352d9",
   "metadata": {},
   "outputs": [],
   "source": []
  },
  {
   "cell_type": "code",
   "execution_count": null,
   "id": "8648ac75",
   "metadata": {},
   "outputs": [],
   "source": []
  },
  {
   "cell_type": "code",
   "execution_count": null,
   "id": "f4ce6c1a",
   "metadata": {},
   "outputs": [],
   "source": []
  },
  {
   "cell_type": "code",
   "execution_count": null,
   "id": "55b1bddd",
   "metadata": {},
   "outputs": [],
   "source": []
  },
  {
   "cell_type": "code",
   "execution_count": null,
   "id": "4da113e5",
   "metadata": {},
   "outputs": [],
   "source": []
  },
  {
   "cell_type": "code",
   "execution_count": null,
   "id": "ef13115d",
   "metadata": {},
   "outputs": [],
   "source": []
  }
 ],
 "metadata": {
  "kernelspec": {
   "display_name": "Python 3",
   "language": "python",
   "name": "python3"
  },
  "language_info": {
   "codemirror_mode": {
    "name": "ipython",
    "version": 3
   },
   "file_extension": ".py",
   "mimetype": "text/x-python",
   "name": "python",
   "nbconvert_exporter": "python",
   "pygments_lexer": "ipython3",
   "version": "3.6.13"
  }
 },
 "nbformat": 4,
 "nbformat_minor": 5
}
