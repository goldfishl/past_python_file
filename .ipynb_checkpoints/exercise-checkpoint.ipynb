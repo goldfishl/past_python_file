{
 "cells": [
  {
   "cell_type": "code",
   "execution_count": null,
   "metadata": {},
   "outputs": [],
   "source": [
    "#This is python tutorial of Machine-Learning\n",
    "#Editor:long\n",
    "#Date:04-18,2021"
   ]
  },
  {
   "cell_type": "code",
   "execution_count": 1,
   "metadata": {},
   "outputs": [
    {
     "name": "stdout",
     "output_type": "stream",
     "text": [
      "my name is long,25 year-old\n"
     ]
    }
   ],
   "source": [
    "# Chapter 1:Basic Data Type\n",
    "\n",
    "# Python has a number of basic types including integers, floats, booleans, and strings. # These data types behave in ways that are familiar from other programming languages.\n",
    "\n",
    "#Strings\n",
    "# format strings\n",
    "str = \"my name is %s,%d year-old\" % (\"long\",25)\n",
    "print(str)"
   ]
  },
  {
   "cell_type": "code",
   "execution_count": 2,
   "metadata": {},
   "outputs": [
    {
     "name": "stdout",
     "output_type": "stream",
     "text": [
      "(12+3j)\n",
      "12.0\n",
      "3.0\n"
     ]
    }
   ],
   "source": [
    "# Complex Number\n",
    "# Python has build-in type of complex number\n",
    "# Create a complex number,\n",
    "ComplexNum = (12+3j)    # or ues ComplexNum = complex(12,3)\n",
    "print(ComplexNum)\n",
    "\n",
    "#real component & imagine component\n",
    "print(ComplexNum.real)  # print the real component\n",
    "print(ComplexNum.imag)  # print the imagine component"
   ]
  },
  {
   "cell_type": "code",
   "execution_count": 3,
   "metadata": {},
   "outputs": [
    {
     "name": "stdout",
     "output_type": "stream",
     "text": [
      "[1, 2, 'too']\n",
      "too\n",
      "[2, 'too']\n",
      "[1, 'bad', 'mom']\n",
      "1\n",
      "bad\n",
      "mom\n"
     ]
    },
    {
     "ename": "NameError",
     "evalue": "name 'ste' is not defined",
     "output_type": "error",
     "traceback": [
      "\u001b[0;31m---------------------------------------------------------------------------\u001b[0m",
      "\u001b[0;31mNameError\u001b[0m                                 Traceback (most recent call last)",
      "\u001b[0;32m<ipython-input-3-d74bc4b0a3c0>\u001b[0m in \u001b[0;36m<module>\u001b[0;34m\u001b[0m\n\u001b[1;32m     21\u001b[0m \u001b[0;31m#If you want access to the index of each element within the body of a loop, use the built-in enumerate function:\u001b[0m\u001b[0;34m\u001b[0m\u001b[0;34m\u001b[0m\u001b[0;34m\u001b[0m\u001b[0m\n\u001b[1;32m     22\u001b[0m \u001b[0;32mfor\u001b[0m \u001b[0mi\u001b[0m\u001b[0;34m,\u001b[0m\u001b[0mx\u001b[0m \u001b[0;32min\u001b[0m \u001b[0menumerate\u001b[0m\u001b[0;34m(\u001b[0m\u001b[0mMyList\u001b[0m\u001b[0;34m)\u001b[0m \u001b[0;34m:\u001b[0m\u001b[0;34m\u001b[0m\u001b[0;34m\u001b[0m\u001b[0m\n\u001b[0;32m---> 23\u001b[0;31m     \u001b[0mprint\u001b[0m\u001b[0;34m(\u001b[0m\u001b[0mste\u001b[0m\u001b[0;34m(\u001b[0m\u001b[0mi\u001b[0m\u001b[0;34m+\u001b[0m\u001b[0;36m1\u001b[0m\u001b[0;34m)\u001b[0m \u001b[0;34m+\u001b[0m \u001b[0;34m\":\"\u001b[0m \u001b[0;34m+\u001b[0m\u001b[0mstr\u001b[0m\u001b[0;34m(\u001b[0m\u001b[0mx\u001b[0m\u001b[0;34m)\u001b[0m\u001b[0;34m)\u001b[0m\u001b[0;34m\u001b[0m\u001b[0;34m\u001b[0m\u001b[0m\n\u001b[0m\u001b[1;32m     24\u001b[0m \u001b[0;34m\u001b[0m\u001b[0m\n\u001b[1;32m     25\u001b[0m \u001b[0;31m# Quick sort complementation using list\u001b[0m\u001b[0;34m\u001b[0m\u001b[0;34m\u001b[0m\u001b[0;34m\u001b[0m\u001b[0m\n",
      "\u001b[0;31mNameError\u001b[0m: name 'ste' is not defined"
     ]
    }
   ],
   "source": [
    "#Containers:List & Dictionary & sets & tuples\n",
    "\n",
    "# List\n",
    "# A list is the Python equivalent of an array, but is resizeable and can contain elements of different types.\n",
    "\n",
    "#Create a list\n",
    "MyList = [1,2,\"too\"] # or MyList=[]\n",
    "print(MyList)   #print \"[1, 2, 'too']\"\n",
    "#Indices & Slicing\n",
    "#Notice:index start from 0!\n",
    "print(MyList[-1])   # Negetive indices support;print \"too\"\n",
    "print(MyList[1:])   # Get a slice from index 1 to the end;print \"[2, 'too']\"\n",
    "\n",
    "#Assign a new sublist to a slice\n",
    "MyList[1:] = [\"bad\",\"mom\"]\n",
    "print(MyList)   #print \"[1, 'bad', 'mom']\"\n",
    "\n",
    "#Loop over the elements of a list\n",
    "for x in MyList :\n",
    "    print(x)\n",
    "#If you want access to the index of each element within the body of a loop, use the built-in enumerate function:\n",
    "for i,x in enumerate(MyList) :\n",
    "    print(ste(i+1) + \":\" +str(x))\n",
    "\n",
    "# Quick sort complementation using list\n",
    "def QuickSort(arr) :\n",
    "    if len(arr) <= 1 :\n",
    "        return arr\n",
    "    pivot = arr[0]\n",
    "    left = [x for x in arr if x < pivot]\n",
    "    middle = [x for x in arr if x == pivot]\n",
    "    right = [x for x in arr if x > pivot]\n",
    "    return QuickSort(left) + middle + QuickSort(right)\n",
    "\n",
    "print(QuickSort([32,43,4,12,43,75,2,5,3]))"
   ]
  },
  {
   "cell_type": "code",
   "execution_count": 4,
   "metadata": {},
   "outputs": [],
   "source": [
    "# Chapter 2:Operator\n"
   ]
  },
  {
   "cell_type": "code",
   "execution_count": null,
   "metadata": {},
   "outputs": [],
   "source": []
  },
  {
   "cell_type": "code",
   "execution_count": null,
   "metadata": {},
   "outputs": [],
   "source": []
  },
  {
   "cell_type": "code",
   "execution_count": null,
   "metadata": {},
   "outputs": [],
   "source": []
  }
 ],
 "metadata": {
  "kernelspec": {
   "display_name": "Python 3",
   "language": "python",
   "name": "python3"
  },
  "language_info": {
   "codemirror_mode": {
    "name": "ipython",
    "version": 3
   },
   "file_extension": ".py",
   "mimetype": "text/x-python",
   "name": "python",
   "nbconvert_exporter": "python",
   "pygments_lexer": "ipython3",
   "version": "3.6.13"
  }
 },
 "nbformat": 4,
 "nbformat_minor": 2
}
