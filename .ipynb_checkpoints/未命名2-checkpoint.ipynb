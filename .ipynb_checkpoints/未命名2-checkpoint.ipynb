{
 "cells": [
  {
   "cell_type": "markdown",
   "id": "7b0534eb",
   "metadata": {},
   "source": [
    "## List of list\n",
    "用这种二维Table的数据结构，结构化我们的数据是非常重要的\n",
    "### Problem\n",
    "After measuring the height of your family, you decide to collect some information on the house you're living in.   \n",
    "\n",
    "You can create a flat list containing strings and floats, representing the names and areas of the rooms in your house  \n",
    "\n",
    "Instead,you can create a list of lists,each little sublists for each room of the house. One for bathroom, one for hallway and so on. "
   ]
  },
  {
   "cell_type": "code",
   "execution_count": 9,
   "id": "ac3f52a1",
   "metadata": {},
   "outputs": [
    {
     "name": "stdout",
     "output_type": "stream",
     "text": [
      "['hallway', 11.25, 'kitchen', 18.0, 'living room', 20.0, 'bedroom', 10.75, 'bathroom', 9.5]\n",
      "[['hallway', 11.25], ['kitchen', 18.0], ['living room', 20.0], ['bedroom', 10.75], ['bathroom', 9.5]]\n"
     ]
    }
   ],
   "source": [
    "areas = ['hallway', 11.25, 'kitchen', 18.0, 'living room', 20.0,\\\n",
    "         'bedroom', 10.75, 'bathroom', 9.5]\n",
    "print(areas)\n",
    "house = [[\"hallway\", 11.25],\\\n",
    "         [\"kitchen\", 18.0],\\\n",
    "         [\"living room\", 20.0],\\\n",
    "         [\"bedroom\",10.75],\\\n",
    "         [\"bathroom\",9.5]]\n",
    "print(house)"
   ]
  },
  {
   "cell_type": "markdown",
   "id": "3d235708",
   "metadata": {},
   "source": [
    "### Function\n",
    "a function is a piece of reusable code, aimed at solving a particular task. You can call functions instead of having to write code yourself. \n",
    "\n",
    "7. round()\n",
    "Another one of these built-in functions is round. It takes two inputs: first, a number you want to round, and second, the precision with which to round, so how many digits behind the decimal point you want to keep.(两个输入：第一，想要进行四舍五入的数字；第二，舍入的精度，即小数点后包含几位数字)  \n",
    "Say you want to round 1-point-68 to one decimal place. The first input is 1-point-68, the second input is 1. You separate the inputs with a comma. But there's more. It's perfectly possible to call the round function with only one input, like this.  \n",
    "\n",
    "This time, Python figured out that you didn't specify the second input, and automatically chooses to round the number to the closest integer. To understand why both approaches work, let's open up the documentation. You can do this with yet another function, help, like this. It appears that round takes two inputs.\n",
    "\n",
    "8. round()\n",
    "In Python, these inputs, also called arguments, have names: number and ndigits. When you call the function round,\n",
    "\n",
    "9. round()\n",
    "with these two inputs, Python matches the inputs to the arguments:\n",
    "\n",
    "10. round()\n",
    "number is set to 1-point-68 and\n",
    "\n",
    "11. round()\n",
    "ndigits is set to 1. Next,\n",
    "\n",
    "12. round()\n",
    "The round function does its calculations with number and ndigits as if they are variables in a Python script. We don't know exactly what code Python executes. What is important, though, is that the function produces an output,\n",
    "\n",
    "13. round()\n",
    "namely the number 1-point-68 rounded to 1 decimal place.\n",
    "\n",
    "14. round()\n",
    "If you call the function round with only one input,\n",
    "\n",
    "15. round()\n",
    "Python again tries to\n",
    "\n",
    "16. round()\n",
    "match the inputs to\n",
    "\n",
    "17. round()\n",
    "the arguments. There's no input to match to the ndigits argument though. Luckily,\n",
    "\n",
    "18. round()\n",
    "the internal machinery of the round function knows how to handle this. When ndigits is not specified, the function simply rounds to the closest integer and\n",
    "\n",
    "19. round()\n",
    "returns that integer. That's why we got the number 2.\n",
    "\n",
    "20. round()\n",
    "How was I so sure that calling the function with a single input would work? Well, in the documentation, there are square brackets around the comma and the ndigits here. This tells us that you can call round in this form, as well as in this one. In other words, ndigits is an optional argument. Actually, Python offers yet another way to show that a function has optional arguments, but that's something for the exercises.\n",
    "\n",
    "21. Find functions\n",
    "By now, you have an idea about how to use max and round, but how could you know that a function such as round exists in Python in the first place? Well, this is something you will learn with time. Whenever you are doing a rather standard task in Python, you can be pretty sure that there's already a function that can do this for you. In that case, you should definitely use it! Just do a quick internet search and you'll find the function you need with a nice usage example. And there is of course DataCamp, where you'll also learn about powerful functions and how to use them.\n",
    "\n",
    "22. Let's practice!\n",
    "Get straight to it in the interactive exercises!"
   ]
  }
 ],
 "metadata": {
  "kernelspec": {
   "display_name": "conda env:python36",
   "language": "python",
   "name": "python36"
  },
  "language_info": {
   "codemirror_mode": {
    "name": "ipython",
    "version": 3
   },
   "file_extension": ".py",
   "mimetype": "text/x-python",
   "name": "python",
   "nbconvert_exporter": "python",
   "pygments_lexer": "ipython3",
   "version": "3.6.13"
  }
 },
 "nbformat": 4,
 "nbformat_minor": 5
}
