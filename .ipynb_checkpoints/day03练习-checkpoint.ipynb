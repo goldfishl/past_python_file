{
 "cells": [
  {
   "cell_type": "code",
   "execution_count": 1,
   "id": "1fc84d89",
   "metadata": {},
   "outputs": [
    {
     "name": "stdout",
     "output_type": "stream",
     "text": [
      "[['hallway', 11.25], ['kitchen', 18.0], ['living_room', 20.0], ['bedroom', 10.75], ['bathroom', 9.5]]\n"
     ]
    }
   ],
   "source": [
    "# 单位为平方米\n",
    "hallway = 11.25 # 走廊\n",
    "kitchen = 18.0 # 厨房\n",
    "living_room = 20.0 # 客厅\n",
    "bedroom = 10.75 # 卧室\n",
    "bathroom = 9.50 # 浴室\n",
    "\n",
    "# 补全房屋信息\n",
    "house = [[\"hallway\", hallway],\n",
    "         [\"kitchen\", kitchen],\n",
    "         [\"living_room\", living_room],\n",
    "         [\"bedroom\", bedroom],\n",
    "         [\"bathroom\", bathroom]]\n",
    "\n",
    "# 打印house\n",
    "print(house)"
   ]
  },
  {
   "cell_type": "markdown",
   "id": "8b228a33",
   "metadata": {},
   "source": [
    "取出包含在列表中的列表的元素，可以使用与之前相同的技巧：方括号。\n",
    "```python\n",
    "x = [[\"a\", \"b\", \"c\"],\n",
    "     [\"d\", \"e\", \"f\"],\n",
    "     [\"g\", \"h\", \"i\"]]\n",
    "\n",
    "x[2][0] # \"g\"\n",
    "x[2][:2] # [\"g\", \"h\"]\n",
    "```\n",
    "`x[2]`的结果是一个列表，你可以通过添加额外的方括号再次子集。"
   ]
  },
  {
   "cell_type": "markdown",
   "id": "9d1b6fe5",
   "metadata": {},
   "source": [
    "# list列表操作\n",
    "## 改变列表中的元素\n",
    "### 练习\n",
    "更新`house`中浴室区域的面积为10.50平方米，而不是9.50。"
   ]
  },
  {
   "cell_type": "code",
   "execution_count": null,
   "id": "c6354916",
   "metadata": {},
   "outputs": [],
   "source": []
  },
  {
   "cell_type": "markdown",
   "id": "378b47ee",
   "metadata": {},
   "source": [
    "## 增加列表中的元素\n",
    "### 练习\n",
    "在`house`中新增游泳池的信息`[\"pool\", 12.1]`。"
   ]
  },
  {
   "cell_type": "code",
   "execution_count": null,
   "id": "bf8812f5",
   "metadata": {},
   "outputs": [],
   "source": []
  },
  {
   "cell_type": "markdown",
   "id": "c9c5ab7d",
   "metadata": {},
   "source": [
    "## 删除列表中的元素\n",
    "### 练习\n",
    "删除`house`中客厅的信息"
   ]
  },
  {
   "cell_type": "code",
   "execution_count": null,
   "id": "3645e43e",
   "metadata": {},
   "outputs": [],
   "source": []
  },
  {
   "cell_type": "markdown",
   "id": "c2fa1b37",
   "metadata": {},
   "source": [
    "# 列表底层\n",
    "### 练习\n",
    "创建复制`areas`列表的内容到`areas_copy`"
   ]
  },
  {
   "cell_type": "code",
   "execution_count": 3,
   "id": "5bbc8be9",
   "metadata": {},
   "outputs": [],
   "source": [
    "areas = [11.25, 18.0, 20.0, 10.75, 9.50]\n",
    "\n",
    "# 更改代码实现拷贝\n",
    "areas_copy = areas\n",
    "\n",
    "areas_copy[0] = 5.0\n",
    "\n",
    "print(areas)"
   ]
  },
  {
   "cell_type": "markdown",
   "id": "fc1a23ef",
   "metadata": {},
   "source": [
    "# 函数\n",
    "## 练习1\n",
    "使用`print()`与`type()`组合，打印出`var1`的类型。\n",
    "## 练习2\n",
    "使用`len()`来获取列表`var1`的长度。用`print()`调用来直接打印出来。"
   ]
  },
  {
   "cell_type": "code",
   "execution_count": null,
   "id": "120be886",
   "metadata": {},
   "outputs": [],
   "source": [
    "var1 = [1, 2, 3, 4]\n",
    "var2 = True\n",
    "\n",
    "# 打印出var1的类型\n",
    "\n",
    "\n",
    "# 打印出列表var1的长度\n",
    "\n"
   ]
  },
  {
   "cell_type": "code",
   "execution_count": null,
   "id": "33052519",
   "metadata": {},
   "outputs": [],
   "source": []
  },
  {
   "cell_type": "code",
   "execution_count": null,
   "id": "a2b6010f",
   "metadata": {},
   "outputs": [],
   "source": []
  },
  {
   "cell_type": "code",
   "execution_count": null,
   "id": "48738bc6",
   "metadata": {},
   "outputs": [],
   "source": []
  },
  {
   "cell_type": "code",
   "execution_count": null,
   "id": "d8a7df9d",
   "metadata": {},
   "outputs": [],
   "source": []
  }
 ],
 "metadata": {
  "kernelspec": {
   "display_name": "Python 3",
   "language": "python",
   "name": "python3"
  },
  "language_info": {
   "codemirror_mode": {
    "name": "ipython",
    "version": 3
   },
   "file_extension": ".py",
   "mimetype": "text/x-python",
   "name": "python",
   "nbconvert_exporter": "python",
   "pygments_lexer": "ipython3",
   "version": "3.6.13"
  }
 },
 "nbformat": 4,
 "nbformat_minor": 5
}
