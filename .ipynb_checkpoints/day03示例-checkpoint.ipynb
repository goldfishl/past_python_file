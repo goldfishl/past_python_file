{
 "cells": [
  {
   "cell_type": "markdown",
   "id": "e04a13fd",
   "metadata": {},
   "source": [
    "# 列表底层\n",
    "列表的变量名实际上并不包含所有的列表元素，而是包含对列表的引用!让我们通过简单地使用等号将列表中的x存储为一个新的变量y。"
   ]
  },
  {
   "cell_type": "code",
   "execution_count": 42,
   "id": "b773501d",
   "metadata": {},
   "outputs": [
    {
     "name": "stdout",
     "output_type": "stream",
     "text": [
      "列表x:[1, 2, 3, 4]\n",
      "列表y:[1, 2, 3, 4]\n"
     ]
    }
   ],
   "source": [
    "x = [1, 2, 3, 4]\n",
    "y = x\n",
    "print(\"列表x:\" + str(x))\n",
    "print(\"列表y:\" + str(y))"
   ]
  },
  {
   "cell_type": "markdown",
   "id": "2249fa4b",
   "metadata": {},
   "source": [
    "现在让我们改变列表y中索引为1的元素"
   ]
  },
  {
   "cell_type": "code",
   "execution_count": 44,
   "id": "2ed854f6",
   "metadata": {},
   "outputs": [
    {
     "name": "stdout",
     "output_type": "stream",
     "text": [
      "列表y:[1, 10, 3, 4]\n"
     ]
    }
   ],
   "source": [
    "y[1] = 10\n",
    "print(\"列表y:\" + str(y))"
   ]
  },
  {
   "cell_type": "code",
   "execution_count": 45,
   "id": "23cc3ed8",
   "metadata": {},
   "outputs": [
    {
     "name": "stdout",
     "output_type": "stream",
     "text": [
      "[1, 10, 3, 4]\n"
     ]
    }
   ],
   "source": [
    "print(x)"
   ]
  },
  {
   "cell_type": "code",
   "execution_count": null,
   "id": "9c3db576",
   "metadata": {},
   "outputs": [],
   "source": []
  },
  {
   "cell_type": "code",
   "execution_count": null,
   "id": "bf9d80c4",
   "metadata": {},
   "outputs": [],
   "source": []
  },
  {
   "cell_type": "code",
   "execution_count": null,
   "id": "5d27935e",
   "metadata": {},
   "outputs": [],
   "source": []
  },
  {
   "cell_type": "code",
   "execution_count": null,
   "id": "08cc9beb",
   "metadata": {},
   "outputs": [],
   "source": []
  },
  {
   "cell_type": "code",
   "execution_count": null,
   "id": "59ab9fa7",
   "metadata": {},
   "outputs": [],
   "source": []
  },
  {
   "cell_type": "code",
   "execution_count": null,
   "id": "6265f1f9",
   "metadata": {},
   "outputs": [],
   "source": []
  },
  {
   "cell_type": "code",
   "execution_count": null,
   "id": "0725d9e2",
   "metadata": {},
   "outputs": [],
   "source": []
  },
  {
   "cell_type": "code",
   "execution_count": null,
   "id": "4fe5f5af",
   "metadata": {},
   "outputs": [],
   "source": [
    "x = [1, 2, 3, 4]\n",
    "# x[:] <=>  [1, 2, 3, 4]\n",
    "# y = [1, 2, 3, 4]\n",
    "y = x[:]"
   ]
  },
  {
   "cell_type": "code",
   "execution_count": 47,
   "id": "070b1125",
   "metadata": {
    "scrolled": true
   },
   "outputs": [
    {
     "data": {
      "text/plain": [
       "[1, 10, 3, 4]"
      ]
     },
     "execution_count": 47,
     "metadata": {},
     "output_type": "execute_result"
    }
   ],
   "source": [
    "x[:]"
   ]
  },
  {
   "cell_type": "code",
   "execution_count": null,
   "id": "cc2b44b5",
   "metadata": {},
   "outputs": [],
   "source": []
  },
  {
   "cell_type": "code",
   "execution_count": null,
   "id": "d4254446",
   "metadata": {},
   "outputs": [],
   "source": []
  },
  {
   "cell_type": "code",
   "execution_count": null,
   "id": "2f913683",
   "metadata": {},
   "outputs": [],
   "source": []
  },
  {
   "cell_type": "code",
   "execution_count": null,
   "id": "6cdcd3ee",
   "metadata": {},
   "outputs": [],
   "source": []
  },
  {
   "cell_type": "code",
   "execution_count": null,
   "id": "3282d2d4",
   "metadata": {},
   "outputs": [],
   "source": []
  },
  {
   "cell_type": "code",
   "execution_count": null,
   "id": "505b5d52",
   "metadata": {},
   "outputs": [],
   "source": []
  },
  {
   "cell_type": "code",
   "execution_count": null,
   "id": "9c68a46f",
   "metadata": {},
   "outputs": [],
   "source": [
    "# y的内容是x的一个拷贝"
   ]
  },
  {
   "cell_type": "code",
   "execution_count": 48,
   "id": "9e529b94",
   "metadata": {},
   "outputs": [],
   "source": [
    "x = [1, 2, 3, 4]\n",
    "\n",
    "# [1, 2, 3, 4] -> y\n",
    "y = x[:]"
   ]
  },
  {
   "cell_type": "code",
   "execution_count": null,
   "id": "a47bf8e5",
   "metadata": {},
   "outputs": [],
   "source": []
  },
  {
   "cell_type": "code",
   "execution_count": null,
   "id": "55ba9536",
   "metadata": {},
   "outputs": [],
   "source": []
  },
  {
   "cell_type": "code",
   "execution_count": null,
   "id": "dca49643",
   "metadata": {},
   "outputs": [],
   "source": []
  },
  {
   "cell_type": "code",
   "execution_count": null,
   "id": "161cec41",
   "metadata": {},
   "outputs": [],
   "source": []
  },
  {
   "cell_type": "code",
   "execution_count": null,
   "id": "f319b739",
   "metadata": {},
   "outputs": [],
   "source": []
  },
  {
   "cell_type": "code",
   "execution_count": null,
   "id": "e35756fe",
   "metadata": {},
   "outputs": [],
   "source": []
  },
  {
   "cell_type": "code",
   "execution_count": null,
   "id": "1542e211",
   "metadata": {},
   "outputs": [],
   "source": []
  },
  {
   "cell_type": "code",
   "execution_count": null,
   "id": "aa3f1c0b",
   "metadata": {},
   "outputs": [],
   "source": []
  },
  {
   "cell_type": "code",
   "execution_count": null,
   "id": "0ad7f92c",
   "metadata": {},
   "outputs": [],
   "source": []
  },
  {
   "cell_type": "markdown",
   "id": "5e83c448",
   "metadata": {},
   "source": [
    "当你更新列表中的一个元素时，在你改变的计算机内存中，它是同一个列表。x和y都指向这个列表"
   ]
  },
  {
   "cell_type": "code",
   "execution_count": null,
   "id": "514551e0",
   "metadata": {},
   "outputs": [],
   "source": []
  },
  {
   "cell_type": "markdown",
   "id": "879825f4",
   "metadata": {},
   "source": [
    "如果你想创建一个指向内存中具有和列表`x`相同值的新列表`y`，你需要在内存中重新拷贝一份内容"
   ]
  },
  {
   "cell_type": "code",
   "execution_count": 50,
   "id": "5cfc1e76",
   "metadata": {},
   "outputs": [
    {
     "name": "stdout",
     "output_type": "stream",
     "text": [
      "列表x:[1, 2, 3, 4]\n",
      "列表y:[1, 2, 3, 4]\n"
     ]
    }
   ],
   "source": [
    "x = [1, 2, 3, 4]\n",
    "y = x[:]\n",
    "# y = x\n",
    "print(\"列表x:\" + str(x))\n",
    "print(\"列表y:\" + str(y))"
   ]
  },
  {
   "cell_type": "code",
   "execution_count": 51,
   "id": "469a9811",
   "metadata": {
    "scrolled": true
   },
   "outputs": [
    {
     "name": "stdout",
     "output_type": "stream",
     "text": [
      "[1, 10, 3, 4]\n"
     ]
    }
   ],
   "source": [
    "y[1] = 10\n",
    "print(y)"
   ]
  },
  {
   "cell_type": "code",
   "execution_count": 52,
   "id": "f2fd04aa",
   "metadata": {},
   "outputs": [
    {
     "name": "stdout",
     "output_type": "stream",
     "text": [
      "[1, 2, 3, 4]\n"
     ]
    }
   ],
   "source": [
    "print(x)"
   ]
  },
  {
   "cell_type": "code",
   "execution_count": null,
   "id": "9b547bc2",
   "metadata": {},
   "outputs": [],
   "source": []
  },
  {
   "cell_type": "code",
   "execution_count": null,
   "id": "9a5d3b2f",
   "metadata": {},
   "outputs": [],
   "source": []
  },
  {
   "cell_type": "code",
   "execution_count": null,
   "id": "65d4e2d3",
   "metadata": {},
   "outputs": [],
   "source": []
  },
  {
   "cell_type": "code",
   "execution_count": null,
   "id": "df7b00bc",
   "metadata": {},
   "outputs": [],
   "source": []
  },
  {
   "cell_type": "code",
   "execution_count": null,
   "id": "3da08854",
   "metadata": {},
   "outputs": [],
   "source": []
  },
  {
   "cell_type": "code",
   "execution_count": null,
   "id": "85d9371c",
   "metadata": {},
   "outputs": [],
   "source": [
    "# built-in function 内置函数\n",
    "# user defined function 用户定义函数"
   ]
  },
  {
   "cell_type": "code",
   "execution_count": 55,
   "id": "5267cc9e",
   "metadata": {},
   "outputs": [],
   "source": [
    "def add(x, y):\n",
    "    return x+y"
   ]
  },
  {
   "cell_type": "code",
   "execution_count": 54,
   "id": "9c55d084",
   "metadata": {},
   "outputs": [],
   "source": [
    "print(\"dsa\")\n",
    "input(\"dsa\")\n",
    "type(x)"
   ]
  },
  {
   "cell_type": "code",
   "execution_count": 58,
   "id": "8844857f",
   "metadata": {},
   "outputs": [
    {
     "name": "stdout",
     "output_type": "stream",
     "text": [
      "hello world Long\n"
     ]
    }
   ],
   "source": [
    "print(\"hello\")"
   ]
  },
  {
   "cell_type": "code",
   "execution_count": 61,
   "id": "5a5e4ecd",
   "metadata": {},
   "outputs": [
    {
     "name": "stdout",
     "output_type": "stream",
     "text": [
      "Help on built-in function pow in module builtins:\n",
      "\n",
      "pow(x, y, z=None, /)\n",
      "    Equivalent to x**y (with two arguments) or x**y % z (with three arguments)\n",
      "    \n",
      "    Some types, such as ints, are able to use a more efficient algorithm when\n",
      "    invoked using the three argument form.\n",
      "\n"
     ]
    }
   ],
   "source": [
    "help(pow) # power 幂运算"
   ]
  },
  {
   "cell_type": "code",
   "execution_count": 62,
   "id": "dfb9fcfa",
   "metadata": {},
   "outputs": [
    {
     "data": {
      "text/plain": [
       "16"
      ]
     },
     "execution_count": 62,
     "metadata": {},
     "output_type": "execute_result"
    }
   ],
   "source": [
    "## 4**2\n",
    "pow(4, 2)"
   ]
  },
  {
   "cell_type": "code",
   "execution_count": null,
   "id": "26d317e9",
   "metadata": {},
   "outputs": [],
   "source": []
  },
  {
   "cell_type": "code",
   "execution_count": null,
   "id": "d62512c5",
   "metadata": {},
   "outputs": [],
   "source": []
  },
  {
   "cell_type": "code",
   "execution_count": null,
   "id": "190e3fa4",
   "metadata": {},
   "outputs": [],
   "source": []
  },
  {
   "cell_type": "code",
   "execution_count": null,
   "id": "33818df5",
   "metadata": {},
   "outputs": [],
   "source": []
  },
  {
   "cell_type": "code",
   "execution_count": null,
   "id": "73a9c200",
   "metadata": {},
   "outputs": [],
   "source": []
  },
  {
   "cell_type": "code",
   "execution_count": null,
   "id": "85e5f478",
   "metadata": {},
   "outputs": [],
   "source": []
  },
  {
   "cell_type": "markdown",
   "id": "4870c338",
   "metadata": {},
   "source": [
    "# 函数\n",
    "Python 提供了一堆内置的函数，让你更容易使用。你已经知道两个这样的函数：print() 和 type()。你还使用过str()、int()、bool()和float()等函数在数据类型之间切换。这些也是内置函数。\n",
    "\n",
    "调用一个函数很容易。要获得`3.0`的类型，并将输出存储为一个新的变量result，你可以使用以下方法。"
   ]
  },
  {
   "cell_type": "code",
   "execution_count": null,
   "id": "86903b1e",
   "metadata": {},
   "outputs": [],
   "source": [
    "result = type(3.0)\n",
    "print(result)"
   ]
  },
  {
   "cell_type": "code",
   "execution_count": null,
   "id": "67873069",
   "metadata": {},
   "outputs": [],
   "source": []
  },
  {
   "cell_type": "code",
   "execution_count": 32,
   "id": "3525e28a",
   "metadata": {},
   "outputs": [
    {
     "name": "stdout",
     "output_type": "stream",
     "text": [
      "dsad\n"
     ]
    }
   ],
   "source": []
  },
  {
   "cell_type": "code",
   "execution_count": null,
   "id": "646c9771",
   "metadata": {},
   "outputs": [],
   "source": []
  },
  {
   "cell_type": "code",
   "execution_count": null,
   "id": "19fa03ce",
   "metadata": {},
   "outputs": [],
   "source": []
  },
  {
   "cell_type": "code",
   "execution_count": null,
   "id": "371d2a18",
   "metadata": {},
   "outputs": [],
   "source": []
  },
  {
   "cell_type": "code",
   "execution_count": null,
   "id": "ed5ad034",
   "metadata": {},
   "outputs": [],
   "source": [
    "type"
   ]
  },
  {
   "cell_type": "markdown",
   "id": "625db533",
   "metadata": {},
   "source": [
    "内置函数 built-in function\n",
    "\n",
    "用户自定义的函数 function"
   ]
  },
  {
   "cell_type": "code",
   "execution_count": 37,
   "id": "c76dc4ac",
   "metadata": {},
   "outputs": [],
   "source": [
    "def add(a, b):\n",
    "    return a+b"
   ]
  },
  {
   "cell_type": "code",
   "execution_count": 38,
   "id": "7bfade7e",
   "metadata": {},
   "outputs": [
    {
     "data": {
      "text/plain": [
       "15"
      ]
     },
     "execution_count": 38,
     "metadata": {},
     "output_type": "execute_result"
    }
   ],
   "source": [
    "add"
   ]
  },
  {
   "cell_type": "code",
   "execution_count": null,
   "id": "f2aa0bde",
   "metadata": {},
   "outputs": [],
   "source": []
  },
  {
   "cell_type": "code",
   "execution_count": null,
   "id": "63a856bd",
   "metadata": {},
   "outputs": [],
   "source": []
  },
  {
   "cell_type": "code",
   "execution_count": null,
   "id": "4f3379cb",
   "metadata": {},
   "outputs": [],
   "source": []
  },
  {
   "cell_type": "code",
   "execution_count": null,
   "id": "c79496b4",
   "metadata": {},
   "outputs": [],
   "source": []
  },
  {
   "cell_type": "code",
   "execution_count": null,
   "id": "14a61d7b",
   "metadata": {},
   "outputs": [],
   "source": []
  },
  {
   "cell_type": "code",
   "execution_count": null,
   "id": "cd156fec",
   "metadata": {},
   "outputs": [],
   "source": []
  },
  {
   "cell_type": "code",
   "execution_count": null,
   "id": "6127d3f7",
   "metadata": {},
   "outputs": [],
   "source": []
  },
  {
   "cell_type": "code",
   "execution_count": null,
   "id": "dd57ff04",
   "metadata": {},
   "outputs": [],
   "source": []
  },
  {
   "cell_type": "code",
   "execution_count": null,
   "id": "76812967",
   "metadata": {},
   "outputs": [],
   "source": []
  },
  {
   "cell_type": "code",
   "execution_count": null,
   "id": "9fbd348d",
   "metadata": {},
   "outputs": [],
   "source": []
  },
  {
   "cell_type": "code",
   "execution_count": null,
   "id": "d79c234b",
   "metadata": {},
   "outputs": [],
   "source": []
  },
  {
   "cell_type": "code",
   "execution_count": null,
   "id": "8b35d51f",
   "metadata": {},
   "outputs": [],
   "source": []
  },
  {
   "cell_type": "code",
   "execution_count": null,
   "id": "29e49773",
   "metadata": {},
   "outputs": [],
   "source": []
  },
  {
   "cell_type": "code",
   "execution_count": null,
   "id": "410c0b1b",
   "metadata": {},
   "outputs": [],
   "source": []
  },
  {
   "cell_type": "code",
   "execution_count": null,
   "id": "8dd1d2cf",
   "metadata": {},
   "outputs": [],
   "source": []
  },
  {
   "cell_type": "markdown",
   "id": "b22915ce",
   "metadata": {},
   "source": [
    "## 获取帮助\n",
    "也许你已经知道了一个 Python 函数的名字，但你仍然要弄清楚如何使用它。讽刺的是，你必须用另一个函数来询问关于一个函数的信息：help()。\n",
    "\n",
    "例如，要获得关于`pow()`函数的帮助"
   ]
  },
  {
   "cell_type": "code",
   "execution_count": 3,
   "id": "f000b080",
   "metadata": {
    "scrolled": true
   },
   "outputs": [
    {
     "name": "stdout",
     "output_type": "stream",
     "text": [
      "Help on built-in function pow in module builtins:\n",
      "\n",
      "pow(x, y, z=None, /)\n",
      "    Equivalent to x**y (with two arguments) or x**y % z (with three arguments)\n",
      "    \n",
      "    Some types, such as ints, are able to use a more efficient algorithm when\n",
      "    invoked using the three argument form.\n",
      "\n"
     ]
    }
   ],
   "source": [
    "help(pow)"
   ]
  },
  {
   "cell_type": "code",
   "execution_count": 4,
   "id": "41fe6103",
   "metadata": {},
   "outputs": [
    {
     "name": "stdout",
     "output_type": "stream",
     "text": [
      "Help on built-in function max in module builtins:\n",
      "\n",
      "max(...)\n",
      "    max(iterable, *[, default=obj, key=func]) -> value\n",
      "    max(arg1, arg2, *args, *[, key=func]) -> value\n",
      "    \n",
      "    With a single iterable argument, return its biggest item. The\n",
      "    default keyword-only argument specifies an object to return if\n",
      "    the provided iterable is empty.\n",
      "    With two or more arguments, return the largest argument.\n",
      "\n"
     ]
    }
   ],
   "source": [
    "help(max)"
   ]
  },
  {
   "cell_type": "markdown",
   "id": "1feff9d9",
   "metadata": {},
   "source": [
    "## 多个参数\n",
    "在前面的练习中，你通过查看help()的文档来查看可选参数。现在你将运用这个方法来改变sorted()函数的行为。\n",
    "\n",
    "输入`help(sorted)`，看一下`sorted()`的文档。\n",
    "\n",
    "你会看到`sorted()`需要三个参数：iterable, key, 和 reverse。"
   ]
  },
  {
   "cell_type": "code",
   "execution_count": 64,
   "id": "f8a3bdcb",
   "metadata": {
    "scrolled": false
   },
   "outputs": [
    {
     "name": "stdout",
     "output_type": "stream",
     "text": [
      "Help on built-in function sorted in module builtins:\n",
      "\n",
      "sorted(iterable, /, *, key=None, reverse=False)\n",
      "    Return a new list containing all items from the iterable in ascending order.\n",
      "    \n",
      "    A custom key function can be supplied to customize the sort order, and the\n",
      "    reverse flag can be set to request the result in descending order.\n",
      "\n"
     ]
    }
   ],
   "source": [
    "# sorted 经过排序的   sort 排序\n",
    "help(sorted)"
   ]
  },
  {
   "cell_type": "code",
   "execution_count": 68,
   "id": "a79cee97",
   "metadata": {},
   "outputs": [
    {
     "data": {
      "text/plain": [
       "[5, 3, 1, 0]"
      ]
     },
     "execution_count": 68,
     "metadata": {},
     "output_type": "execute_result"
    }
   ],
   "source": [
    "x = [1, 5, 3, 0]\n",
    "\n",
    "sorted(x, reverse=True) # reverse 翻转"
   ]
  },
  {
   "cell_type": "code",
   "execution_count": null,
   "id": "46101b62",
   "metadata": {},
   "outputs": [],
   "source": []
  },
  {
   "cell_type": "code",
   "execution_count": 69,
   "id": "c0185062",
   "metadata": {},
   "outputs": [],
   "source": [
    "x = [100, 89, 64, 4312]\n",
    "# 在列表x中找到元素100的索引号\n",
    "# 程序设计模式  面向过程  面向对象 \n",
    "# 面向对象的设计模式里，把所有的事物都看作对象和对象之间的互动（通过行为），\n",
    "# 每个对象有状态/属性，还有行为\n",
    "\n",
    "\n",
    "# 方法是一个对象独有函数"
   ]
  },
  {
   "cell_type": "code",
   "execution_count": 77,
   "id": "f633b9b1",
   "metadata": {},
   "outputs": [],
   "source": [
    "x.append(100) # append 附加"
   ]
  },
  {
   "cell_type": "code",
   "execution_count": 78,
   "id": "700367f8",
   "metadata": {},
   "outputs": [
    {
     "name": "stdout",
     "output_type": "stream",
     "text": [
      "[100, 89, 64, 4312, 90, 100]\n"
     ]
    }
   ],
   "source": [
    "print(x)"
   ]
  },
  {
   "cell_type": "code",
   "execution_count": 79,
   "id": "f332bdb4",
   "metadata": {},
   "outputs": [],
   "source": [
    "str1 = \"hello\" # string 字符串"
   ]
  },
  {
   "cell_type": "code",
   "execution_count": 82,
   "id": "63f4648b",
   "metadata": {},
   "outputs": [
    {
     "data": {
      "text/plain": [
       "'Hello'"
      ]
     },
     "execution_count": 82,
     "metadata": {},
     "output_type": "execute_result"
    }
   ],
   "source": [
    "str1. # capitalize 首字母大写   capital 首都 capit 头/首部"
   ]
  },
  {
   "cell_type": "code",
   "execution_count": null,
   "id": "fad82cf3",
   "metadata": {},
   "outputs": [],
   "source": []
  },
  {
   "cell_type": "code",
   "execution_count": null,
   "id": "68137e02",
   "metadata": {},
   "outputs": [],
   "source": []
  },
  {
   "cell_type": "code",
   "execution_count": null,
   "id": "3bc50ae3",
   "metadata": {},
   "outputs": [],
   "source": []
  },
  {
   "cell_type": "code",
   "execution_count": null,
   "id": "1f40aac4",
   "metadata": {},
   "outputs": [],
   "source": []
  },
  {
   "cell_type": "code",
   "execution_count": null,
   "id": "66194e63",
   "metadata": {},
   "outputs": [],
   "source": []
  },
  {
   "cell_type": "markdown",
   "id": "75ee4356",
   "metadata": {},
   "source": [
    "key=None 表示如果你不指定 key 参数，它将是 None。 reverse=False 表示如果你不指定 reverse 参数，它将默认为 False。\n",
    "\n",
    "如果你只需要指定 iterable 和 reverse，而不是 key。你传递给` sorted() `的第一个输入将被匹配到 iterable 参数，但是第二个输入呢？为了告诉 Python 你想在不改变 key 的情况下指定 reverse，你可以用 = 来给它分配一个新的值。"
   ]
  },
  {
   "cell_type": "code",
   "execution_count": 5,
   "id": "99be233f",
   "metadata": {},
   "outputs": [
    {
     "data": {
      "text/plain": [
       "[6, 2, 1]"
      ]
     },
     "execution_count": 5,
     "metadata": {},
     "output_type": "execute_result"
    }
   ],
   "source": [
    "x = [6, 2, 1]\n",
    "sorted(x, reverse = True)"
   ]
  },
  {
   "cell_type": "markdown",
   "id": "d77aaee9",
   "metadata": {},
   "source": [
    "# 方法\n",
    "你已经知道了一些函数，如`max()`，用来获取一个列表的最大值，`len()`，用来获取一个列表或一个字符串的长度，等等。但是其他基本的东西呢，比如获得列表中某个特定元素的索引，或者反转一个列表？你可以非常努力地寻找做这些事情的内置函数，但你不会找到它们。\n",
    "\n",
    "\n",
    "在过去的练习中，你已经创建了一堆的变量。你已经创建了字符串、浮点数和列表。这些值或数据结构中的每一个都是所谓的 对象 。这个字符串是一个对象，这个浮点数是一个对象，列表也是。这些对象有一个特定的类型，这一点你已经知道了。\n",
    "\n",
    "变量名/对象代表你给它们的值，如 `\"liz\"`、`1.73`和`[1, 4, 6]`。但除此之外，变量名/对象还附带了一堆所谓的 \"方法\"。你可以把方法想象成 \"属于\" 变量名/对象的函数。一个字符串类型的 Python 对象有方法`capitalize()`和`replace()`。\n",
    "\n",
    "float 和 list 类型的对象也有特定的方法，这取决于其数据类型。\n",
    "\n",
    "调用一个对象的方法，使用点号"
   ]
  },
  {
   "cell_type": "code",
   "execution_count": null,
   "id": "6d90e5c2",
   "metadata": {},
   "outputs": [],
   "source": [
    "x = [1, 2, 5]\n",
    "x."
   ]
  },
  {
   "cell_type": "code",
   "execution_count": 9,
   "id": "a6443b81",
   "metadata": {},
   "outputs": [
    {
     "data": {
      "text/plain": [
       "'Sister'"
      ]
     },
     "execution_count": 9,
     "metadata": {},
     "output_type": "execute_result"
    }
   ],
   "source": [
    "\"sister\".capitalize()"
   ]
  },
  {
   "cell_type": "code",
   "execution_count": 11,
   "id": "c5c342b5",
   "metadata": {},
   "outputs": [
    {
     "data": {
      "text/plain": [
       "'sisters'"
      ]
     },
     "execution_count": 11,
     "metadata": {},
     "output_type": "execute_result"
    }
   ],
   "source": [
    "\"sister\".replace(\"r\",\"rs\")"
   ]
  },
  {
   "cell_type": "markdown",
   "id": "21175b70",
   "metadata": {},
   "source": [
    "在 Python 中，所有东西都是一个对象，每个对象都有特定的方法。根据对象的类型，列表、字符串、浮点，等等，可用的方法是不同的。"
   ]
  },
  {
   "cell_type": "code",
   "execution_count": null,
   "id": "42683fe9",
   "metadata": {},
   "outputs": [],
   "source": []
  },
  {
   "cell_type": "code",
   "execution_count": null,
   "id": "2ea09ccb",
   "metadata": {},
   "outputs": [],
   "source": []
  },
  {
   "cell_type": "code",
   "execution_count": null,
   "id": "1178f2d3",
   "metadata": {},
   "outputs": [],
   "source": []
  },
  {
   "cell_type": "code",
   "execution_count": null,
   "id": "862e4de8",
   "metadata": {},
   "outputs": [],
   "source": []
  },
  {
   "cell_type": "code",
   "execution_count": null,
   "id": "54e115d3",
   "metadata": {},
   "outputs": [],
   "source": []
  },
  {
   "cell_type": "code",
   "execution_count": null,
   "id": "1e8c2e5a",
   "metadata": {},
   "outputs": [],
   "source": []
  },
  {
   "cell_type": "code",
   "execution_count": null,
   "id": "efd3676d",
   "metadata": {},
   "outputs": [],
   "source": []
  },
  {
   "cell_type": "code",
   "execution_count": null,
   "id": "dd0b9d17",
   "metadata": {},
   "outputs": [],
   "source": []
  },
  {
   "cell_type": "code",
   "execution_count": null,
   "id": "5eb1ece2",
   "metadata": {},
   "outputs": [],
   "source": []
  },
  {
   "cell_type": "code",
   "execution_count": null,
   "id": "12ee67d0",
   "metadata": {},
   "outputs": [],
   "source": []
  },
  {
   "cell_type": "markdown",
   "id": "5cd4cba5",
   "metadata": {},
   "source": [
    "# package软件包\n",
    "你可以把包看作是 Python 脚本的一个目录。每个这样的脚本都是一个所谓的模块。这些模块指定了旨在解决特定问题的函数、方法和新的 Python 类型。互联网上有成千上万的Python包可供使用。其中有用于数据科学的软件包：有用于有效处理数组的NumPy，用于数据可视化的Matplotlib，以及用于机器学习的scikit-learn。并非所有这些软件包在Python中都是默认可用的。"
   ]
  },
  {
   "cell_type": "code",
   "execution_count": 29,
   "id": "b011210d",
   "metadata": {},
   "outputs": [],
   "source": [
    "import math"
   ]
  },
  {
   "cell_type": "markdown",
   "id": "494e0f0b",
   "metadata": {},
   "source": [
    "计算圆的圆周长公式：$2 \\pi r$"
   ]
  },
  {
   "cell_type": "code",
   "execution_count": null,
   "id": "79d9711c",
   "metadata": {},
   "outputs": [],
   "source": []
  },
  {
   "cell_type": "markdown",
   "id": "084d7080",
   "metadata": {},
   "source": [
    "计算圆的圆周长公式：$\\pi r^2$"
   ]
  },
  {
   "cell_type": "code",
   "execution_count": null,
   "id": "4a41ed17",
   "metadata": {},
   "outputs": [],
   "source": []
  },
  {
   "cell_type": "markdown",
   "id": "42c23cbc",
   "metadata": {},
   "source": [
    "# 软件包管理\n",
    "pip\n",
    "## 虚拟环境"
   ]
  },
  {
   "cell_type": "code",
   "execution_count": null,
   "id": "5a176015",
   "metadata": {},
   "outputs": [],
   "source": []
  }
 ],
 "metadata": {
  "kernelspec": {
   "display_name": "Python 3",
   "language": "python",
   "name": "python3"
  },
  "language_info": {
   "codemirror_mode": {
    "name": "ipython",
    "version": 3
   },
   "file_extension": ".py",
   "mimetype": "text/x-python",
   "name": "python",
   "nbconvert_exporter": "python",
   "pygments_lexer": "ipython3",
   "version": "3.6.13"
  }
 },
 "nbformat": 4,
 "nbformat_minor": 5
}
