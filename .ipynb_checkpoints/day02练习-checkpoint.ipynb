{
 "cells": [
  {
   "cell_type": "markdown",
   "id": "881bafa5",
   "metadata": {},
   "source": [
    "# Python大数据分析与挖掘day02\n",
    "## 算数运算符"
   ]
  },
  {
   "cell_type": "markdown",
   "id": "d24566c4",
   "metadata": {},
   "source": [
    "## 练习\n",
    "假设你有1000元，你投资后每年有10%的收益。\n",
    "### 问题1\n",
    "两年后，你有多少钱？\n",
    "### 问题2\n",
    "七年后，你有多少钱？（用幂运算表示）"
   ]
  },
  {
   "cell_type": "code",
   "execution_count": null,
   "id": "b0a733e6",
   "metadata": {},
   "outputs": [],
   "source": []
  },
  {
   "cell_type": "markdown",
   "id": "6991d91f",
   "metadata": {},
   "source": [
    "## 练习\n",
    "100天后是星期几？（提示：用余数解决）"
   ]
  },
  {
   "cell_type": "code",
   "execution_count": 124,
   "id": "e5e3acd6",
   "metadata": {},
   "outputs": [
    {
     "name": "stdout",
     "output_type": "stream",
     "text": [
      "2\n"
     ]
    }
   ],
   "source": [
    "print(100 % 7)"
   ]
  },
  {
   "cell_type": "markdown",
   "id": "f79134ce",
   "metadata": {},
   "source": [
    "## 练习(使用赋值运算符)\n",
    "根据用户输入的当前资产总数（浮点数），每年投资收益率（整数），N年\n",
    "\n",
    "输出“N年后的资产总数xxxx”\n",
    "\n",
    "示例 输入 1000 20 5 输出 “5年后的资产总数2488.3199999999993”"
   ]
  },
  {
   "cell_type": "code",
   "execution_count": null,
   "id": "499b2c89",
   "metadata": {},
   "outputs": [],
   "source": []
  },
  {
   "cell_type": "markdown",
   "id": "4a68ccc7",
   "metadata": {},
   "source": [
    "# 列表list\n",
    "## 练习\n",
    "你收集了家里房子的面积信息。如下所示，你的房子的不同部分的面积暂时被储存在不同的变量中。\n",
    "\n",
    "创建一个列表，变量名命名为`areas`（面积），包含走廊（hallway）、厨房（kitchen）、客厅（living_room）、卧室（bed）和浴室（bathroom）的面积，按照这个顺序。使用预定义的变量。\n",
    "\n",
    "用print()函数打印`areas`。"
   ]
  },
  {
   "cell_type": "code",
   "execution_count": 142,
   "id": "cf7860f7",
   "metadata": {},
   "outputs": [
    {
     "name": "stdout",
     "output_type": "stream",
     "text": [
      "[11.25, 18.0, 20.0, 10.75, 9.5]\n"
     ]
    }
   ],
   "source": [
    "# 单位为平方米\n",
    "hallway = 11.25 # 走廊\n",
    "kitchen = 18.0 # 厨房\n",
    "living_room = 20.0 # 客厅\n",
    "bedroom = 10.75 # 卧室\n",
    "bathroom = 9.50 # 浴室\n",
    "\n",
    "# 创建你的列表areas\n",
    "\n",
    "\n",
    "# 打印areas\n"
   ]
  },
  {
   "cell_type": "markdown",
   "id": "7eb86cda",
   "metadata": {},
   "source": [
    "## 练习\n",
    "下列哪些是合法定义的列表\n",
    "\n",
    "A. [1, 3, 4, 2] \n",
    "\n",
    "B. [[1, 2, 3], [4, 5, 7]] \n",
    "\n",
    "C. [1 + 2, \"a\" * 5, 3]"
   ]
  },
  {
   "cell_type": "code",
   "execution_count": null,
   "id": "3b5217ba",
   "metadata": {},
   "outputs": [],
   "source": []
  },
  {
   "cell_type": "code",
   "execution_count": null,
   "id": "e10b67eb",
   "metadata": {},
   "outputs": [],
   "source": []
  },
  {
   "cell_type": "code",
   "execution_count": null,
   "id": "a0f6bac8",
   "metadata": {},
   "outputs": [],
   "source": []
  },
  {
   "cell_type": "code",
   "execution_count": null,
   "id": "0706a422",
   "metadata": {},
   "outputs": [],
   "source": []
  },
  {
   "cell_type": "code",
   "execution_count": null,
   "id": "8c7aae6f",
   "metadata": {},
   "outputs": [],
   "source": []
  },
  {
   "cell_type": "code",
   "execution_count": null,
   "id": "40a8f5a2",
   "metadata": {},
   "outputs": [],
   "source": []
  },
  {
   "cell_type": "code",
   "execution_count": null,
   "id": "baf5f6e4",
   "metadata": {},
   "outputs": [],
   "source": []
  },
  {
   "cell_type": "code",
   "execution_count": null,
   "id": "eb95d082",
   "metadata": {},
   "outputs": [],
   "source": []
  },
  {
   "cell_type": "markdown",
   "id": "a0b79513",
   "metadata": {},
   "source": [
    "## 列表中的列表"
   ]
  },
  {
   "cell_type": "code",
   "execution_count": 2,
   "id": "61bfdc8c",
   "metadata": {},
   "outputs": [
    {
     "name": "stdout",
     "output_type": "stream",
     "text": [
      "[['hallway', 11.25], ['kitchen', 18.0], ['living room', 20.0], ['bedroom', 10.75], ['bathroom', 9.5]]\n"
     ]
    }
   ],
   "source": [
    "# 单位为平方米\n",
    "hallway = 11.25 # 走廊\n",
    "kitchen = 18.0 # 厨房\n",
    "living_room = 20.0 # 客厅\n",
    "bedroom = 10.75 # 卧室\n",
    "bathroom = 9.50 # 浴室\n",
    "\n",
    "# 补全房屋信息\n",
    "house = [[\"hallway\", hallway],\n",
    "         [\"kitchen\", kitchen]]\n",
    "\n",
    "# 打印house\n"
   ]
  },
  {
   "cell_type": "markdown",
   "id": "7d6a02e9",
   "metadata": {},
   "source": [
    "## 列表子集\n",
    "### 列表的索引练习\n",
    "#### 练习1\n",
    "打印`house`的第二元素\n",
    "#### 练习2\n",
    "用负索引打印出浴室的信息\n",
    "#### 练习3\n",
    "打印出客厅的信息"
   ]
  },
  {
   "cell_type": "code",
   "execution_count": null,
   "id": "99de6502",
   "metadata": {},
   "outputs": [],
   "source": []
  },
  {
   "cell_type": "code",
   "execution_count": null,
   "id": "fae9c88a",
   "metadata": {},
   "outputs": [],
   "source": []
  },
  {
   "cell_type": "code",
   "execution_count": null,
   "id": "29fd9240",
   "metadata": {},
   "outputs": [],
   "source": []
  },
  {
   "cell_type": "code",
   "execution_count": null,
   "id": "a310b418",
   "metadata": {},
   "outputs": [],
   "source": []
  },
  {
   "cell_type": "code",
   "execution_count": null,
   "id": "a54adff3",
   "metadata": {},
   "outputs": [],
   "source": []
  },
  {
   "cell_type": "code",
   "execution_count": null,
   "id": "f2c9a7b4",
   "metadata": {},
   "outputs": [],
   "source": []
  },
  {
   "cell_type": "code",
   "execution_count": null,
   "id": "f69baf73",
   "metadata": {},
   "outputs": [],
   "source": []
  },
  {
   "cell_type": "code",
   "execution_count": null,
   "id": "32c61b2a",
   "metadata": {},
   "outputs": [],
   "source": []
  },
  {
   "cell_type": "code",
   "execution_count": null,
   "id": "62482e2b",
   "metadata": {},
   "outputs": [],
   "source": []
  },
  {
   "cell_type": "code",
   "execution_count": null,
   "id": "bc30ca6c",
   "metadata": {},
   "outputs": [],
   "source": []
  },
  {
   "cell_type": "code",
   "execution_count": null,
   "id": "9f856642",
   "metadata": {},
   "outputs": [],
   "source": []
  },
  {
   "cell_type": "markdown",
   "id": "15986cc9",
   "metadata": {},
   "source": [
    "#### 练习3\n",
    "使用切片法创建一个列表`down`，其中包含`house`的前3个元素。"
   ]
  },
  {
   "cell_type": "code",
   "execution_count": 9,
   "id": "ed752ff9",
   "metadata": {},
   "outputs": [
    {
     "name": "stdout",
     "output_type": "stream",
     "text": [
      "[['hallway', 11.25], ['kitchen', 18.0], ['living room', 20.0]]\n"
     ]
    }
   ],
   "source": [
    "down = house[0:3]\n",
    "print(down)"
   ]
  },
  {
   "cell_type": "code",
   "execution_count": null,
   "id": "8eaa868f",
   "metadata": {},
   "outputs": [],
   "source": []
  },
  {
   "cell_type": "code",
   "execution_count": null,
   "id": "3acab0ff",
   "metadata": {},
   "outputs": [],
   "source": []
  },
  {
   "cell_type": "code",
   "execution_count": null,
   "id": "ce35943b",
   "metadata": {},
   "outputs": [],
   "source": []
  },
  {
   "cell_type": "code",
   "execution_count": null,
   "id": "b7a50dcd",
   "metadata": {},
   "outputs": [],
   "source": []
  },
  {
   "cell_type": "code",
   "execution_count": null,
   "id": "839e8c2d",
   "metadata": {},
   "outputs": [],
   "source": []
  },
  {
   "cell_type": "code",
   "execution_count": null,
   "id": "32b2f21e",
   "metadata": {},
   "outputs": [],
   "source": []
  },
  {
   "cell_type": "code",
   "execution_count": null,
   "id": "8d44e628",
   "metadata": {},
   "outputs": [],
   "source": []
  },
  {
   "cell_type": "code",
   "execution_count": null,
   "id": "0e209282",
   "metadata": {},
   "outputs": [],
   "source": []
  },
  {
   "cell_type": "markdown",
   "id": "1656aa77",
   "metadata": {},
   "source": [
    "#### 练习3\n",
    "使用切片法创建一个列表`down`，其中包含`house`的前6个元素。\n",
    "#### 练习4\n",
    "做类似的事情来创建一个新的变量`up`，它包含`house`的最后4个元素。"
   ]
  },
  {
   "cell_type": "markdown",
   "id": "a2ca6686",
   "metadata": {},
   "source": [
    "#### 练习3\n",
    "使用切片法创建一个列表`down`，其中包含`house`的前6个元素。\n",
    "#### 练习4\n",
    "做类似的事情来创建一个新的变量`up`，它包含`house`的最后4个元素。"
   ]
  },
  {
   "cell_type": "code",
   "execution_count": null,
   "id": "464975b4",
   "metadata": {},
   "outputs": [],
   "source": []
  },
  {
   "cell_type": "markdown",
   "id": "c081d62f",
   "metadata": {},
   "source": [
    "### 练习4\n",
    "要对包含在列表中的列表的元素，可以使用与之前相同的技巧：方括号。\n",
    "```python\n",
    "x = [[\"a\", \"b\", \"c\"],\n",
    "     [\"d\", \"e\", \"f\"],\n",
    "     [\"g\", \"h\", \"i\"]]\n",
    "\n",
    "x[2][0] # \"g\"\n",
    "x[2][:2] # [\"g\", \"h\"]\n",
    "```\n",
    "`x[2]`的结果是一个列表，你可以通过添加额外的方括号再次子集。\n",
    "\n",
    "那么`house[-1][1]`是什么呢？"
   ]
  },
  {
   "cell_type": "code",
   "execution_count": null,
   "id": "f5131042",
   "metadata": {},
   "outputs": [],
   "source": []
  },
  {
   "cell_type": "markdown",
   "id": "e2f9c99c",
   "metadata": {},
   "source": [
    "## 列表子集\n",
    "### 列表的索引"
   ]
  },
  {
   "cell_type": "code",
   "execution_count": null,
   "id": "dc0fd48f",
   "metadata": {},
   "outputs": [],
   "source": []
  }
 ],
 "metadata": {
  "kernelspec": {
   "display_name": "Python 3",
   "language": "python",
   "name": "python3"
  },
  "language_info": {
   "codemirror_mode": {
    "name": "ipython",
    "version": 3
   },
   "file_extension": ".py",
   "mimetype": "text/x-python",
   "name": "python",
   "nbconvert_exporter": "python",
   "pygments_lexer": "ipython3",
   "version": "3.6.13"
  }
 },
 "nbformat": 4,
 "nbformat_minor": 5
}
