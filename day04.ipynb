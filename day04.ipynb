{
 "cells": [
  {
   "cell_type": "markdown",
   "id": "ec35ca5e",
   "metadata": {},
   "source": [
    "# 比较运算符\n",
    "返回值都是bool类型\n",
    "\n",
    "`==`、`!=`、`>`、 `<`、`>=`、`<=`\n",
    "\n",
    "## bool基本数据类型\n",
    "取值只能是 True(1) or False(0)"
   ]
  },
  {
   "cell_type": "code",
   "execution_count": 105,
   "id": "7c042a9d",
   "metadata": {},
   "outputs": [
    {
     "data": {
      "text/plain": [
       "True"
      ]
     },
     "execution_count": 105,
     "metadata": {},
     "output_type": "execute_result"
    }
   ],
   "source": [
    "2 == (1 + 1)"
   ]
  },
  {
   "cell_type": "code",
   "execution_count": 106,
   "id": "094c9efb",
   "metadata": {},
   "outputs": [
    {
     "data": {
      "text/plain": [
       "False"
      ]
     },
     "execution_count": 106,
     "metadata": {},
     "output_type": "execute_result"
    }
   ],
   "source": [
    "3 <= 2"
   ]
  },
  {
   "cell_type": "code",
   "execution_count": 107,
   "id": "30ea686b",
   "metadata": {},
   "outputs": [
    {
     "data": {
      "text/plain": [
       "True"
      ]
     },
     "execution_count": 107,
     "metadata": {},
     "output_type": "execute_result"
    }
   ],
   "source": [
    "True != False"
   ]
  },
  {
   "cell_type": "markdown",
   "id": "2ca92690",
   "metadata": {},
   "source": [
    "## 练习\n",
    "检查-5 * 15是否不等于75"
   ]
  },
  {
   "cell_type": "code",
   "execution_count": 108,
   "id": "f7e581ba",
   "metadata": {},
   "outputs": [
    {
     "data": {
      "text/plain": [
       "True"
      ]
     },
     "execution_count": 108,
     "metadata": {},
     "output_type": "execute_result"
    }
   ],
   "source": [
    "(-5 *15) != 75"
   ]
  },
  {
   "cell_type": "code",
   "execution_count": null,
   "id": "223d7f8b",
   "metadata": {},
   "outputs": [],
   "source": []
  },
  {
   "cell_type": "code",
   "execution_count": null,
   "id": "90d36d48",
   "metadata": {},
   "outputs": [],
   "source": []
  },
  {
   "cell_type": "code",
   "execution_count": null,
   "id": "c5831da8",
   "metadata": {},
   "outputs": [],
   "source": []
  },
  {
   "cell_type": "code",
   "execution_count": null,
   "id": "428f5a1e",
   "metadata": {},
   "outputs": [],
   "source": []
  },
  {
   "cell_type": "code",
   "execution_count": null,
   "id": "36fd4d8c",
   "metadata": {},
   "outputs": [],
   "source": []
  },
  {
   "cell_type": "code",
   "execution_count": null,
   "id": "419696b6",
   "metadata": {},
   "outputs": [],
   "source": []
  },
  {
   "cell_type": "code",
   "execution_count": null,
   "id": "1872b62f",
   "metadata": {},
   "outputs": [],
   "source": []
  },
  {
   "cell_type": "code",
   "execution_count": null,
   "id": "a259924e",
   "metadata": {},
   "outputs": [],
   "source": []
  },
  {
   "cell_type": "code",
   "execution_count": null,
   "id": "41b482b9",
   "metadata": {},
   "outputs": [],
   "source": []
  },
  {
   "cell_type": "markdown",
   "id": "1b52becf",
   "metadata": {},
   "source": [
    "# bool布尔运算符\n",
    "`and`、`or`、`not`\n",
    "## `and`\n",
    "只有两个操作数算都是`True`时才返回`True`。\n",
    "## `or`\n",
    "有任意一个操作数是`True`时就才返回`True`。\n",
    "## `not`\n",
    "取反操作\n",
    "## 练习\n",
    "```python\n",
    "x = 8\n",
    "y = 9\n",
    "not(not(x < 3) and not(y > 14 or y > 10))\n",
    "```"
   ]
  },
  {
   "cell_type": "code",
   "execution_count": null,
   "id": "f5d6490d",
   "metadata": {},
   "outputs": [],
   "source": []
  },
  {
   "cell_type": "code",
   "execution_count": null,
   "id": "f8cb99eb",
   "metadata": {},
   "outputs": [],
   "source": []
  },
  {
   "cell_type": "markdown",
   "id": "33ad420a",
   "metadata": {},
   "source": [
    "# 弱类型\n",
    "比较简单的语法规则\n",
    "```python\n",
    "if x % 2 == 0:\n",
    "    print(\"偶数\")\n",
    "```\n",
    "\n",
    "# 强类型\n",
    "严格的语法规则\n",
    "```c\n",
    "int x = 9;\n",
    "if (x % 2 == 0){\n",
    "    // 代码块\n",
    "}\n",
    "```"
   ]
  },
  {
   "cell_type": "code",
   "execution_count": null,
   "id": "b9325933",
   "metadata": {},
   "outputs": [],
   "source": []
  },
  {
   "cell_type": "code",
   "execution_count": null,
   "id": "e4867bc6",
   "metadata": {
    "scrolled": true
   },
   "outputs": [],
   "source": []
  },
  {
   "cell_type": "code",
   "execution_count": null,
   "id": "251c0482",
   "metadata": {},
   "outputs": [],
   "source": []
  },
  {
   "cell_type": "code",
   "execution_count": null,
   "id": "56c55bd1",
   "metadata": {},
   "outputs": [],
   "source": []
  },
  {
   "cell_type": "code",
   "execution_count": null,
   "id": "55357555",
   "metadata": {},
   "outputs": [],
   "source": []
  },
  {
   "cell_type": "code",
   "execution_count": null,
   "id": "1e1cb0fd",
   "metadata": {},
   "outputs": [],
   "source": []
  },
  {
   "cell_type": "code",
   "execution_count": null,
   "id": "4c840d09",
   "metadata": {},
   "outputs": [],
   "source": []
  },
  {
   "cell_type": "code",
   "execution_count": null,
   "id": "e2291a91",
   "metadata": {},
   "outputs": [],
   "source": []
  },
  {
   "cell_type": "markdown",
   "id": "b207bcff",
   "metadata": {},
   "source": [
    "# 选择/分支结构\n",
    "## `if`\n",
    "检查`if`后条件表达式，如果它是`True`，相应的代码被执行。\n",
    "\n",
    "注意结尾处的冒号，以及你需在代码中缩进符\\Tab键（四个空格）来告条件成立的情况下该怎么做。\n",
    "\n",
    "要退出`if`语句，只需继续使用一些没有缩进的代码，Python 就会知道它不是`if`语句的一部分。"
   ]
  },
  {
   "cell_type": "code",
   "execution_count": 118,
   "id": "cd6d950f",
   "metadata": {},
   "outputs": [
    {
     "name": "stdout",
     "output_type": "stream",
     "text": [
      "奇数\n"
     ]
    }
   ],
   "source": [
    "# 判断偶数\n",
    "x = 93\n",
    "if 93 % 2 == 0:\n",
    "    print(\"偶数\")\n",
    "# else 其他情况\n",
    "else:\n",
    "    print(\"奇数\")"
   ]
  },
  {
   "cell_type": "markdown",
   "id": "fd6800b6",
   "metadata": {},
   "source": [
    "## `else`\n",
    "对于`else`语句，你不需要指定一个条件。如果它所属的`if`语句的条件不成立，相应的表达式会被运行。"
   ]
  },
  {
   "cell_type": "code",
   "execution_count": null,
   "id": "04a0ccf0",
   "metadata": {},
   "outputs": [],
   "source": [
    "# 判断偶数\n",
    "x = 93\n",
    "if 93 % 2 == 0:\n",
    "    print(\"x是偶数\")\n",
    "else:\n",
    "    print(\"x是奇数\")"
   ]
  },
  {
   "cell_type": "markdown",
   "id": "590868e4",
   "metadata": {},
   "source": [
    "## `elif`\n",
    "你可能想要一些需要更多条件的情况。比如你想对能被2除以的数字和能被3除以的数字进行不同的打印\n",
    "\n",
    "假设现在`x`等于6。在这种情况下，if和elif条件都成立。会出现两个打印输出吗？\n",
    "\n",
    "不会。只要 Python 碰上一个条件为真，它就会执行相应的代码，然后离开控制结构。这意味着第二个条件，对应于`elif`不会进行判断，所以没有相应的打印输出。"
   ]
  },
  {
   "cell_type": "code",
   "execution_count": 167,
   "id": "5d5a6c9b",
   "metadata": {},
   "outputs": [
    {
     "name": "stdout",
     "output_type": "stream",
     "text": [
      "x能被2整除\n"
     ]
    }
   ],
   "source": [
    "x = 6\n",
    "\n",
    "# 在整个的if-elif-else中，只能进入其中一个代码块。先判断的具有优先级\n",
    "if x % 2 == 0:\n",
    "    print(\"x能被2整除\")\n",
    "elif x % 3 == 0:\n",
    "    print(\"x能被3整除\")\n",
    "elif x % 5 == 0:\n",
    "    print(\"x能被5整除\")\n",
    "else:\n",
    "    print(\"x不能被2或3或5整除\")"
   ]
  },
  {
   "cell_type": "code",
   "execution_count": null,
   "id": "bfb2b767",
   "metadata": {},
   "outputs": [],
   "source": []
  },
  {
   "cell_type": "code",
   "execution_count": null,
   "id": "c35bc63f",
   "metadata": {},
   "outputs": [],
   "source": []
  },
  {
   "cell_type": "code",
   "execution_count": null,
   "id": "773dd58b",
   "metadata": {},
   "outputs": [],
   "source": [
    "1.if\n",
    "2.if-else\n",
    "3.if-elif-else"
   ]
  },
  {
   "cell_type": "code",
   "execution_count": null,
   "id": "e1f3b700",
   "metadata": {},
   "outputs": [],
   "source": []
  },
  {
   "cell_type": "code",
   "execution_count": null,
   "id": "a771da7a",
   "metadata": {},
   "outputs": [],
   "source": []
  },
  {
   "cell_type": "code",
   "execution_count": null,
   "id": "9eb09de5",
   "metadata": {},
   "outputs": [],
   "source": []
  },
  {
   "cell_type": "code",
   "execution_count": null,
   "id": "b740a598",
   "metadata": {},
   "outputs": [],
   "source": []
  },
  {
   "cell_type": "code",
   "execution_count": null,
   "id": "9d03a87c",
   "metadata": {},
   "outputs": [],
   "source": []
  },
  {
   "cell_type": "code",
   "execution_count": null,
   "id": "3e7ccbe4",
   "metadata": {},
   "outputs": [],
   "source": []
  },
  {
   "cell_type": "code",
   "execution_count": null,
   "id": "5601e3da",
   "metadata": {},
   "outputs": [],
   "source": []
  },
  {
   "cell_type": "markdown",
   "id": "54bdfca4",
   "metadata": {},
   "source": [
    "## 练习\n",
    "```python\n",
    "下面这段代码会输出什么？\n",
    "area = 10.0\n",
    "if(area < 9) :\n",
    "    print(\"小\")\n",
    "elif(area < 12) :\n",
    "    print(\"中\")\n",
    "else :\n",
    "    print(\"大\")\n",
    "```"
   ]
  },
  {
   "cell_type": "code",
   "execution_count": null,
   "id": "39d6443e",
   "metadata": {},
   "outputs": [],
   "source": []
  },
  {
   "cell_type": "code",
   "execution_count": null,
   "id": "4284539e",
   "metadata": {},
   "outputs": [],
   "source": []
  },
  {
   "cell_type": "code",
   "execution_count": null,
   "id": "d20b3489",
   "metadata": {},
   "outputs": [],
   "source": []
  },
  {
   "cell_type": "code",
   "execution_count": null,
   "id": "4e69a517",
   "metadata": {},
   "outputs": [],
   "source": []
  },
  {
   "cell_type": "code",
   "execution_count": null,
   "id": "c718f529",
   "metadata": {},
   "outputs": [],
   "source": []
  },
  {
   "cell_type": "code",
   "execution_count": null,
   "id": "d13c8dc1",
   "metadata": {},
   "outputs": [],
   "source": []
  },
  {
   "cell_type": "code",
   "execution_count": null,
   "id": "d1ccf096",
   "metadata": {},
   "outputs": [],
   "source": []
  },
  {
   "cell_type": "code",
   "execution_count": null,
   "id": "f749bf5f",
   "metadata": {},
   "outputs": [],
   "source": [
    "while # 当。。。的时候"
   ]
  },
  {
   "cell_type": "code",
   "execution_count": 126,
   "id": "e67c266f",
   "metadata": {},
   "outputs": [
    {
     "name": "stdout",
     "output_type": "stream",
     "text": [
      "9\n",
      "\n",
      "8\n",
      "\n",
      "7\n",
      "\n",
      "6\n",
      "\n",
      "5\n",
      "\n",
      "4\n",
      "\n",
      "3\n",
      "\n",
      "2\n",
      "\n"
     ]
    }
   ],
   "source": [
    "x = 9"
   ]
  },
  {
   "cell_type": "code",
   "execution_count": null,
   "id": "44270083",
   "metadata": {},
   "outputs": [],
   "source": []
  },
  {
   "cell_type": "code",
   "execution_count": null,
   "id": "bdb7a9eb",
   "metadata": {},
   "outputs": [],
   "source": []
  },
  {
   "cell_type": "markdown",
   "id": "199412c2",
   "metadata": {},
   "source": [
    "# 循环结构\n",
    "## `while`循环\n",
    "`while`循环有点类似于`if`语句：如果条件为`True`，它就执行里面的代码。然而，与`if`语句不同的是，只要条件为真，`while`循环就会一次又一次地继续执行这段代码。"
   ]
  },
  {
   "cell_type": "code",
   "execution_count": null,
   "id": "7be9b7ae",
   "metadata": {},
   "outputs": [],
   "source": []
  },
  {
   "cell_type": "code",
   "execution_count": null,
   "id": "99ac2497",
   "metadata": {},
   "outputs": [],
   "source": []
  },
  {
   "cell_type": "code",
   "execution_count": null,
   "id": "243419c6",
   "metadata": {},
   "outputs": [],
   "source": []
  },
  {
   "cell_type": "code",
   "execution_count": null,
   "id": "80a192c1",
   "metadata": {},
   "outputs": [],
   "source": []
  },
  {
   "cell_type": "code",
   "execution_count": null,
   "id": "5eefde4b",
   "metadata": {},
   "outputs": [],
   "source": []
  },
  {
   "cell_type": "code",
   "execution_count": null,
   "id": "0ef19828",
   "metadata": {},
   "outputs": [],
   "source": []
  },
  {
   "cell_type": "code",
   "execution_count": 142,
   "id": "9a1a3ba1",
   "metadata": {},
   "outputs": [
    {
     "name": "stdout",
     "output_type": "stream",
     "text": [
      "19.5\n",
      "4.875\n",
      "1.21875\n",
      "0.3046875\n"
     ]
    }
   ],
   "source": [
    "error = 78\n",
    "\n",
    "while error > 1:\n",
    "    error /= 4\n",
    "    print(error)"
   ]
  },
  {
   "cell_type": "code",
   "execution_count": null,
   "id": "34db7116",
   "metadata": {},
   "outputs": [],
   "source": []
  },
  {
   "cell_type": "code",
   "execution_count": null,
   "id": "527aef71",
   "metadata": {},
   "outputs": [],
   "source": []
  },
  {
   "cell_type": "code",
   "execution_count": null,
   "id": "36c08c06",
   "metadata": {},
   "outputs": [],
   "source": []
  },
  {
   "cell_type": "code",
   "execution_count": null,
   "id": "09e58b94",
   "metadata": {},
   "outputs": [],
   "source": []
  },
  {
   "cell_type": "code",
   "execution_count": null,
   "id": "b4df4f6c",
   "metadata": {},
   "outputs": [],
   "source": []
  },
  {
   "cell_type": "code",
   "execution_count": null,
   "id": "1ad1f9d0",
   "metadata": {},
   "outputs": [],
   "source": []
  },
  {
   "cell_type": "code",
   "execution_count": null,
   "id": "ef5c5bc4",
   "metadata": {},
   "outputs": [],
   "source": []
  },
  {
   "cell_type": "code",
   "execution_count": null,
   "id": "e85ab5c9",
   "metadata": {},
   "outputs": [],
   "source": []
  },
  {
   "cell_type": "code",
   "execution_count": null,
   "id": "99f22114",
   "metadata": {},
   "outputs": [],
   "source": []
  },
  {
   "cell_type": "code",
   "execution_count": null,
   "id": "fa91de68",
   "metadata": {},
   "outputs": [],
   "source": []
  },
  {
   "cell_type": "code",
   "execution_count": null,
   "id": "d71104a0",
   "metadata": {},
   "outputs": [],
   "source": []
  },
  {
   "cell_type": "code",
   "execution_count": null,
   "id": "dc7df633",
   "metadata": {},
   "outputs": [],
   "source": []
  },
  {
   "cell_type": "markdown",
   "id": "bf70dc38",
   "metadata": {},
   "source": [
    "# 练习\n",
    "下面这段代码会打印多少次\n",
    "```python\n",
    "x = 1\n",
    "while x < 4 :\n",
    "    print(x)\n",
    "    x = x + 1\n",
    "```"
   ]
  },
  {
   "cell_type": "code",
   "execution_count": null,
   "id": "691236cd",
   "metadata": {},
   "outputs": [],
   "source": []
  },
  {
   "cell_type": "code",
   "execution_count": null,
   "id": "68df5571",
   "metadata": {},
   "outputs": [],
   "source": []
  },
  {
   "cell_type": "code",
   "execution_count": null,
   "id": "d8926f67",
   "metadata": {},
   "outputs": [],
   "source": []
  },
  {
   "cell_type": "code",
   "execution_count": null,
   "id": "52959c9f",
   "metadata": {},
   "outputs": [],
   "source": []
  },
  {
   "cell_type": "code",
   "execution_count": 135,
   "id": "476a9b9c",
   "metadata": {},
   "outputs": [
    {
     "name": "stdout",
     "output_type": "stream",
     "text": [
      "第1个人的身高是1.56\n",
      "第2个人的身高是1.78\n",
      "第3个人的身高是1.81\n"
     ]
    }
   ],
   "source": [
    "x = [1.56, 1.78, 1.81]\n",
    "\n",
    "\n",
    "\n",
    "\n",
    "\n",
    "#   变量名   可迭代对象\n",
    "#                   [1.56, 1.78, 1.81]\n",
    "# enumerate(x) -> [[0, 1.56], [1, 1.78], [2, 1.81]]\n",
    "# 第一次循环 i, height = [0, 1.56]\n",
    "for i, height in enumerate(x):\n",
    "    print(\"第\"+str(i+1)+\"个人的身高是\" + str(height))"
   ]
  },
  {
   "cell_type": "code",
   "execution_count": null,
   "id": "3b7bb36d",
   "metadata": {},
   "outputs": [],
   "source": []
  },
  {
   "cell_type": "code",
   "execution_count": null,
   "id": "ab691cfc",
   "metadata": {},
   "outputs": [],
   "source": []
  },
  {
   "cell_type": "code",
   "execution_count": null,
   "id": "3d1cf4da",
   "metadata": {},
   "outputs": [],
   "source": []
  },
  {
   "cell_type": "code",
   "execution_count": 132,
   "id": "2f1453cf",
   "metadata": {},
   "outputs": [
    {
     "name": "stdout",
     "output_type": "stream",
     "text": [
      "x等于1.56\n",
      "y等于1.78\n",
      "z等于1.81\n"
     ]
    }
   ],
   "source": [
    "# 解包赋值\n",
    "x, y, z = [1.56, 1.78, 1.81]\n",
    "\n",
    "print(\"x等于\"+str(x))\n",
    "print(\"y等于\"+str(y))\n",
    "print(\"z等于\"+str(z))"
   ]
  },
  {
   "cell_type": "code",
   "execution_count": null,
   "id": "1d31e5a8",
   "metadata": {},
   "outputs": [],
   "source": []
  },
  {
   "cell_type": "code",
   "execution_count": null,
   "id": "89d3be10",
   "metadata": {},
   "outputs": [],
   "source": []
  },
  {
   "cell_type": "code",
   "execution_count": null,
   "id": "5b01f0d5",
   "metadata": {},
   "outputs": [],
   "source": []
  },
  {
   "cell_type": "code",
   "execution_count": null,
   "id": "a9e5202b",
   "metadata": {},
   "outputs": [],
   "source": []
  },
  {
   "cell_type": "code",
   "execution_count": null,
   "id": "adc5bdd3",
   "metadata": {},
   "outputs": [],
   "source": []
  },
  {
   "cell_type": "code",
   "execution_count": null,
   "id": "93a89af2",
   "metadata": {},
   "outputs": [],
   "source": []
  },
  {
   "cell_type": "code",
   "execution_count": null,
   "id": "613ba3a2",
   "metadata": {},
   "outputs": [],
   "source": []
  },
  {
   "cell_type": "code",
   "execution_count": null,
   "id": "adb28c86",
   "metadata": {},
   "outputs": [],
   "source": []
  },
  {
   "cell_type": "code",
   "execution_count": null,
   "id": "d044aaec",
   "metadata": {},
   "outputs": [],
   "source": []
  },
  {
   "cell_type": "code",
   "execution_count": null,
   "id": "7e2ac338",
   "metadata": {},
   "outputs": [],
   "source": []
  },
  {
   "cell_type": "code",
   "execution_count": null,
   "id": "03a2b247",
   "metadata": {},
   "outputs": [],
   "source": []
  },
  {
   "cell_type": "code",
   "execution_count": null,
   "id": "85c77c69",
   "metadata": {},
   "outputs": [],
   "source": []
  },
  {
   "cell_type": "code",
   "execution_count": null,
   "id": "dab0aa1b",
   "metadata": {},
   "outputs": [],
   "source": []
  },
  {
   "cell_type": "code",
   "execution_count": null,
   "id": "e966b16f",
   "metadata": {},
   "outputs": [],
   "source": []
  },
  {
   "cell_type": "code",
   "execution_count": null,
   "id": "d1a539a0",
   "metadata": {},
   "outputs": [],
   "source": []
  },
  {
   "cell_type": "code",
   "execution_count": null,
   "id": "f4b68b18",
   "metadata": {},
   "outputs": [],
   "source": []
  },
  {
   "cell_type": "code",
   "execution_count": null,
   "id": "42dadb96",
   "metadata": {},
   "outputs": [],
   "source": [
    "  "
   ]
  },
  {
   "cell_type": "markdown",
   "id": "200fad23",
   "metadata": {},
   "source": [
    "## `for`循环\n",
    "在第一次运行中，会在变量`height`中存储了列表`x`的第一个元素，所以`height`为1.56。\n",
    "\n",
    "在第二次迭代中，会将列表`x`的第二个元素存入`height`，所以现在的输出是1.78。\n",
    "\n",
    "这个过程一直持续到列表`x`中的所有元素都被迭代过，我们最终得到了3个打印的结果。"
   ]
  },
  {
   "cell_type": "code",
   "execution_count": 82,
   "id": "6c63d54e",
   "metadata": {},
   "outputs": [
    {
     "name": "stdout",
     "output_type": "stream",
     "text": [
      "1.56\n",
      "\n",
      "1.78\n",
      "\n",
      "1.81\n",
      "\n"
     ]
    }
   ],
   "source": [
    "x = [1.56, 1.78, 1.81]\n",
    "# list列表就是一个iterable(可迭代的对象)\n",
    "# in 在其中\n",
    "for height in x:\n",
    "    print(height)\n",
    "    z = input()"
   ]
  },
  {
   "cell_type": "code",
   "execution_count": null,
   "id": "bc09a60f",
   "metadata": {},
   "outputs": [],
   "source": [
    "x = \n",
    "enumerate(x)\n",
    "#       [1.56, 1.78, 1.81]\n",
    "# [[0,1.56], [1,1.78], [2, 1.81]]"
   ]
  },
  {
   "cell_type": "code",
   "execution_count": 87,
   "id": "4f00c4a3",
   "metadata": {},
   "outputs": [
    {
     "name": "stdout",
     "output_type": "stream",
     "text": [
      "第0元素是7\n",
      "第1元素是9\n",
      "第2元素是1\n"
     ]
    }
   ],
   "source": [
    "for i, height in enumerate(x):\n",
    "    print(\"第\"+str(i)+\"元素是\"+str(height))"
   ]
  },
  {
   "cell_type": "code",
   "execution_count": null,
   "id": "39c494ee",
   "metadata": {},
   "outputs": [],
   "source": []
  },
  {
   "cell_type": "code",
   "execution_count": null,
   "id": "001ad70b",
   "metadata": {},
   "outputs": [],
   "source": []
  },
  {
   "cell_type": "code",
   "execution_count": null,
   "id": "c7512b53",
   "metadata": {},
   "outputs": [],
   "source": []
  },
  {
   "cell_type": "code",
   "execution_count": null,
   "id": "4f5f8597",
   "metadata": {},
   "outputs": [],
   "source": []
  },
  {
   "cell_type": "code",
   "execution_count": null,
   "id": "ca47fd3c",
   "metadata": {},
   "outputs": [],
   "source": []
  },
  {
   "cell_type": "code",
   "execution_count": null,
   "id": "32755a5b",
   "metadata": {},
   "outputs": [],
   "source": []
  },
  {
   "cell_type": "code",
   "execution_count": null,
   "id": "bbe91599",
   "metadata": {},
   "outputs": [],
   "source": []
  },
  {
   "cell_type": "code",
   "execution_count": null,
   "id": "0cae2382",
   "metadata": {},
   "outputs": [],
   "source": []
  },
  {
   "cell_type": "markdown",
   "id": "8cccf3f5",
   "metadata": {},
   "source": [
    "## 枚举\n",
    "为了达到这个目的，你可以使用`enumerate()`。\n",
    "\n",
    "### 解包赋值"
   ]
  },
  {
   "cell_type": "code",
   "execution_count": 86,
   "id": "83253299",
   "metadata": {},
   "outputs": [
    {
     "name": "stdout",
     "output_type": "stream",
     "text": [
      "7 9 1\n"
     ]
    }
   ],
   "source": [
    "x = [7, 9, 1]\n",
    "\n",
    "# 解包赋值\n",
    "a, b, c = x\n",
    "\n",
    "# a = x[0]\n",
    "# b = x[1]\n",
    "# c = x[2]\n",
    "\n",
    "print(a, b, c)"
   ]
  },
  {
   "cell_type": "code",
   "execution_count": null,
   "id": "da0b694f",
   "metadata": {},
   "outputs": [],
   "source": []
  },
  {
   "cell_type": "code",
   "execution_count": null,
   "id": "15ad5ae5",
   "metadata": {},
   "outputs": [],
   "source": []
  },
  {
   "cell_type": "code",
   "execution_count": null,
   "id": "ae12caaa",
   "metadata": {},
   "outputs": [],
   "source": []
  },
  {
   "cell_type": "code",
   "execution_count": null,
   "id": "1d049201",
   "metadata": {},
   "outputs": [],
   "source": []
  },
  {
   "cell_type": "code",
   "execution_count": null,
   "id": "3b2e0dd2",
   "metadata": {},
   "outputs": [],
   "source": [
    "# range # 范围\n",
    "\n",
    "\n"
   ]
  },
  {
   "cell_type": "code",
   "execution_count": 146,
   "id": "0d67f603",
   "metadata": {},
   "outputs": [
    {
     "name": "stdout",
     "output_type": "stream",
     "text": [
      "Hello\n",
      "Hello\n",
      "Hello\n",
      "Hello\n"
     ]
    }
   ],
   "source": [
    "# 打印8次Hello\n",
    "for i in range(4):\n",
    "     print(\"hello\".capitalize())"
   ]
  },
  {
   "cell_type": "code",
   "execution_count": null,
   "id": "86271b35",
   "metadata": {},
   "outputs": [],
   "source": [
    "# while 对条件敏感，对循环的次数不关心\n",
    "# for 搭配range()，精确控制循环的次数"
   ]
  },
  {
   "cell_type": "code",
   "execution_count": 148,
   "id": "32157d00",
   "metadata": {},
   "outputs": [
    {
     "name": "stdout",
     "output_type": "stream",
     "text": [
      "Help on class range in module builtins:\n",
      "\n",
      "class range(object)\n",
      " |  range(stop) -> range object\n",
      " |  range(start, stop[, step]) -> range object\n",
      " |  \n",
      " |  Return an object that produces a sequence of integers from start (inclusive)\n",
      " |  to stop (exclusive) by step.  range(i, j) produces i, i+1, i+2, ..., j-1.\n",
      " |  start defaults to 0, and stop is omitted!  range(4) produces 0, 1, 2, 3.\n",
      " |  These are exactly the valid indices for a list of 4 elements.\n",
      " |  When step is given, it specifies the increment (or decrement).\n",
      " |  \n",
      " |  Methods defined here:\n",
      " |  \n",
      " |  __bool__(self, /)\n",
      " |      self != 0\n",
      " |  \n",
      " |  __contains__(self, key, /)\n",
      " |      Return key in self.\n",
      " |  \n",
      " |  __eq__(self, value, /)\n",
      " |      Return self==value.\n",
      " |  \n",
      " |  __ge__(self, value, /)\n",
      " |      Return self>=value.\n",
      " |  \n",
      " |  __getattribute__(self, name, /)\n",
      " |      Return getattr(self, name).\n",
      " |  \n",
      " |  __getitem__(self, key, /)\n",
      " |      Return self[key].\n",
      " |  \n",
      " |  __gt__(self, value, /)\n",
      " |      Return self>value.\n",
      " |  \n",
      " |  __hash__(self, /)\n",
      " |      Return hash(self).\n",
      " |  \n",
      " |  __iter__(self, /)\n",
      " |      Implement iter(self).\n",
      " |  \n",
      " |  __le__(self, value, /)\n",
      " |      Return self<=value.\n",
      " |  \n",
      " |  __len__(self, /)\n",
      " |      Return len(self).\n",
      " |  \n",
      " |  __lt__(self, value, /)\n",
      " |      Return self<value.\n",
      " |  \n",
      " |  __ne__(self, value, /)\n",
      " |      Return self!=value.\n",
      " |  \n",
      " |  __new__(*args, **kwargs) from builtins.type\n",
      " |      Create and return a new object.  See help(type) for accurate signature.\n",
      " |  \n",
      " |  __reduce__(...)\n",
      " |      helper for pickle\n",
      " |  \n",
      " |  __repr__(self, /)\n",
      " |      Return repr(self).\n",
      " |  \n",
      " |  __reversed__(...)\n",
      " |      Return a reverse iterator.\n",
      " |  \n",
      " |  count(...)\n",
      " |      rangeobject.count(value) -> integer -- return number of occurrences of value\n",
      " |  \n",
      " |  index(...)\n",
      " |      rangeobject.index(value, [start, [stop]]) -> integer -- return index of value.\n",
      " |      Raise ValueError if the value is not present.\n",
      " |  \n",
      " |  ----------------------------------------------------------------------\n",
      " |  Data descriptors defined here:\n",
      " |  \n",
      " |  start\n",
      " |  \n",
      " |  step\n",
      " |  \n",
      " |  stop\n",
      "\n"
     ]
    }
   ],
   "source": [
    "help(range)"
   ]
  },
  {
   "cell_type": "code",
   "execution_count": null,
   "id": "d9f5fee2",
   "metadata": {},
   "outputs": [],
   "source": []
  },
  {
   "cell_type": "code",
   "execution_count": null,
   "id": "ada8b6f0",
   "metadata": {},
   "outputs": [],
   "source": [
    "# range(stop=3) -> [0, 1, 2]  # 默认从0开始，默认递增（步长）1，生成到小于结束的元素\n",
    "# range(start=1,stop=11) # start 开始。    # stop  结束\n",
    "# range(start=1,stop=11,step=2) # start 开始。    # stop  结束  # step  迈步"
   ]
  },
  {
   "cell_type": "code",
   "execution_count": 154,
   "id": "a9de976e",
   "metadata": {},
   "outputs": [],
   "source": [
    "# 前20个偶数相加的结果\n",
    "\n",
    "# 思路一\n",
    "# 生成前20个正整数\n",
    "# 用if语句来判断偶数\n",
    "# 如果是偶数相加后，保存结果到result变量"
   ]
  },
  {
   "cell_type": "code",
   "execution_count": 155,
   "id": "15040b88",
   "metadata": {},
   "outputs": [
    {
     "name": "stdout",
     "output_type": "stream",
     "text": [
      "110\n"
     ]
    }
   ],
   "source": [
    "result = 0\n",
    "\n",
    "for i in range(1, 21):\n",
    "    if i % 2 == 0:\n",
    "        result += i\n",
    "print(result)"
   ]
  },
  {
   "cell_type": "code",
   "execution_count": null,
   "id": "c0530e64",
   "metadata": {},
   "outputs": [],
   "source": [
    "# 思路二\n",
    "# 生成从？开始，以步进2来生成，到小于21的正整数\n",
    "\n",
    "[2, 4, 6, 8]"
   ]
  },
  {
   "cell_type": "code",
   "execution_count": 157,
   "id": "a2632e86",
   "metadata": {},
   "outputs": [
    {
     "name": "stdout",
     "output_type": "stream",
     "text": [
      "110\n"
     ]
    }
   ],
   "source": [
    "result = 0\n",
    "for i in range(2, 21, 2):\n",
    "    result += i\n",
    "print(result)"
   ]
  },
  {
   "cell_type": "code",
   "execution_count": null,
   "id": "0a11152b",
   "metadata": {},
   "outputs": [],
   "source": []
  },
  {
   "cell_type": "code",
   "execution_count": null,
   "id": "4bafb34e",
   "metadata": {},
   "outputs": [],
   "source": []
  },
  {
   "cell_type": "code",
   "execution_count": null,
   "id": "892838c6",
   "metadata": {},
   "outputs": [],
   "source": []
  },
  {
   "cell_type": "code",
   "execution_count": null,
   "id": "6472c898",
   "metadata": {},
   "outputs": [],
   "source": []
  },
  {
   "cell_type": "code",
   "execution_count": null,
   "id": "9e74faa1",
   "metadata": {},
   "outputs": [],
   "source": []
  },
  {
   "cell_type": "code",
   "execution_count": null,
   "id": "a2d0711d",
   "metadata": {},
   "outputs": [],
   "source": []
  },
  {
   "cell_type": "code",
   "execution_count": null,
   "id": "7aae09fd",
   "metadata": {},
   "outputs": [],
   "source": []
  },
  {
   "cell_type": "code",
   "execution_count": null,
   "id": "cc14f986",
   "metadata": {},
   "outputs": [],
   "source": []
  },
  {
   "cell_type": "code",
   "execution_count": null,
   "id": "aab0a37d",
   "metadata": {},
   "outputs": [],
   "source": []
  },
  {
   "cell_type": "code",
   "execution_count": null,
   "id": "99238d98",
   "metadata": {},
   "outputs": [],
   "source": [
    "# 计算前10个正整数相加的结果\n",
    "# 1 + 2 + 3 + 。。。。。 + 10"
   ]
  },
  {
   "cell_type": "code",
   "execution_count": null,
   "id": "100a642f",
   "metadata": {},
   "outputs": [],
   "source": [
    "result = 0\n",
    "for i in [1, 2, 3, ....., 10]:\n",
    "    result += i # result 结果"
   ]
  },
  {
   "cell_type": "code",
   "execution_count": null,
   "id": "505270af",
   "metadata": {},
   "outputs": [],
   "source": []
  },
  {
   "cell_type": "code",
   "execution_count": null,
   "id": "a1970eb1",
   "metadata": {},
   "outputs": [],
   "source": []
  },
  {
   "cell_type": "code",
   "execution_count": null,
   "id": "c0ce1d8c",
   "metadata": {},
   "outputs": [],
   "source": []
  },
  {
   "cell_type": "code",
   "execution_count": null,
   "id": "aac485a5",
   "metadata": {},
   "outputs": [],
   "source": []
  },
  {
   "cell_type": "code",
   "execution_count": null,
   "id": "65c3a86e",
   "metadata": {},
   "outputs": [],
   "source": []
  },
  {
   "cell_type": "code",
   "execution_count": null,
   "id": "e914f62a",
   "metadata": {},
   "outputs": [],
   "source": []
  },
  {
   "cell_type": "code",
   "execution_count": null,
   "id": "32f6c835",
   "metadata": {},
   "outputs": [],
   "source": []
  },
  {
   "cell_type": "code",
   "execution_count": null,
   "id": "09a98c7f",
   "metadata": {},
   "outputs": [],
   "source": []
  },
  {
   "cell_type": "code",
   "execution_count": 22,
   "id": "f56c90ae",
   "metadata": {},
   "outputs": [],
   "source": [
    "x = [1.56, 1.78, 1.81]\n",
    "\n",
    "# 每次迭代时产生两个值：元素的索引，以及元素的值。\n",
    "for i, height in enumerate(x):\n",
    "    print(\"索引号\"+str(i)+\": \"+str(height))\n",
    "    z = input()"
   ]
  },
  {
   "cell_type": "markdown",
   "id": "473b5f9c",
   "metadata": {},
   "source": [
    "## 练习\n",
    "下面的代码会输出什么？"
   ]
  },
  {
   "cell_type": "code",
   "execution_count": 159,
   "id": "c6e27acf",
   "metadata": {},
   "outputs": [
    {
     "name": "stdout",
     "output_type": "stream",
     "text": [
      "hallway 11.25\n",
      "kitchen 18.0\n",
      "living room 20.0\n",
      "bedroom 10.75\n",
      "bathroom 9.5\n"
     ]
    }
   ],
   "source": [
    "house = [[\"hallway\", 11.25], \n",
    "         [\"kitchen\", 18.0], \n",
    "         [\"living room\", 20.0], \n",
    "         [\"bedroom\", 10.75], \n",
    "         [\"bathroom\", 9.50]]\n",
    "\n",
    "for loc, areas in house :\n",
    "    print(loc + \" \" + str(areas))"
   ]
  },
  {
   "cell_type": "code",
   "execution_count": null,
   "id": "7d51212d",
   "metadata": {},
   "outputs": [],
   "source": []
  },
  {
   "cell_type": "code",
   "execution_count": null,
   "id": "95417026",
   "metadata": {},
   "outputs": [],
   "source": []
  },
  {
   "cell_type": "code",
   "execution_count": null,
   "id": "b9fa670a",
   "metadata": {},
   "outputs": [],
   "source": []
  },
  {
   "cell_type": "code",
   "execution_count": null,
   "id": "7baa7d7a",
   "metadata": {},
   "outputs": [],
   "source": []
  },
  {
   "cell_type": "code",
   "execution_count": null,
   "id": "19436958",
   "metadata": {},
   "outputs": [],
   "source": []
  },
  {
   "cell_type": "code",
   "execution_count": null,
   "id": "f41f0185",
   "metadata": {},
   "outputs": [],
   "source": []
  },
  {
   "cell_type": "code",
   "execution_count": null,
   "id": "983efa3a",
   "metadata": {},
   "outputs": [],
   "source": []
  },
  {
   "cell_type": "code",
   "execution_count": null,
   "id": "dae8016c",
   "metadata": {},
   "outputs": [],
   "source": []
  },
  {
   "cell_type": "code",
   "execution_count": null,
   "id": "2aec86db",
   "metadata": {},
   "outputs": [],
   "source": []
  },
  {
   "cell_type": "code",
   "execution_count": null,
   "id": "ee60931c",
   "metadata": {},
   "outputs": [],
   "source": [
    "# 计算前10个正整数的相加的结果\n",
    "# 1 + 2 + 3 + 。。。。。 + 10"
   ]
  },
  {
   "cell_type": "code",
   "execution_count": 90,
   "id": "014d8f12",
   "metadata": {},
   "outputs": [],
   "source": [
    "# range # 范围\n",
    "\n",
    "# range(3) -> [0, 1 ,2]\n",
    "# range\n",
    "# help(range)"
   ]
  },
  {
   "cell_type": "code",
   "execution_count": 169,
   "id": "8d010e26",
   "metadata": {},
   "outputs": [
    {
     "name": "stdout",
     "output_type": "stream",
     "text": [
      "Hello\n",
      "Hello\n",
      "Hello\n",
      "Hello\n",
      "Hello\n",
      "Hello\n"
     ]
    }
   ],
   "source": [
    "for i in range(6):\n",
    "    print(\"hello\".capitalize())"
   ]
  },
  {
   "cell_type": "code",
   "execution_count": null,
   "id": "c91d3327",
   "metadata": {},
   "outputs": [],
   "source": []
  },
  {
   "cell_type": "code",
   "execution_count": null,
   "id": "af1857cc",
   "metadata": {},
   "outputs": [],
   "source": []
  },
  {
   "cell_type": "code",
   "execution_count": null,
   "id": "2b450dc6",
   "metadata": {},
   "outputs": [],
   "source": []
  },
  {
   "cell_type": "code",
   "execution_count": null,
   "id": "25fc27cc",
   "metadata": {},
   "outputs": [],
   "source": []
  },
  {
   "cell_type": "code",
   "execution_count": null,
   "id": "e928e104",
   "metadata": {},
   "outputs": [],
   "source": []
  },
  {
   "cell_type": "code",
   "execution_count": null,
   "id": "61480aea",
   "metadata": {},
   "outputs": [],
   "source": []
  },
  {
   "cell_type": "code",
   "execution_count": null,
   "id": "f0b6e9a4",
   "metadata": {},
   "outputs": [],
   "source": []
  },
  {
   "cell_type": "code",
   "execution_count": null,
   "id": "d13a5908",
   "metadata": {},
   "outputs": [],
   "source": [
    "range() -> 控制生成一个列表 -> 控制循环的次数、\n",
    "                             元素的值"
   ]
  },
  {
   "cell_type": "code",
   "execution_count": null,
   "id": "24658289",
   "metadata": {},
   "outputs": [],
   "source": []
  },
  {
   "cell_type": "code",
   "execution_count": null,
   "id": "55e64d3f",
   "metadata": {},
   "outputs": [],
   "source": []
  },
  {
   "cell_type": "code",
   "execution_count": null,
   "id": "49d1bcdd",
   "metadata": {},
   "outputs": [],
   "source": []
  },
  {
   "cell_type": "code",
   "execution_count": null,
   "id": "26585a3b",
   "metadata": {},
   "outputs": [],
   "source": []
  },
  {
   "cell_type": "code",
   "execution_count": null,
   "id": "77312541",
   "metadata": {},
   "outputs": [],
   "source": []
  },
  {
   "cell_type": "code",
   "execution_count": null,
   "id": "5e42c422",
   "metadata": {},
   "outputs": [],
   "source": []
  },
  {
   "cell_type": "code",
   "execution_count": null,
   "id": "d1e17c2d",
   "metadata": {},
   "outputs": [],
   "source": []
  },
  {
   "cell_type": "code",
   "execution_count": null,
   "id": "c1d1aa8f",
   "metadata": {},
   "outputs": [],
   "source": []
  },
  {
   "cell_type": "code",
   "execution_count": null,
   "id": "d2d58910",
   "metadata": {},
   "outputs": [],
   "source": []
  },
  {
   "cell_type": "code",
   "execution_count": null,
   "id": "4a606100",
   "metadata": {},
   "outputs": [],
   "source": []
  },
  {
   "cell_type": "code",
   "execution_count": null,
   "id": "fc851b46",
   "metadata": {},
   "outputs": [],
   "source": []
  },
  {
   "cell_type": "code",
   "execution_count": null,
   "id": "c406b6b2",
   "metadata": {},
   "outputs": [],
   "source": []
  },
  {
   "cell_type": "code",
   "execution_count": null,
   "id": "2d73651b",
   "metadata": {},
   "outputs": [],
   "source": []
  },
  {
   "cell_type": "code",
   "execution_count": null,
   "id": "0e9f5ae2",
   "metadata": {},
   "outputs": [],
   "source": []
  },
  {
   "cell_type": "code",
   "execution_count": null,
   "id": "d094370a",
   "metadata": {},
   "outputs": [],
   "source": []
  },
  {
   "cell_type": "code",
   "execution_count": 104,
   "id": "bac3f623",
   "metadata": {},
   "outputs": [
    {
     "name": "stdout",
     "output_type": "stream",
     "text": [
      "55\n"
     ]
    }
   ],
   "source": [
    "# 前10个正整数相加的结果\n",
    "\n",
    "# 生成到 < 结束参数\n",
    "# # range(1, 11) -> [1, 2, 3, 4, 5，7, ... , 10]\n",
    "result = 0\n",
    "for i in range(1, 11):\n",
    "    result += i\n",
    "print(result)"
   ]
  },
  {
   "cell_type": "code",
   "execution_count": null,
   "id": "39600485",
   "metadata": {},
   "outputs": [],
   "source": []
  },
  {
   "cell_type": "code",
   "execution_count": null,
   "id": "d3e22e95",
   "metadata": {},
   "outputs": [],
   "source": []
  },
  {
   "cell_type": "code",
   "execution_count": null,
   "id": "dc4ef0fe",
   "metadata": {},
   "outputs": [],
   "source": []
  },
  {
   "cell_type": "code",
   "execution_count": null,
   "id": "793aee19",
   "metadata": {},
   "outputs": [],
   "source": []
  },
  {
   "cell_type": "code",
   "execution_count": null,
   "id": "e4edd939",
   "metadata": {},
   "outputs": [],
   "source": []
  },
  {
   "cell_type": "code",
   "execution_count": null,
   "id": "24070314",
   "metadata": {},
   "outputs": [],
   "source": []
  },
  {
   "cell_type": "code",
   "execution_count": null,
   "id": "49d35922",
   "metadata": {},
   "outputs": [],
   "source": []
  },
  {
   "cell_type": "code",
   "execution_count": null,
   "id": "d9b5e8ca",
   "metadata": {},
   "outputs": [],
   "source": []
  },
  {
   "cell_type": "markdown",
   "id": "a77aa458",
   "metadata": {},
   "source": [
    "## `range()`函数\n",
    "生成一个类似list列表的迭代器\n",
    "\n",
    "### 用法一\n",
    "`range(参数一：开始数， 参数二：结束数， 参数三：步长)`\n",
    "\n",
    "### 用法二\n",
    "`range(结束数)`\n",
    "\n",
    "### 相比于`while`的用途\n",
    "一般用于精确控制循环次数"
   ]
  },
  {
   "cell_type": "code",
   "execution_count": 31,
   "id": "cfc969c7",
   "metadata": {},
   "outputs": [
    {
     "name": "stdout",
     "output_type": "stream",
     "text": [
      "0\n",
      "1\n",
      "2\n",
      "3\n"
     ]
    }
   ],
   "source": [
    "for i in range(4):\n",
    "    print(i)"
   ]
  },
  {
   "cell_type": "code",
   "execution_count": 33,
   "id": "77543356",
   "metadata": {},
   "outputs": [
    {
     "name": "stdout",
     "output_type": "stream",
     "text": [
      "55\n"
     ]
    }
   ],
   "source": [
    "# 计算前10个（不包括0）正整数的合\n",
    "sum = 0\n",
    "for i in range(1, 11):\n",
    "    sum += i\n",
    "print(sum)"
   ]
  },
  {
   "cell_type": "code",
   "execution_count": null,
   "id": "062b8570",
   "metadata": {},
   "outputs": [],
   "source": []
  },
  {
   "cell_type": "code",
   "execution_count": null,
   "id": "468d6746",
   "metadata": {},
   "outputs": [],
   "source": []
  },
  {
   "cell_type": "code",
   "execution_count": null,
   "id": "9a1e976d",
   "metadata": {},
   "outputs": [],
   "source": []
  },
  {
   "cell_type": "code",
   "execution_count": null,
   "id": "4c6a2bff",
   "metadata": {},
   "outputs": [],
   "source": []
  },
  {
   "cell_type": "code",
   "execution_count": null,
   "id": "1d5489c5",
   "metadata": {},
   "outputs": [],
   "source": []
  },
  {
   "cell_type": "code",
   "execution_count": null,
   "id": "f611fb64",
   "metadata": {},
   "outputs": [],
   "source": []
  },
  {
   "cell_type": "code",
   "execution_count": null,
   "id": "7ebafde5",
   "metadata": {},
   "outputs": [],
   "source": []
  },
  {
   "cell_type": "code",
   "execution_count": null,
   "id": "0118cde8",
   "metadata": {},
   "outputs": [],
   "source": []
  },
  {
   "cell_type": "code",
   "execution_count": null,
   "id": "edab5800",
   "metadata": {},
   "outputs": [],
   "source": []
  },
  {
   "attachments": {
    "image.png": {
     "image/png": "[encoded data removed]"
    }
   },
   "cell_type": "markdown",
   "id": "ed2fa5fd",
   "metadata": {},
   "source": [
    "# Numpy\n",
    "## 导言\n",
    "Python 的列表是非常强大的。一个列表可以容纳任何数据类型，并且可以同时容纳不同的数据类型。\n",
    "\n",
    "你还可以改变、添加和删除元素。\n",
    "\n",
    "但缺少一个功能，这个功能对于数据分析来说超级重要。那就是快速的批量操作计算。\n",
    "\n",
    "### 例子\n",
    "如果你现在想计算班里每个同学的身体质量指数BMI(Body Mass Index)\n",
    "\n",
    "$$身体质量指数BMI =   \\frac{体重}{身高^2} $$\n",
    "\n",
    "BMI是国际上常用的衡量人体胖瘦程度以及是否健康的一个标准\n",
    "![image.png](attachment:image.png)"
   ]
  },
  {
   "cell_type": "code",
   "execution_count": null,
   "id": "dcb74e35",
   "metadata": {},
   "outputs": [],
   "source": [
    "#  Normalization  归一化"
   ]
  },
  {
   "cell_type": "code",
   "execution_count": null,
   "id": "eba049ec",
   "metadata": {},
   "outputs": [],
   "source": []
  },
  {
   "cell_type": "code",
   "execution_count": null,
   "id": "f7df2f40",
   "metadata": {},
   "outputs": [],
   "source": []
  },
  {
   "cell_type": "code",
   "execution_count": null,
   "id": "eda0da12",
   "metadata": {},
   "outputs": [],
   "source": []
  },
  {
   "cell_type": "code",
   "execution_count": null,
   "id": "6627d07b",
   "metadata": {},
   "outputs": [],
   "source": []
  },
  {
   "cell_type": "code",
   "execution_count": null,
   "id": "80afece8",
   "metadata": {},
   "outputs": [],
   "source": []
  },
  {
   "cell_type": "code",
   "execution_count": null,
   "id": "e42e5a7d",
   "metadata": {},
   "outputs": [],
   "source": []
  },
  {
   "cell_type": "code",
   "execution_count": 170,
   "id": "8fa9f6a0",
   "metadata": {},
   "outputs": [
    {
     "name": "stdout",
     "output_type": "stream",
     "text": [
      "[18.49112426035503, 20.515086478979924, 22.89307408198773]\n"
     ]
    }
   ],
   "source": [
    "# class 班级\n",
    "# 收集了班上三个人的体重   # weight 体重\n",
    "class_weight = [45, 65, 75]  # kg\n",
    "# 收集了这三个人对应的身高  # height  身高\n",
    "class_height = [1.56, 1.78, 1.81] # m\n",
    "\n",
    "bmi = []\n",
    "for i, weight in enumerate(class_weight):\n",
    "    bmi.append(weight / (class_height[i] ** 2))\n",
    "\n",
    "\n",
    "print(bmi)"
   ]
  },
  {
   "cell_type": "code",
   "execution_count": null,
   "id": "3cc3b1b4",
   "metadata": {},
   "outputs": [],
   "source": [
    "# 用list列表进行多个数据点的计算时 -〉 计算机会进行大量的寻址和循环的计算代价 \n",
    "# ——> 当数据量越大的时候 -> 计算代价就越大（消耗的时间越多）\n",
    "\n"
   ]
  },
  {
   "cell_type": "code",
   "execution_count": null,
   "id": "3f556d12",
   "metadata": {},
   "outputs": [],
   "source": []
  },
  {
   "cell_type": "code",
   "execution_count": null,
   "id": "fd56e5a4",
   "metadata": {},
   "outputs": [],
   "source": []
  },
  {
   "cell_type": "code",
   "execution_count": null,
   "id": "1b2711d9",
   "metadata": {},
   "outputs": [],
   "source": []
  },
  {
   "cell_type": "code",
   "execution_count": null,
   "id": "a544709e",
   "metadata": {},
   "outputs": [],
   "source": []
  },
  {
   "cell_type": "code",
   "execution_count": null,
   "id": "10b2888d",
   "metadata": {},
   "outputs": [],
   "source": []
  },
  {
   "cell_type": "code",
   "execution_count": null,
   "id": "208a7353",
   "metadata": {},
   "outputs": [],
   "source": []
  },
  {
   "cell_type": "code",
   "execution_count": null,
   "id": "9a3f3bfd",
   "metadata": {},
   "outputs": [],
   "source": []
  },
  {
   "cell_type": "code",
   "execution_count": 173,
   "id": "f7b56424",
   "metadata": {},
   "outputs": [
    {
     "name": "stdout",
     "output_type": "stream",
     "text": [
      "[18.49112426 20.51508648 22.89307408]\n"
     ]
    }
   ],
   "source": [
    "import numpy as np\n",
    "\n",
    "# 收集了班上三个人的体重   # weight 体重\n",
    "class_weight = [45, 65, 75]  # kg\n",
    "np_class_weight = np.array(class_weight)\n",
    "\n",
    "# 收集了这三个人对应的身高  # height  身高\n",
    "class_height = [1.56, 1.78, 1.81] # m\n",
    "np_class_height = np.array(class_height)\n",
    "\n",
    "bmi = np_class_weight / (np_class_height ** 2)\n",
    "print(bmi)"
   ]
  },
  {
   "cell_type": "code",
   "execution_count": null,
   "id": "46c18187",
   "metadata": {},
   "outputs": [],
   "source": []
  },
  {
   "cell_type": "code",
   "execution_count": null,
   "id": "7e473cf9",
   "metadata": {},
   "outputs": [],
   "source": []
  },
  {
   "cell_type": "code",
   "execution_count": null,
   "id": "31c6e39d",
   "metadata": {},
   "outputs": [],
   "source": []
  },
  {
   "cell_type": "code",
   "execution_count": null,
   "id": "7d03af5d",
   "metadata": {},
   "outputs": [],
   "source": []
  },
  {
   "cell_type": "code",
   "execution_count": null,
   "id": "1f8761ae",
   "metadata": {},
   "outputs": [],
   "source": []
  },
  {
   "cell_type": "code",
   "execution_count": null,
   "id": "64a5a87d",
   "metadata": {},
   "outputs": [],
   "source": []
  },
  {
   "cell_type": "markdown",
   "id": "9661e6ef",
   "metadata": {},
   "source": [
    "一个更优雅的解决方案是使用numpy软件包，即数值计算pyhton（Numeric Python）。\n",
    "\n",
    "它提供了常规Python列表list的替代品数据类型：numpy的`array`（数组）。\n",
    "\n",
    "NumPy数组array与列表list非常相似，但有一个额外的特点：你可以对整个数组进行计算，而且计算速度更快。"
   ]
  },
  {
   "cell_type": "code",
   "execution_count": 164,
   "id": "05c0fd52",
   "metadata": {},
   "outputs": [
    {
     "name": "stdout",
     "output_type": "stream",
     "text": [
      "[18.49112426 20.51508648 22.89307408]\n"
     ]
    }
   ],
   "source": [
    "import numpy as np\n",
    "# 收集了班上三个人的体重   # weight 体重\n",
    "class_weight = [45, 65, 75]  # kg\n",
    "np_class_weight = np.array(class_weight)\n",
    "\n",
    "\n",
    "# 收集了这三个人对应的身高  # height  身高\n",
    "class_height = [1.56, 1.78, 1.81] # m\n",
    "np_class_weight = np.array(class_height)\n",
    "\n",
    "\n",
    "bmi = np_class_weight / (np_class_height  ** 2)  # 直接对数组数据类型进行了数值运算\n",
    "print(bmi)"
   ]
  },
  {
   "cell_type": "code",
   "execution_count": null,
   "id": "a0e8c54f",
   "metadata": {},
   "outputs": [],
   "source": []
  },
  {
   "cell_type": "code",
   "execution_count": null,
   "id": "2063fd71",
   "metadata": {},
   "outputs": [],
   "source": [
    "# SQL数据库  -〉 关系型的数据库\n",
    "# Redies数据库 -> 非关系型数据库        key-value\n",
    "# json xml  config\n",
    "ip : 8.8.8.8\n",
    "port : 80"
   ]
  },
  {
   "cell_type": "code",
   "execution_count": null,
   "id": "0d5e2910",
   "metadata": {},
   "outputs": [],
   "source": [
    "\n",
    "# \"202001019\" -> [\"王刚\", 96, 84, 92]\n"
   ]
  },
  {
   "cell_type": "code",
   "execution_count": null,
   "id": "73c29cca",
   "metadata": {},
   "outputs": [],
   "source": [
    "# key-value  键-值对     关键字\\索引  ->  内容\\值\n",
    "# 关键字 要 唯一"
   ]
  },
  {
   "cell_type": "code",
   "execution_count": null,
   "id": "6c85bf6b",
   "metadata": {},
   "outputs": [],
   "source": []
  },
  {
   "cell_type": "code",
   "execution_count": null,
   "id": "007876e1",
   "metadata": {},
   "outputs": [],
   "source": []
  },
  {
   "cell_type": "code",
   "execution_count": null,
   "id": "66ea8c9c",
   "metadata": {},
   "outputs": [],
   "source": []
  },
  {
   "cell_type": "markdown",
   "id": "1137fa4c",
   "metadata": {},
   "source": [
    "# Dictionart/Dict 字典\n"
   ]
  },
  {
   "cell_type": "code",
   "execution_count": 177,
   "id": "63ee9417",
   "metadata": {},
   "outputs": [],
   "source": [
    "# 列表创建：[]\n",
    "# 字典创建：{}\n",
    "\n",
    "info = {\"202001019\": [\"王刚\", 96, 84, 92], \"202001007\":[\"龙金雨\", 72,62,71]}"
   ]
  },
  {
   "cell_type": "code",
   "execution_count": 181,
   "id": "281275f1",
   "metadata": {},
   "outputs": [
    {
     "data": {
      "text/plain": [
       "dict_keys(['202001019', '202001007'])"
      ]
     },
     "execution_count": 181,
     "metadata": {},
     "output_type": "execute_result"
    }
   ],
   "source": [
    "info.keys()"
   ]
  },
  {
   "cell_type": "code",
   "execution_count": 188,
   "id": "bc6ba5c4",
   "metadata": {},
   "outputs": [
    {
     "name": "stdout",
     "output_type": "stream",
     "text": [
      "['龙金雨', 72, 62, 71]\n",
      "['张众', 96, 84, 92]\n"
     ]
    }
   ],
   "source": [
    "for key in info.keys():\n",
    "    print(info[key])"
   ]
  },
  {
   "cell_type": "code",
   "execution_count": null,
   "id": "f1731055",
   "metadata": {},
   "outputs": [],
   "source": [
    "# 更新，删除，添加"
   ]
  },
  {
   "cell_type": "code",
   "execution_count": 183,
   "id": "0f40f141",
   "metadata": {},
   "outputs": [],
   "source": [
    "info[\"202001019\"] = [\"王雷\", 96, 84, 92]"
   ]
  },
  {
   "cell_type": "code",
   "execution_count": 185,
   "id": "5d40a70c",
   "metadata": {},
   "outputs": [],
   "source": [
    "del info[\"202001019\"]"
   ]
  },
  {
   "cell_type": "code",
   "execution_count": 187,
   "id": "9acf7586",
   "metadata": {},
   "outputs": [],
   "source": [
    "info[\"202001020\"] = [\"张众\", 96, 84, 92]"
   ]
  },
  {
   "cell_type": "code",
   "execution_count": null,
   "id": "8c1208c1",
   "metadata": {},
   "outputs": [],
   "source": []
  },
  {
   "cell_type": "code",
   "execution_count": null,
   "id": "95f27282",
   "metadata": {},
   "outputs": [],
   "source": []
  },
  {
   "cell_type": "code",
   "execution_count": null,
   "id": "b0183a53",
   "metadata": {},
   "outputs": [],
   "source": []
  },
  {
   "cell_type": "code",
   "execution_count": null,
   "id": "9050c2f0",
   "metadata": {},
   "outputs": [],
   "source": []
  },
  {
   "cell_type": "code",
   "execution_count": null,
   "id": "a442e28a",
   "metadata": {},
   "outputs": [],
   "source": []
  },
  {
   "cell_type": "code",
   "execution_count": null,
   "id": "fb0806da",
   "metadata": {},
   "outputs": [],
   "source": []
  },
  {
   "cell_type": "code",
   "execution_count": null,
   "id": "f7cd0ac4",
   "metadata": {},
   "outputs": [],
   "source": []
  },
  {
   "cell_type": "code",
   "execution_count": null,
   "id": "7e665dee",
   "metadata": {},
   "outputs": [],
   "source": []
  },
  {
   "cell_type": "code",
   "execution_count": null,
   "id": "7c7dcff6",
   "metadata": {},
   "outputs": [],
   "source": []
  },
  {
   "cell_type": "code",
   "execution_count": null,
   "id": "5be3f59c",
   "metadata": {},
   "outputs": [],
   "source": []
  },
  {
   "cell_type": "code",
   "execution_count": null,
   "id": "e45da9bc",
   "metadata": {},
   "outputs": [],
   "source": []
  },
  {
   "cell_type": "code",
   "execution_count": null,
   "id": "1f4ae5b5",
   "metadata": {},
   "outputs": [],
   "source": []
  },
  {
   "cell_type": "code",
   "execution_count": null,
   "id": "0ce3f98e",
   "metadata": {},
   "outputs": [],
   "source": []
  },
  {
   "cell_type": "code",
   "execution_count": null,
   "id": "6ff97e1e",
   "metadata": {},
   "outputs": [],
   "source": []
  },
  {
   "cell_type": "code",
   "execution_count": null,
   "id": "a7dfaf3b",
   "metadata": {},
   "outputs": [],
   "source": []
  },
  {
   "cell_type": "code",
   "execution_count": null,
   "id": "a2e92769",
   "metadata": {},
   "outputs": [],
   "source": []
  },
  {
   "cell_type": "code",
   "execution_count": null,
   "id": "111c3f01",
   "metadata": {},
   "outputs": [],
   "source": []
  },
  {
   "cell_type": "code",
   "execution_count": null,
   "id": "f36942a8",
   "metadata": {},
   "outputs": [],
   "source": []
  },
  {
   "cell_type": "code",
   "execution_count": null,
   "id": "b1312c76",
   "metadata": {},
   "outputs": [],
   "source": [
    "print"
   ]
  },
  {
   "cell_type": "code",
   "execution_count": null,
   "id": "93e6a372",
   "metadata": {},
   "outputs": [],
   "source": [
    "type"
   ]
  },
  {
   "cell_type": "code",
   "execution_count": 189,
   "id": "f853fdb7",
   "metadata": {},
   "outputs": [
    {
     "data": {
      "text/plain": [
       "16"
      ]
     },
     "execution_count": 189,
     "metadata": {},
     "output_type": "execute_result"
    }
   ],
   "source": [
    "pow(4,2)"
   ]
  },
  {
   "cell_type": "markdown",
   "id": "535c5c23",
   "metadata": {},
   "source": [
    "# 用户自定义函数\n",
    "函数：提供参数（无参数，单参数，多参数） ->  输出/有特定行为\n",
    "\n",
    "`def` : define 定义"
   ]
  },
  {
   "cell_type": "code",
   "execution_count": 194,
   "id": "623de43b",
   "metadata": {},
   "outputs": [],
   "source": [
    "# 任意两数的相加\n",
    "def add(a, b):\n",
    "    return a+b"
   ]
  },
  {
   "cell_type": "code",
   "execution_count": 195,
   "id": "ee589e2b",
   "metadata": {},
   "outputs": [
    {
     "name": "stdout",
     "output_type": "stream",
     "text": [
      "16\n"
     ]
    }
   ],
   "source": [
    "c = add(12, 4)\n",
    "print(c)"
   ]
  },
  {
   "cell_type": "code",
   "execution_count": null,
   "id": "7fede8dc",
   "metadata": {},
   "outputs": [],
   "source": []
  },
  {
   "cell_type": "code",
   "execution_count": null,
   "id": "aec468ba",
   "metadata": {},
   "outputs": [],
   "source": []
  },
  {
   "cell_type": "code",
   "execution_count": null,
   "id": "9a7375e4",
   "metadata": {},
   "outputs": [],
   "source": []
  },
  {
   "cell_type": "code",
   "execution_count": null,
   "id": "89ffd637",
   "metadata": {},
   "outputs": [],
   "source": []
  },
  {
   "cell_type": "code",
   "execution_count": null,
   "id": "fb642eec",
   "metadata": {},
   "outputs": [],
   "source": []
  },
  {
   "cell_type": "code",
   "execution_count": null,
   "id": "24fe7479",
   "metadata": {},
   "outputs": [],
   "source": []
  },
  {
   "cell_type": "code",
   "execution_count": null,
   "id": "f0e363b5",
   "metadata": {},
   "outputs": [],
   "source": []
  },
  {
   "cell_type": "code",
   "execution_count": 43,
   "id": "a54097d1",
   "metadata": {},
   "outputs": [],
   "source": [
    "import numpy as np"
   ]
  },
  {
   "cell_type": "code",
   "execution_count": 45,
   "id": "1da81d7a",
   "metadata": {},
   "outputs": [],
   "source": [
    "class_weight = [45, 65, 75]  # kg\n",
    "np_class_weight = np.array(class_weight)"
   ]
  },
  {
   "cell_type": "code",
   "execution_count": 46,
   "id": "e61cd9c3",
   "metadata": {},
   "outputs": [],
   "source": [
    "class_height = [1.56, 1.78, 1.81] # m\n",
    "np_class_height = np.array(class_height)"
   ]
  },
  {
   "cell_type": "code",
   "execution_count": 50,
   "id": "c2b751f7",
   "metadata": {},
   "outputs": [],
   "source": [
    "np_class_weight / (np_class_height ** 2)"
   ]
  },
  {
   "cell_type": "markdown",
   "id": "7d003ffc",
   "metadata": {},
   "source": [
    "而列表list不能使用这样的操作"
   ]
  },
  {
   "cell_type": "code",
   "execution_count": 53,
   "id": "e73346df",
   "metadata": {},
   "outputs": [],
   "source": [
    "class_weight = [45, 65, 75]  # kg\n",
    "class_height = [1.56, 1.78, 1.81] # m\n",
    "\n",
    "class_weight / class_height"
   ]
  },
  {
   "cell_type": "code",
   "execution_count": null,
   "id": "46aeb7ee",
   "metadata": {},
   "outputs": [],
   "source": []
  },
  {
   "cell_type": "code",
   "execution_count": null,
   "id": "10a02195",
   "metadata": {},
   "outputs": [],
   "source": []
  },
  {
   "cell_type": "code",
   "execution_count": null,
   "id": "41324ac9",
   "metadata": {},
   "outputs": [],
   "source": []
  },
  {
   "cell_type": "markdown",
   "id": "7c636966",
   "metadata": {},
   "source": []
  }
 ],
 "metadata": {
  "kernelspec": {
   "display_name": "Python 3",
   "language": "python",
   "name": "python3"
  },
  "language_info": {
   "codemirror_mode": {
    "name": "ipython",
    "version": 3
   },
   "file_extension": ".py",
   "mimetype": "text/x-python",
   "name": "python",
   "nbconvert_exporter": "python",
   "pygments_lexer": "ipython3",
   "version": "3.6.13"
  }
 },
 "nbformat": 4,
 "nbformat_minor": 5
}
