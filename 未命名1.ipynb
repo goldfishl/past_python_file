{
 "cells": [
  {
   "cell_type": "markdown",
   "id": "200ebebe",
   "metadata": {},
   "source": [
    "\n",
    "Editor:long  \n",
    "Date:05-01,2021"
   ]
  },
  {
   "cell_type": "code",
   "execution_count": null,
   "id": "f0167dde",
   "metadata": {},
   "outputs": [],
   "source": [
    "import numpy as np"
   ]
  },
  {
   "cell_type": "code",
   "execution_count": null,
   "id": "e6699ccb",
   "metadata": {},
   "outputs": [],
   "source": []
  }
 ],
 "metadata": {
  "kernelspec": {
   "display_name": "conda env:python36",
   "language": "python",
   "name": "python36"
  },
  "language_info": {
   "codemirror_mode": {
    "name": "ipython",
    "version": 3
   },
   "file_extension": ".py",
   "mimetype": "text/x-python",
   "name": "python",
   "nbconvert_exporter": "python",
   "pygments_lexer": "ipython3",
   "version": "3.6.13"
  }
 },
 "nbformat": 4,
 "nbformat_minor": 5
}
