{
 "cells": [
  {
   "cell_type": "code",
   "execution_count": 2,
   "id": "91689158",
   "metadata": {
    "scrolled": false
   },
   "outputs": [
    {
     "name": "stdout",
     "output_type": "stream",
     "text": [
      "Defaulting to user installation because normal site-packages is not writeable\n",
      "Collecting pyecharts\n",
      "  Downloading pyecharts-1.9.1-py3-none-any.whl (135 kB)\n",
      "\u001b[K     |████████████████████████████████| 135 kB 24 kB/s eta 0:00:01\n",
      "\u001b[?25hRequirement already satisfied: jinja2 in /Users/longjinyu/.local/lib/python3.6/site-packages (from pyecharts) (2.11.3)\n",
      "Collecting prettytable\n",
      "  Downloading prettytable-2.5.0-py3-none-any.whl (24 kB)\n",
      "Collecting simplejson\n",
      "  Downloading simplejson-3.17.6-cp36-cp36m-macosx_10_9_x86_64.whl (74 kB)\n",
      "\u001b[K     |████████████████████████████████| 74 kB 42 kB/s eta 0:00:01\n",
      "\u001b[?25hRequirement already satisfied: MarkupSafe>=0.23 in /Users/longjinyu/.local/lib/python3.6/site-packages (from jinja2->pyecharts) (1.1.1)\n",
      "Requirement already satisfied: wcwidth in /Users/longjinyu/.local/lib/python3.6/site-packages (from prettytable->pyecharts) (0.2.5)\n",
      "Requirement already satisfied: importlib-metadata in /Users/longjinyu/.local/lib/python3.6/site-packages (from prettytable->pyecharts) (3.10.1)\n",
      "Requirement already satisfied: typing-extensions>=3.6.4 in /Users/longjinyu/.local/lib/python3.6/site-packages (from importlib-metadata->prettytable->pyecharts) (3.7.4.3)\n",
      "Requirement already satisfied: zipp>=0.5 in /Users/longjinyu/.local/lib/python3.6/site-packages (from importlib-metadata->prettytable->pyecharts) (3.4.1)\n",
      "Installing collected packages: simplejson, prettytable, pyecharts\n",
      "Successfully installed prettytable-2.5.0 pyecharts-1.9.1 simplejson-3.17.6\n",
      "Note: you may need to restart the kernel to use updated packages.\n"
     ]
    }
   ],
   "source": [
    "pip install pyecharts==1.9.1"
   ]
  },
  {
   "cell_type": "code",
   "execution_count": null,
   "id": "85c1944c",
   "metadata": {},
   "outputs": [],
   "source": [
    "告诉pip软件包管理 安装（install） 1.9.1版本的pyecharts软件包"
   ]
  },
  {
   "cell_type": "code",
   "execution_count": 7,
   "id": "0f3f3ffe",
   "metadata": {},
   "outputs": [
    {
     "name": "stdout",
     "output_type": "stream",
     "text": [
      "Defaulting to user installation because normal site-packages is not writeable\n",
      "Requirement already satisfied: pyecharts==1.9.1 in /Users/longjinyu/.local/lib/python3.6/site-packages (1.9.1)\n",
      "Requirement already satisfied: jinja2 in /Users/longjinyu/.local/lib/python3.6/site-packages (from pyecharts==1.9.1) (2.11.3)\n",
      "Requirement already satisfied: prettytable in /Users/longjinyu/.local/lib/python3.6/site-packages (from pyecharts==1.9.1) (2.5.0)\n",
      "Requirement already satisfied: simplejson in /Users/longjinyu/.local/lib/python3.6/site-packages (from pyecharts==1.9.1) (3.17.6)\n",
      "Requirement already satisfied: MarkupSafe>=0.23 in /Users/longjinyu/.local/lib/python3.6/site-packages (from jinja2->pyecharts==1.9.1) (1.1.1)\n",
      "Requirement already satisfied: wcwidth in /Users/longjinyu/.local/lib/python3.6/site-packages (from prettytable->pyecharts==1.9.1) (0.2.5)\n",
      "Requirement already satisfied: importlib-metadata in /Users/longjinyu/.local/lib/python3.6/site-packages (from prettytable->pyecharts==1.9.1) (3.10.1)\n",
      "Requirement already satisfied: typing-extensions>=3.6.4 in /Users/longjinyu/.local/lib/python3.6/site-packages (from importlib-metadata->prettytable->pyecharts==1.9.1) (3.7.4.3)\n",
      "Requirement already satisfied: zipp>=0.5 in /Users/longjinyu/.local/lib/python3.6/site-packages (from importlib-metadata->prettytable->pyecharts==1.9.1) (3.4.1)\n",
      "Note: you may need to restart the kernel to use updated packages.\n"
     ]
    }
   ],
   "source": [
    "pip install pyecharts==1.9.1"
   ]
  },
  {
   "cell_type": "code",
   "execution_count": null,
   "id": "1bce717a",
   "metadata": {},
   "outputs": [],
   "source": [
    "# 已经装过了\n",
    "Requirement already satisfied # 软件包已经满足要求了\n",
    "\n",
    "\n",
    "\n",
    "\n",
    "\n",
    "\n",
    "# 新安装的\n",
    "Successfully installed # 已经成功安装了"
   ]
  },
  {
   "cell_type": "code",
   "execution_count": null,
   "id": "eccd268f",
   "metadata": {},
   "outputs": [],
   "source": []
  },
  {
   "cell_type": "code",
   "execution_count": null,
   "id": "4b6abcf7",
   "metadata": {},
   "outputs": [],
   "source": []
  },
  {
   "cell_type": "code",
   "execution_count": null,
   "id": "40077d93",
   "metadata": {},
   "outputs": [],
   "source": [
    "from pyecharts.charts import Bar\n",
    "bar = Bar() # bar 棍棒/条状物"
   ]
  },
  {
   "cell_type": "code",
   "execution_count": null,
   "id": "1298cdd6",
   "metadata": {},
   "outputs": [],
   "source": [
    "bar.render_notebook()  # render 传递  surrender 向下传递（扔下你的武器->投降）"
   ]
  },
  {
   "cell_type": "code",
   "execution_count": null,
   "id": "e2e5503b",
   "metadata": {},
   "outputs": [],
   "source": []
  },
  {
   "cell_type": "code",
   "execution_count": null,
   "id": "3fe27462",
   "metadata": {},
   "outputs": [],
   "source": [
    "# render -> render_notebook"
   ]
  },
  {
   "cell_type": "code",
   "execution_count": null,
   "id": "d8dba760",
   "metadata": {},
   "outputs": [],
   "source": []
  },
  {
   "cell_type": "code",
   "execution_count": null,
   "id": "53c46bd6",
   "metadata": {},
   "outputs": [],
   "source": []
  },
  {
   "cell_type": "code",
   "execution_count": null,
   "id": "e8f8255b",
   "metadata": {},
   "outputs": [],
   "source": []
  },
  {
   "cell_type": "code",
   "execution_count": null,
   "id": "f099b7bf",
   "metadata": {},
   "outputs": [],
   "source": []
  },
  {
   "cell_type": "code",
   "execution_count": 76,
   "id": "bc3bf1af",
   "metadata": {},
   "outputs": [
    {
     "data": {
      "text/html": [
       "\n",
       "<script>\n",
       "    require.config({\n",
       "        paths: {\n",
       "            'echarts':'https://assets.pyecharts.org/assets/echarts.min'\n",
       "        }\n",
       "    });\n",
       "</script>\n",
       "\n",
       "        <div id=\"f6f21481293641cdb61e494e265d0902\" style=\"width:900px; height:500px;\"></div>\n",
       "\n",
       "<script>\n",
       "        require(['echarts'], function(echarts) {\n",
       "                var chart_f6f21481293641cdb61e494e265d0902 = echarts.init(\n",
       "                    document.getElementById('f6f21481293641cdb61e494e265d0902'), 'white', {renderer: 'canvas'});\n",
       "                var option_f6f21481293641cdb61e494e265d0902 = {\n",
       "    \"animation\": true,\n",
       "    \"animationThreshold\": 2000,\n",
       "    \"animationDuration\": 1000,\n",
       "    \"animationEasing\": \"cubicOut\",\n",
       "    \"animationDelay\": 0,\n",
       "    \"animationDurationUpdate\": 300,\n",
       "    \"animationEasingUpdate\": \"cubicOut\",\n",
       "    \"animationDelayUpdate\": 0,\n",
       "    \"color\": [\n",
       "        \"#c23531\",\n",
       "        \"#2f4554\",\n",
       "        \"#61a0a8\",\n",
       "        \"#d48265\",\n",
       "        \"#749f83\",\n",
       "        \"#ca8622\",\n",
       "        \"#bda29a\",\n",
       "        \"#6e7074\",\n",
       "        \"#546570\",\n",
       "        \"#c4ccd3\",\n",
       "        \"#f05b72\",\n",
       "        \"#ef5b9c\",\n",
       "        \"#f47920\",\n",
       "        \"#905a3d\",\n",
       "        \"#fab27b\",\n",
       "        \"#2a5caa\",\n",
       "        \"#444693\",\n",
       "        \"#726930\",\n",
       "        \"#b2d235\",\n",
       "        \"#6d8346\",\n",
       "        \"#ac6767\",\n",
       "        \"#1d953f\",\n",
       "        \"#6950a1\",\n",
       "        \"#918597\"\n",
       "    ],\n",
       "    \"series\": [\n",
       "        {\n",
       "            \"type\": \"bar\",\n",
       "            \"name\": \"\\u5546\\u5bb6A\",\n",
       "            \"legendHoverLink\": true,\n",
       "            \"data\": [\n",
       "                10,\n",
       "                20,\n",
       "                36,\n",
       "                100,\n",
       "                75,\n",
       "                90\n",
       "            ],\n",
       "            \"showBackground\": false,\n",
       "            \"barMinHeight\": 0,\n",
       "            \"barCategoryGap\": \"20%\",\n",
       "            \"barGap\": \"30%\",\n",
       "            \"large\": false,\n",
       "            \"largeThreshold\": 400,\n",
       "            \"seriesLayoutBy\": \"column\",\n",
       "            \"datasetIndex\": 0,\n",
       "            \"clip\": true,\n",
       "            \"zlevel\": 0,\n",
       "            \"z\": 2,\n",
       "            \"label\": {\n",
       "                \"show\": true,\n",
       "                \"position\": \"top\",\n",
       "                \"margin\": 8\n",
       "            }\n",
       "        }\n",
       "    ],\n",
       "    \"legend\": [\n",
       "        {\n",
       "            \"data\": [\n",
       "                \"\\u5546\\u5bb6A\"\n",
       "            ],\n",
       "            \"selected\": {\n",
       "                \"\\u5546\\u5bb6A\": true\n",
       "            }\n",
       "        }\n",
       "    ],\n",
       "    \"tooltip\": {\n",
       "        \"show\": true,\n",
       "        \"trigger\": \"item\",\n",
       "        \"triggerOn\": \"mousemove|click\",\n",
       "        \"axisPointer\": {\n",
       "            \"type\": \"line\"\n",
       "        },\n",
       "        \"showContent\": true,\n",
       "        \"alwaysShowContent\": false,\n",
       "        \"showDelay\": 0,\n",
       "        \"hideDelay\": 100,\n",
       "        \"textStyle\": {\n",
       "            \"fontSize\": 14\n",
       "        },\n",
       "        \"borderWidth\": 0,\n",
       "        \"padding\": 5\n",
       "    },\n",
       "    \"xAxis\": [\n",
       "        {\n",
       "            \"show\": true,\n",
       "            \"scale\": false,\n",
       "            \"nameLocation\": \"end\",\n",
       "            \"nameGap\": 15,\n",
       "            \"gridIndex\": 0,\n",
       "            \"inverse\": false,\n",
       "            \"offset\": 0,\n",
       "            \"splitNumber\": 5,\n",
       "            \"minInterval\": 0,\n",
       "            \"splitLine\": {\n",
       "                \"show\": false,\n",
       "                \"lineStyle\": {\n",
       "                    \"show\": true,\n",
       "                    \"width\": 1,\n",
       "                    \"opacity\": 1,\n",
       "                    \"curveness\": 0,\n",
       "                    \"type\": \"solid\"\n",
       "                }\n",
       "            },\n",
       "            \"data\": [\n",
       "                \"\\u886c\\u886b\",\n",
       "                \"\\u7f8a\\u6bdb\\u886b\",\n",
       "                \"\\u96ea\\u7eba\\u886b\",\n",
       "                \"\\u88e4\\u5b50\",\n",
       "                \"\\u9ad8\\u8ddf\\u978b\",\n",
       "                \"\\u889c\\u5b50\"\n",
       "            ]\n",
       "        }\n",
       "    ],\n",
       "    \"yAxis\": [\n",
       "        {\n",
       "            \"show\": true,\n",
       "            \"scale\": false,\n",
       "            \"nameLocation\": \"end\",\n",
       "            \"nameGap\": 15,\n",
       "            \"gridIndex\": 0,\n",
       "            \"inverse\": false,\n",
       "            \"offset\": 0,\n",
       "            \"splitNumber\": 5,\n",
       "            \"minInterval\": 0,\n",
       "            \"splitLine\": {\n",
       "                \"show\": false,\n",
       "                \"lineStyle\": {\n",
       "                    \"show\": true,\n",
       "                    \"width\": 1,\n",
       "                    \"opacity\": 1,\n",
       "                    \"curveness\": 0,\n",
       "                    \"type\": \"solid\"\n",
       "                }\n",
       "            }\n",
       "        }\n",
       "    ]\n",
       "};\n",
       "                chart_f6f21481293641cdb61e494e265d0902.setOption(option_f6f21481293641cdb61e494e265d0902);\n",
       "        });\n",
       "    </script>\n"
      ],
      "text/plain": [
       "<pyecharts.render.display.HTML at 0x7fbf60134e80>"
      ]
     },
     "execution_count": 76,
     "metadata": {},
     "output_type": "execute_result"
    }
   ],
   "source": [
    "from pyecharts.charts import Bar\n",
    "\n",
    "bar = Bar()  # \n",
    "bar.add_xaxis([\"衬衫\", \"羊毛衫\", \"雪纺衫\", \"裤子\", \"高跟鞋\", \"袜子\"])  # x axis 轴线  x轴\n",
    "bar.add_yaxis(\"商家A\", [10, 20, 36, 100, 75, 90])  # y axis \n",
    "# # render 会生成本地 HTML 文件，默认会在当前目录生成 render.html 文件\n",
    "# # 也可以传入路径参数，如 bar.render(\"mycharts.html\")\n",
    "bar.render_notebook()"
   ]
  },
  {
   "cell_type": "code",
   "execution_count": null,
   "id": "d1c53ff5",
   "metadata": {},
   "outputs": [],
   "source": []
  },
  {
   "cell_type": "code",
   "execution_count": null,
   "id": "9f834d83",
   "metadata": {},
   "outputs": [],
   "source": []
  },
  {
   "cell_type": "code",
   "execution_count": null,
   "id": "c649aabc",
   "metadata": {},
   "outputs": [],
   "source": []
  },
  {
   "cell_type": "code",
   "execution_count": null,
   "id": "30e2a7fd",
   "metadata": {},
   "outputs": [],
   "source": []
  },
  {
   "cell_type": "code",
   "execution_count": null,
   "id": "2fa5f93a",
   "metadata": {},
   "outputs": [],
   "source": [
    "# key-value    关键字/索引  ->  值\n",
    "# SQL数据库  关系型的数据\n",
    "# Redies数据库  非关系型的数据库    key-value\n",
    "\n",
    "\"20200803\" ->  [\"王刚\", 89, 67, 62]"
   ]
  },
  {
   "cell_type": "markdown",
   "id": "d0c63984",
   "metadata": {},
   "source": [
    "# Dictionary/Dict 字典\n",
    "\n"
   ]
  },
  {
   "cell_type": "code",
   "execution_count": 55,
   "id": "33b67500",
   "metadata": {},
   "outputs": [],
   "source": [
    "# 列表[]   以逗号分割元素\n",
    "# 字典{}   以逗号分割元素   一个元素是一个key-value（键-值对）   # 键-值对的语法  [关键字] : [值]\n",
    "\n",
    "# 简单的字典创建方法\n",
    "stu_info = {\"20200803\": [\"王刚\", 89, 67, 62], \"202008011\": [\"张众\", 78, 77, 62]}"
   ]
  },
  {
   "cell_type": "code",
   "execution_count": 58,
   "id": "e2a8aa2c",
   "metadata": {},
   "outputs": [
    {
     "data": {
      "text/plain": [
       "['张众', 78, 77, 62]"
      ]
     },
     "execution_count": 58,
     "metadata": {},
     "output_type": "execute_result"
    }
   ],
   "source": [
    "# 字典的索引\n",
    "stu_info[\"202008011\"]"
   ]
  },
  {
   "cell_type": "code",
   "execution_count": null,
   "id": "d452b41f",
   "metadata": {},
   "outputs": [],
   "source": [
    "# 字典的keys() : 获取字典的所有关键字\n",
    "# 用途：遍历字典\n",
    "for key in stu_info.keys():\n",
    "    print(stu_info[key])"
   ]
  },
  {
   "cell_type": "markdown",
   "id": "d447a90b",
   "metadata": {},
   "source": [
    "## 字典的操作\n",
    "更新，删除，添加   和 list列表的语法非常类似"
   ]
  },
  {
   "cell_type": "code",
   "execution_count": null,
   "id": "9ad4fb7c",
   "metadata": {},
   "outputs": [],
   "source": [
    "stu_info[\"202008011\"] = [\"王恭\", 89, 67, 62]"
   ]
  },
  {
   "cell_type": "code",
   "execution_count": null,
   "id": "46cd8b44",
   "metadata": {},
   "outputs": [],
   "source": [
    "del stu_info[\"202008011\"]"
   ]
  },
  {
   "cell_type": "code",
   "execution_count": null,
   "id": "a7520942",
   "metadata": {},
   "outputs": [],
   "source": []
  },
  {
   "cell_type": "code",
   "execution_count": 61,
   "id": "ddfb7e5c",
   "metadata": {},
   "outputs": [],
   "source": [
    "stu_info[\"202008012\"] = [\"龙金雨\", 64, 73, 73]"
   ]
  },
  {
   "cell_type": "code",
   "execution_count": 62,
   "id": "354889de",
   "metadata": {},
   "outputs": [
    {
     "data": {
      "text/plain": [
       "{'20200803': ['王刚', 89, 67, 62],\n",
       " '202008011': ['张众', 78, 77, 62],\n",
       " '202008012': ['龙金雨', 64, 73, 73]}"
      ]
     },
     "execution_count": 62,
     "metadata": {},
     "output_type": "execute_result"
    }
   ],
   "source": [
    "stu_info"
   ]
  },
  {
   "cell_type": "code",
   "execution_count": null,
   "id": "a15614ed",
   "metadata": {},
   "outputs": [],
   "source": []
  },
  {
   "cell_type": "code",
   "execution_count": null,
   "id": "896a6887",
   "metadata": {},
   "outputs": [],
   "source": []
  },
  {
   "cell_type": "code",
   "execution_count": null,
   "id": "b0490219",
   "metadata": {},
   "outputs": [],
   "source": []
  },
  {
   "cell_type": "code",
   "execution_count": null,
   "id": "a000458e",
   "metadata": {},
   "outputs": [],
   "source": []
  },
  {
   "cell_type": "code",
   "execution_count": null,
   "id": "6c14b5c1",
   "metadata": {},
   "outputs": [],
   "source": []
  },
  {
   "cell_type": "markdown",
   "id": "cd3dd0bd",
   "metadata": {},
   "source": [
    "# 用户自定义函数\n",
    "函数提供参数（无参数、单参数、多参数）  ->  又一个输出 或者 帮你完成一些行为\n",
    "## `def` \n",
    "define 定义\n",
    "\n",
    "return 返回"
   ]
  },
  {
   "cell_type": "code",
   "execution_count": 63,
   "id": "a1196ccd",
   "metadata": {},
   "outputs": [],
   "source": [
    "# 返回任意两个数相加的结果\n",
    "\n",
    "def add1(a, b):\n",
    "    c = a + b\n",
    "    print(c)"
   ]
  },
  {
   "cell_type": "code",
   "execution_count": 68,
   "id": "73b8a120",
   "metadata": {},
   "outputs": [],
   "source": [
    "def add2(a, b):\n",
    "    c = a + b\n",
    "    return c"
   ]
  },
  {
   "cell_type": "code",
   "execution_count": null,
   "id": "d878bcc9",
   "metadata": {},
   "outputs": [],
   "source": [
    "# (a + b) * z"
   ]
  },
  {
   "cell_type": "code",
   "execution_count": 69,
   "id": "1f2df5c3",
   "metadata": {},
   "outputs": [
    {
     "data": {
      "text/plain": [
       "930"
      ]
     },
     "execution_count": 69,
     "metadata": {},
     "output_type": "execute_result"
    }
   ],
   "source": [
    "c = add2(90 , 3)\n",
    "c * 10"
   ]
  },
  {
   "cell_type": "code",
   "execution_count": null,
   "id": "0e76e30f",
   "metadata": {},
   "outputs": [],
   "source": [
    "upload # 上传"
   ]
  },
  {
   "cell_type": "code",
   "execution_count": null,
   "id": "153901d5",
   "metadata": {},
   "outputs": [],
   "source": []
  },
  {
   "cell_type": "code",
   "execution_count": null,
   "id": "94d95cc0",
   "metadata": {},
   "outputs": [],
   "source": []
  },
  {
   "cell_type": "code",
   "execution_count": null,
   "id": "24bdb22e",
   "metadata": {},
   "outputs": [],
   "source": []
  },
  {
   "cell_type": "code",
   "execution_count": null,
   "id": "d1928ce4",
   "metadata": {},
   "outputs": [],
   "source": []
  }
 ],
 "metadata": {
  "kernelspec": {
   "display_name": "Python 3",
   "language": "python",
   "name": "python3"
  },
  "language_info": {
   "codemirror_mode": {
    "name": "ipython",
    "version": 3
   },
   "file_extension": ".py",
   "mimetype": "text/x-python",
   "name": "python",
   "nbconvert_exporter": "python",
   "pygments_lexer": "ipython3",
   "version": "3.6.13"
  }
 },
 "nbformat": 4,
 "nbformat_minor": 5
}
