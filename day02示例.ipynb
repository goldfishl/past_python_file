{
 "cells": [
  {
   "cell_type": "markdown",
   "id": "a0cfe964",
   "metadata": {},
   "source": [
    "## 算数运算符"
   ]
  },
  {
   "cell_type": "code",
   "execution_count": 111,
   "id": "290bd5ce",
   "metadata": {
    "scrolled": true
   },
   "outputs": [
    {
     "data": {
      "text/plain": [
       "3"
      ]
     },
     "execution_count": 111,
     "metadata": {},
     "output_type": "execute_result"
    }
   ],
   "source": [
    "7 % 4\n",
    "\n",
    "# 7 - N*4 = ?"
   ]
  },
  {
   "cell_type": "code",
   "execution_count": null,
   "id": "dcd9a694",
   "metadata": {},
   "outputs": [],
   "source": []
  },
  {
   "cell_type": "code",
   "execution_count": null,
   "id": "390c6e3b",
   "metadata": {},
   "outputs": [],
   "source": []
  },
  {
   "cell_type": "code",
   "execution_count": null,
   "id": "ab0e8b37",
   "metadata": {},
   "outputs": [],
   "source": []
  },
  {
   "cell_type": "code",
   "execution_count": null,
   "id": "dfa6d5c9",
   "metadata": {},
   "outputs": [],
   "source": []
  },
  {
   "cell_type": "code",
   "execution_count": null,
   "id": "e0c0ef05",
   "metadata": {},
   "outputs": [],
   "source": []
  },
  {
   "cell_type": "code",
   "execution_count": null,
   "id": "1746a93d",
   "metadata": {},
   "outputs": [],
   "source": []
  },
  {
   "cell_type": "code",
   "execution_count": null,
   "id": "d25699da",
   "metadata": {},
   "outputs": [],
   "source": []
  },
  {
   "cell_type": "code",
   "execution_count": null,
   "id": "ca4c8ecf",
   "metadata": {},
   "outputs": [],
   "source": []
  },
  {
   "cell_type": "code",
   "execution_count": null,
   "id": "69438e63",
   "metadata": {},
   "outputs": [],
   "source": []
  },
  {
   "cell_type": "code",
   "execution_count": null,
   "id": "33a5ae61",
   "metadata": {},
   "outputs": [],
   "source": []
  },
  {
   "cell_type": "code",
   "execution_count": null,
   "id": "16e0403f",
   "metadata": {},
   "outputs": [],
   "source": []
  },
  {
   "cell_type": "code",
   "execution_count": null,
   "id": "f4b6c468",
   "metadata": {},
   "outputs": [],
   "source": []
  },
  {
   "cell_type": "code",
   "execution_count": null,
   "id": "6572a7f4",
   "metadata": {},
   "outputs": [],
   "source": []
  },
  {
   "cell_type": "code",
   "execution_count": null,
   "id": "32a0bb95",
   "metadata": {},
   "outputs": [],
   "source": []
  },
  {
   "cell_type": "code",
   "execution_count": null,
   "id": "132f1f02",
   "metadata": {},
   "outputs": [],
   "source": [
    "print(5 - 5)\n",
    "\n",
    "# 相乘\n",
    "print(3 * 5)\n",
    "# 相除\n",
    "print(10 / 2)\n",
    "# 取余\n",
    "print(18 % 7)\n",
    "# 幂运算\n",
    "print(4 ** 2)"
   ]
  },
  {
   "cell_type": "code",
   "execution_count": null,
   "id": "fc500ac7",
   "metadata": {},
   "outputs": [],
   "source": []
  },
  {
   "cell_type": "code",
   "execution_count": 2,
   "id": "64fb6461",
   "metadata": {},
   "outputs": [],
   "source": [
    "# 用赋值运算符输出 任意两数之和\n",
    "a = input()\n",
    "b = input()"
   ]
  },
  {
   "cell_type": "markdown",
   "id": "e214c0f6",
   "metadata": {},
   "source": [
    "## 列表list\n",
    "在数字方面，有表示实数的float，和表示整数的int。接下来，我们还有str，字符串的简称，用来表示Python中的文本，以及bool，可以是真或假。\n",
    "你可以把这些值保存为一个变量，就像这些例子显示的那样。然后每个变量代表一个单一的值。"
   ]
  },
  {
   "cell_type": "code",
   "execution_count": 4,
   "id": "9fd08b32",
   "metadata": {},
   "outputs": [],
   "source": [
    "height1 = 1.74\n",
    "height2 = 1.65\n",
    "height3 = 1.76\n",
    "height4 = 1.82"
   ]
  },
  {
   "cell_type": "markdown",
   "id": "5c99e8be",
   "metadata": {},
   "source": [
    "但是数据分析应用中你经常需要处理许多数据点。例如，如果你想测量你家里每个人的身高，并将这些信息存储在Python中，那么为你收集的每个点创建一个新的Python变量会很不方便，对吗？\n",
    "\n",
    "你可以做的是，将所有这些信息存储在一个Python列表中。\n",
    "\n",
    "你可以用方括号建立这样一个列表。"
   ]
  },
  {
   "cell_type": "code",
   "execution_count": null,
   "id": "80f4588c",
   "metadata": {},
   "outputs": [],
   "source": []
  },
  {
   "cell_type": "code",
   "execution_count": null,
   "id": "d7695ee7",
   "metadata": {},
   "outputs": [],
   "source": []
  },
  {
   "cell_type": "code",
   "execution_count": null,
   "id": "b232e29e",
   "metadata": {},
   "outputs": [],
   "source": []
  },
  {
   "cell_type": "code",
   "execution_count": null,
   "id": "9db98f74",
   "metadata": {},
   "outputs": [],
   "source": []
  },
  {
   "cell_type": "code",
   "execution_count": null,
   "id": "b51ffefb",
   "metadata": {},
   "outputs": [],
   "source": []
  },
  {
   "cell_type": "code",
   "execution_count": null,
   "id": "2b5dfd41",
   "metadata": {},
   "outputs": [],
   "source": []
  },
  {
   "cell_type": "code",
   "execution_count": 5,
   "id": "ca164b09",
   "metadata": {},
   "outputs": [],
   "source": [
    "class_height = [1.74, 1.65, 1.76, 1.82]"
   ]
  },
  {
   "cell_type": "code",
   "execution_count": null,
   "id": "4b070848",
   "metadata": {},
   "outputs": [],
   "source": [
    "class_height[0]"
   ]
  },
  {
   "cell_type": "code",
   "execution_count": null,
   "id": "e7553b75",
   "metadata": {},
   "outputs": [],
   "source": [
    "#         [1.74, 1.65, 1.76, 1.82]\n",
    "# 正整数：   0      1     2     3\n",
    "# 负整数：  -4     -3    -2    -1\n",
    "\n",
    "\n",
    "\n"
   ]
  },
  {
   "cell_type": "code",
   "execution_count": null,
   "id": "1e874004",
   "metadata": {},
   "outputs": [],
   "source": []
  },
  {
   "cell_type": "code",
   "execution_count": null,
   "id": "423a82f8",
   "metadata": {},
   "outputs": [],
   "source": []
  },
  {
   "cell_type": "code",
   "execution_count": null,
   "id": "a495b0bf",
   "metadata": {},
   "outputs": [],
   "source": []
  },
  {
   "cell_type": "code",
   "execution_count": null,
   "id": "e7c77de6",
   "metadata": {},
   "outputs": [],
   "source": []
  },
  {
   "cell_type": "code",
   "execution_count": null,
   "id": "9e04cec5",
   "metadata": {},
   "outputs": [],
   "source": []
  },
  {
   "cell_type": "code",
   "execution_count": null,
   "id": "dd45fd00",
   "metadata": {},
   "outputs": [],
   "source": []
  },
  {
   "cell_type": "code",
   "execution_count": null,
   "id": "b00f3423",
   "metadata": {},
   "outputs": [],
   "source": []
  },
  {
   "cell_type": "markdown",
   "id": "d606c0fb",
   "metadata": {},
   "source": [
    "列表把一个值的集合起赋值给一个变量名的方法。\n",
    "\n",
    "这些值，或元素，可以有任何类型；它们可以是浮点数、整数、布尔运算、字符串，也可以是更高级的 Python 类型，甚至是列表。\n",
    "\n",
    "一个列表也完全可能包含不同的类型。\n",
    "\n",
    "例如，你想要添加名字以知道收集的身高属于谁，你可以把名字包含进去"
   ]
  },
  {
   "cell_type": "code",
   "execution_count": 6,
   "id": "9557059c",
   "metadata": {},
   "outputs": [],
   "source": [
    "class_height = [\"龙金雨\", 1.74, \"王鑫\", 1.65, \"张洋\", 1.76, \"段鹏\", 1.82]"
   ]
  },
  {
   "cell_type": "code",
   "execution_count": null,
   "id": "daf796bc",
   "metadata": {},
   "outputs": [],
   "source": []
  },
  {
   "cell_type": "code",
   "execution_count": null,
   "id": "2779b6e9",
   "metadata": {},
   "outputs": [],
   "source": []
  },
  {
   "cell_type": "code",
   "execution_count": null,
   "id": "c4fc91da",
   "metadata": {},
   "outputs": [],
   "source": []
  },
  {
   "cell_type": "code",
   "execution_count": null,
   "id": "c0ff2c6b",
   "metadata": {},
   "outputs": [],
   "source": []
  },
  {
   "cell_type": "code",
   "execution_count": null,
   "id": "304cd9ce",
   "metadata": {},
   "outputs": [],
   "source": []
  },
  {
   "cell_type": "code",
   "execution_count": null,
   "id": "8ce5ecca",
   "metadata": {},
   "outputs": [],
   "source": []
  },
  {
   "cell_type": "markdown",
   "id": "8ce2d479",
   "metadata": {},
   "source": [
    "我们刚才也说过列表也可以包含列表，你可以为每个成员创建一个列表，而不是把他们的名字放在列表中间"
   ]
  },
  {
   "cell_type": "code",
   "execution_count": 42,
   "id": "3d22b8e9",
   "metadata": {},
   "outputs": [],
   "source": [
    "class_height = [[\"龙金雨\", 1.74],\n",
    "                [\"王鑫\", 1.65],\n",
    "                [\"张洋\", 1.76],\n",
    "                [\"段鹏\", 1.82]]"
   ]
  },
  {
   "cell_type": "markdown",
   "id": "713db26c",
   "metadata": {},
   "source": [
    "## 列表子集\n",
    "### 列表的索引\n",
    "在你创建了你自己的 Python 列表之后，你需要知道如何访问列表中的信息。\n",
    "Python 使用索引来做这件事。再看一下这里的class_height列表。"
   ]
  },
  {
   "cell_type": "code",
   "execution_count": null,
   "id": "75c9367d",
   "metadata": {},
   "outputs": [],
   "source": [
    "# 列表第一个元素索引为0！  \n",
    "print(class_height[0])\n",
    "# 二个元素有索引 1，以此类推。\n",
    "print(class_height[1])"
   ]
  },
  {
   "cell_type": "code",
   "execution_count": null,
   "id": "81450856",
   "metadata": {},
   "outputs": [],
   "source": []
  },
  {
   "cell_type": "code",
   "execution_count": null,
   "id": "941d058f",
   "metadata": {},
   "outputs": [],
   "source": []
  },
  {
   "cell_type": "code",
   "execution_count": 102,
   "id": "81d92825",
   "metadata": {},
   "outputs": [
    {
     "data": {
      "text/plain": [
       "[['龙金雨', 1.74], ['王鑫', 1.65], ['张洋', 1.76], ['段鹏', 1.82]]"
      ]
     },
     "execution_count": 102,
     "metadata": {},
     "output_type": "execute_result"
    }
   ],
   "source": [
    "class_height = [[\"龙金雨\", 1.74],\n",
    "                [\"王鑫\", 1.65],\n",
    "                [\"张洋\", 1.76],\n",
    "                [\"段鹏\", 1.82]]\n",
    "class_height"
   ]
  },
  {
   "cell_type": "code",
   "execution_count": 103,
   "id": "317d56b5",
   "metadata": {},
   "outputs": [],
   "source": [
    "# class_height = class_height + []\n",
    "class_height += [['王高', 1.65]]"
   ]
  },
  {
   "cell_type": "code",
   "execution_count": 106,
   "id": "2f2fe0c7",
   "metadata": {},
   "outputs": [
    {
     "data": {
      "text/plain": [
       "[['龙金雨', 1.74], ['王鑫', 1.65], ['张洋', 1.76], ['段鹏', 1.82]]"
      ]
     },
     "execution_count": 106,
     "metadata": {},
     "output_type": "execute_result"
    }
   ],
   "source": [
    "class_height"
   ]
  },
  {
   "cell_type": "code",
   "execution_count": null,
   "id": "76dcbaed",
   "metadata": {},
   "outputs": [],
   "source": [
    "del # delete\n"
   ]
  },
  {
   "cell_type": "code",
   "execution_count": 105,
   "id": "0a457b1a",
   "metadata": {},
   "outputs": [],
   "source": [
    "del class_height[-1]"
   ]
  },
  {
   "cell_type": "code",
   "execution_count": null,
   "id": "b94d70de",
   "metadata": {},
   "outputs": [],
   "source": []
  },
  {
   "cell_type": "code",
   "execution_count": null,
   "id": "0dbcfc80",
   "metadata": {},
   "outputs": [],
   "source": []
  },
  {
   "cell_type": "code",
   "execution_count": null,
   "id": "7cbdc477",
   "metadata": {},
   "outputs": [],
   "source": []
  },
  {
   "cell_type": "code",
   "execution_count": null,
   "id": "44854fd0",
   "metadata": {},
   "outputs": [],
   "source": []
  },
  {
   "cell_type": "code",
   "execution_count": null,
   "id": "3e1c1a43",
   "metadata": {},
   "outputs": [],
   "source": []
  },
  {
   "cell_type": "code",
   "execution_count": null,
   "id": "50cf1c61",
   "metadata": {},
   "outputs": [],
   "source": []
  },
  {
   "cell_type": "markdown",
   "id": "1d69c433",
   "metadata": {},
   "source": [
    "你也可以倒着数，使用负数的索引。如果你想得到列表末尾的一些元素，这很有用。\n",
    "\n",
    "例如，要获得段鹏的身高，你可以使用索引-1。"
   ]
  },
  {
   "cell_type": "code",
   "execution_count": 10,
   "id": "4f0e2149",
   "metadata": {},
   "outputs": [],
   "source": [
    "print(class_height[-1])\n",
    "\n",
    "# 使用索引-2获取列表倒数第二个元素\n",
    "print(class_height[-2])"
   ]
  },
  {
   "cell_type": "code",
   "execution_count": null,
   "id": "c37cc5a3",
   "metadata": {},
   "outputs": [],
   "source": []
  },
  {
   "cell_type": "code",
   "execution_count": null,
   "id": "44760b97",
   "metadata": {},
   "outputs": [],
   "source": []
  },
  {
   "cell_type": "code",
   "execution_count": null,
   "id": "167d9ad4",
   "metadata": {},
   "outputs": [],
   "source": [
    "0-2 [0:3]"
   ]
  },
  {
   "cell_type": "code",
   "execution_count": null,
   "id": "948eca98",
   "metadata": {},
   "outputs": [],
   "source": []
  },
  {
   "cell_type": "code",
   "execution_count": 101,
   "id": "5335acc4",
   "metadata": {},
   "outputs": [
    {
     "data": {
      "text/plain": [
       "[['龙金雨', 1.74], ['王鑫', 1.65]]"
      ]
     },
     "execution_count": 101,
     "metadata": {},
     "output_type": "execute_result"
    }
   ],
   "source": [
    "class_height[:2]"
   ]
  },
  {
   "cell_type": "code",
   "execution_count": 100,
   "id": "8c8bea19",
   "metadata": {},
   "outputs": [
    {
     "data": {
      "text/plain": [
       "[['龙金雨', 1.74], ['王鑫', 1.65]]"
      ]
     },
     "execution_count": 100,
     "metadata": {},
     "output_type": "execute_result"
    }
   ],
   "source": [
    "class_height[0:2]"
   ]
  },
  {
   "cell_type": "code",
   "execution_count": null,
   "id": "51f6edd6",
   "metadata": {},
   "outputs": [],
   "source": []
  },
  {
   "cell_type": "code",
   "execution_count": null,
   "id": "d1e1adc0",
   "metadata": {},
   "outputs": [],
   "source": []
  },
  {
   "cell_type": "markdown",
   "id": "2a14cd9e",
   "metadata": {},
   "source": [
    "## 列表的切片\n",
    "\n",
    "除了索引之外，还有一种叫做切片的东西。\n",
    "\n",
    "它允许你从一个列表中选择多个元素，从而创建一个新的列表。你可以通过指定一个范围，用冒号来完成这个任务。\n",
    "\n",
    "语法是这样的：你在冒号之前指定的索引，即分片开始的地方，会被包括在内，而你在冒号之后指定的索引，即分片结束的地方，则不包括在内。"
   ]
  },
  {
   "cell_type": "code",
   "execution_count": 12,
   "id": "7e4faa3d",
   "metadata": {},
   "outputs": [
    {
     "name": "stdout",
     "output_type": "stream",
     "text": [
      "[1.74, '王鑫']\n"
     ]
    }
   ],
   "source": [
    "print(class_height[1:3])"
   ]
  },
  {
   "cell_type": "code",
   "execution_count": null,
   "id": "fdc58279",
   "metadata": {},
   "outputs": [],
   "source": []
  },
  {
   "cell_type": "code",
   "execution_count": null,
   "id": "1f7ea213",
   "metadata": {},
   "outputs": [],
   "source": []
  },
  {
   "cell_type": "code",
   "execution_count": null,
   "id": "6e129509",
   "metadata": {},
   "outputs": [],
   "source": []
  },
  {
   "cell_type": "code",
   "execution_count": null,
   "id": "a12e0cd3",
   "metadata": {},
   "outputs": [],
   "source": []
  },
  {
   "cell_type": "code",
   "execution_count": 112,
   "id": "434c574c",
   "metadata": {},
   "outputs": [
    {
     "data": {
      "text/plain": [
       "[['龙金雨', 1.74], ['王鑫', 1.65], ['张洋', 1.76], ['段鹏', 1.82]]"
      ]
     },
     "execution_count": 112,
     "metadata": {},
     "output_type": "execute_result"
    }
   ],
   "source": [
    "class_height"
   ]
  },
  {
   "cell_type": "code",
   "execution_count": 113,
   "id": "c4df31de",
   "metadata": {},
   "outputs": [
    {
     "name": "stdout",
     "output_type": "stream",
     "text": [
      "[['龙金雨', 1.74], ['王刚', 1.65], ['张洋', 1.76], ['段鹏', 1.82]]\n"
     ]
    }
   ],
   "source": [
    "class_height[1] = ['王刚', 1.65]\n",
    "print(class_height)"
   ]
  },
  {
   "cell_type": "code",
   "execution_count": null,
   "id": "89492de8",
   "metadata": {},
   "outputs": [],
   "source": [
    "\n",
    "class_height += [[\"李白\", 1.81]]"
   ]
  },
  {
   "cell_type": "code",
   "execution_count": 115,
   "id": "4ed29f86",
   "metadata": {},
   "outputs": [],
   "source": [
    "# class_height = class_height + [[\"李白\", 1.81]]\n",
    "class_height += [[\"李白\", 1.81]]"
   ]
  },
  {
   "cell_type": "code",
   "execution_count": 119,
   "id": "5431331c",
   "metadata": {},
   "outputs": [
    {
     "name": "stdout",
     "output_type": "stream",
     "text": [
      "[['龙金雨', 1.74], ['王刚', 1.65], ['张洋', 1.76], ['段鹏', 1.82], ['李白', 1.81]]\n"
     ]
    }
   ],
   "source": [
    "print(class_height)"
   ]
  },
  {
   "cell_type": "code",
   "execution_count": null,
   "id": "b48b6897",
   "metadata": {},
   "outputs": [],
   "source": [
    "# del delete 删除\n",
    "# num number 数字"
   ]
  },
  {
   "cell_type": "code",
   "execution_count": 120,
   "id": "632ded6f",
   "metadata": {},
   "outputs": [],
   "source": [
    "del class_height[-1]"
   ]
  },
  {
   "cell_type": "code",
   "execution_count": 121,
   "id": "849f4620",
   "metadata": {},
   "outputs": [
    {
     "name": "stdout",
     "output_type": "stream",
     "text": [
      "[['龙金雨', 1.74], ['王刚', 1.65], ['张洋', 1.76], ['段鹏', 1.82]]\n"
     ]
    }
   ],
   "source": [
    "print(class_height)"
   ]
  },
  {
   "cell_type": "code",
   "execution_count": null,
   "id": "26c2c196",
   "metadata": {},
   "outputs": [],
   "source": []
  },
  {
   "cell_type": "code",
   "execution_count": null,
   "id": "ceded810",
   "metadata": {},
   "outputs": [],
   "source": []
  },
  {
   "cell_type": "code",
   "execution_count": null,
   "id": "79579a2e",
   "metadata": {},
   "outputs": [],
   "source": []
  },
  {
   "cell_type": "code",
   "execution_count": null,
   "id": "8381a8a2",
   "metadata": {},
   "outputs": [],
   "source": []
  },
  {
   "cell_type": "code",
   "execution_count": null,
   "id": "f5148148",
   "metadata": {},
   "outputs": [],
   "source": []
  },
  {
   "cell_type": "code",
   "execution_count": null,
   "id": "cfdfe39a",
   "metadata": {},
   "outputs": [],
   "source": []
  },
  {
   "cell_type": "code",
   "execution_count": null,
   "id": "5abc9cef",
   "metadata": {},
   "outputs": [],
   "source": []
  },
  {
   "cell_type": "code",
   "execution_count": null,
   "id": "2b64975f",
   "metadata": {},
   "outputs": [],
   "source": [
    "class_height.append()  # append 附加上"
   ]
  },
  {
   "cell_type": "code",
   "execution_count": null,
   "id": "8a281060",
   "metadata": {},
   "outputs": [],
   "source": []
  },
  {
   "cell_type": "code",
   "execution_count": null,
   "id": "7cbf35e9",
   "metadata": {},
   "outputs": [],
   "source": []
  },
  {
   "cell_type": "code",
   "execution_count": null,
   "id": "eed5ee50",
   "metadata": {},
   "outputs": [],
   "source": []
  },
  {
   "cell_type": "code",
   "execution_count": null,
   "id": "b67eac81",
   "metadata": {},
   "outputs": [],
   "source": []
  },
  {
   "cell_type": "code",
   "execution_count": null,
   "id": "2153fbe2",
   "metadata": {},
   "outputs": [],
   "source": []
  },
  {
   "cell_type": "code",
   "execution_count": null,
   "id": "99f94e5e",
   "metadata": {},
   "outputs": [],
   "source": []
  },
  {
   "cell_type": "code",
   "execution_count": null,
   "id": "d1084f1d",
   "metadata": {},
   "outputs": [],
   "source": []
  },
  {
   "cell_type": "code",
   "execution_count": null,
   "id": "172632e4",
   "metadata": {},
   "outputs": [],
   "source": []
  },
  {
   "cell_type": "code",
   "execution_count": null,
   "id": "3bdf1d18",
   "metadata": {},
   "outputs": [],
   "source": []
  },
  {
   "cell_type": "code",
   "execution_count": null,
   "id": "042acdc3",
   "metadata": {},
   "outputs": [],
   "source": []
  },
  {
   "cell_type": "code",
   "execution_count": null,
   "id": "1d12a9b1",
   "metadata": {},
   "outputs": [],
   "source": []
  },
  {
   "cell_type": "markdown",
   "id": "ec66d08f",
   "metadata": {},
   "source": [
    "如果你省略了切片应该开始的索引，你就是在告诉 Python 从索引 0 开始切片"
   ]
  },
  {
   "cell_type": "code",
   "execution_count": null,
   "id": "d98ea8af",
   "metadata": {},
   "outputs": [],
   "source": [
    "# 等于class_height[0:3]\n",
    "print(class_height[:3])"
   ]
  },
  {
   "cell_type": "markdown",
   "id": "6c733037",
   "metadata": {},
   "source": [
    "如果你漏掉了分片应该结束的索引，你就包括了所有的元素，直到列表中的最后一个元素"
   ]
  },
  {
   "cell_type": "code",
   "execution_count": null,
   "id": "5bbaaf7f",
   "metadata": {},
   "outputs": [],
   "source": [
    "print(class_height[2:])"
   ]
  },
  {
   "cell_type": "markdown",
   "id": "8198c228",
   "metadata": {},
   "source": [
    "## 列表操作\n",
    "操作是指要改变列表中的元素，或者向列表中添加元素和删除元素的方法。\n",
    "\n",
    "### 改变列表中的元素\n",
    "改变列表元素是非常直接的。你使用与我们用来对列表进行子集的相同的方括号，然后用等号将新元素分配给它。"
   ]
  },
  {
   "cell_type": "code",
   "execution_count": null,
   "id": "d83a077c",
   "metadata": {},
   "outputs": [],
   "source": [
    "print(class_height[2])\n",
    "class_height[2] = [\"王明\", 1.71]\n",
    "print(class_height[2])"
   ]
  },
  {
   "cell_type": "code",
   "execution_count": null,
   "id": "2f5a65d6",
   "metadata": {},
   "outputs": [],
   "source": []
  },
  {
   "cell_type": "markdown",
   "id": "e7ce36fb",
   "metadata": {},
   "source": [
    "### 增加列表中的元素\n",
    "你还记得加号运算符对字符串和整数是如何不同的吗？\n",
    "\n",
    "那么，对于列表来说又是不同的。如果你对两个列表使用加号，Python会将它们的内容组合成一个新的列表中。假设你想新增加几个数据这将会起到作用。"
   ]
  },
  {
   "cell_type": "code",
   "execution_count": null,
   "id": "f5af9a87",
   "metadata": {},
   "outputs": [],
   "source": [
    "print(class_height)\n",
    "\n",
    "# class_height = class_height + [\"李白\", 1.81]\n",
    "class_height += [\"李白\", 1.81]\n",
    "print(class_height)"
   ]
  },
  {
   "cell_type": "markdown",
   "id": "929a8a84",
   "metadata": {},
   "source": [
    "### 删除列表中的元素\n",
    "从列表中删除元素也是非常直接的，你必须在这里使用del。"
   ]
  },
  {
   "cell_type": "code",
   "execution_count": null,
   "id": "b22028c3",
   "metadata": {},
   "outputs": [],
   "source": [
    "del class_height[-1]"
   ]
  },
  {
   "cell_type": "code",
   "execution_count": null,
   "id": "ebba2441",
   "metadata": {},
   "outputs": [],
   "source": []
  },
  {
   "cell_type": "markdown",
   "id": "f2233a76",
   "metadata": {},
   "source": [
    "如果你省略了切片应该开始的索引，你就是在告诉 Python 从索引 0 开始切片，就像这个例子。"
   ]
  },
  {
   "cell_type": "markdown",
   "id": "25ffd08e",
   "metadata": {},
   "source": [
    "如果你省略了切片应该开始的索引，你就是在告诉 Python 从索引 0 开始切片，就像这个例子。"
   ]
  },
  {
   "cell_type": "markdown",
   "id": "506b44c7",
   "metadata": {},
   "source": [
    "如果你省略了切片应该开始的索引，你就是在告诉 Python 从索引 0 开始切片，就像这个例子。"
   ]
  }
 ],
 "metadata": {
  "kernelspec": {
   "display_name": "Python 3",
   "language": "python",
   "name": "python3"
  },
  "language_info": {
   "codemirror_mode": {
    "name": "ipython",
    "version": 3
   },
   "file_extension": ".py",
   "mimetype": "text/x-python",
   "name": "python",
   "nbconvert_exporter": "python",
   "pygments_lexer": "ipython3",
   "version": "3.6.13"
  }
 },
 "nbformat": 4,
 "nbformat_minor": 5
}
