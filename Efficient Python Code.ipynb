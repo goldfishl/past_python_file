{
 "cells": [
  {
   "cell_type": "markdown",
   "id": "4cab774e",
   "metadata": {},
   "source": [
    "# Efficient Python Code\n",
    "<img src=\"./picture13.png\" width=500 height=500>"
   ]
  },
  {
   "cell_type": "code",
   "execution_count": 4,
   "id": "cf85c3d6",
   "metadata": {},
   "outputs": [],
   "source": [
    "import numpy as np"
   ]
  },
  {
   "cell_type": "markdown",
   "id": "c4675fac",
   "metadata": {},
   "source": []
  },
  {
   "cell_type": "code",
   "execution_count": 2,
   "id": "70780ef8",
   "metadata": {},
   "outputs": [
    {
     "data": {
      "text/plain": [
       "list"
      ]
     },
     "execution_count": 2,
     "metadata": {},
     "output_type": "execute_result"
    }
   ],
   "source": [
    "def fun(i):\n",
    "    return [i,i+1]\n",
    "type(fun(3))"
   ]
  },
  {
   "cell_type": "code",
   "execution_count": 98,
   "id": "6769d9d9",
   "metadata": {},
   "outputs": [
    {
     "name": "stdout",
     "output_type": "stream",
     "text": [
      "12.4 µs ± 3.54 µs per loop (mean ± std. dev. of 2 runs, 100 loops each)\n"
     ]
    }
   ],
   "source": [
    "%%timeit -r2 -n100 \n",
    "np.random.rand(1000)"
   ]
  }
 ],
 "metadata": {
  "kernelspec": {
   "display_name": "conda env:python36",
   "language": "python",
   "name": "python36"
  },
  "language_info": {
   "codemirror_mode": {
    "name": "ipython",
    "version": 3
   },
   "file_extension": ".py",
   "mimetype": "text/x-python",
   "name": "python",
   "nbconvert_exporter": "python",
   "pygments_lexer": "ipython3",
   "version": "3.6.13"
  }
 },
 "nbformat": 4,
 "nbformat_minor": 5
}
