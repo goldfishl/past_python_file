{
 "cells": [
  {
   "cell_type": "code",
   "execution_count": null,
   "metadata": {},
   "outputs": [],
   "source": [
    "# List\n",
    "# A list is the Python equivalent of an array, but is resizeable and can contain elements of different types."
   ]
  },
  {
   "cell_type": "code",
   "execution_count": 1,
   "metadata": {},
   "outputs": [
    {
     "name": "stdout",
     "output_type": "stream",
     "text": [
      "[1, 2, 'too']\n"
     ]
    }
   ],
   "source": [
    "#Create a list\n",
    "MyList = [1,2,\"too\"] # or MyList=[]\n",
    "print(MyList)   #print \"[1, 2, 'too']\""
   ]
  },
  {
   "cell_type": "code",
   "execution_count": 2,
   "metadata": {},
   "outputs": [
    {
     "name": "stdout",
     "output_type": "stream",
     "text": [
      "too\n",
      "[2, 'too']\n"
     ]
    }
   ],
   "source": [
    "#Indices & Slicing\n",
    "#Notice:index start from 0!\n",
    "#MyList = [   1,  2,   \"too\"]\n",
    "#             |   |      |\n",
    "#             |   |      |\n",
    "#             0   1      2\n",
    "#            -3  -2     -1\n",
    "print(MyList[-1])   # Negetive indices support;print \"too\"\n",
    "print(MyList[1:])   # Get a slice from index 1 to the end;print \"[2, 'too']\""
   ]
  },
  {
   "cell_type": "code",
   "execution_count": null,
   "metadata": {},
   "outputs": [],
   "source": [
    "#Assign a new sublist to a slice\n",
    "MyList[1:] = [\"bad\",\"mom\"]\n",
    "print(MyList)   #print \"[1, 'bad', 'mom']\""
   ]
  },
  {
   "cell_type": "code",
   "execution_count": null,
   "metadata": {},
   "outputs": [],
   "source": [
    "#Loop over the elements in list\n",
    "for x in MyList :\n",
    "    print(x)\n",
    "#Loop over the indices and elements\n",
    "for i,x in enumerate(MyList) :\n",
    "    print(str(i+1) + \":\" +str(x))"
   ]
  },
  {
   "cell_type": "code",
   "execution_count": null,
   "metadata": {},
   "outputs": [],
   "source": [
    "#List Comprehension(列表推导式)用于创建list\n",
    "#new_list=[expression_for_member for member in iterable if condition]\n",
    "MyList=[x**2 for x in range(5) if x%2 == 0]\n",
    "print(MyList)"
   ]
  },
  {
   "cell_type": "code",
   "execution_count": null,
   "metadata": {},
   "outputs": [],
   "source": [
    "# Quick sort complementation using list\n",
    "def QuickSort(arr) :\n",
    "    if len(arr) <= 1 :\n",
    "        return arr\n",
    "    pivot = arr[0]\n",
    "    left = [x for x in arr if x < pivot]\n",
    "    middle = [x for x in arr if x == pivot]\n",
    "    right = [x for x in arr if x > pivot]\n",
    "    return QuickSort(left) + middle + QuickSort(right)"
   ]
  },
  {
   "cell_type": "code",
   "execution_count": null,
   "metadata": {},
   "outputs": [],
   "source": [
    "var1=MyList.pop()\n",
    "print(var1)\n",
    "print(MyList)"
   ]
  },
  {
   "cell_type": "code",
   "execution_count": null,
   "metadata": {},
   "outputs": [],
   "source": [
    "MyList.append(3)"
   ]
  }
 ],
 "metadata": {
  "kernelspec": {
   "display_name": "Python 3.6.13 64-bit ('python36': conda)",
   "name": "python3613jvsc74a57bd0a701db1dfeb376d7343d5b7b70b60cc9fc2aaa85f5ffcb73bd090a3357aba0ee"
  },
  "language_info": {
   "codemirror_mode": {
    "name": "ipython",
    "version": 3
   },
   "file_extension": ".py",
   "mimetype": "text/x-python",
   "name": "python",
   "nbconvert_exporter": "python",
   "pygments_lexer": "ipython3",
   "version": "3.6.13"
  },
  "metadata": {
   "interpreter": {
    "hash": "a701db1dfeb376d7343d5b7b70b60cc9fc2aaa85f5ffcb73bd090a3357aba0ee"
   }
  }
 },
 "nbformat": 4,
 "nbformat_minor": 2
}