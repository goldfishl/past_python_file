{
 "cells": [
  {
   "cell_type": "markdown",
   "id": "85040ab4",
   "metadata": {},
   "source": [
    "# 英语单词\n",
    "exponent(ex-pon-ent):  \n",
    "n.指数、倡导者、说明者  \n",
    "adj.说明的\n",
    "\n",
    "exponentate:  \n",
    "v.取幂运算\n",
    "\n",
    "exponentation:  \n",
    "n.取幂运算\n",
    "\n",
    "subset(sub-set):  \n",
    "v.取子集/子集化\n",
    "\n",
    "Inner workings = behind the scence  \n",
    "\n",
    "intersection(inter-sect-ion):  \n",
    "n.交点、相交  \n",
    "The intersection of the rows and columns you specified, are returned.\n",
    "\n",
    "intuitive(in-tuit-ive):  \n",
    "adj.凭直觉的、使用简便的  \n",
    "For 2D numpy arrays, however, it's pretty intuitive!  \n",
    "\n",
    "outlier(out-?):  \n",
    "n.局外人、异常值  \n",
    "however, you notice that some height values are abnormally high. Follow the instructions and discover which summary statistic is best suited if you're dealing with so-called outliers.\n",
    "\n",
    "median(med-ian):  \n",
    "adj.中间的、中位数的  \n",
    "n.中位数(统计学中的专有名词，是按顺序排列的一组数据中居于中间位置的数)\n",
    "\n",
    "san-:健康、健全的  \n",
    "sanity(san-ity):  \n",
    "n.健全，神智清醒  \n",
    "sanity check:数据的健全性检查，通过平均值、中位数和标准差等统计数据来检查数据中是否存在异常值等问题  \n",
    "Often, these summarizing statistics will provide you with a \"sanity check\" of your data.\n",
    "\n",
    "insane(in-san-e):  \n",
    "adj.疯狂的，精神错乱的\n",
    "\n",
    "tabular:adj.表格式的\n",
    "tabular structure\n",
    "\n",
    "boil sth down:to reduce information, usually so that it contains only its most important parts(简化)  \n",
    "you can boil it down to a tabular structure\n",
    "\n",
    "die(单数形式):n.骰子  \n",
    "dice(以前只能做复数，现在只能做单数)\n",
    "\n",
    "pseudo-random(pseudo adj.虚假的):n.伪随机数\n",
    "\n",
    "irrespective(ir-re-spect-ive):adj.无关紧要的"
   ]
  },
  {
   "cell_type": "markdown",
   "id": "7849c53c",
   "metadata": {},
   "source": [
    "# 专业名词\n",
    "normal (Gaussian) distribution:正态(高斯)分布\n",
    "\n",
    "The probability density function:概率密度函数\n",
    "\n",
    "Draw random samples from a normal (Gaussian) distribution.\n",
    "    \n",
    "    The probability density function of the normal distribution, first derived by De Moivre and 200 years later by both Gauss and Laplace independently, is often called the bell curve because of its characteristic shape (see the example below).  \n",
    "    The normal distributions occurs often in nature.  For example, it describes the commonly occurring distribution of samples influenced by a large number of tiny, random disturbances, each with its own unique distribution\n",
    "    \n",
    "spreadsheet:n.电子表格\n",
    "\n",
    "indent:v.缩进\n",
    "As usual, you simply have to indent the code with 4 spaces to tell Python which code should be executed in the for loop.\n",
    "\n",
    "scope:program's part which the binding of name and entity keep available.(entity:data or code)\n",
    "\n",
    "enclosing scope(闭包域):在嵌套函数中包裹内部函数的外部函数作用域\n",
    "\n",
    "closure:(编程语言设计)n.闭包  \n",
    "\n",
    "under the hood:在(解释器)后台\n",
    "\n",
    "*:star operator or splat operator  \n",
    "\n",
    "element-wise:逐个元素  \n",
    "An element-wise operation allows you to distribute the operation over the elements of a data container."
   ]
  },
  {
   "cell_type": "code",
   "execution_count": 6,
   "id": "edf9c398",
   "metadata": {},
   "outputs": [
    {
     "name": "stdout",
     "output_type": "stream",
     "text": [
      "['(())', '()()']\n",
      "\n",
      "\n",
      "['((()))', '(()())', '(())()', '()(())', '()()()']\n",
      "\n",
      "\n",
      "['(((())))', '((()()))', '((())())', '((()))()', '(()(()))', '(()()())', '(()())()', '(())(())', '(())()()', '()((()))', '()(()())', '()(())()', '()()(())', '()()()()']\n"
     ]
    }
   ],
   "source": [
    "def dfs(left,right,temp,result):\n",
    "    if(left > right):\n",
    "        return\n",
    "    if(left == 0 and right == 0):\n",
    "        result.append(temp)\n",
    "    else:\n",
    "        if left > 0:\n",
    "            dfs(left-1,right,temp + '(',result)\n",
    "        if right >0:\n",
    "            dfs(left,right-1,temp + ')',result)\n",
    "def generateParenthesis(n):\n",
    "    result = []\n",
    "    dfs(n,n,'',result)\n",
    "    print(result)\n",
    "generateParenthesis(2)\n",
    "print(\"\\n\")\n",
    "generateParenthesis(3)\n",
    "print(\"\\n\")\n",
    "generateParenthesis(4)"
   ]
  },
  {
   "cell_type": "markdown",
   "id": "56b87ceb",
   "metadata": {},
   "source": [
    "## 专业名词\n",
    "Exploratory data analysis(EDA):(初步探索性数据分析)\n"
   ]
  }
 ],
 "metadata": {
  "kernelspec": {
   "display_name": "conda env:python36",
   "language": "python",
   "name": "python36"
  },
  "language_info": {
   "codemirror_mode": {
    "name": "ipython",
    "version": 3
   },
   "file_extension": ".py",
   "mimetype": "text/x-python",
   "name": "python",
   "nbconvert_exporter": "python",
   "pygments_lexer": "ipython3",
   "version": "3.6.13"
  }
 },
 "nbformat": 4,
 "nbformat_minor": 5
}
