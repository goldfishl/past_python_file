{
 "cells": [
  {
   "cell_type": "code",
   "execution_count": 28,
   "id": "1f86e29a",
   "metadata": {},
   "outputs": [
    {
     "name": "stdout",
     "output_type": "stream",
     "text": [
      "[['hallway', 11.25], ['kitchen', 18.0], ['living_room', 20.0], ['bedroom', 10.75], ['bathroom', 9.5]]\n"
     ]
    }
   ],
   "source": [
    "# 单位为平方米\n",
    "hallway = 11.25 # 走廊\n",
    "kitchen = 18.0 # 厨房\n",
    "living_room = 20.0 # 客厅\n",
    "bedroom = 10.75 # 卧室\n",
    "bathroom = 9.50 # 浴室\n",
    "\n",
    "# 补全房屋信息\n",
    "house = [[\"hallway\", hallway],\n",
    "         [\"kitchen\", kitchen],\n",
    "         [\"living_room\", living_room],\n",
    "         [\"bedroom\", bedroom],\n",
    "         [\"bathroom\", bathroom]]\n",
    "\n",
    "# 打印house\n",
    "print(house)"
   ]
  },
  {
   "cell_type": "markdown",
   "id": "0e4c84ac",
   "metadata": {},
   "source": [
    "取出包含在列表中的列表的元素，可以使用与之前相同的技巧：方括号。\n",
    "```python\n",
    "x = [[\"a\", \"b\", \"c\"],\n",
    "     [\"d\", \"e\", \"f\"],\n",
    "     [\"g\", \"h\", \"i\"]]\n",
    "\n",
    "x[2][0] # \"g\"\n",
    "x[2][:2] # [\"g\", \"h\"]\n",
    "```\n",
    "`x[2]`的结果是一个列表，你可以通过添加额外的方括号再次子集。"
   ]
  },
  {
   "cell_type": "markdown",
   "id": "8b75f503",
   "metadata": {},
   "source": [
    "# list列表操作\n",
    "## 改变列表中的元素\n",
    "### 练习\n",
    "更新`house`中浴室区域的面积为10.50平方米，而不是9.50。"
   ]
  },
  {
   "cell_type": "code",
   "execution_count": 29,
   "id": "c5a50ecd",
   "metadata": {},
   "outputs": [],
   "source": [
    "house[-1][-1] = 9.50"
   ]
  },
  {
   "cell_type": "code",
   "execution_count": 30,
   "id": "7683f3ff",
   "metadata": {},
   "outputs": [
    {
     "name": "stdout",
     "output_type": "stream",
     "text": [
      "[['hallway', 11.25], ['kitchen', 18.0], ['living_room', 20.0], ['bedroom', 10.75], ['bathroom', 9.5]]\n"
     ]
    }
   ],
   "source": [
    "print(house)"
   ]
  },
  {
   "cell_type": "code",
   "execution_count": null,
   "id": "910d0d93",
   "metadata": {},
   "outputs": [],
   "source": []
  },
  {
   "cell_type": "code",
   "execution_count": null,
   "id": "1f53e53b",
   "metadata": {},
   "outputs": [],
   "source": []
  },
  {
   "cell_type": "code",
   "execution_count": null,
   "id": "db8cd35c",
   "metadata": {},
   "outputs": [],
   "source": []
  },
  {
   "cell_type": "code",
   "execution_count": null,
   "id": "c7640c70",
   "metadata": {},
   "outputs": [],
   "source": []
  },
  {
   "cell_type": "code",
   "execution_count": null,
   "id": "c436e993",
   "metadata": {},
   "outputs": [],
   "source": []
  },
  {
   "cell_type": "code",
   "execution_count": null,
   "id": "4cf1c1c8",
   "metadata": {},
   "outputs": [],
   "source": []
  },
  {
   "cell_type": "markdown",
   "id": "a9eb8c87",
   "metadata": {},
   "source": [
    "## 增加列表中的元素\n",
    "### 练习\n",
    "在`house`中新增游泳池的信息`[\"pool\", 12.1]`。"
   ]
  },
  {
   "cell_type": "code",
   "execution_count": 31,
   "id": "2d52ff2c",
   "metadata": {},
   "outputs": [
    {
     "name": "stdout",
     "output_type": "stream",
     "text": [
      "[['hallway', 11.25], ['kitchen', 18.0], ['living_room', 20.0], ['bedroom', 10.75], ['bathroom', 9.5]]\n",
      "[['hallway', 11.25], ['kitchen', 18.0], ['living_room', 20.0], ['bedroom', 10.75], ['bathroom', 9.5], ['pool', 12.1]]\n"
     ]
    }
   ],
   "source": [
    "print(house)\n",
    "house += [[\"pool\", 12.1]]\n",
    "print(house)"
   ]
  },
  {
   "cell_type": "code",
   "execution_count": null,
   "id": "1a8fc403",
   "metadata": {},
   "outputs": [],
   "source": []
  },
  {
   "cell_type": "code",
   "execution_count": null,
   "id": "da22a304",
   "metadata": {},
   "outputs": [],
   "source": []
  },
  {
   "cell_type": "code",
   "execution_count": null,
   "id": "1fc8766e",
   "metadata": {},
   "outputs": [],
   "source": []
  },
  {
   "cell_type": "code",
   "execution_count": null,
   "id": "1f152b2f",
   "metadata": {},
   "outputs": [],
   "source": []
  },
  {
   "cell_type": "code",
   "execution_count": null,
   "id": "76dcea49",
   "metadata": {},
   "outputs": [],
   "source": []
  },
  {
   "cell_type": "code",
   "execution_count": null,
   "id": "0fcfb499",
   "metadata": {},
   "outputs": [],
   "source": []
  },
  {
   "cell_type": "code",
   "execution_count": null,
   "id": "638f29cb",
   "metadata": {},
   "outputs": [],
   "source": []
  },
  {
   "cell_type": "markdown",
   "id": "617de41b",
   "metadata": {},
   "source": [
    "## 删除列表中的元素\n",
    "### 练习\n",
    "删除`house`中客厅的信息(第三个元素)"
   ]
  },
  {
   "cell_type": "code",
   "execution_count": 32,
   "id": "a2d1df1f",
   "metadata": {},
   "outputs": [
    {
     "name": "stdout",
     "output_type": "stream",
     "text": [
      "[['hallway', 11.25], ['kitchen', 18.0], ['living_room', 20.0], ['bedroom', 10.75], ['bathroom', 9.5], ['pool', 12.1]]\n",
      "[['hallway', 11.25], ['kitchen', 18.0], ['bedroom', 10.75], ['bathroom', 9.5], ['pool', 12.1]]\n"
     ]
    }
   ],
   "source": [
    "print(house)\n",
    "del house[2]\n",
    "print(house)"
   ]
  },
  {
   "cell_type": "code",
   "execution_count": null,
   "id": "bc0b1242",
   "metadata": {},
   "outputs": [],
   "source": []
  },
  {
   "cell_type": "code",
   "execution_count": null,
   "id": "3d28e9bf",
   "metadata": {},
   "outputs": [],
   "source": []
  },
  {
   "cell_type": "code",
   "execution_count": null,
   "id": "fd209166",
   "metadata": {},
   "outputs": [],
   "source": []
  },
  {
   "cell_type": "code",
   "execution_count": null,
   "id": "0487988f",
   "metadata": {},
   "outputs": [],
   "source": []
  },
  {
   "cell_type": "code",
   "execution_count": null,
   "id": "bffbe9e9",
   "metadata": {},
   "outputs": [],
   "source": []
  },
  {
   "cell_type": "code",
   "execution_count": null,
   "id": "3554db96",
   "metadata": {},
   "outputs": [],
   "source": []
  },
  {
   "cell_type": "code",
   "execution_count": null,
   "id": "001afe60",
   "metadata": {},
   "outputs": [],
   "source": []
  },
  {
   "cell_type": "code",
   "execution_count": null,
   "id": "b28d2909",
   "metadata": {},
   "outputs": [],
   "source": []
  },
  {
   "cell_type": "code",
   "execution_count": null,
   "id": "6bb3eb3a",
   "metadata": {},
   "outputs": [],
   "source": []
  },
  {
   "cell_type": "code",
   "execution_count": null,
   "id": "efdd0a0a",
   "metadata": {},
   "outputs": [],
   "source": []
  },
  {
   "cell_type": "code",
   "execution_count": null,
   "id": "874d6235",
   "metadata": {},
   "outputs": [],
   "source": []
  },
  {
   "cell_type": "code",
   "execution_count": null,
   "id": "e4083c4a",
   "metadata": {},
   "outputs": [],
   "source": []
  },
  {
   "cell_type": "markdown",
   "id": "648894f6",
   "metadata": {},
   "source": [
    "# 列表底层\n",
    "### 练习\n",
    "创建复制`areas`列表的内容到`areas_copy`"
   ]
  },
  {
   "cell_type": "code",
   "execution_count": 3,
   "id": "6bfb855e",
   "metadata": {},
   "outputs": [],
   "source": [
    "areas = [11.25, 18.0, 20.0, 10.75, 9.50]\n",
    "\n",
    "# 更改代码实现拷贝\n",
    "# areas_copy = [11.25, 18.0, 20.0, 10.75, 9.50]\n",
    "areas_copy = areas[:]\n",
    "\n",
    "areas_copy[0] = 5.0\n",
    "\n",
    "print(areas)"
   ]
  },
  {
   "cell_type": "code",
   "execution_count": 14,
   "id": "872d3623",
   "metadata": {},
   "outputs": [
    {
     "data": {
      "text/plain": [
       "[5.0, 18.0, 20.0, 10.75, 9.5]"
      ]
     },
     "execution_count": 14,
     "metadata": {},
     "output_type": "execute_result"
    }
   ],
   "source": [
    "areas[:]"
   ]
  },
  {
   "cell_type": "code",
   "execution_count": null,
   "id": "dc4d3a2e",
   "metadata": {},
   "outputs": [],
   "source": []
  },
  {
   "cell_type": "code",
   "execution_count": null,
   "id": "97b48c38",
   "metadata": {},
   "outputs": [],
   "source": []
  },
  {
   "cell_type": "code",
   "execution_count": null,
   "id": "d1b37801",
   "metadata": {},
   "outputs": [],
   "source": []
  },
  {
   "cell_type": "code",
   "execution_count": null,
   "id": "ab812bcf",
   "metadata": {},
   "outputs": [],
   "source": []
  },
  {
   "cell_type": "code",
   "execution_count": null,
   "id": "f9f2e42c",
   "metadata": {},
   "outputs": [],
   "source": []
  },
  {
   "cell_type": "code",
   "execution_count": null,
   "id": "5ce16d92",
   "metadata": {},
   "outputs": [],
   "source": []
  },
  {
   "cell_type": "code",
   "execution_count": null,
   "id": "08e4014d",
   "metadata": {},
   "outputs": [],
   "source": []
  },
  {
   "cell_type": "code",
   "execution_count": null,
   "id": "2dc6410d",
   "metadata": {},
   "outputs": [],
   "source": []
  },
  {
   "cell_type": "code",
   "execution_count": null,
   "id": "38cf41f9",
   "metadata": {},
   "outputs": [],
   "source": []
  },
  {
   "cell_type": "markdown",
   "id": "db70d33d",
   "metadata": {},
   "source": [
    "# 函数\n",
    "## 练习1\n",
    "使用`print()`与`type()`组合，打印出`var1`的类型。\n",
    "## 练习2\n",
    "使用`len()`来获取列表`var1`的长度。用`print()`调用来直接打印出来。"
   ]
  },
  {
   "cell_type": "code",
   "execution_count": 33,
   "id": "7a01de81",
   "metadata": {},
   "outputs": [
    {
     "name": "stdout",
     "output_type": "stream",
     "text": [
      "<class 'list'>\n"
     ]
    }
   ],
   "source": [
    "var1 = [1, 2, 3, 4]  # variable 变量\n",
    "var2 = True\n",
    "\n",
    "# 打印出var1的类型\n",
    "print(type(var1))\n",
    "\n",
    "# 打印出列表var1的长度\n",
    "#length 长度\n",
    "print(len(var1))\n"
   ]
  },
  {
   "cell_type": "code",
   "execution_count": null,
   "id": "067417bd",
   "metadata": {},
   "outputs": [],
   "source": []
  },
  {
   "cell_type": "code",
   "execution_count": null,
   "id": "0f88374e",
   "metadata": {},
   "outputs": [],
   "source": []
  },
  {
   "cell_type": "code",
   "execution_count": null,
   "id": "0342c9d8",
   "metadata": {},
   "outputs": [],
   "source": []
  },
  {
   "cell_type": "code",
   "execution_count": null,
   "id": "bfe574bb",
   "metadata": {},
   "outputs": [],
   "source": []
  },
  {
   "cell_type": "code",
   "execution_count": null,
   "id": "c2adf4b4",
   "metadata": {},
   "outputs": [],
   "source": []
  },
  {
   "cell_type": "code",
   "execution_count": null,
   "id": "d0699229",
   "metadata": {},
   "outputs": [],
   "source": []
  },
  {
   "cell_type": "code",
   "execution_count": null,
   "id": "b72354ca",
   "metadata": {},
   "outputs": [],
   "source": []
  },
  {
   "cell_type": "code",
   "execution_count": null,
   "id": "6fe4b0eb",
   "metadata": {},
   "outputs": [],
   "source": []
  },
  {
   "cell_type": "code",
   "execution_count": null,
   "id": "3f9446f8",
   "metadata": {},
   "outputs": [],
   "source": [
    "# sort 排序\n",
    "# sorted 排序后"
   ]
  },
  {
   "cell_type": "code",
   "execution_count": null,
   "id": "bcc69643",
   "metadata": {},
   "outputs": [],
   "source": []
  },
  {
   "cell_type": "code",
   "execution_count": null,
   "id": "466a507e",
   "metadata": {},
   "outputs": [],
   "source": []
  },
  {
   "cell_type": "markdown",
   "id": "6a75bd9c",
   "metadata": {},
   "source": [
    "## 多个参数\n",
    "### 练习\n",
    "两个列表已经为你创建。你能把它们组合在一起并按降序排序吗？"
   ]
  },
  {
   "cell_type": "code",
   "execution_count": 39,
   "id": "50761367",
   "metadata": {},
   "outputs": [
    {
     "name": "stdout",
     "output_type": "stream",
     "text": [
      "[11.25, 18.0, 20.0, 10.75, 9.5]\n",
      "[20.0, 18.0, 11.25, 10.75, 9.5]\n"
     ]
    }
   ],
   "source": [
    "first = [11.25, 18.0, 20.0]\n",
    "second = [10.75, 9.50]\n",
    "\n",
    "# 使用+操作符组合成新列表，命名为full\n",
    "full = first + second\n",
    "print(full)\n",
    "\n",
    "# 用降序的方式排序full，保存新列表full_sorted\n",
    "full_sorted = sorted(full, reverse=True)\n",
    "\n",
    "# 打印出full_sorted\n",
    "print(full_sorted)"
   ]
  },
  {
   "cell_type": "code",
   "execution_count": null,
   "id": "bc1831bb",
   "metadata": {},
   "outputs": [],
   "source": []
  },
  {
   "cell_type": "code",
   "execution_count": null,
   "id": "16a4e97c",
   "metadata": {},
   "outputs": [],
   "source": []
  },
  {
   "cell_type": "code",
   "execution_count": null,
   "id": "680eb5d0",
   "metadata": {},
   "outputs": [],
   "source": []
  },
  {
   "cell_type": "code",
   "execution_count": null,
   "id": "eddd418a",
   "metadata": {},
   "outputs": [],
   "source": []
  },
  {
   "cell_type": "code",
   "execution_count": null,
   "id": "67cc493d",
   "metadata": {},
   "outputs": [],
   "source": []
  },
  {
   "cell_type": "code",
   "execution_count": null,
   "id": "183e77aa",
   "metadata": {},
   "outputs": [],
   "source": []
  },
  {
   "cell_type": "code",
   "execution_count": null,
   "id": "8845796b",
   "metadata": {},
   "outputs": [],
   "source": []
  },
  {
   "cell_type": "markdown",
   "id": "21c59822",
   "metadata": {},
   "source": [
    "# 方法\n",
    "## 练习1\n",
    "用字符串的`count()`方法，打印出`place`中字母0的个数\n",
    "## 练习2\n",
    "调用`count()`方法，查看列表`areas`中元素`10.75`索引号"
   ]
  },
  {
   "cell_type": "code",
   "execution_count": null,
   "id": "baddd7c9",
   "metadata": {},
   "outputs": [],
   "source": [
    "place = \"poolhouse\"\n",
    "\n",
    "# 调用count()方法，打印o的个数\n",
    "\n"
   ]
  },
  {
   "cell_type": "code",
   "execution_count": null,
   "id": "49f90c42",
   "metadata": {},
   "outputs": [],
   "source": [
    "areas = [11.25, 18.0, 20.0, 10.75, 9.50]"
   ]
  }
 ],
 "metadata": {
  "kernelspec": {
   "display_name": "Python 3",
   "language": "python",
   "name": "python3"
  },
  "language_info": {
   "codemirror_mode": {
    "name": "ipython",
    "version": 3
   },
   "file_extension": ".py",
   "mimetype": "text/x-python",
   "name": "python",
   "nbconvert_exporter": "python",
   "pygments_lexer": "ipython3",
   "version": "3.6.13"
  }
 },
 "nbformat": 4,
 "nbformat_minor": 5
}
