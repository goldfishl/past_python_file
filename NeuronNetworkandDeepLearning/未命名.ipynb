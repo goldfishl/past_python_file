{
 "cells": [
  {
   "cell_type": "code",
   "execution_count": 199,
   "id": "767c66de",
   "metadata": {},
   "outputs": [],
   "source": [
    "import numpy as np\n",
    "def max_benefit(invest_benefit,total_money):\n",
    "    product_num = len(invest_benefit[0])#\n",
    "    \n",
    "    decision_old = np.zeros((total_money,product_num))\n",
    "    decision_new = np.zeros((total_money,product_num))\n",
    "    decision_old[:,0] = np.array([range(1,total_money+1)])\n",
    "    \n",
    "    decision_new[:,:] = decision_old[:,:]\n",
    "    \n",
    "    \n",
    "    if(invest_benefit.shape[0]<total_money):\n",
    "        print(\"Each project’s benefit respectively corresponding to 1-n must be given as initial condition\")\n",
    "        return \n",
    "    \n",
    "    max_benefit = np.zeros((total_money+1,product_num))\n",
    "    invest_benefit = np.insert(invest_benefit, 0, np.zeros(product_num), axis=0)\n",
    "    \n",
    "    \n",
    "    max_benefit[1:total_money+1,0] = invest_benefit[1:total_money+1,0]\n",
    "    \n",
    "        \n",
    "    for k in range(1,product_num):\n",
    "        for x in range(1,total_money+1):\n",
    "            temp = [invest_benefit[i,k] + max_benefit[x-i,k-1] for i in range(x+1)]\n",
    "            index = np.argmax(temp)\n",
    "            \n",
    "            max_benefit[x,k] = max(temp)\n",
    "            \n",
    "            if index != 0:\n",
    "                decision_new[x-1,:] = np.zeros(product_num)\n",
    "                \n",
    "            if index != x:\n",
    "                decision_new[x-1,:] = decision_old[x-index-1,:]   \n",
    "            decision_new[x-1,k] = index\n",
    "            \n",
    "        decision_old[:,:] = decision_new[:,:]\n",
    "    print(\"f_i(x):\\n\",max_benefit[1:,:])\n",
    "    print(\"maximum:\",max_benefit[-1,-1])\n",
    "    print(\"decision vector:\",decision_new[-1,:])\n",
    "    \n",
    "    return max_benefit[total_money,product_num-1]"
   ]
  },
  {
   "cell_type": "code",
   "execution_count": 202,
   "id": "4f1518d9",
   "metadata": {},
   "outputs": [
    {
     "name": "stdout",
     "output_type": "stream",
     "text": [
      "f_i(x):\n",
      " [[11. 11. 11. 20.]\n",
      " [12. 12. 13. 31.]\n",
      " [13. 16. 30. 33.]\n",
      " [14. 21. 41. 50.]\n",
      " [15. 26. 43. 61.]]\n",
      "maximum: 61.0\n",
      "decision vector: [1. 0. 3. 1.]\n"
     ]
    },
    {
     "data": {
      "text/plain": [
       "61.0"
      ]
     },
     "execution_count": 202,
     "metadata": {},
     "output_type": "execute_result"
    }
   ],
   "source": [
    "invest_benefit=np.array([[11,0,2,20],\n",
    "                [12,5,10,21],\n",
    "                [13,10,30,22],\n",
    "                [14,15,32,23],\n",
    "                [15,20,40,24]\n",
    "               ])\n",
    "\n",
    "\n",
    "max_benefit(invest_benefit,5)\n"
   ]
  },
  {
   "cell_type": "code",
   "execution_count": 205,
   "id": "e4aed757",
   "metadata": {
    "scrolled": true
   },
   "outputs": [
    {
     "name": "stdout",
     "output_type": "stream",
     "text": [
      "f_i(x):\n",
      " [[11. 11. 11. 20.]\n",
      " [12. 12. 13. 31.]\n",
      " [13. 16. 30. 33.]\n",
      " [14. 21. 41. 50.]]\n",
      "maximum: 50.0\n",
      "decision vector: [0. 0. 3. 1.]\n"
     ]
    },
    {
     "data": {
      "text/plain": [
       "50.0"
      ]
     },
     "execution_count": 205,
     "metadata": {},
     "output_type": "execute_result"
    }
   ],
   "source": [
    "max_benefit(invest_benefit,4)"
   ]
  },
  {
   "cell_type": "code",
   "execution_count": 206,
   "id": "1915f578",
   "metadata": {},
   "outputs": [
    {
     "name": "stdout",
     "output_type": "stream",
     "text": [
      "Each project’s benefit respectively corresponding to 1-n must be given as initial condition\n"
     ]
    }
   ],
   "source": [
    "max_benefit(invest_benefit,6)"
   ]
  }
 ],
 "metadata": {
  "kernelspec": {
   "display_name": "conda env:python36",
   "language": "python",
   "name": "python36"
  },
  "language_info": {
   "codemirror_mode": {
    "name": "ipython",
    "version": 3
   },
   "file_extension": ".py",
   "mimetype": "text/x-python",
   "name": "python",
   "nbconvert_exporter": "python",
   "pygments_lexer": "ipython3",
   "version": "3.6.13"
  }
 },
 "nbformat": 4,
 "nbformat_minor": 5
}
