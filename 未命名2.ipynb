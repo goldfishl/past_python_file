{
 "cells": [
  {
   "cell_type": "code",
   "execution_count": null,
   "id": "4358b162",
   "metadata": {},
   "outputs": [],
   "source": [
    "bit = \"你\".encode('utf8')\n",
    "bit?"
   ]
  },
  {
   "cell_type": "markdown",
   "id": "6e24b680",
   "metadata": {},
   "source": [
    "## List of list\n",
    "用这种二维Table的数据结构，结构化我们的数据是非常重要的\n",
    "### Problem\n",
    "After measuring the height of your family, you decide to collect some information on the house you're living in.   \n",
    "\n",
    "You can create a flat list containing strings and floats, representing the names and areas of the rooms in your house  \n",
    "\n",
    "Instead,you can create a list of lists,each little sublists for each room of the house. One for bathroom, one for hallway and so on. "
   ]
  },
  {
   "cell_type": "code",
   "execution_count": 9,
   "id": "0a0f286a",
   "metadata": {},
   "outputs": [
    {
     "name": "stdout",
     "output_type": "stream",
     "text": [
      "['hallway', 11.25, 'kitchen', 18.0, 'living room', 20.0, 'bedroom', 10.75, 'bathroom', 9.5]\n",
      "[['hallway', 11.25], ['kitchen', 18.0], ['living room', 20.0], ['bedroom', 10.75], ['bathroom', 9.5]]\n"
     ]
    }
   ],
   "source": [
    "areas = ['hallway', 11.25, 'kitchen', 18.0, 'living room', 20.0,\\\n",
    "         'bedroom', 10.75, 'bathroom', 9.5]\n",
    "print(areas)\n",
    "house = [[\"hallway\", 11.25],\\\n",
    "         [\"kitchen\", 18.0],\\\n",
    "         [\"living room\", 20.0],\\\n",
    "         [\"bedroom\",10.75],\\\n",
    "         [\"bathroom\",9.5]]\n",
    "print(house)"
   ]
  },
  {
   "cell_type": "markdown",
   "id": "3d3435d7",
   "metadata": {},
   "source": [
    "### Function\n",
    "a function is a piece of reusable code\n",
    "\n",
    "#### round()\n",
    "Another one of these built-in functions is round. It takes two inputs: first, a number you want to round, and second, the precision with which to round, so how many digits behind the decimal point you want to keep.(两个输入：第一，想要进行四舍五入的数字；第二，舍入的精度，即小数点后包含几位数字)  \n",
    "You separate the inputs with a comma. But there's more. It's perfectly possible to call the round function with only one input, like this.  "
   ]
  },
  {
   "cell_type": "code",
   "execution_count": 13,
   "id": "eee024ac",
   "metadata": {
    "scrolled": false
   },
   "outputs": [
    {
     "name": "stdout",
     "output_type": "stream",
     "text": [
      "1.7\n",
      "2\n"
     ]
    }
   ],
   "source": [
    "print(round(1.68,1))\n",
    "print(round(1.68))"
   ]
  },
  {
   "cell_type": "markdown",
   "id": "6e191a84",
   "metadata": {},
   "source": [
    "To understand why both approaches work, let's open up the documentation. You can do this with yet another function:help()\n",
    "\n",
    "The square brackets in the documentation showed us that the argument is optional"
   ]
  },
  {
   "cell_type": "code",
   "execution_count": 14,
   "id": "0561b197",
   "metadata": {
    "scrolled": false
   },
   "outputs": [
    {
     "name": "stdout",
     "output_type": "stream",
     "text": [
      "Help on built-in function round in module builtins:\n",
      "\n",
      "round(...)\n",
      "    round(number[, ndigits]) -> number\n",
      "    \n",
      "    Round a number to a given precision in decimal digits (default 0 digits).\n",
      "    This returns an int when called with one argument, otherwise the\n",
      "    same type as the number. ndigits may be negative.\n",
      "\n"
     ]
    }
   ],
   "source": [
    "help(round)"
   ]
  },
  {
   "cell_type": "code",
   "execution_count": 15,
   "id": "839f4f3f",
   "metadata": {},
   "outputs": [],
   "source": [
    "?round"
   ]
  },
  {
   "cell_type": "markdown",
   "id": "b9212b70",
   "metadata": {},
   "source": [
    "#### Multiple arguments\n",
    "Have a look at the documentation of sorted()  \n",
    "'key=None' means that if you don't specify the key argument, it will be None. 'reverse=False' means that if you don't specify the reverse argument, it will be False"
   ]
  },
  {
   "cell_type": "code",
   "execution_count": 16,
   "id": "6acb5929",
   "metadata": {
    "scrolled": false
   },
   "outputs": [
    {
     "name": "stdout",
     "output_type": "stream",
     "text": [
      "Help on built-in function sorted in module builtins:\n",
      "\n",
      "sorted(iterable, /, *, key=None, reverse=False)\n",
      "    Return a new list containing all items from the iterable in ascending order.\n",
      "    \n",
      "    A custom key function can be supplied to customize the sort order, and the\n",
      "    reverse flag can be set to request the result in descending order.\n",
      "\n"
     ]
    }
   ],
   "source": [
    "help(sorted)"
   ]
  },
  {
   "cell_type": "markdown",
   "id": "de0804f5",
   "metadata": {},
   "source": [
    "#### methods\n",
    "Each one of these values or data structures are so-called Python objects.  \n",
    "Python objects come with a bunch of so-called \"methods\". You can think of methods as functions that \"belong to\" Python objects.  \n",
    "\n",
    "you can discover some of methods in string"
   ]
  },
  {
   "cell_type": "code",
   "execution_count": 1,
   "id": "b21675d5",
   "metadata": {},
   "outputs": [],
   "source": [
    "# help(str)"
   ]
  },
  {
   "cell_type": "markdown",
   "id": "b86d87c2",
   "metadata": {},
   "source": [
    "## Packages\n",
    "### Motivation\n",
    "However, adding all functions and methods that have been written up to now to the same Python distribution would be a mess.  \n",
    "There would be tons and tons of code in there, that you'll never use.  \n",
    "Also, maintaining all of this code would be a real pain.\n",
    "\n",
    "### Packages\n",
    "You can think of packages as a directory of Python scripts. Each such script is a so-called module. These modules specify functions, methods and new Python types aimed at solving particular problems.  \n",
    "<img src=\"./picture7.png\" width=100 height=100>\n",
    "\n",
    "you can also import the package and refer to it with a different name. \n",
    "\n",
    "There are cases in which you only need one specific function or object of a package. Python allows you to make this explicit in your code.This from import version to use specific parts of a package can be useful to limit the amount of coding, but you're also loosing some of the context.  \n",
    "Suppose you're working in a long Python script. You import the array function from numpy at the very top, and way later, you actually use this array function. Somebody else who's reading your code might have forgotten that this array function is a specific Numpy function; it's not clear from the function call.\n",
    "\n",
    "In that respect, the more standard import numpy call is preferred!  \n",
    "\n",
    "[from package[.subpackage]] import package[.subpackage] as alien"
   ]
  },
  {
   "cell_type": "code",
   "execution_count": 22,
   "id": "c69d1006",
   "metadata": {},
   "outputs": [],
   "source": [
    "import numpy as np\n",
    "from numpy import array"
   ]
  },
  {
   "cell_type": "markdown",
   "id": "3d6b8499",
   "metadata": {},
   "source": [
    "<img style=\"float: left;\" src=\"./picture8.png\" width=50% height=300> \n",
    "<img style=\"float: right;\" src=\"./picture9.png\" width=50% height=300> "
   ]
  },
  {
   "cell_type": "markdown",
   "id": "e3b06fed",
   "metadata": {},
   "source": [
    "### Control Flow and Filtering\n",
    "#### elif\n",
    "You can think of cases where even more customized behavior is necessary.You can throw some `elifs` in there to get the job done.\n",
    "\n",
    "the first condition is False, so it goes over to the next condition. This condition, does hold, so the corresponding print statement is executed.\n",
    "\n",
    "As soon as Python bumps into a condition that is true, it executes the corresponding code and then leaves the control structure after that. "
   ]
  },
  {
   "cell_type": "code",
   "execution_count": 1,
   "id": "cb08cc7a",
   "metadata": {},
   "outputs": [
    {
     "name": "stdout",
     "output_type": "stream",
     "text": [
      "medium size, nice!\n"
     ]
    }
   ],
   "source": [
    "room = \"bed\"\n",
    "area = 14.0\n",
    "\n",
    "if area > 15 :\n",
    "    print(\"big place!\")\n",
    "elif area >10:\n",
    "    print(\"medium size, nice!\")\n",
    "else :\n",
    "    print(\"pretty small.\")"
   ]
  },
  {
   "cell_type": "markdown",
   "id": "f25e7d37",
   "metadata": {},
   "source": [
    "#### for loop\n",
    "```python\n",
    "for var in seq:\n",
    "    expression\n",
    "```\n",
    "This can be read as: for each variable in a sequence, execute the expressions. "
   ]
  },
  {
   "cell_type": "markdown",
   "id": "4ccb1adb",
   "metadata": {},
   "source": [
    "## Data Set\n",
    "MLB (baseball):  \n",
    "https://assets.datacamp.com/production/repositories/288/datasets/e5d60ff535f86d27609312f9e41c35a1d737ddc0/baseball.csv\n",
    "FIFA (soccer):  \n",
    "https://assets.datacamp.com/production/repositories/288/datasets/026a5211b906ac118a09b1a0dbf7df48faafb379/fifa.csv"
   ]
  },
  {
   "cell_type": "code",
   "execution_count": 1,
   "id": "52c3c865",
   "metadata": {},
   "outputs": [
    {
     "data": {
      "text/plain": [
       "'1.1.5'"
      ]
     },
     "execution_count": 1,
     "metadata": {},
     "output_type": "execute_result"
    }
   ],
   "source": [
    "import pandas as pd\n",
    "pd.__version__"
   ]
  },
  {
   "cell_type": "markdown",
   "id": "5c5fe6fa",
   "metadata": {},
   "source": [
    "## Hacker Statistics\n",
    "Hacker stats just means any statistical analysis that relies heavily on simulation or re-sampling for inference\n",
    "### pseudo-random number\n",
    "伪随机数是使用一个确定性的算法计算出来的似乎是随机的数，因此伪随机数实际上并不随机。\n",
    "#### Seed\n",
    "伪随机数生成器的输入的初始值被称为PRNG的随机种子(seed)\n",
    "#### PRNG(pseudo-random number generator)\n",
    "PRNG通过设定随机种子可以从任意初始值开始生成。同样的初始值总是生成同样的序列。\n",
    "\n",
    "尽管接近于真随机的序列可以通过硬件随机数生成器生成，但伪随机数生成器因为其生成速度和可再现的优势，在实践中也很重要。\n",
    "##### bad pseudo-random number\n",
    "比如C语言中的rand()函数，由于其糟糕的特性，已经被大多数应用废弃\n",
    "##### 统计学伪随机数生成器\n",
    "良好的统计特性，是PRNG的核心。通常，需要严格的数学分析来证明PRNG生成的序列足够接近真随机以满足预期用途。\n",
    "\n",
    "常用：梅森旋转算法\n",
    "#### CSPRNG(Cryptographically secure pseudo-random number generator)\n",
    "是一种能够通过运算得出密码学安全伪随机数的伪随机数生成器。相较于统计学伪随机数生成器和更弱的伪随机数生成器，CSPRNG所生成的密码学安全伪随机数具有额外的伪随机属性。\n",
    "### numpy random package\n",
    "All the functionality you need is contained in the random package, a sub-package of numpy. \n",
    "#### `seed()`\n",
    "sets the random seed, so that your results are reproducible between simulations. \n",
    "#### `rand()`\n",
    "if you don't specify any arguments, it generates a random float between zero and one.\n",
    "#### `randint()`\n",
    "you can use randint(), also a function of the random package, to generate integers randomly.  \n",
    "使用梅森随机数实现，具有良好的统计特性"
   ]
  },
  {
   "cell_type": "code",
   "execution_count": 22,
   "id": "3dd2492f",
   "metadata": {
    "scrolled": true
   },
   "outputs": [
    {
     "name": "stdout",
     "output_type": "stream",
     "text": [
      "0.03236727517783888\n",
      "4\n"
     ]
    }
   ],
   "source": [
    "import numpy as np\n",
    "np.random.seed(600)\n",
    "print(np.random.rand())\n",
    "\n",
    "#emulate a dice\n",
    "print(np.random.randint(1,7))"
   ]
  },
  {
   "cell_type": "code",
   "execution_count": 267,
   "id": "215a88c6",
   "metadata": {},
   "outputs": [
    {
     "data": {
      "image/png": "[encoded data removed]",
      "text/plain": [
       "<Figure size 432x288 with 1 Axes>"
      ]
     },
     "metadata": {
      "needs_background": "light"
     },
     "output_type": "display_data"
    }
   ],
   "source": [
    "import numpy as np\n",
    "import matplotlib.pyplot as plt\n",
    "import time\n",
    "\n",
    "np.random.seed(int(time.time()))\n",
    "\n",
    "\n",
    "result = []\n",
    "for x in range(100000):\n",
    "    result.append(np.random.randint(1,7))\n",
    "plt.clf()\n",
    "plt.hist(result,6)\n",
    "plt.show()"
   ]
  },
  {
   "cell_type": "markdown",
   "id": "7951c877",
   "metadata": {},
   "source": [
    "### Random Step\n",
    "If you use a dice to determine your next step, you can call this a random step.\n",
    "### Random Walk\n",
    "a succession of random steps,each number in the random walk are based on the previous ones.\n",
    "### Distribution of Random Walks\n",
    "All these values actually represent a distribution, that we can visualize. Hmm, visualizing a distribution, that calls for a histogram!\n",
    "\n",
    "If we code to do ten thousand simulations,That means the distribution that you would find by doing analytical pen-and-paper calculations. \n",
    "\n",
    "Ideally, you want to carry out the experiment zillions of times to get a distribution that is exactly the same as the theoretical distribution. \n",
    "\n",
    "This will take too much computer time, though, but ten thousand already gives a pretty good estimate. "
   ]
  },
  {
   "cell_type": "code",
   "execution_count": 274,
   "id": "d0b6f456",
   "metadata": {
    "scrolled": false
   },
   "outputs": [
    {
     "data": {
      "image/png": "[encoded data removed]",
      "text/plain": [
       "<Figure size 432x288 with 1 Axes>"
      ]
     },
     "metadata": {
      "needs_background": "light"
     },
     "output_type": "display_data"
    }
   ],
   "source": [
    "import numpy as np\n",
    "import matplotlib.pyplot as plt\n",
    "import time\n",
    "\n",
    "np.random.seed(int(time.time()))\n",
    "\n",
    "# Simulate random walk 500 times\n",
    "all_walks = []\n",
    "for i in range(10000) :\n",
    "    random_walk = [0]\n",
    "    for x in range(100) :\n",
    "        step = random_walk[-1]\n",
    "        dice = np.random.randint(1,7)\n",
    "        if dice <= 2:\n",
    "            step = max(0, step - 1)\n",
    "        elif dice <= 5:\n",
    "            step = step + 1\n",
    "        else:\n",
    "            step = step + np.random.randint(1,7)\n",
    "        if np.random.rand() <= 0.001 :\n",
    "            step = 0\n",
    "        random_walk.append(step)\n",
    "    all_walks.append(random_walk)\n",
    "\n",
    "# Create and plot np_aw_t\n",
    "np_aw_t = np.transpose(np.array(all_walks))\n",
    "\n",
    "# Select last row from np_aw_t: ends\n",
    "ends = np_aw_t[-1,:]\n",
    "\n",
    "# Plot histogram of ends, display plot\n",
    "plt.clf()\n",
    "plt.hist(ends)\n",
    "plt.show()"
   ]
  },
  {
   "cell_type": "code",
   "execution_count": 284,
   "id": "babf0e43",
   "metadata": {
    "scrolled": false
   },
   "outputs": [
    {
     "data": {
      "text/plain": [
       "<function list.count>"
      ]
     },
     "execution_count": 284,
     "metadata": {},
     "output_type": "execute_result"
    }
   ],
   "source": [
    "### 如何用简洁的代码统计numpy array中大于60的元素个数"
   ]
  },
  {
   "cell_type": "markdown",
   "id": "e0d07aee",
   "metadata": {},
   "source": [
    "## User-defined Function\n",
    "### docstring\n",
    "Docstrings are used to describe what your function does, such as the computations it performs or its return values. These descriptions serve as documentation for your function so that anyone who reads your function's docstring understands what your function does, without having to trace through all the code in the function definition. \n",
    "\n",
    "Function docstrings are placed in the immediate line after the function header and are placed in between triple quotation marks. "
   ]
  },
  {
   "cell_type": "code",
   "execution_count": 39,
   "id": "40d211fb",
   "metadata": {},
   "outputs": [
    {
     "name": "stdout",
     "output_type": "stream",
     "text": [
      "Help on function square in module __main__:\n",
      "\n",
      "square(value)\n",
      "    Return the square of a value.\n",
      "\n"
     ]
    }
   ],
   "source": [
    "def square(value):\n",
    "    \"\"\"Return the square of a value.\"\"\"\n",
    "    new_value = value ** 2\n",
    "    return new_value\n",
    "help(square)"
   ]
  },
  {
   "cell_type": "markdown",
   "id": "8e56dee9",
   "metadata": {},
   "source": [
    "### Returning multiple values\n",
    "We, in the function body, construct a tuple consisting of the values we want the function to return and, also in the function body, we return the tuple!\n",
    "### Unpacking tuples\n",
    "You can also unpack a tuple into several variables in one line. Doing so means that you assign to the variables a, b, and c the tuple values, in the order that they appear in the tuple.\n",
    "\n",
    "you can also unpack a list or set or dictionary"
   ]
  },
  {
   "cell_type": "code",
   "execution_count": 296,
   "id": "6de843bd",
   "metadata": {},
   "outputs": [
    {
     "name": "stdout",
     "output_type": "stream",
     "text": [
      "8\n",
      "9\n"
     ]
    }
   ],
   "source": [
    "def raise_both(value1, value2):\n",
    "    \"\"\"Raise value1 to the power of value2    and vice versa.\"\"\"\n",
    "    new_value1 = value1 ** value2\n",
    "    new_value2 = value2 ** value1\n",
    "    new_tuple = (new_value1, new_value2)\n",
    "    return new_tuple\n",
    "x,y = raise_both(2, 3)\n",
    "print(x)\n",
    "print(y)"
   ]
  },
  {
   "cell_type": "code",
   "execution_count": 40,
   "id": "75f76867",
   "metadata": {
    "scrolled": false
   },
   "outputs": [
    {
     "name": "stdout",
     "output_type": "stream",
     "text": [
      "name\n",
      "height\n",
      "121\n",
      "213\n",
      "zhang\n",
      "zhao\n"
     ]
    }
   ],
   "source": [
    "# unpacking a dictionary\n",
    "dic = {\"name\":'long','height':173}\n",
    "a,b = dic\n",
    "print(a)\n",
    "print(b)\n",
    "# unpacking a list\n",
    "my_list = [121,213]\n",
    "a,b = my_list\n",
    "print(a)\n",
    "print(b)\n",
    "# unpacking a set\n",
    "my_set = {'zhang','zhao'}\n",
    "a,b = my_set\n",
    "print(a)\n",
    "print(b)"
   ]
  },
  {
   "cell_type": "markdown",
   "id": "824a4952",
   "metadata": {},
   "source": [
    "### flexible arguments\n",
    "if you want to write a function but aren't sure how many arguments a user will want to pass it,you can use flexible arguments!\n",
    "\n",
    "flexible arguments, which allows you to pass any number of arguments to a function\n",
    "#### `*args`\n",
    "In the function definition, we use the parameter star followed by args: this then turns all the arguments passed to a function call into a tuple called args in the function body;\n",
    "#### `**kwargs`\n",
    "You can also use a double star to pass an arbitrary number of keyword arguments, also called kwargs, that is, arguments preceded by identifiers."
   ]
  },
  {
   "cell_type": "code",
   "execution_count": 42,
   "id": "0c3ba40b",
   "metadata": {},
   "outputs": [
    {
     "name": "stdout",
     "output_type": "stream",
     "text": [
      "1\n",
      "36\n",
      "21\n"
     ]
    }
   ],
   "source": [
    "def add_all(*args):\n",
    "    \"\"\"Sum all values in *args together.\"\"\"\n",
    "    # Initialize sum    \n",
    "    sum_all = 0\n",
    "    # Accumulate the sum\n",
    "    for num in args:\n",
    "        sum_all += num\n",
    "    return sum_all\n",
    "print(add_all(1))\n",
    "print(add_all(32,4))\n",
    "print(add_all(3,5,8,5))"
   ]
  },
  {
   "cell_type": "code",
   "execution_count": 44,
   "id": "5dd964fc",
   "metadata": {},
   "outputs": [
    {
     "name": "stdout",
     "output_type": "stream",
     "text": [
      "name: dumbledore\n",
      "job: headmaster\n"
     ]
    }
   ],
   "source": [
    "def print_all(**kwargs):\n",
    "    \"\"\"Print out key-value pairs in **kwargs.\"\"\"\n",
    "    # Print out the key-value pairs\n",
    "    for key, value in kwargs.items():\n",
    "        print(key + \": \" + value)\n",
    "print_all(name=\"dumbledore\", job=\"headmaster\")"
   ]
  },
  {
   "cell_type": "markdown",
   "id": "622285a3",
   "metadata": {},
   "source": [
    "#### Practice\n",
    "count the number of entity in the columns of DataFrame"
   ]
  },
  {
   "cell_type": "code",
   "execution_count": 59,
   "id": "ddb0c7b6",
   "metadata": {},
   "outputs": [
    {
     "data": {
      "text/plain": [
       "{'en': 97,\n",
       " 'et': 1,\n",
       " 'und': 2,\n",
       " '<a href=\"http://twitter.com\" rel=\"nofollow\">Twitter Web Client</a>': 24,\n",
       " '<a href=\"http://www.facebook.com/twitter\" rel=\"nofollow\">Facebook</a>': 1,\n",
       " '<a href=\"http://twitter.com/download/android\" rel=\"nofollow\">Twitter for Android</a>': 26,\n",
       " '<a href=\"http://twitter.com/download/iphone\" rel=\"nofollow\">Twitter for iPhone</a>': 33,\n",
       " '<a href=\"http://www.twitter.com\" rel=\"nofollow\">Twitter for BlackBerry</a>': 2,\n",
       " '<a href=\"http://www.google.com/\" rel=\"nofollow\">Google</a>': 2,\n",
       " '<a href=\"http://twitter.com/#!/download/ipad\" rel=\"nofollow\">Twitter for iPad</a>': 6,\n",
       " '<a href=\"http://linkis.com\" rel=\"nofollow\">Linkis.com</a>': 2,\n",
       " '<a href=\"http://rutracker.org/forum/viewforum.php?f=93\" rel=\"nofollow\">newzlasz</a>': 2,\n",
       " '<a href=\"http://ifttt.com\" rel=\"nofollow\">IFTTT</a>': 1,\n",
       " '<a href=\"http://www.myplume.com/\" rel=\"nofollow\">Plume for Android</a>': 1}"
      ]
     },
     "execution_count": 59,
     "metadata": {},
     "output_type": "execute_result"
    }
   ],
   "source": [
    "import pandas as pd\n",
    "df = pd.read_csv(\"./tweets.csv\")\n",
    "def count_entity(df,*args):\n",
    "    cols_count={}\n",
    "    for column_name in args:\n",
    "        for entity in df[column_name]:\n",
    "            if entity in cols_count:\n",
    "                cols_count[entity] += 1\n",
    "            else:\n",
    "                cols_count[entity] = 1\n",
    "    return cols_count\n",
    "count_entity(df,\"lang\",\"source\")"
   ]
  },
  {
   "cell_type": "markdown",
   "id": "fa654a40",
   "metadata": {},
   "source": [
    "### Scope\n",
    "#### Global scope\n",
    "A name that is in the global scope means that it is defined in the main body of a script or a Python program. \n",
    "#### Local scope\n",
    "A name that is in a local scope means that it is defined within a function. \n",
    "\n",
    "Once the execution of a function is done, any name inside the local scope ceases to exist, which means you cannot access those names anymore outside of the function definition.\n",
    "#### built-in scope\n",
    "this consists of names in the pre-defined built-ins module Python provides, such as `print()` and `sum()` \n",
    "#### enclosing scope\n",
    "A name that is in a enclosing scope means that it is defined  within a outer function which in a nested function.\n",
    "\n",
    "在嵌套函数中包裹内部函数的外部函数作用域\n",
    "#### LEGB rule\n",
    "name references search at most four scopes, the local scope, then those of enclosing functions, if there are any; then global, then built-in. \n",
    "\n",
    "remember that assigning names will only create or change local names, unless they are declared in global or nonlocal statements using the keyword global or the keyword nonlocal, respectively.\n",
    "### keyword `global`\n",
    "if we want to alter the value of a global name within a function call,you can use the keyword `global` in function definitions to create and change global names\n",
    "### 可变对象与不可变对象\n",
    "#### `id()`\n",
    "可以得到一个对象的唯一标识符，标志着对象在内存中的位置\n",
    "#### 可变对象\n",
    "在Python的build-in数据类型中int,string,float,tuple都是不可变对象\n",
    "\n",
    "数据类型和内容相同的对象在内存中只会存在一份，它们的变量名都会引用到同一块内存\n",
    "\n",
    "不可变对象在创建和更新后,若数据内容发生变化，对象的内存地址会发生变更，会引起变量名和内存地址绑定关系的更新\n",
    "#### 可变对象\n",
    "在Python的build-in数据类型中dict,list都是可变对象\n",
    "\n",
    "一个对象单独占用一块内存，数据类型和内容相同的对象在内存分别存放在不同位置\n",
    "\n",
    "使用可变对象的方法，可以变更对象的数据内容，而不会引起变量名和内存地址绑定关系的更新\n",
    "\n",
    "但部分操作会导致创建一个新对象作为返回，而引起变量名和内存地址绑定关系的更新，比如   \n",
    "```python\n",
    "my_list=[1,2,3]\n",
    "my_list*=2\n",
    "```\n",
    "#### `global`和`nonlocal`何时使用\n",
    "当local scope中对自由变量的引用不会引起变量名和内存地址绑定关系的更新时，不需要使用两个关键字；反正，则需要使用关键字。注意对于可变对象，通过对象的方法可以不更新绑定关系而改变数据内容"
   ]
  },
  {
   "cell_type": "code",
   "execution_count": 23,
   "id": "946b1581",
   "metadata": {},
   "outputs": [
    {
     "name": "stdout",
     "output_type": "stream",
     "text": [
      "140341916443568\n",
      "140341916443568\n"
     ]
    }
   ],
   "source": [
    "var1 = \"string\"\n",
    "var2 = \"string\"\n",
    "print(id(var1))\n",
    "print(id(var2))"
   ]
  },
  {
   "cell_type": "code",
   "execution_count": 24,
   "id": "fc78e205",
   "metadata": {},
   "outputs": [
    {
     "name": "stdout",
     "output_type": "stream",
     "text": [
      "140342081584728\n",
      "140342081602904\n",
      "140342081584728\n"
     ]
    }
   ],
   "source": [
    "dic1 = {\"name\":\"long\"}\n",
    "dic2 = {\"name\":\"long\"}\n",
    "print(id(dic1))\n",
    "print(id(dic2))\n",
    "dic1[\"weight\"]=140\n",
    "print(id(dic1))"
   ]
  },
  {
   "cell_type": "code",
   "execution_count": 22,
   "id": "46e59c5b",
   "metadata": {},
   "outputs": [
    {
     "data": {
      "text/plain": [
       "1000"
      ]
     },
     "execution_count": 22,
     "metadata": {},
     "output_type": "execute_result"
    }
   ],
   "source": [
    "new_val = 10\n",
    "def square(value):\n",
    "    \"\"\"Returns the square of a number.\"\"\"\n",
    "    global new_val\n",
    "    new_val = new_val ** value\n",
    "    return new_val\n",
    "square(3)"
   ]
  },
  {
   "cell_type": "code",
   "execution_count": 37,
   "id": "62060c8a",
   "metadata": {},
   "outputs": [
    {
     "name": "stdout",
     "output_type": "stream",
     "text": [
      "[10]\n",
      "10.0\n",
      "[10, 11]\n",
      "10.5\n",
      "[10, 11, 12]\n",
      "11.0\n"
     ]
    }
   ],
   "source": [
    "def make_averager():\n",
    "    series = []\n",
    "\n",
    "    def averager(new_value):\n",
    "        series.append(new_value)\n",
    "        total = sum(series)\n",
    "        print(series)\n",
    "        return total/len(series)\n",
    "    \n",
    "    return averager\n",
    "avg = make_averager()\n",
    "print(avg(10))\n",
    "print(avg(11))\n",
    "print(avg(12))"
   ]
  },
  {
   "cell_type": "markdown",
   "id": "451e2998",
   "metadata": {},
   "source": [
    "### Nested functions\n",
    "What we can do instead is define an inner function within our function definition, \n",
    "#### Motivation\n",
    "##### Use a process a number of times within a function\n",
    "One reason why you'd like to do this is to avoid writing out the same computations within functions repeatedly.\n",
    "##### Returning functions/Closure\n",
    "One other pretty cool reason for nesting functions is the idea of a closure. This means that the nested or inner function remembers the state of its enclosing scope when called. \n",
    "\n",
    "Thus, anything defined locally in the enclosing scope is available to the inner function even when the outer function has finished execution.\n",
    "\n",
    "闭包就是有权限访问其他函数作用域的局部变量的一个函数，是在支持头等函数的编程语言中实现词法绑定的一种技术。闭包必须满足：  \n",
    "1.必须有一个内嵌函数  \n",
    "2.内嵌函数必须引用外部函数中的变量  \n",
    "3.外部函数的返回值必须是内嵌函数\n",
    "\n",
    "变量的作用域属于函数作用域，在函数执行后作用域就会被清理、内存也随之被收回，但是由于闭包时建立在一个函数内部的子函数，由于其可访问上级作用域的原因，即使上级函数执行完，作用域也不会随之销毁，这时的子函数---也就是闭包，便拥有了访问上级作用域中的变量的权限，即使上级函数执行完后，作用域内的值也不会被销毁。\n",
    "\n",
    "闭包最大的用处：  \n",
    "1.一个是可以读取函数内部的变量\n",
    "2.另一个就是让这些变量的值始终保存在内存中\n",
    "#### keyword `nonlocal`\n",
    "in a nested function, you can use the keyword nonlocal to create and changes names in an enclosing scope."
   ]
  },
  {
   "cell_type": "code",
   "execution_count": 222,
   "id": "3c8eb216",
   "metadata": {},
   "outputs": [
    {
     "name": "stdout",
     "output_type": "stream",
     "text": [
      "4 64\n"
     ]
    }
   ],
   "source": [
    "def raise_val(n):\n",
    "    \"\"\"Return the inner function.\"\"\"\n",
    "    def inner(x):\n",
    "        \"\"\"Raise x to the power of n.\"\"\"\n",
    "        raised = x ** n\n",
    "        return raised\n",
    "    return inner\n",
    "square = raise_val(2)\n",
    "cube = raise_val(3)\n",
    "print(square(2), cube(4))"
   ]
  },
  {
   "cell_type": "code",
   "execution_count": 38,
   "id": "9f01ac20",
   "metadata": {},
   "outputs": [
    {
     "name": "stdout",
     "output_type": "stream",
     "text": [
      "2\n",
      "2\n"
     ]
    }
   ],
   "source": [
    "def outer():\n",
    "    \"\"\"Prints the value of n.\"\"\"\n",
    "    n = 1\n",
    "    def inner():\n",
    "        nonlocal n\n",
    "        n = 2\n",
    "        print(n)\n",
    "    inner()\n",
    "    print(n)\n",
    "outer()"
   ]
  },
  {
   "cell_type": "markdown",
   "id": "ac5fc981",
   "metadata": {},
   "source": [
    "### lambda function\n",
    "There's a quicker way to write functions on the fly and these are called lambda functions because you use the keyword `lambda`. \n",
    "\n",
    "after the keyword lambda, we specify the names of the arguments; then we use a colon followed by the expression that specifies what we wish the function to return\n",
    "\n",
    "Lambda functions allow you to write functions in a quick and potentially dirty way so I wouldn't advise you to use them all the time but there are situations when they can come in very handy.\n",
    "\n",
    "就是一个简单的函数，大多数情况下不使用，但少数情况下很适合使用\n",
    "\n",
    "The best use case for lambda functions, however, are for when you want these simple functionalities to be anonymously embedded within larger expressions. What that means is that the functionality is not stored in the environment, unlike a function defined with `def`\n",
    "#### Anonymous functions(匿名函数)\n",
    "For example, check out the `map()` function, which takes two arguments, a function and a sequence such as a list and applies the function over all elements of the sequence.We can pass lambda functions to map without even naming them and in this case we refer to them as anonymous functions. "
   ]
  },
  {
   "cell_type": "code",
   "execution_count": 60,
   "id": "dfc15603",
   "metadata": {},
   "outputs": [
    {
     "data": {
      "text/plain": [
       "8"
      ]
     },
     "execution_count": 60,
     "metadata": {},
     "output_type": "execute_result"
    }
   ],
   "source": [
    "raise_to_power = lambda x, y: x ** y\n",
    "raise_to_power(2, 3)"
   ]
  },
  {
   "cell_type": "code",
   "execution_count": 62,
   "id": "0eb1b1ea",
   "metadata": {},
   "outputs": [
    {
     "name": "stdout",
     "output_type": "stream",
     "text": [
      "[2304, 36, 81, 441, 1]\n"
     ]
    }
   ],
   "source": [
    "nums = [48, 6, 9, 21, 1]\n",
    "square_all = map(lambda num: num ** 2, nums)\n",
    "print(list(square_all))"
   ]
  },
  {
   "cell_type": "markdown",
   "id": "1c4813fa",
   "metadata": {},
   "source": [
    "#### `filter()`\n",
    "The function `filter()` offers a way to filter out elements from a list that don't satisfy certain criteria."
   ]
  },
  {
   "cell_type": "code",
   "execution_count": 63,
   "id": "d34051d3",
   "metadata": {
    "scrolled": true
   },
   "outputs": [
    {
     "name": "stdout",
     "output_type": "stream",
     "text": [
      "['samwise', 'aragorn', 'boromir', 'legolas', 'gandalf']\n"
     ]
    }
   ],
   "source": [
    "fellowship = ['frodo', 'samwise', 'merry', 'pippin', 'aragorn', 'boromir', 'legolas', 'gimli', 'gandalf']\n",
    "result = filter(lambda member : len(member) > 6, fellowship)\n",
    "result_list = list(result)\n",
    "print(result_list)"
   ]
  },
  {
   "cell_type": "markdown",
   "id": "02cbe67e",
   "metadata": {},
   "source": [
    "#### `Reduce()`\n",
    "The `reduce()` function is useful for performing some computation on a list and returns a single value as a result.\n",
    "\n",
    "To use `reduce()`, you must import it from the functools module."
   ]
  },
  {
   "cell_type": "code",
   "execution_count": 64,
   "id": "7a528ae2",
   "metadata": {},
   "outputs": [
    {
     "name": "stdout",
     "output_type": "stream",
     "text": [
      "robbsansaaryabrandonrickon\n"
     ]
    }
   ],
   "source": [
    "from functools import reduce\n",
    "stark = ['robb', 'sansa', 'arya', 'brandon', 'rickon']\n",
    "result = reduce(lambda item1,item2 : item1 + item2, stark)\n",
    "print(result)"
   ]
  },
  {
   "cell_type": "markdown",
   "id": "8fb0ec2c",
   "metadata": {},
   "source": [
    "### Error Handling\n",
    "When we write our own functions, as we have been doing, we may wish to catch specific problems and write specific error messages. \n",
    "#### Exception\n",
    "This is an example of an error caught during execution, commonly called exceptions.\n",
    "\n",
    "The main way to catch such exceptions is the try-except clause, in which Python tries to run the code following try and if it can, all is well. If it cannot due to an exception, it runs the code following except.\n",
    "\n",
    "#### Capture Specific Expection\n",
    "We may also wish to only catch TypeErrors and let other errors pass through, in which case we would use except TypeError\n",
    "\n",
    "There are many other types of exceptions that can be caught and you can have a look at them in the Python documentation available online.\n",
    "#### Raise Error\n",
    "More often than not, instead of merely printing an error message, we'll want to actually raise an error by using the keyword `raise`."
   ]
  },
  {
   "cell_type": "code",
   "execution_count": 68,
   "id": "27f02c7d",
   "metadata": {},
   "outputs": [
    {
     "name": "stdout",
     "output_type": "stream",
     "text": [
      "2.0\n",
      "x must be an int or float\n"
     ]
    }
   ],
   "source": [
    "def sqrt(x):\n",
    "    \"\"\"return the square root of a number\"\"\"\n",
    "    try:\n",
    "        return x ** 0.5\n",
    "    except:\n",
    "        print('x must be an int or float')\n",
    "print(sqrt(4))\n",
    "sqrt('he')"
   ]
  },
  {
   "cell_type": "code",
   "execution_count": 71,
   "id": "eb78ed3d",
   "metadata": {},
   "outputs": [
    {
     "name": "stdout",
     "output_type": "stream",
     "text": [
      "x must be an int or float\n"
     ]
    }
   ],
   "source": [
    "def sqrt(x):\n",
    "    \"\"\"return the square root of a number\"\"\"\n",
    "    try:\n",
    "        return x ** 0.5\n",
    "    except TypeError:\n",
    "        print('x must be an int or float')    \n",
    "sqrt('he')"
   ]
  },
  {
   "cell_type": "code",
   "execution_count": 75,
   "id": "f3f6931a",
   "metadata": {},
   "outputs": [
    {
     "ename": "ValueError",
     "evalue": "x must be non-negative",
     "output_type": "error",
     "traceback": [
      "\u001b[0;31m---------------------------------------------------------------------------\u001b[0m",
      "\u001b[0;31mValueError\u001b[0m                                Traceback (most recent call last)",
      "\u001b[0;32m<ipython-input-75-c884dea0e769>\u001b[0m in \u001b[0;36m<module>\u001b[0;34m\u001b[0m\n\u001b[1;32m      7\u001b[0m     \u001b[0;32mexcept\u001b[0m \u001b[0mTypeError\u001b[0m\u001b[0;34m:\u001b[0m\u001b[0;34m\u001b[0m\u001b[0;34m\u001b[0m\u001b[0m\n\u001b[1;32m      8\u001b[0m         \u001b[0mprint\u001b[0m\u001b[0;34m(\u001b[0m\u001b[0;34m'x must be an int or float'\u001b[0m\u001b[0;34m)\u001b[0m\u001b[0;34m\u001b[0m\u001b[0;34m\u001b[0m\u001b[0m\n\u001b[0;32m----> 9\u001b[0;31m \u001b[0msqrt\u001b[0m\u001b[0;34m(\u001b[0m\u001b[0;34m-\u001b[0m\u001b[0;36m9\u001b[0m\u001b[0;34m)\u001b[0m\u001b[0;34m\u001b[0m\u001b[0;34m\u001b[0m\u001b[0m\n\u001b[0m",
      "\u001b[0;32m<ipython-input-75-c884dea0e769>\u001b[0m in \u001b[0;36msqrt\u001b[0;34m(x)\u001b[0m\n\u001b[1;32m      3\u001b[0m     \u001b[0;32mtry\u001b[0m\u001b[0;34m:\u001b[0m\u001b[0;34m\u001b[0m\u001b[0;34m\u001b[0m\u001b[0m\n\u001b[1;32m      4\u001b[0m         \u001b[0;32mif\u001b[0m \u001b[0mx\u001b[0m \u001b[0;34m<\u001b[0m \u001b[0;36m0\u001b[0m\u001b[0;34m:\u001b[0m\u001b[0;34m\u001b[0m\u001b[0;34m\u001b[0m\u001b[0m\n\u001b[0;32m----> 5\u001b[0;31m             \u001b[0;32mraise\u001b[0m \u001b[0mValueError\u001b[0m\u001b[0;34m(\u001b[0m\u001b[0;34m\"x must be non-negative\"\u001b[0m\u001b[0;34m)\u001b[0m\u001b[0;34m\u001b[0m\u001b[0;34m\u001b[0m\u001b[0m\n\u001b[0m\u001b[1;32m      6\u001b[0m         \u001b[0;32mreturn\u001b[0m \u001b[0mx\u001b[0m \u001b[0;34m**\u001b[0m \u001b[0;36m0.5\u001b[0m\u001b[0;34m\u001b[0m\u001b[0;34m\u001b[0m\u001b[0m\n\u001b[1;32m      7\u001b[0m     \u001b[0;32mexcept\u001b[0m \u001b[0mTypeError\u001b[0m\u001b[0;34m:\u001b[0m\u001b[0;34m\u001b[0m\u001b[0;34m\u001b[0m\u001b[0m\n",
      "\u001b[0;31mValueError\u001b[0m: x must be non-negative"
     ]
    }
   ],
   "source": [
    "def sqrt(x):\n",
    "    \"\"\"return the square root of a number\"\"\"\n",
    "    try:\n",
    "        if x < 0:\n",
    "            raise ValueError(\"x must be non-negative\")\n",
    "        return x ** 0.5\n",
    "    except TypeError:\n",
    "        print('x must be an int or float')    \n",
    "sqrt(-9)"
   ]
  },
  {
   "cell_type": "markdown",
   "id": "103990ca",
   "metadata": {},
   "source": [
    "## magic commands in Jupyter\n",
    "Magic commands start with either % or %% and the command we need to nicely display plots inline is %matplotlib inline. With this magic in place, all plots created in code cells will automatically be displayed inline.\n",
    "\n",
    "由于 %matplotlib inline 的存在，当输入plt.plot(x,y_1)后，不必再输入 plt.show()，图像将自动显示出来"
   ]
  },
  {
   "cell_type": "code",
   "execution_count": 41,
   "id": "995931fa",
   "metadata": {},
   "outputs": [
    {
     "data": {
      "text/plain": [
       "[<matplotlib.lines.Line2D at 0x7fa3efa10208>]"
      ]
     },
     "execution_count": 41,
     "metadata": {},
     "output_type": "execute_result"
    },
    {
     "data": {
      "image/png": "[encoded data removed]",
      "text/plain": [
       "<Figure size 432x288 with 1 Axes>"
      ]
     },
     "metadata": {
      "needs_background": "light"
     },
     "output_type": "display_data"
    }
   ],
   "source": [
    "%matplotlib inline\n",
    "import matplotlib.pyplot as plt\n",
    "year = [1950, 1951, 1952, 1953, 1954, 1955, 1956, 1957, 1958, 1959, 1960, 1961, 1962, 1963, 1964, 1965, 1966, 1967, 1968, 1969, 1970, 1971, 1972, 1973, 1974, 1975, 1976, 1977, 1978, 1979, 1980, 1981, 1982, 1983, 1984, 1985, 1986, 1987, 1988, 1989, 1990, 1991, 1992, 1993, 1994, 1995, 1996, 1997, 1998, 1999, 2000, 2001, 2002, 2003, 2004, 2005, 2006, 2007, 2008, 2009, 2010, 2011, 2012, 2013, 2014, 2015, 2016, 2017, 2018, 2019, 2020, 2021, 2022, 2023, 2024, 2025, 2026, 2027, 2028, 2029, 2030, 2031, 2032, 2033, 2034, 2035, 2036, 2037, 2038, 2039, 2040, 2041, 2042, 2043, 2044, 2045, 2046, 2047, 2048, 2049, 2050, 2051, 2052, 2053, 2054, 2055, 2056, 2057, 2058, 2059, 2060, 2061, 2062, 2063, 2064, 2065, 2066, 2067, 2068, 2069, 2070, 2071, 2072, 2073, 2074, 2075, 2076, 2077, 2078, 2079, 2080, 2081, 2082, 2083, 2084, 2085, 2086, 2087, 2088, 2089, 2090, 2091, 2092, 2093, 2094, 2095, 2096, 2097, 2098, 2099, 2100]\n",
    "pop = [2.53, 2.57, 2.62, 2.67, 2.71, 2.76, 2.81, 2.86, 2.92, 2.97, 3.03, 3.08, 3.14, 3.2, 3.26, 3.33, 3.4, 3.47, 3.54, 3.62, 3.69, 3.77, 3.84, 3.92, 4.0, 4.07, 4.15, 4.22, 4.3, 4.37, 4.45, 4.53, 4.61, 4.69, 4.78, 4.86, 4.95, 5.05, 5.14, 5.23, 5.32, 5.41, 5.49, 5.58, 5.66, 5.74, 5.82, 5.9, 5.98, 6.05, 6.13, 6.2, 6.28, 6.36, 6.44, 6.51, 6.59, 6.67, 6.75, 6.83, 6.92, 7.0, 7.08, 7.16, 7.24, 7.32, 7.4, 7.48, 7.56, 7.64, 7.72, 7.79, 7.87, 7.94, 8.01, 8.08, 8.15, 8.22, 8.29, 8.36, 8.42, 8.49, 8.56, 8.62, 8.68, 8.74, 8.8, 8.86, 8.92, 8.98, 9.04, 9.09, 9.15, 9.2, 9.26, 9.31, 9.36, 9.41, 9.46, 9.5, 9.55, 9.6, 9.64, 9.68, 9.73, 9.77, 9.81, 9.85, 9.88, 9.92, 9.96, 9.99, 10.03, 10.06, 10.09, 10.13, 10.16, 10.19, 10.22, 10.25, 10.28, 10.31, 10.33, 10.36, 10.38, 10.41, 10.43, 10.46, 10.48, 10.5, 10.52, 10.55, 10.57, 10.59, 10.61, 10.63, 10.65, 10.66, 10.68, 10.7, 10.72, 10.73, 10.75, 10.77, 10.78, 10.79, 10.81, 10.82, 10.83, 10.84, 10.85]\n",
    "plt.plot(year,pop)"
   ]
  },
  {
   "cell_type": "code",
   "execution_count": 3,
   "id": "1216edfb",
   "metadata": {
    "scrolled": true
   },
   "outputs": [
    {
     "data": {
      "text/html": [
       "<div style=\"width:100%;\"><div style=\"position:relative;width:100%;height:0;padding-bottom:60%;\"><span style=\"color:#565656\">Make this Notebook Trusted to load map: File -> Trust Notebook</span><iframe src=\"about:blank\" style=\"position:absolute;width:100%;height:100%;left:0;top:0;border:none !important;\" data-html=%3C%21DOCTYPE%20html%3E%0A%3Chead%3E%20%20%20%20%0A%20%20%20%20%3Cmeta%20http-equiv%3D%22content-type%22%20content%3D%22text/html%3B%20charset%3DUTF-8%22%20/%3E%0A%20%20%20%20%0A%20%20%20%20%20%20%20%20%3Cscript%3E%0A%20%20%20%20%20%20%20%20%20%20%20%20L_NO_TOUCH%20%3D%20false%3B%0A%20%20%20%20%20%20%20%20%20%20%20%20L_DISABLE_3D%20%3D%20false%3B%0A%20%20%20%20%20%20%20%20%3C/script%3E%0A%20%20%20%20%0A%20%20%20%20%3Cstyle%3Ehtml%2C%20body%20%7Bwidth%3A%20100%25%3Bheight%3A%20100%25%3Bmargin%3A%200%3Bpadding%3A%200%3B%7D%3C/style%3E%0A%20%20%20%20%3Cstyle%3E%23map%20%7Bposition%3Aabsolute%3Btop%3A0%3Bbottom%3A0%3Bright%3A0%3Bleft%3A0%3B%7D%3C/style%3E%0A%20%20%20%20%3Cscript%20src%3D%22https%3A//cdn.jsdelivr.net/npm/leaflet%401.6.0/dist/leaflet.js%22%3E%3C/script%3E%0A%20%20%20%20%3Cscript%20src%3D%22https%3A//code.jquery.com/jquery-1.12.4.min.js%22%3E%3C/script%3E%0A%20%20%20%20%3Cscript%20src%3D%22https%3A//maxcdn.bootstrapcdn.com/bootstrap/3.2.0/js/bootstrap.min.js%22%3E%3C/script%3E%0A%20%20%20%20%3Cscript%20src%3D%22https%3A//cdnjs.cloudflare.com/ajax/libs/Leaflet.awesome-markers/2.0.2/leaflet.awesome-markers.js%22%3E%3C/script%3E%0A%20%20%20%20%3Clink%20rel%3D%22stylesheet%22%20href%3D%22https%3A//cdn.jsdelivr.net/npm/leaflet%401.6.0/dist/leaflet.css%22/%3E%0A%20%20%20%20%3Clink%20rel%3D%22stylesheet%22%20href%3D%22https%3A//maxcdn.bootstrapcdn.com/bootstrap/3.2.0/css/bootstrap.min.css%22/%3E%0A%20%20%20%20%3Clink%20rel%3D%22stylesheet%22%20href%3D%22https%3A//maxcdn.bootstrapcdn.com/bootstrap/3.2.0/css/bootstrap-theme.min.css%22/%3E%0A%20%20%20%20%3Clink%20rel%3D%22stylesheet%22%20href%3D%22https%3A//maxcdn.bootstrapcdn.com/font-awesome/4.6.3/css/font-awesome.min.css%22/%3E%0A%20%20%20%20%3Clink%20rel%3D%22stylesheet%22%20href%3D%22https%3A//cdnjs.cloudflare.com/ajax/libs/Leaflet.awesome-markers/2.0.2/leaflet.awesome-markers.css%22/%3E%0A%20%20%20%20%3Clink%20rel%3D%22stylesheet%22%20href%3D%22https%3A//cdn.jsdelivr.net/gh/python-visualization/folium/folium/templates/leaflet.awesome.rotate.min.css%22/%3E%0A%20%20%20%20%0A%20%20%20%20%20%20%20%20%20%20%20%20%3Cmeta%20name%3D%22viewport%22%20content%3D%22width%3Ddevice-width%2C%0A%20%20%20%20%20%20%20%20%20%20%20%20%20%20%20%20initial-scale%3D1.0%2C%20maximum-scale%3D1.0%2C%20user-scalable%3Dno%22%20/%3E%0A%20%20%20%20%20%20%20%20%20%20%20%20%3Cstyle%3E%0A%20%20%20%20%20%20%20%20%20%20%20%20%20%20%20%20%23map_1f4091a7652d4b6b8e1389af5bbba316%20%7B%0A%20%20%20%20%20%20%20%20%20%20%20%20%20%20%20%20%20%20%20%20position%3A%20relative%3B%0A%20%20%20%20%20%20%20%20%20%20%20%20%20%20%20%20%20%20%20%20width%3A%20100.0%25%3B%0A%20%20%20%20%20%20%20%20%20%20%20%20%20%20%20%20%20%20%20%20height%3A%20100.0%25%3B%0A%20%20%20%20%20%20%20%20%20%20%20%20%20%20%20%20%20%20%20%20left%3A%200.0%25%3B%0A%20%20%20%20%20%20%20%20%20%20%20%20%20%20%20%20%20%20%20%20top%3A%200.0%25%3B%0A%20%20%20%20%20%20%20%20%20%20%20%20%20%20%20%20%7D%0A%20%20%20%20%20%20%20%20%20%20%20%20%3C/style%3E%0A%20%20%20%20%20%20%20%20%0A%3C/head%3E%0A%3Cbody%3E%20%20%20%20%0A%20%20%20%20%0A%20%20%20%20%20%20%20%20%20%20%20%20%3Cdiv%20class%3D%22folium-map%22%20id%3D%22map_1f4091a7652d4b6b8e1389af5bbba316%22%20%3E%3C/div%3E%0A%20%20%20%20%20%20%20%20%0A%3C/body%3E%0A%3Cscript%3E%20%20%20%20%0A%20%20%20%20%0A%20%20%20%20%20%20%20%20%20%20%20%20var%20map_1f4091a7652d4b6b8e1389af5bbba316%20%3D%20L.map%28%0A%20%20%20%20%20%20%20%20%20%20%20%20%20%20%20%20%22map_1f4091a7652d4b6b8e1389af5bbba316%22%2C%0A%20%20%20%20%20%20%20%20%20%20%20%20%20%20%20%20%7B%0A%20%20%20%20%20%20%20%20%20%20%20%20%20%20%20%20%20%20%20%20center%3A%20%5B0%2C%200%5D%2C%0A%20%20%20%20%20%20%20%20%20%20%20%20%20%20%20%20%20%20%20%20crs%3A%20L.CRS.EPSG3857%2C%0A%20%20%20%20%20%20%20%20%20%20%20%20%20%20%20%20%20%20%20%20zoom%3A%201%2C%0A%20%20%20%20%20%20%20%20%20%20%20%20%20%20%20%20%20%20%20%20zoomControl%3A%20true%2C%0A%20%20%20%20%20%20%20%20%20%20%20%20%20%20%20%20%20%20%20%20preferCanvas%3A%20false%2C%0A%20%20%20%20%20%20%20%20%20%20%20%20%20%20%20%20%7D%0A%20%20%20%20%20%20%20%20%20%20%20%20%29%3B%0A%0A%20%20%20%20%20%20%20%20%20%20%20%20%0A%0A%20%20%20%20%20%20%20%20%0A%20%20%20%20%0A%20%20%20%20%20%20%20%20%20%20%20%20var%20tile_layer_435460f6bdec4195b094fde907bd4c32%20%3D%20L.tileLayer%28%0A%20%20%20%20%20%20%20%20%20%20%20%20%20%20%20%20%22https%3A//%7Bs%7D.tile.openstreetmap.org/%7Bz%7D/%7Bx%7D/%7By%7D.png%22%2C%0A%20%20%20%20%20%20%20%20%20%20%20%20%20%20%20%20%7B%22attribution%22%3A%20%22Data%20by%20%5Cu0026copy%3B%20%5Cu003ca%20href%3D%5C%22http%3A//openstreetmap.org%5C%22%5Cu003eOpenStreetMap%5Cu003c/a%5Cu003e%2C%20under%20%5Cu003ca%20href%3D%5C%22http%3A//www.openstreetmap.org/copyright%5C%22%5Cu003eODbL%5Cu003c/a%5Cu003e.%22%2C%20%22detectRetina%22%3A%20false%2C%20%22maxNativeZoom%22%3A%2018%2C%20%22maxZoom%22%3A%2018%2C%20%22minZoom%22%3A%200%2C%20%22noWrap%22%3A%20false%2C%20%22opacity%22%3A%201%2C%20%22subdomains%22%3A%20%22abc%22%2C%20%22tms%22%3A%20false%7D%0A%20%20%20%20%20%20%20%20%20%20%20%20%29.addTo%28map_1f4091a7652d4b6b8e1389af5bbba316%29%3B%0A%20%20%20%20%20%20%20%20%0A%20%20%20%20%0A%20%20%20%20%20%20%20%20%20%20%20%20var%20marker_5ac10e6b55dc48cf9da98c58b027c327%20%3D%20L.marker%28%0A%20%20%20%20%20%20%20%20%20%20%20%20%20%20%20%20%5B37.497%2C%20127.0266%5D%2C%0A%20%20%20%20%20%20%20%20%20%20%20%20%20%20%20%20%7B%7D%0A%20%20%20%20%20%20%20%20%20%20%20%20%29.addTo%28map_1f4091a7652d4b6b8e1389af5bbba316%29%3B%0A%20%20%20%20%20%20%20%20%0A%20%20%20%20%0A%20%20%20%20%20%20%20%20var%20popup_4ae216f3313b48a7b7b9806f150d8a21%20%3D%20L.popup%28%7B%22maxWidth%22%3A%20%22100%25%22%7D%29%3B%0A%0A%20%20%20%20%20%20%20%20%0A%20%20%20%20%20%20%20%20%20%20%20%20var%20html_353796d3caa640ac9d202b3234620156%20%3D%20%24%28%60%3Cdiv%20id%3D%22html_353796d3caa640ac9d202b3234620156%22%20style%3D%22width%3A%20100.0%25%3B%20height%3A%20100.0%25%3B%22%3ESamsung%3A%2020.5%25%3C/div%3E%60%29%5B0%5D%3B%0A%20%20%20%20%20%20%20%20%20%20%20%20popup_4ae216f3313b48a7b7b9806f150d8a21.setContent%28html_353796d3caa640ac9d202b3234620156%29%3B%0A%20%20%20%20%20%20%20%20%0A%0A%20%20%20%20%20%20%20%20marker_5ac10e6b55dc48cf9da98c58b027c327.bindPopup%28popup_4ae216f3313b48a7b7b9806f150d8a21%29%0A%20%20%20%20%20%20%20%20%3B%0A%0A%20%20%20%20%20%20%20%20%0A%20%20%20%20%0A%20%20%20%20%0A%20%20%20%20%20%20%20%20%20%20%20%20var%20marker_55ff4caaed534e408b716c97aa3d675f%20%3D%20L.marker%28%0A%20%20%20%20%20%20%20%20%20%20%20%20%20%20%20%20%5B37.3318%2C%20-122.0311%5D%2C%0A%20%20%20%20%20%20%20%20%20%20%20%20%20%20%20%20%7B%7D%0A%20%20%20%20%20%20%20%20%20%20%20%20%29.addTo%28map_1f4091a7652d4b6b8e1389af5bbba316%29%3B%0A%20%20%20%20%20%20%20%20%0A%20%20%20%20%0A%20%20%20%20%20%20%20%20var%20popup_a254c2631ae64c25af704bfbfe758f76%20%3D%20L.popup%28%7B%22maxWidth%22%3A%20%22100%25%22%7D%29%3B%0A%0A%20%20%20%20%20%20%20%20%0A%20%20%20%20%20%20%20%20%20%20%20%20var%20html_c6504f5da3444d3f961fee9428686192%20%3D%20%24%28%60%3Cdiv%20id%3D%22html_c6504f5da3444d3f961fee9428686192%22%20style%3D%22width%3A%20100.0%25%3B%20height%3A%20100.0%25%3B%22%3EApple%3A%2014.4%25%3C/div%3E%60%29%5B0%5D%3B%0A%20%20%20%20%20%20%20%20%20%20%20%20popup_a254c2631ae64c25af704bfbfe758f76.setContent%28html_c6504f5da3444d3f961fee9428686192%29%3B%0A%20%20%20%20%20%20%20%20%0A%0A%20%20%20%20%20%20%20%20marker_55ff4caaed534e408b716c97aa3d675f.bindPopup%28popup_a254c2631ae64c25af704bfbfe758f76%29%0A%20%20%20%20%20%20%20%20%3B%0A%0A%20%20%20%20%20%20%20%20%0A%20%20%20%20%0A%20%20%20%20%0A%20%20%20%20%20%20%20%20%20%20%20%20var%20marker_fad2b0af3e0849e7a92537770d4447a4%20%3D%20L.marker%28%0A%20%20%20%20%20%20%20%20%20%20%20%20%20%20%20%20%5B22.5431%2C%20114.0579%5D%2C%0A%20%20%20%20%20%20%20%20%20%20%20%20%20%20%20%20%7B%7D%0A%20%20%20%20%20%20%20%20%20%20%20%20%29.addTo%28map_1f4091a7652d4b6b8e1389af5bbba316%29%3B%0A%20%20%20%20%20%20%20%20%0A%20%20%20%20%0A%20%20%20%20%20%20%20%20var%20popup_0c875f066e774d2d9f0c0e0f76eb9174%20%3D%20L.popup%28%7B%22maxWidth%22%3A%20%22100%25%22%7D%29%3B%0A%0A%20%20%20%20%20%20%20%20%0A%20%20%20%20%20%20%20%20%20%20%20%20var%20html_4656d77b93d24fac8d480ae3d2f5c3cc%20%3D%20%24%28%60%3Cdiv%20id%3D%22html_4656d77b93d24fac8d480ae3d2f5c3cc%22%20style%3D%22width%3A%20100.0%25%3B%20height%3A%20100.0%25%3B%22%3EHuawei%3A%208.9%25%3C/div%3E%60%29%5B0%5D%3B%0A%20%20%20%20%20%20%20%20%20%20%20%20popup_0c875f066e774d2d9f0c0e0f76eb9174.setContent%28html_4656d77b93d24fac8d480ae3d2f5c3cc%29%3B%0A%20%20%20%20%20%20%20%20%0A%0A%20%20%20%20%20%20%20%20marker_fad2b0af3e0849e7a92537770d4447a4.bindPopup%28popup_0c875f066e774d2d9f0c0e0f76eb9174%29%0A%20%20%20%20%20%20%20%20%3B%0A%0A%20%20%20%20%20%20%20%20%0A%20%20%20%20%0A%3C/script%3E onload=\"this.contentDocument.open();this.contentDocument.write(    decodeURIComponent(this.getAttribute('data-html')));this.contentDocument.close();\" allowfullscreen webkitallowfullscreen mozallowfullscreen></iframe></div></div>"
      ],
      "text/plain": [
       "<folium.folium.Map at 0x7fa3eecd30f0>"
      ]
     },
     "execution_count": 3,
     "metadata": {},
     "output_type": "execute_result"
    }
   ],
   "source": [
    "# Making a map using the folium module\n",
    "import folium\n",
    "phone_map = folium.Map()\n",
    "\n",
    "# Top three smart phone companies by market share in 2016\n",
    "companies = [\n",
    "    {'loc': [37.4970,  127.0266], 'label': 'Samsung: 20.5%'},\n",
    "    {'loc': [37.3318, -122.0311], 'label': 'Apple: 14.4%'},\n",
    "    {'loc': [22.5431,  114.0579], 'label': 'Huawei: 8.9%'}] \n",
    "\n",
    "# Adding markers to the map\n",
    "for company in companies:\n",
    "    marker = folium.Marker(location=company['loc'], popup=company['label'])\n",
    "    marker.add_to(phone_map)\n",
    "\n",
    "# The last object in the cell always gets shown in the notebook\n",
    "phone_map"
   ]
  },
  {
   "cell_type": "markdown",
   "id": "34433140",
   "metadata": {},
   "source": [
    "## iteratable and iterator(可迭代项和迭代器)\n",
    "### iteratable\n",
    "The actual definition of an iterable is an object that has an associated `iter()` method. \n",
    "\n",
    "可迭代项能通过`iter()`创建迭代器对象  \n",
    "Once this `iter()` method is applied to an iterable, an iterator object is created.\n",
    "### iterator\n",
    "`iter()`和`next()`返回都是一个迭代器对象  \n",
    "an `iterator` is an object that keeps state and produces the next value of the consecutive value when you call `next()` on it  \n",
    "Once we have the iterator defined, we pass it to the function `next()` and this returns the first value. Calling `next()` again on the iterator returns the next value until there are no values left to return and then it throws us a `StopIteration` error.\n",
    "### Iterating with a `for` loop\n",
    "The reason that we can use `for` loop to loop over such objects is that they are special objects called iterables: lists, strings and range objects are all iterables, as are many other Python objects, such as dictionaries and file connections!\n",
    "\n",
    "Under the hood, this is actually what a for loop is doing: it takes an iterable, creates the associated iterator object, and iterates over it!  \n",
    "for的实现原理是通过可迭代项创建一个与之对应的迭代器，然后遍历迭代器"
   ]
  },
  {
   "cell_type": "code",
   "execution_count": 107,
   "id": "c7b50953",
   "metadata": {},
   "outputs": [
    {
     "name": "stdout",
     "output_type": "stream",
     "text": [
      "<class 'str_iterator'>\n",
      "C\n",
      "h\n",
      "i\n",
      "n\n",
      "a\n",
      "iteration ends\n"
     ]
    }
   ],
   "source": [
    "word = 'China'\n",
    "it = iter(word)\n",
    "print(type(it))\n",
    "print(next(it))\n",
    "print(next(it))\n",
    "print(next(it))\n",
    "print(next(it))\n",
    "print(next(it))\n",
    "try:\n",
    "    print(next(it))\n",
    "except StopIteration:\n",
    "    print(\"iteration ends\")"
   ]
  },
  {
   "cell_type": "markdown",
   "id": "c4b64c4a",
   "metadata": {},
   "source": [
    "### `*` operator \n",
    "注意：只是在函数调用中是将可迭代项解包为按位置的参数  \n",
    "`*` operator unpacks an iterable such as a list or a tuple into positional arguments in a function call.\n",
    "\n",
    "You can also print all values of an iterator in one fell swoop using the star operator, referred to as the splat operator in some circles.  \n",
    "\n",
    "注意`*`操作符会耗尽迭代器  \n",
    "Be warned, however, once you do so, you cannot do it again as there are no more values to iterate through!We would have to redefine our iterator to do so."
   ]
  },
  {
   "cell_type": "code",
   "execution_count": 217,
   "id": "289ecda1",
   "metadata": {},
   "outputs": [
    {
     "name": "stdout",
     "output_type": "stream",
     "text": [
      "C h i n a\n",
      "a b c\n"
     ]
    }
   ],
   "source": [
    "word = 'China'\n",
    "print(*word)"
   ]
  },
  {
   "cell_type": "code",
   "execution_count": 120,
   "id": "e933f1bd",
   "metadata": {},
   "outputs": [
    {
     "name": "stdout",
     "output_type": "stream",
     "text": [
      "C h i n a\n"
     ]
    }
   ],
   "source": [
    "word = 'China'\n",
    "it = iter(word)\n",
    "print(*it)"
   ]
  },
  {
   "cell_type": "markdown",
   "id": "44577e90",
   "metadata": {},
   "source": [
    "### `range()`\n",
    "`rang()`函数创建的`range`对象，在许多方面表现得像一个列表，但实际上却并不是。此对象会在你迭代它时基于所希望的序列返回连续的项，但它没有真正生成列表，这样就能节省内存空间。\n",
    "\n",
    "实际上`range()`是使用迭代器创建`range`对象  \n",
    "`range()` doesn't actually create the `list`; instead, it creates a `range` object that produces the values until it reaches the limit\n",
    "\n",
    "If `range()` created the actual list, calling it with a value of  may not work, especially since a number as big as that may go over a regular computer's memory. "
   ]
  },
  {
   "cell_type": "code",
   "execution_count": 125,
   "id": "784e5acf",
   "metadata": {
    "scrolled": true
   },
   "outputs": [
    {
     "name": "stdout",
     "output_type": "stream",
     "text": [
      "0\n",
      "1\n"
     ]
    }
   ],
   "source": [
    "googol = iter(range(10 ** 100))\n",
    "print(next(googol))\n",
    "print(next(googol))"
   ]
  },
  {
   "cell_type": "markdown",
   "id": "4d89faf8",
   "metadata": {},
   "source": [
    "### Iterators as function arguments\n",
    "很多函数都可以接受可迭代项和迭代器作为输入参数  \n",
    "There are also functions that take iterators and iterables as arguments. For example, the list() and sum() functions return a list and the sum of elements, respectively."
   ]
  },
  {
   "cell_type": "code",
   "execution_count": 135,
   "id": "9c235f7a",
   "metadata": {
    "collapsed": true
   },
   "outputs": [
    {
     "name": "stdout",
     "output_type": "stream",
     "text": [
      "[10, 11, 12, 13, 14, 15, 16, 17, 18, 19, 20]\n",
      "165\n",
      "165\n",
      "144\n"
     ]
    }
   ],
   "source": [
    "values = range(10,21)\n",
    "\n",
    "print(list(values))\n",
    "\n",
    "print(sum(values))\n",
    "\n",
    "print(sum(iter(values)))\n",
    "\n",
    "it = iter(values)\n",
    "next(it)\n",
    "next(it)\n",
    "print(sum(it))"
   ]
  },
  {
   "cell_type": "markdown",
   "id": "15959860",
   "metadata": {},
   "source": [
    "#### `enumerate()`\n",
    "`enumerate()` returns an `enumerate object` that produces a sequence of tuples, and each of the tuples is an index-value pair.\n",
    "\n",
    "The `enumerate object` itself is also an iterable and we can loop over it while unpacking its elements using the clause:   \n",
    "`for index, value in enumerate(iterable)`  \n",
    "\n",
    "It is the default behavior of enumerate to begin indexing at 0. However, you can alter this with a second argument, start, "
   ]
  },
  {
   "cell_type": "code",
   "execution_count": 140,
   "id": "9f37756f",
   "metadata": {
    "scrolled": true
   },
   "outputs": [
    {
     "name": "stdout",
     "output_type": "stream",
     "text": [
      "<class 'enumerate'>\n",
      "[(0, 'hawkeye'), (1, 'iron man'), (2, 'thor'), (3, 'quicksilver')]\n",
      "1 hawkeye\n",
      "2 iron man\n",
      "3 thor\n",
      "4 quicksilver\n"
     ]
    }
   ],
   "source": [
    "avengers = ['hawkeye', 'iron man', 'thor', 'quicksilver']\n",
    "e = enumerate(avengers)\n",
    "print(type(e))\n",
    "\n",
    "e_list = list(e)\n",
    "print(e_list)\n",
    "\n",
    "avengers = ['hawkeye', 'iron man', 'thor', 'quicksilver']\n",
    "for index, value in enumerate(avengers,1):\n",
    "    print(index, value)"
   ]
  },
  {
   "cell_type": "markdown",
   "id": "95a2a1ee",
   "metadata": {},
   "source": [
    "#### `zip()`\n",
    "`zip()` which accepts an arbitrary number of iterables and zipping them together creates a `zip object` which is an iterator of tuples  \n",
    "注意：zip对象是迭代器！！！\n",
    "##### unpacking `zip object`\n",
    "we can use `for` loop or `*` operator to unpack a `zip object`\n",
    "##### Using * and zip to 'unzip'\n",
    "There is no unzip function for doing the reverse of what zip() does.\n",
    "\n",
    "We can, however, reverse what has been zipped together by using zip() with a little help from *!"
   ]
  },
  {
   "cell_type": "code",
   "execution_count": 2,
   "id": "97aef2ff",
   "metadata": {
    "scrolled": false
   },
   "outputs": [
    {
     "name": "stdout",
     "output_type": "stream",
     "text": [
      "hawkeye barton\n",
      "iron man stark\n",
      "thor odinson\n",
      "quicksilver maximoff\n",
      "\n",
      "\n",
      "('hawkeye', 'barton') ('iron man', 'stark') ('thor', 'odinson') ('quicksilver', 'maximoff')\n"
     ]
    }
   ],
   "source": [
    "avengers = ['hawkeye', 'iron man', 'thor', 'quicksilver']\n",
    "names = ['barton', 'stark', 'odinson', 'maximoff']\n",
    "for z1, z2 in zip(avengers, names):\n",
    "    print(z1, z2)\n",
    "print('\\n')    \n",
    "print(*zip(avengers, names))"
   ]
  },
  {
   "cell_type": "code",
   "execution_count": 7,
   "id": "2688f61b",
   "metadata": {},
   "outputs": [
    {
     "name": "stdout",
     "output_type": "stream",
     "text": [
      "('hawkeye', 'barton') ('iron man', 'stark') ('thor', 'odinson') ('quicksilver', 'maximoff')\n"
     ]
    }
   ],
   "source": [
    "print(*zip(avengers, names))"
   ]
  },
  {
   "cell_type": "code",
   "execution_count": 3,
   "id": "142904a9",
   "metadata": {
    "scrolled": false
   },
   "outputs": [
    {
     "name": "stdout",
     "output_type": "stream",
     "text": [
      "['hawkeye', 'iron man', 'thor', 'quicksilver']\n",
      "['barton', 'stark', 'odinson', 'maximoff']\n",
      "True\n",
      "True\n"
     ]
    }
   ],
   "source": [
    "result1, result2 = zip(*zip(avengers, names))\n",
    "\n",
    "print(list(result1))\n",
    "print(list(result2))\n",
    "\n",
    "print(list(result1) == avengers)\n",
    "print(list(result2) == names)"
   ]
  },
  {
   "cell_type": "markdown",
   "id": "5da246a2",
   "metadata": {},
   "source": [
    "### Generator\n",
    "生成器是一个种特殊的迭代器  \n",
    "like any other iterator, we can pass a generator to the function next in order to iterate through its elements.  \n",
    "包括以iterator作为参数的函数中，generator一样可以做参数\n",
    "#### lazy evaluation(惰性求值)\n",
    "whereby the evaluation of the expression is delayed until its value is needed  \n",
    "表达式的求值直到需要时才被计算\n",
    "\n",
    "This can help a great deal when working with extremely large sequences as you don't want to store the entire list in memory, which is what comprehensions would do; you want to generate elements of the sequence on the fly.\n",
    "#### Generator Expression\n",
    "something called a generator object has been created.\n",
    "\n",
    "a generator is like a list comprehension except it does not store the list in memory: it does not construct the list, but is an object we can iterate over to produce elements of the list as required."
   ]
  },
  {
   "cell_type": "code",
   "execution_count": 229,
   "id": "0bd2a913",
   "metadata": {
    "scrolled": true
   },
   "outputs": [
    {
     "name": "stdout",
     "output_type": "stream",
     "text": [
      "<class 'generator'>\n",
      "0\n",
      "2\n",
      "4\n"
     ]
    }
   ],
   "source": [
    "gen = (x for x in range(10**10000) if x%2 == 0)\n",
    "print(type(gen))\n",
    "print(next(gen))\n",
    "print(next(gen))\n",
    "print(next(gen))"
   ]
  },
  {
   "cell_type": "markdown",
   "id": "761a40bb",
   "metadata": {},
   "source": [
    "#### Generator Function\n",
    "Generator functions are functions that, when called, produce `generator objects`. Generator functions are written with the syntax of any other user-defined function, however instead of returning values using the keyword `return`, they yield sequences of values using the keyword `yield`."
   ]
  },
  {
   "cell_type": "code",
   "execution_count": 227,
   "id": "c1201da8",
   "metadata": {},
   "outputs": [
    {
     "name": "stdout",
     "output_type": "stream",
     "text": [
      "0\n",
      "1\n",
      "2\n"
     ]
    }
   ],
   "source": [
    "def num_sequence(n):\n",
    "    \"\"\"Generate values from 0 to n.\"\"\"\n",
    "    i = 0\n",
    "    while i < n:\n",
    "        yield i        \n",
    "        i += 1\n",
    "gen = num_sequence(10)\n",
    "print(next(gen))\n",
    "print(next(gen))\n",
    "print(next(gen))"
   ]
  },
  {
   "cell_type": "markdown",
   "id": "0a890d8b",
   "metadata": {},
   "source": [
    "### Processing large amounts of data in chunks\n",
    "#### Motivation\n",
    "Sometimes, the data we have to process reaches a size that is too much for a computer's memory to handle. \n",
    "\n",
    "创建一个迭代器，一次迭代处理一个chunk\n",
    "One solution is to load the data in chunks, perform the desired operation or operations on each chuck, store the result, discard the chunk and then load the next chunk;\n",
    "#### Iterating over data in chunks\n",
    "We use the `read_csv()` function, utilizing the argument `chunksize`, setting it to the size of the chunks I want to read in.\n",
    "\n",
    "If we specify the `chunksize` argument,the object created by the `read_csv()` call is an iterable so we can iterate over it, using a for loop, in which each chunk will be a DataFrame."
   ]
  },
  {
   "cell_type": "code",
   "execution_count": 177,
   "id": "874bc198",
   "metadata": {},
   "outputs": [
    {
     "name": "stdout",
     "output_type": "stream",
     "text": [
      "{'en': 97, 'et': 1, 'und': 2}\n"
     ]
    }
   ],
   "source": [
    "import pandas as pd\n",
    "# Define count_entries()\n",
    "def count_entries(csv_file,c_size,colname):\n",
    "    \"\"\"Return a dictionary with counts of\n",
    "    occurrences as value for each key.\"\"\"\n",
    "    \n",
    "    # Initialize an empty dictionary: counts_dict\n",
    "    counts_dict = {}\n",
    "\n",
    "    # Iterate over the file chunk by chunk\n",
    "    for chunk in pd.read_csv(csv_file,chunksize=c_size):\n",
    "\n",
    "        # Iterate over the column in DataFrame\n",
    "        for entry in chunk[colname]:\n",
    "            if entry in counts_dict.keys():\n",
    "                counts_dict[entry] += 1\n",
    "            else:\n",
    "                counts_dict[entry] = 1\n",
    "\n",
    "    # Return counts_dict\n",
    "    return counts_dict\n",
    "\n",
    "# Call count_entries(): result_counts\n",
    "result_counts = count_entries(\"./tweets.csv\",10,'lang')\n",
    "\n",
    "# Print result_counts\n",
    "print(result_counts)"
   ]
  },
  {
   "cell_type": "markdown",
   "id": "ef557ba5",
   "metadata": {},
   "source": [
    "## Comprehensions(递推表达式)\n",
    "### Motivation\n",
    "if you want create a list through another list,for loop is inefficient\n",
    "### list comprehension\n",
    "The syntax is as follows: \n",
    "#### nested list comprehension\n",
    "in output expression,you can also use list comprehensions.\n",
    "\n",
    "You may observe that while it keeps to a single line of code, we sacrifice some readability of the code as a tradeoff, so you'll have to consider if you'd like to use list comprehensions in cases such as this. The more often you use this, the more you get used to reading list comprehensions, so readability may not be a problem for you later on. But do remember that others may have to read your code as well!"
   ]
  },
  {
   "cell_type": "code",
   "execution_count": 180,
   "id": "66f847b8",
   "metadata": {
    "scrolled": true
   },
   "outputs": [
    {
     "name": "stdout",
     "output_type": "stream",
     "text": [
      "[[(0, 6), (0, 7)], [(1, 6), (1, 7)]]\n"
     ]
    }
   ],
   "source": [
    "my_list = [ [ (num1,num2) for num2 in range(6,8)] \\\n",
    "           for num1 in range(2)]\n",
    "print(my_list)"
   ]
  },
  {
   "cell_type": "markdown",
   "id": "aef75eb9",
   "metadata": {},
   "source": [
    "### Advanced Comprehension\n",
    "#### Conditionals in comprehensions\n",
    "`[output expression + conditional on output for iterator variable in iterable +conditional on iterable]`\n",
    "\n",
    "##### condition iterator variable in comprehensions\n",
    "\n",
    "\n",
    "you used an if conditional statement in the `predicate expression` part of a list comprehension to evaluate an iterator variable.\n",
    "##### condition outexpression in comprehensions\n",
    "We can also use an `if-else` statement on the output expression in comprehensions\n",
    "#### Dictionary Comprehension\n",
    "outexpression中用冒号分隔键值对  \n",
    "we can also write dictionary comprehensions to create new dictionaries from iterables. The syntax is almost the same as in list comprehensions and there are 2 differences. \n",
    "\n",
    "One, we use curly braces instead of square brackets. \n",
    "\n",
    "Two, the key and value are separated by a colon in the output expression"
   ]
  },
  {
   "cell_type": "code",
   "execution_count": 195,
   "id": "408f4ed2",
   "metadata": {},
   "outputs": [
    {
     "name": "stdout",
     "output_type": "stream",
     "text": [
      "['samwise', 'aragorn', 'legolas', 'boromir']\n"
     ]
    }
   ],
   "source": [
    "# condition outexpression in comprehensions\n",
    "fellowship = ['frodo', 'samwise', 'merry', 'aragorn', 'legolas', 'boromir', 'gimli']\n",
    "new_fellowship = [member for member in fellowship \\\n",
    "                  if len(member) >= 7]\n",
    "print(new_fellowship)"
   ]
  },
  {
   "cell_type": "code",
   "execution_count": 194,
   "id": "2dd4463e",
   "metadata": {},
   "outputs": [
    {
     "name": "stdout",
     "output_type": "stream",
     "text": [
      "['', 'samwise', '', 'aragorn', 'legolas', 'boromir', '']\n"
     ]
    }
   ],
   "source": [
    "# condition outexpression in comprehensions\n",
    "fellowship = ['frodo', 'samwise', 'merry', 'aragorn', 'legolas', 'boromir', 'gimli']\n",
    "new_fellowship = [member if len(member)>=7 else \"\" \\\n",
    "                  for member in fellowship]\n",
    "print(new_fellowship)"
   ]
  },
  {
   "cell_type": "markdown",
   "id": "8fac2c8a",
   "metadata": {},
   "source": [
    "### positional arguments VS keyword arguments\n",
    "Positional arguments are arguments that need to be included in the proper position or order.\n",
    "\n",
    "A keyword argument is name followed by an equal sign and an expression that gives its value.  \n",
    "Python allows functions to be called using keyword arguments. When we call functions in this way, the order (position) of the arguments can be changed. \n",
    "\n",
    "注意:必须先将positional arguments输入后才能接着输入keyword arguments，keyword arguments的输入可以没有任何顺序"
   ]
  },
  {
   "cell_type": "code",
   "execution_count": 103,
   "id": "dc152c7a",
   "metadata": {},
   "outputs": [
    {
     "name": "stdout",
     "output_type": "stream",
     "text": [
      "HEYHEYHEYHEYHEY!!!\n",
      "HEY!!!\n"
     ]
    }
   ],
   "source": [
    "def shout_echo(word1, echo=1, intense=False):\n",
    "    \"\"\"Concatenate echo copies of word1 and three\n",
    "    exclamation marks at the end of the string.\"\"\"\n",
    "    echo_word = word1 * echo\n",
    "    if intense is True:\n",
    "        echo_word_new = echo_word.upper() + '!!!'\n",
    "    else:\n",
    "        echo_word_new = echo_word + '!!!'\n",
    "    return echo_word_new\n",
    "with_big_echo = shout_echo(\"Hey\",5,True)\n",
    "big_no_echo = shout_echo(\"Hey\",intense=True)\n",
    "print(with_big_echo)\n",
    "print(big_no_echo)"
   ]
  },
  {
   "cell_type": "markdown",
   "id": "bb1a35d3",
   "metadata": {},
   "source": [
    "### Pratice\n",
    "#### Dictionaries for data science"
   ]
  },
  {
   "cell_type": "code",
   "execution_count": 233,
   "id": "efe25f11",
   "metadata": {},
   "outputs": [
    {
     "name": "stdout",
     "output_type": "stream",
     "text": [
      "{'CountryName': 'Arab World', 'CountryCode': 'ARB', 'IndicatorName': 'Adolescent fertility rate (births per 1,000 women ages 15-19)', 'IndicatorCode': 'SP.ADO.TFRT', 'Year': '1960', 'Value': '133.56090740552298'}\n"
     ]
    }
   ],
   "source": [
    "row_vals = ['Arab World','ARB',\n",
    " 'Adolescent fertility rate (births per 1,000 women ages 15-19)',\n",
    " 'SP.ADO.TFRT','1960','133.56090740552298']\n",
    "feature_names = ['CountryName','CountryCode',\n",
    " 'IndicatorName','IndicatorCode','Year','Value']\n",
    "zipped_lists = zip(feature_names,row_vals)\n",
    "rs_dict = dict(zipped_lists)\n",
    "print(rs_dict)"
   ]
  },
  {
   "cell_type": "markdown",
   "id": "ccbcefc8",
   "metadata": {},
   "source": [
    "#### Processing data in chunks"
   ]
  },
  {
   "cell_type": "code",
   "execution_count": 241,
   "id": "5c41aea5",
   "metadata": {},
   "outputs": [
    {
     "name": "stdout",
     "output_type": "stream",
     "text": [
      "{'Arab World': 80, 'Caribbean small states': 77, 'Central Europe and the Baltics': 71, 'East Asia & Pacific (all income levels)': 122, 'East Asia & Pacific (developing only)': 123, 'Euro area': 119, 'Europe & Central Asia (all income levels)': 109, 'Europe & Central Asia (developing only)': 89, 'European Union': 116, 'Fragile and conflict affected situations': 76, 'Heavily indebted poor countries (HIPC)': 18}\n"
     ]
    }
   ],
   "source": [
    "with open('world_dev_ind.csv') as file:\n",
    "    file.readline()\n",
    "    counts_dict = {}\n",
    "    for j in range(1000):\n",
    "        line = file.readline().split(',')\n",
    "        first_col = line[0]\n",
    "        if first_col in counts_dict.keys():\n",
    "            counts_dict[first_col] += 1\n",
    "        else:\n",
    "            counts_dict[first_col] = 1\n",
    "print(counts_dict)"
   ]
  }
 ],
 "metadata": {
  "kernelspec": {
   "display_name": "conda env:python36",
   "language": "python",
   "name": "python36"
  },
  "language_info": {
   "codemirror_mode": {
    "name": "ipython",
    "version": 3
   },
   "file_extension": ".py",
   "mimetype": "text/x-python",
   "name": "python",
   "nbconvert_exporter": "python",
   "pygments_lexer": "ipython3",
   "version": "3.6.13"
  }
 },
 "nbformat": 4,
 "nbformat_minor": 5
}
