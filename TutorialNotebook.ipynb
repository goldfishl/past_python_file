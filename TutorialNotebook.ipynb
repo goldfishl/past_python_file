{
 "cells": [
  {
   "cell_type": "markdown",
   "metadata": {},
   "source": [
    "# Python Tutorial of Machine-Learning"
   ]
  },
  {
   "cell_type": "markdown",
   "metadata": {},
   "source": [
    "### Python Shell\n",
    "Python shell, a place where you can type Python code and immediately see the results.\n",
    "### IPython\n",
    "The Python shell that's used here is actually not the original one; we're using IPython, short for Interactive Python(简称为交互式Python), which is some kind of juiced up version of regular Python that'll be useful later on(Python的加强版本). IPython was created by Fernando Pérez and is part of the broader Jupyter ecosystem. Apart from interactively working with Python, you can also have Python run so called python scripts.(除了和python交互外，也可以直接运行python脚本)"
   ]
  },
  {
   "cell_type": "markdown",
   "metadata": {},
   "source": [
    "## Chapter 1:Basic Data Type  \n",
    "Python has a number of basic types including integers, floats, booleans, and strings. # These data types behave in ways that are familiar from other programming languages.\n",
    "\n"
   ]
  },
  {
   "cell_type": "markdown",
   "metadata": {},
   "source": [
    "### Strings"
   ]
  },
  {
   "cell_type": "code",
   "execution_count": 7,
   "metadata": {
    "scrolled": false
   },
   "outputs": [
    {
     "name": "stdout",
     "output_type": "stream",
     "text": [
      "my name is long,25 year-old\n"
     ]
    }
   ],
   "source": [
    "#format strings\n",
    "str = \"my name is %s,%d year-old\" % (\"long\",25)\n",
    "print(str)"
   ]
  },
  {
   "cell_type": "markdown",
   "metadata": {},
   "source": [
    "如果字符串里面有引号，那么定义字符串就应该使用不同的引号。  \n",
    "里面是单引号，外面就用双引号。  \n",
    "里面是双引号，外面就用单引号。"
   ]
  },
  {
   "cell_type": "code",
   "execution_count": 4,
   "metadata": {
    "scrolled": true
   },
   "outputs": [
    {
     "name": "stdout",
     "output_type": "stream",
     "text": [
      "他说：'你好'\n",
      "他说：\"你好\"\n"
     ]
    }
   ],
   "source": [
    "str1 = \"他说：'你好'\"\n",
    "print(str1)\n",
    "str2 = '他说：\"你好\"'\n",
    "print(str2)"
   ]
  },
  {
   "cell_type": "markdown",
   "metadata": {},
   "source": [
    "A string can multiplied by an integer"
   ]
  },
  {
   "cell_type": "code",
   "execution_count": 61,
   "metadata": {
    "scrolled": true
   },
   "outputs": [
    {
     "name": "stdout",
     "output_type": "stream",
     "text": [
      "aa\n",
      "LongLongLong\n"
     ]
    }
   ],
   "source": [
    "print('a'*2)\n",
    "print('Long'*3)"
   ]
  },
  {
   "cell_type": "markdown",
   "metadata": {},
   "source": [
    "#### Str methods\n",
    "capitalize():使字符串首字母大写  \n",
    "replace(old, new[, count]) -> str"
   ]
  },
  {
   "cell_type": "code",
   "execution_count": 68,
   "metadata": {
    "scrolled": false
   },
   "outputs": [
    {
     "name": "stdout",
     "output_type": "stream",
     "text": [
      "Liz\n",
      "lisa\n"
     ]
    }
   ],
   "source": [
    "sister = 'liz'\n",
    "print(sister.capitalize())\n",
    "print(sister.replace('z','sa'))"
   ]
  },
  {
   "cell_type": "markdown",
   "metadata": {},
   "source": [
    "### Complex Number\n",
    "Python has build-in type of complex number"
   ]
  },
  {
   "cell_type": "code",
   "execution_count": 2,
   "metadata": {
    "scrolled": false
   },
   "outputs": [
    {
     "name": "stdout",
     "output_type": "stream",
     "text": [
      "(12+3j)\n",
      "<class 'complex'>\n"
     ]
    }
   ],
   "source": [
    "# Create a complex number,\n",
    "ComplexNum = (12+3j)    # or ues ComplexNum = complex(12,3)\n",
    "print(ComplexNum)\n",
    "print(type(ComplexNum))"
   ]
  },
  {
   "cell_type": "code",
   "execution_count": null,
   "metadata": {
    "scrolled": false
   },
   "outputs": [],
   "source": [
    "#real component & imagine component\n",
    "print(ComplexNum.real)  # print the real component\n",
    "print(ComplexNum.imag)  # print the imagine component"
   ]
  },
  {
   "cell_type": "markdown",
   "metadata": {},
   "source": [
    "### Operator\n",
    "The following operators are different from c language\n",
    "\n",
    "|operator|description|\n",
    "| :----: | :------------: |\n",
    "|   **   |  Exponentiation(指数运算)|\n",
    "|   //   |  取整除 |\n",
    "\n",
    "The operator behaved differently for different data types.  \n",
    "\"+\" operator:  \n",
    "For the integers, the values were summed  \n",
    "For the strings, the strings were pasted together"
   ]
  },
  {
   "cell_type": "code",
   "execution_count": 58,
   "metadata": {
    "scrolled": false
   },
   "outputs": [
    {
     "name": "stdout",
     "output_type": "stream",
     "text": [
      "3\n",
      "My first name is: Long\n",
      "2\n"
     ]
    }
   ],
   "source": [
    "print(1+2)\n",
    "print(\"My first name is: \"+\"Long\")\n",
    "print(True+True)"
   ]
  },
  {
   "cell_type": "markdown",
   "metadata": {},
   "source": [
    "## Containers:List & Dictionary & sets & tuples"
   ]
  },
  {
   "cell_type": "markdown",
   "metadata": {},
   "source": [
    "### List\n",
    "A list is an ordered and resizeable array of elements  \n",
    "A list can contain elements of different types,almost any Python object include containers type and even function  \n",
    "ordered:索引序号与元素的对应关系与创建时保持一致  \n",
    "array:有sequence特性"
   ]
  },
  {
   "cell_type": "code",
   "execution_count": 5,
   "metadata": {
    "scrolled": true
   },
   "outputs": [
    {
     "name": "stdout",
     "output_type": "stream",
     "text": [
      "[1, 2, 'too']\n"
     ]
    }
   ],
   "source": [
    "#Create a list\n",
    "my_list=[] #create a empty list\n",
    "my_list = [1,2,\"too\"]\n",
    "print(my_list) "
   ]
  },
  {
   "cell_type": "code",
   "execution_count": 33,
   "metadata": {
    "scrolled": false
   },
   "outputs": [
    {
     "name": "stdout",
     "output_type": "stream",
     "text": [
      "[1, 2, 3, 4, [5, 6], {'age': 25}, {'dog', 'cat'}, (10, 11)]\n",
      "[1, 2, 3, 4, [5, 6, 7], {'age': 25}, {'dog', 'cat'}, (10, 11)]\n"
     ]
    }
   ],
   "source": [
    "my_list1 = [1,2,3,4]\n",
    "my_list2 = [5,6]\n",
    "dictionary = {\"age\":25}\n",
    "s = {\"cat\",\"dog\",\"cat\"}\n",
    "tup = (10,11)\n",
    "\n",
    "my_list1.append(my_list2)\n",
    "my_list1.append(dictionary)\n",
    "my_list1.append(s)\n",
    "my_list1.append(tup)\n",
    "print(my_list1)\n",
    "my_list2.append(7)\n",
    "print(my_list1)"
   ]
  },
  {
   "cell_type": "code",
   "execution_count": 53,
   "metadata": {
    "scrolled": false
   },
   "outputs": [
    {
     "name": "stdout",
     "output_type": "stream",
     "text": [
      "[1, 2, 3, <function replace at 0x7f9819b27488>]\n",
      "['long', 2, 3, <function replace at 0x7f9819b27488>]\n"
     ]
    }
   ],
   "source": [
    "def replace(arg):\n",
    "    arg[0] = \"long\"\n",
    "my_list = [1,2,3]\n",
    "my_list.append(replace)\n",
    "print(my_list)\n",
    "my_list[3](my_list)\n",
    "print(my_list)"
   ]
  },
  {
   "cell_type": "markdown",
   "metadata": {},
   "source": [
    "#### Indices\n",
    "Notice:the end of the slice is exclusive and that the index starts at zero!   \n",
    "\n",
    "Negetive indices support  \n",
    "my_list = [1,2,\"too\"] \n",
    "\n",
    "| 1| 2 | \"too\"|\n",
    "|---|---|---- |\n",
    "| 0 | 1 | 2   |\n",
    "| -3| -2| -1  |  \n",
    "\n",
    "#### Slicing\n",
    "[start:end]  \n",
    "\n",
    "| start|end|\n",
    "|  ---- |---|\n",
    "|include|exclude|  \n",
    "\n",
    "However, it's also possible not to specify these indexes. If you don't specify the begin index, Python figures out that you want to start your slice at the beginning of your list. If you don't specify the end index, the slice will go all the way to the last element of your list. "
   ]
  },
  {
   "cell_type": "code",
   "execution_count": null,
   "metadata": {
    "scrolled": false
   },
   "outputs": [],
   "source": [
    "print(my_list[-1])\n",
    "print(my_list[1:])   # Get a slice from index 1 to the end"
   ]
  },
  {
   "cell_type": "code",
   "execution_count": null,
   "metadata": {
    "scrolled": false
   },
   "outputs": [],
   "source": [
    "#Loop over the elements in list\n",
    "for x in my_list :\n",
    "    print(x)\n",
    "#Loop over the indices and elements\n",
    "for i,x in enumerate(my_list) :\n",
    "    print(str(i+1) + \":\" +str(x))"
   ]
  },
  {
   "cell_type": "code",
   "execution_count": 16,
   "metadata": {
    "scrolled": false
   },
   "outputs": [
    {
     "name": "stdout",
     "output_type": "stream",
     "text": [
      "[0, 4, 16]\n"
     ]
    }
   ],
   "source": [
    "#List Comprehension(列表推导式)用于创建list\n",
    "#new_list=[expression_for_member for member in iterable if condition]\n",
    "my_list=[x**2 for x in range(5) if x%2 == 0]\n",
    "print(my_list)"
   ]
  },
  {
   "cell_type": "code",
   "execution_count": null,
   "metadata": {
    "scrolled": false
   },
   "outputs": [],
   "source": [
    "# Quick sort complementation using list\n",
    "def QuickSort(arr) :\n",
    "    if len(arr) <= 1 :\n",
    "        return arr\n",
    "    pivot = arr[0]\n",
    "    left = [x for x in arr if x < pivot]\n",
    "    middle = [x for x in arr if x == pivot]\n",
    "    right = [x for x in arr if x > pivot]\n",
    "    return QuickSort(left) + middle + QuickSort(right)"
   ]
  },
  {
   "cell_type": "markdown",
   "metadata": {},
   "source": [
    "#### Manipulating List\n",
    "List's methods can change the objects they are called on sometime, it can also be pretty dangerous, so watch out.\n",
    "##### '+' operator in list\n",
    "Use the '+' operator in list can build a list which paste the right list to the end of the right list\n",
    "##### Replace list elements\n",
    "Replacing list elements is pretty easy. Simply subset the list and assign new values to the subset. You can select single elements or you can change entire list slices at once.\n",
    "##### Delete list elements\n",
    "you can use the 'del' build-in function to remove elements from your list.  \n",
    "Pay attention here: as soon as you remove an element from a list, the indexes of the elements that come after the deleted element all change!\n",
    "<img src=\"./picture1.png\" width=250 height=300>\n",
    "<img src=\"./picture2.png\" width=250 height=250>\n",
    "注意选项一的误导性：先删除下标10的元素，会导致原list的下标发生变化，无法得到预期的结果\n",
    "<!-- ![jupyter](./picture2.png) -->"
   ]
  },
  {
   "cell_type": "code",
   "execution_count": 11,
   "metadata": {
    "scrolled": true
   },
   "outputs": [
    {
     "name": "stdout",
     "output_type": "stream",
     "text": [
      "['hallway', 11.25, 'kitchen', 18.0, 'chill zone', 20.0, 'bedroom', 10.75, 'bathroom', 10.5, 'poolhouse', 24.5]\n",
      "['chill zone', 10.5, 11.25, 'kitchen', 18.0, 'chill zone', 20.0, 'bedroom', 10.75, 'bathroom', 10.5, 'poolhouse', 24.5]\n",
      "['chill zone', 10.5, 11.25, 'kitchen', 18.0, 'chill zone', 20.0, 'bedroom', 10.75, 'bathroom', 10.5]\n"
     ]
    }
   ],
   "source": [
    "areas = [\"hallway\", 11.25, \"kitchen\", 18.0, \"chill zone\", 20.0,\n",
    "         \"bedroom\", 10.75, \"bathroom\", 10.50]\n",
    "areas_1 = areas + [\"poolhouse\", 24.5]\n",
    "print(areas_1)\n",
    "areas_1[:1] = [\"chill zone\",10.5]\n",
    "print(areas_1)\n",
    "del(areas_1[-2:])\n",
    "print(areas_1)"
   ]
  },
  {
   "cell_type": "markdown",
   "metadata": {},
   "source": [
    "#### Inner workings of lists\n",
    "Identfier of list does not actually contain all the list elements, it rather contains a reference to the list!  \n",
    "Let's store the list x as a new variable y, by simply using the equals sign.  \n",
    "<img src=\"./picture3.png\" width=350 height=300>  \n",
    "Let's now change the element with index one in the list y, like this.\n",
    "<img src=\"./picture4.png\" width=350 height=300>  \n",
    "When you're updating an element the list, it's one and the same list in the computer memory your changing. Both x and y point to this list, so the update is visible from both variables. If you want to create a list y that points to a new list in the memory with the same values,you'll need to use something else than the equals sign. You can use the list function,like this, or use slicing [:] to select all list elements explicitly.  \n",
    "<img src=\"./picture5.png\" width=400 height=250>  \n",
    "If you now make a change to the list y points to, x is not affected.  \n",
    "<img src=\"./picture6.png\" width=400 height=250>"
   ]
  },
  {
   "cell_type": "markdown",
   "metadata": {},
   "source": [
    "#### List methods\n",
    "index():to get the index of a element  \n",
    "count():to count the number of a element in list  \n",
    "reverse():to reverses the order of the elements in the list it is called on"
   ]
  },
  {
   "cell_type": "code",
   "execution_count": 66,
   "metadata": {
    "scrolled": false
   },
   "outputs": [
    {
     "name": "stdout",
     "output_type": "stream",
     "text": [
      "0\n",
      "2\n"
     ]
    }
   ],
   "source": [
    "fam = ['lisa',1.72,'emma',1.72]\n",
    "print(fam.index('lisa'))\n",
    "print(fam.count(1.72))"
   ]
  },
  {
   "cell_type": "markdown",
   "metadata": {},
   "source": [
    "### Dictionary\n",
    "\n",
    "A dictionary stores (key:value)pairs  \n",
    "\n",
    "Dictionaries are inherently unordered\n",
    "\n",
    "the keys in a dictionary should be unique. If you try to add another key:value pair to world with the same key, the last pair that you specified in the curly brackets was kept in the resulting dictionary.(curly bracket:大括号)\n",
    "\n",
    "Also, these unique keys in a dictionary should be so-called immutable objects.  \n",
    "Basically, the content of immutable objects cannot be changed after they're created.  \n",
    "\n",
    "Dictionaries can contain key:value pairs where the values are again dictionaries."
   ]
  },
  {
   "cell_type": "code",
   "execution_count": 12,
   "metadata": {
    "scrolled": false
   },
   "outputs": [
    {
     "name": "stdout",
     "output_type": "stream",
     "text": [
      "{'name': 'long', 'gender': 'famale', 'height': 173}\n",
      "{'spain': {'capital': 'madrid', 'population': 46.77}, 'france': {'capital': 'paris', 'population': 66.03}, 'germany': {'capital': 'berlin', 'population': 80.62}, 'norway': {'capital': 'oslo', 'population': 5.084}}\n"
     ]
    }
   ],
   "source": [
    "#Create a dictionary\n",
    "d = {} #create a empty dictionary\n",
    "d = {\"name\":\"zhang\",\"gender\":\"famale\",\"height\":173,\"name\":\"long\"}\n",
    "print(d)\n",
    "europe = { 'spain': { 'capital':'madrid', 'population':46.77 },\n",
    "           'france': { 'capital':'paris', 'population':66.03 },\n",
    "           'germany': { 'capital':'berlin', 'population':80.62 },\n",
    "           'norway': { 'capital':'oslo', 'population':5.084 } }\n",
    "print(europe)"
   ]
  },
  {
   "cell_type": "code",
   "execution_count": 18,
   "metadata": {},
   "outputs": [
    {
     "name": "stdout",
     "output_type": "stream",
     "text": [
      "{'name': 'long', 'gender': 'famale', 'height': 173, 'test': {1, 2, 3}}\n"
     ]
    }
   ],
   "source": [
    "d['test'] = {1,2,3}\n",
    "print(d)"
   ]
  },
  {
   "cell_type": "code",
   "execution_count": 4,
   "metadata": {
    "scrolled": false
   },
   "outputs": [
    {
     "name": "stdout",
     "output_type": "stream",
     "text": [
      "{'name': 'long', 'gender': 'famale', 'height': 173, 'weight': 71}\n",
      "{'name': 'long', 'height': 173, 'weight': 71}\n"
     ]
    }
   ],
   "source": [
    "#add or delete a pair in dictionary\n",
    "d[\"weight\"] = 71\n",
    "print(d)\n",
    "del(d[\"gender\"])  # del d[\"gender\"]\n",
    "print(d)"
   ]
  },
  {
   "cell_type": "code",
   "execution_count": 3,
   "metadata": {
    "scrolled": false
   },
   "outputs": [
    {
     "name": "stdout",
     "output_type": "stream",
     "text": [
      "long\n",
      "famale\n",
      "173\n",
      "name:long\n",
      "gender:famale\n",
      "height:173\n",
      "True\n"
     ]
    }
   ],
   "source": [
    "#Loop over the keys in dictionary\n",
    "for attribute in d:\n",
    "    print(d[attribute])\n",
    "#Loop over keys and their corresponding values,use the item()\n",
    "for attribute,value in d.items():\n",
    "    print(\"%s:%s\" % (str(attribute),str(value)))\n",
    "print(\"height\" in d)"
   ]
  },
  {
   "cell_type": "code",
   "execution_count": 19,
   "metadata": {
    "scrolled": false
   },
   "outputs": [
    {
     "name": "stdout",
     "output_type": "stream",
     "text": [
      "{'name': 'long', 'height': 173}\n"
     ]
    }
   ],
   "source": [
    "# dictionary comprehension\n",
    "my_list = [\"name\",\"long\",\"height\",173]\n",
    "dictionary = {my_list[i-1]:x for i,x in enumerate(my_list) if (i+1)%2==0}\n",
    "print(dictionary)"
   ]
  },
  {
   "cell_type": "markdown",
   "metadata": {},
   "source": [
    "#### methods\n",
    "##### `keys()`\n",
    "Check out which keys are in dictionary by calling the `keys()` method"
   ]
  },
  {
   "cell_type": "markdown",
   "metadata": {},
   "source": [
    "### List vs Dictionary\n",
    "The list is a sequence of values that are indexed by a range of numbers.  \n",
    "The dictionary is indexed by unique keys, that can be any immutable type.  \n",
    "\n",
    "|  List  |  Dictionary  |\n",
    "|  :---: |     :---:    |\n",
    "|indexed by range of numbers|indexed by unique keys|\n",
    "|collection of values;|Lookup table with unique keys|\n",
    "|order matters;| |\n",
    "|select entire subsets| |\n",
    "\n",
    "#### When to use which one\n",
    "if you have a collection of values where the order matters, and you want to easily select entire subsets of data, you'll want to go with a list. \n",
    "\n",
    "If, on the other hand, you need some sort of look up table, where looking for data should be fast and where you can specify unique keys, a dictionary is the preferred option."
   ]
  },
  {
   "cell_type": "code",
   "execution_count": 37,
   "metadata": {},
   "outputs": [
    {
     "name": "stdout",
     "output_type": "stream",
     "text": [
      "dict_keys(['name', 'gender', 'height'])\n"
     ]
    }
   ],
   "source": [
    "d = {\"name\":\"long\",\"gender\":\"famale\",\"height\":173}\n",
    "print(d.keys())"
   ]
  },
  {
   "cell_type": "markdown",
   "metadata": {},
   "source": [
    "### Set(集合)\n",
    "A set is an unordered collection of distinct elements  \n",
    "unordered:所谓无序是指数据结构上的无序，区别于列表，即set的索引序号与元素的对应关系不一定与创建时一致  \n",
    "distinct:不重复性，set中的元素不会重复"
   ]
  },
  {
   "cell_type": "code",
   "execution_count": null,
   "metadata": {
    "scrolled": false
   },
   "outputs": [],
   "source": [
    "#create a set\n",
    "s = set()   #create a empty set,note the difference from creation of a empty dictionary\n",
    "            #set([iterable])    iterable -- 可迭代对象对象；\n",
    "s = set(\"ddsasad\")\n",
    "print(s)\n",
    "s = {\"cat\",\"dog\",\"fish\"}\n",
    "print(s)\n"
   ]
  },
  {
   "cell_type": "code",
   "execution_count": null,
   "metadata": {
    "scrolled": false
   },
   "outputs": [],
   "source": [
    "#Iterating over a set has the same syntax as iterating over a list; \n",
    "#however since sets are unordered, you cannot make assumptions about the order in which you visit the elements of the set\n",
    "for i,x in enumerate(s):\n",
    "    print(str(i)+\":\"+str(x))"
   ]
  },
  {
   "cell_type": "code",
   "execution_count": 32,
   "metadata": {
    "scrolled": false
   },
   "outputs": [
    {
     "data": {
      "text/plain": [
       "{'b', 'd', 'l', 'm', 'r', 'z'}"
      ]
     },
     "execution_count": 32,
     "metadata": {},
     "output_type": "execute_result"
    }
   ],
   "source": [
    "# 下面展示两个集合间的运算.\n",
    "...\n",
    ">>> a = set('abracadabra')\n",
    ">>> b = set('alacazam')\n",
    ">>> a                                  \n",
    "{'a', 'r', 'b', 'c', 'd'}\n",
    ">>> a - b                              # 集合a中包含而集合b中不包含的元素\n",
    "{'r', 'd', 'b'}\n",
    ">>> a | b                              # 集合a或b中包含的所有元素\n",
    "{'a', 'c', 'r', 'd', 'b', 'm', 'z', 'l'}\n",
    ">>> a & b                              # 集合a和b中都包含了的元素\n",
    "{'a', 'c'}\n",
    ">>> a ^ b                              # 不同时包含于a和b的元素\n",
    "{'r', 'd', 'b', 'm', 'z', 'l'}"
   ]
  },
  {
   "cell_type": "code",
   "execution_count": 13,
   "metadata": {
    "scrolled": false
   },
   "outputs": [
    {
     "name": "stdout",
     "output_type": "stream",
     "text": [
      "{'dsa2', 'dsa', 'dsa1'}\n"
     ]
    }
   ],
   "source": [
    "type([1,2])\n",
    "s={\"dsa\",\"dsa\"}\n",
    "# s.update({\"dsa1\":\"qw\",\"dsa2\":12})\n",
    "s |= set({\"dsa1\":\"qw\",\"dsa2\":12})\n",
    "print(s)"
   ]
  },
  {
   "cell_type": "markdown",
   "metadata": {},
   "source": [
    "### Tuple\n",
    "a tuple is an immutable ordered list of values  \n",
    "immutable:tuple isn't allowed to delete,update and add its elements.  "
   ]
  },
  {
   "cell_type": "code",
   "execution_count": 47,
   "metadata": {
    "scrolled": false
   },
   "outputs": [
    {
     "name": "stdout",
     "output_type": "stream",
     "text": [
      "('cat', 'dog', 1111, 52)\n"
     ]
    }
   ],
   "source": [
    "# create a tuple\n",
    "tup = ()    # create a empty tuple\n",
    "tup = ('cat',\"dog\",1111,52)\n",
    "print(tup)"
   ]
  },
  {
   "cell_type": "markdown",
   "metadata": {},
   "source": [
    "A tuple is in many ways similar to a list;  \n",
    "one of the most important differences is that tuples can be used as keys in dictionaries and as elements of sets, while lists cannot."
   ]
  },
  {
   "cell_type": "code",
   "execution_count": 39,
   "metadata": {
    "scrolled": false
   },
   "outputs": [
    {
     "name": "stdout",
     "output_type": "stream",
     "text": [
      "{(-1, 0): 0, (1, 2): 4}\n"
     ]
    }
   ],
   "source": [
    "dictionary = {(x-1,x):x**2 for x in range(4) if x%2==0}\n",
    "print(dictionary)"
   ]
  },
  {
   "cell_type": "markdown",
   "metadata": {},
   "source": [
    "### Identfier of containers jsut like the pointer in c language"
   ]
  },
  {
   "cell_type": "code",
   "execution_count": 51,
   "metadata": {
    "scrolled": false
   },
   "outputs": [
    {
     "name": "stdout",
     "output_type": "stream",
     "text": [
      "{'name': 'long', 'age': 25}\n",
      "{'name': 'Jinyu', 'age': 25}\n"
     ]
    }
   ],
   "source": [
    "def replace(arg):\n",
    "    arg['name'] = \"Jinyu\"\n",
    "dictionary = {\"name\":\"long\",\"age\":25}\n",
    "print(dictionary)\n",
    "replace(dictionary)\n",
    "print(dictionary)"
   ]
  },
  {
   "cell_type": "markdown",
   "metadata": {},
   "source": [
    "## Numpy\n",
    "Numpy is a core library for scientific computing  \n",
    "It provide a high-performance multidimensional array object and tools for working with these arrays\n",
    "### Motivation\n",
    "A list can hold any type and can hold different types at the same time. You can also change, add and remove elements,this is wonderful.However,When analyzing data, you'll often want to carry out operations over entire collections of values, and you want to do this fast. With lists, this is a problem.\n",
    "#### Illustration\n",
    "Let's retake the heights of your family and yourself. Suppose you've also asked for everybody's weight. It's not very polite, but everything for science, right? You end up with two lists, height, and weight. The first person is 1-point-73 meters tall and weighs 65-point-4 kilograms. If you now want to calculate the Body Mass Index for each family member, you'd hope that this call can work, making the calculations element-wise. Unfortunately, Python throws an error, because it has no idea how to do calculations on lists. You could solve this by going through each list element one after the other, and calculating the BMI for each person separately, but this is terribly inefficient and tiresome to write.  \n",
    "<img src=\"./picture10.png\" width=100% height=400>\n",
    "### Solution: Numpy\n",
    "A way more elegant solution is to use NumPy, or Numeric Python. It's a Python package that, among others, provides a alternative to the regular python list: the Numpy array. The Numpy array is pretty similar to the list, but has one additional feature: you can perform calculations over entire arrays. It's really easy, and super-fast as well. "
   ]
  },
  {
   "cell_type": "code",
   "execution_count": 90,
   "metadata": {
    "scrolled": false
   },
   "outputs": [
    {
     "name": "stdout",
     "output_type": "stream",
     "text": [
      "[21.85171573 20.97505669 21.75028214 24.7473475  21.44127836]\n"
     ]
    }
   ],
   "source": [
    "import numpy as np\n",
    "height = [1.73, 1.68, 1.71, 1.89, 1.79]\n",
    "weight = [65.4, 59.2, 63.6, 88.4, 68.7]\n",
    "#Create a numpy array\n",
    "np_weight = np.array(weight)\n",
    "np_height = np.array(height)\n",
    "bmi = np_weight / np_height**2\n",
    "print(bmi)"
   ]
  },
  {
   "cell_type": "markdown",
   "metadata": {},
   "source": [
    "### Numpy Subsetting\n",
    "you can work with Numpy arrays pretty much the same as you can with regular Python lists.  \n",
    "\n",
    "Specifically for Numpy, there's also another way to do list subsetting: using an array of booleans.  \n",
    "A first step is using the comparsion Operators  \n",
    "The result is a Numpy array containing booleans: True if the corresponding elements comform the comparsion condition,False if it's not.  \n",
    "Next, you can use this boolean array inside square brackets to do subsetting,so for which the corresponding boolean value is True, is selected.\n",
    "\n",
    "Typically, Python can't tell how two objects with different types relate.(通常来说python不能进行两种不同数据类型的比较)\n",
    "\n",
    "Behind the scenes, Numpy builds a numpy array of the same size filled with the number and then performs an element-wise comparison.\n"
   ]
  },
  {
   "cell_type": "code",
   "execution_count": 78,
   "metadata": {
    "scrolled": false
   },
   "outputs": [
    {
     "name": "stdout",
     "output_type": "stream",
     "text": [
      "[20.97505669]\n"
     ]
    }
   ],
   "source": [
    "is_lightweight = bmi <21\n",
    "print(bmi[is_lightweight])"
   ]
  },
  {
   "cell_type": "markdown",
   "metadata": {},
   "source": [
    "### Numpy: remarks\n",
    "Numpy array can only contain values of a single type. It's either an array of floats, either an array of booleans, and so on. \n",
    "\n",
    "If you do try to create an array with different types,the resulting Numpy array will contain a single type:  \n",
    "The boolean,the string and the float were both converted to strings.  \n",
    "The boolean and the float were both converted to float,'True' convert to '1', and 'False' convert to '0'"
   ]
  },
  {
   "cell_type": "code",
   "execution_count": 81,
   "metadata": {
    "scrolled": false
   },
   "outputs": [
    {
     "name": "stdout",
     "output_type": "stream",
     "text": [
      "['1.0' 'is' 'True']\n",
      "[1. 0. 1.]\n",
      "[4 5 2]\n"
     ]
    }
   ],
   "source": [
    "print(np.array([1.0, \"is\", True]))\n",
    "print(np.array([1.0, False, True]))\n",
    "print(np.array([True, 1, 2]) + np.array([3, 4, False]))"
   ]
  },
  {
   "cell_type": "markdown",
   "metadata": {},
   "source": [
    "#### Numpy boolen operato\n",
    "If you combine two numpy array with the `and` operator,it will induce a error.  \n",
    "`print(bmi < 22 and bmi > 21)`\n",
    "\n",
    "After some digging in the numpy documentation, you can find the functions logical_and, logical_or and logical_not, the \"array equivalents\" of and or and not."
   ]
  },
  {
   "cell_type": "code",
   "execution_count": 94,
   "metadata": {},
   "outputs": [
    {
     "name": "stdout",
     "output_type": "stream",
     "text": [
      "[ True False  True False  True]\n",
      "[21.85171573 21.75028214 21.44127836]\n"
     ]
    }
   ],
   "source": [
    "print(np.logical_and(bmi < 22,bmi > 21))\n",
    "print(bmi[np.logical_and(bmi < 22,bmi > 21)])"
   ]
  },
  {
   "cell_type": "markdown",
   "metadata": {},
   "source": [
    "### 2D Numpy Arrays\n",
    "#### Type of Numpy Arrays\n",
    "If you ask for the type of these arrays, Python tells you that they are numpy.ndarray. numpy dot tells you it's a type that was defined in the numpy package. ndarray stands for n-dimensional array.  \n",
    "it's perfectly possible to create 2 dimensional, three dimensional, heck even seven dimensional arrays!\n",
    "#### 2D Numpy Arrays\n",
    "You can create a 2D numpy array from a regular Python list of lists.  \n",
    "it is a rectangular data structure: Each sublist in the list, corresponds to a row in the two dimensional numpy array.   \n",
    "'shape' is a so-called attribute of the numpy array, that can give you dimensional information of numpy array.\n",
    "#### Subsetting\n",
    "Basically you're selecting the row, and then from that row do another selection. There's also an alternative way of subsetting, using single square brackets and a comma. This call returns the exact same value as before. The value before the comma specifies the row, the value after the comma specifies the column.The intersection of the rows and columns you specified, are returned.  \n",
    "Once you get used to it, this syntax is more intuitive and opens up more possibilities.  \n",
    "\n",
    "By using slice,The intersection can gives us a 2D array  \n",
    "The ':' is for slicing, it tells Python to include some rows or columns."
   ]
  },
  {
   "cell_type": "code",
   "execution_count": 86,
   "metadata": {
    "scrolled": false
   },
   "outputs": [
    {
     "name": "stdout",
     "output_type": "stream",
     "text": [
      "(2, 5)\n",
      "65.4\n",
      "65.4\n",
      "[[ 1.73  1.68]\n",
      " [65.4  59.2 ]]\n"
     ]
    }
   ],
   "source": [
    "np_2d = np.array([[1.73, 1.68, 1.71, 1.89, 1.79],\\\n",
    "                  [65.4, 59.2, 63.6, 88.4, 68.7]])\n",
    "print(np_2d.shape)\n",
    "print(np_2d[1][0])\n",
    "print(np_2d[1,0])\n",
    "print(np_2d[:,:2])"
   ]
  },
  {
   "cell_type": "markdown",
   "metadata": {},
   "source": [
    "#### 2D Arithmetic\n",
    "2D numpy arrays enable you to do element-wise calculations, the same way you did it with 1D numpy arrays.  \n",
    "You can combine matrices with single numbers, with vectors, and with other matrices."
   ]
  },
  {
   "cell_type": "code",
   "execution_count": 88,
   "metadata": {
    "scrolled": false
   },
   "outputs": [
    {
     "name": "stdout",
     "output_type": "stream",
     "text": [
      "[[ 2  4]\n",
      " [ 6  8]\n",
      " [10 12]]\n",
      "[[11 12]\n",
      " [13 14]\n",
      " [15 16]]\n",
      "[[ 2  4]\n",
      " [ 6  8]\n",
      " [10 12]]\n"
     ]
    }
   ],
   "source": [
    "import numpy as np\n",
    "np_mat = np.array([[1, 2],\n",
    "                   [3, 4],\n",
    "                   [5, 6]])\n",
    "print(np_mat * 2)\n",
    "print(np_mat + np.array([10, 10])) # equal to \"np_mat + 10\"\n",
    "print(np_mat + np_mat)"
   ]
  },
  {
   "cell_type": "markdown",
   "metadata": {},
   "source": [
    "### Difference Between array and matrix in numpy\n",
    "matrix是array的分支\n",
    "####  Dimension\n",
    "numpy array(ndarrays) can be N-dimension  \n",
    "\n",
    "numpy matrix must be 2-dimension  \n",
    "\n",
    "注意：  \n",
    "1.一维的numpy数组不是向量或矩阵,此时shape属性中是没有列值的,如果需要当作向量来操,可以使用list of list来生成array  \n",
    "\n",
    "2.matrix和array在很多时候都是通用的，由于array可以表示更高维度的数据，更灵活，速度更快，官方建议选择array,必要时再转换成matrix\n",
    "#### Attribute\n",
    "numpy array和matrix 都有`.T`属性来表示它们的转置\n",
    "\n",
    "matrix还有`.H`属性表示共轭转置,`.I`表示逆矩阵\n",
    "#### Method\n",
    "两者可以互相用`.asmatrix()`或`.asarray()`互相转换"
   ]
  },
  {
   "cell_type": "code",
   "execution_count": 124,
   "metadata": {},
   "outputs": [
    {
     "name": "stdout",
     "output_type": "stream",
     "text": [
      "(3,)\n",
      "(3,)\n",
      "(1, 3)\n",
      "(3, 1)\n"
     ]
    }
   ],
   "source": [
    "import numpy as np\n",
    "arr = np.array([1,2,3])  # arr 不算矩阵\n",
    "print(arr.shape)\n",
    "print(arr.T.shape)\n",
    "\n",
    "mat = np.mat([1,2,3])\n",
    "print(mat.shape)\n",
    "print(mat.T.shape)"
   ]
  },
  {
   "cell_type": "markdown",
   "metadata": {},
   "source": [
    "### Operation\n",
    "#### array\n",
    "numpy array 大多数操作符号都是element-wise的,比如`*`操作和`np.multiply()`函数,都是对应元素相乘(element-wise multiplication)  \n",
    "\n",
    "例如：\n",
    "\n",
    "$$ x = \\begin{bmatrix}\n",
    "1 & 2\\\\\n",
    "3 & 4\n",
    "\\end{bmatrix},\n",
    "y=\\begin{bmatrix}\n",
    "1 \\\\ 2\n",
    "\\end{bmatrix},\n",
    "z=\\begin{bmatrix}\n",
    "1 & 2\n",
    "\\end{bmatrix}$$\n",
    "$$ x*y=\\begin{bmatrix}\n",
    "1 & 2\\\\\n",
    "6 & 8\n",
    "\\end{bmatrix},\n",
    "x*z=\\begin{bmatrix}\n",
    "1 & 4\\\\\n",
    "3 & 8\n",
    "\\end{bmatrix}\n",
    "$$  \n",
    "\n",
    "对应元素相乘一般需要向量的行或列与矩阵相等,或者两个矩阵行与列相等  \n",
    "\n",
    "`@`操作和`.dot()`方法或`np.dot()`函数,进程矩阵乘法\n",
    "#### matrix\n",
    "matrix的优势就是相对简单的运算符号,可以直接用`*`操作表示矩阵乘法,但是也兼容array的函数和方法"
   ]
  },
  {
   "cell_type": "code",
   "execution_count": 127,
   "metadata": {},
   "outputs": [
    {
     "name": "stdout",
     "output_type": "stream",
     "text": [
      "(1, 2)\n",
      "[[1 2]\n",
      " [6 8]]\n",
      "[[1 4]\n",
      " [3 8]]\n"
     ]
    }
   ],
   "source": [
    "x = np.array([ [1,2],[3,4] ])\n",
    "y = np.array([[1,2]])\n",
    "print(y.shape)\n",
    "print(x*y.T)\n",
    "print(np.multiply(x,y))"
   ]
  },
  {
   "cell_type": "markdown",
   "metadata": {},
   "source": [
    "### Numpy: Basic Statistics\n",
    "However, the big difference here is speed. Because Numpy enforces a single data type in an array, it can drastically speed up the calculations.\n",
    "#### Motivation:to know your data\n",
    "A typical first step in analyzing your data is getting to know your data in the first place.  \n",
    "As a data scientist, you'll be crunching thousands, if not millions or billions of numbers.  \n",
    "What you can do, though, is generate summarizing statistics about your data.\n",
    "#### Motivation:to do sanity check\n",
    "Often, these summarizing statistics will provide you with a \"sanity check\" of your data. If you end up with a average weight of 2000 kilograms, your measurements are most likely incorrect.  \n",
    "sanity check:数据的健全性检查，通过平均值、中位数和标准差等统计数据来检查数据中是否存在异常值等问题  \n",
    "#### mean value\n",
    "you can try to find out the average value of your data set, with Numpy's `mean()` function.  \n",
    "Because it's a function from the Numpy package, don't forget to start with np  \n",
    "#### median\n",
    "median is the middle value if you sort all data from small to big.  \n",
    "you can simply use Numpy's 'median()' function\n",
    "#### more function in numpy  \n",
    "`corrcoeff()`:to check if for example height and weight are correlated  \n",
    "`std()`:for standard deviation  \n",
    "and so on,such as sum and sort, which also exist in the basic Python distribution.  \n",
    "#### Generate data\n",
    "Just a sidenote here: If you're wondering how I came up with the data in this video: We simulated it with Numpy functions! I sampled two random distributions 5000 times to create the height and weight arrays, and then used column_stack to paste them together as two columns. Another awesome thing that Numpy can do! Another great tool to get some sense of your data is to visualize it, but that's something for the next course also."
   ]
  },
  {
   "cell_type": "code",
   "execution_count": 104,
   "metadata": {
    "scrolled": false
   },
   "outputs": [
    {
     "name": "stdout",
     "output_type": "stream",
     "text": [
      "1.8544999999999998\n",
      "1.85\n",
      "0.16524148994728896\n",
      "[[1.        0.2840335]\n",
      " [0.2840335 1.       ]]\n"
     ]
    }
   ],
   "source": [
    "# help(np.random.normal)\n",
    "#用于抽取服从正态分布的样本\n",
    "#arg1:样本均值；arg2:样本标准差；arg3:样本个数\n",
    "np_height_cm = np.round(np.random.normal(1.75,0.2,20),2)\n",
    "np_weight_kg = np.round(np.random.normal(60.32,15,20),2)\n",
    "# help(np.column_stack)\n",
    "# Stack 1-D arrays as columns into a 2-D array.\n",
    "# arg1:包含array的tup\n",
    "np_city = np.column_stack((np_height_cm,np_weight))\n",
    "print(np.mean(np_height_cm))\n",
    "print(np.median(np_height_cm))\n",
    "print(np.std(np_height_cm))\n",
    "print(np.corrcoef(np_city[:,0],np_city[:,1]))"
   ]
  },
  {
   "cell_type": "markdown",
   "metadata": {},
   "source": [
    "#### Outlier\n",
    "however, you notice that some height values are abnormally high.  \n",
    "Mean value and median as summary statistic is best suited if you're dealing with so-called outliers."
   ]
  },
  {
   "cell_type": "code",
   "execution_count": 103,
   "metadata": {
    "scrolled": false
   },
   "outputs": [
    {
     "name": "stdout",
     "output_type": "stream",
     "text": [
      "28.04375\n",
      "1.755\n"
     ]
    }
   ],
   "source": [
    "np_height_cm = np.array([1.64 ,1.49 ,1.79 ,18.4 ,20.7 ,177 ,1.72 ,1.61])\n",
    "print(np.mean(np_height_cm))\n",
    "print(np.median(np_height_cm))"
   ]
  },
  {
   "cell_type": "markdown",
   "metadata": {},
   "source": [
    "#### Exercise\n",
    "You've contacted FIFA for some data and they handed you two lists. The lists are the following:  \n",
    "`positions = ['GK', 'M', 'A', 'D', ...]\n",
    "heights = [191, 184, 185, 180, ...]`  \n",
    "Each element in the lists corresponds to a player. The first list, `positions`, contains strings representing each player's position. The possible positions are: `'GK'` (goalkeeper), `'M'` (midfield), `'A'` (attack) and `'D'` (defense). The second list, `heights`, contains integers representing the height of the player in cm. The first player in the lists is a goalkeeper and is pretty tall (191 cm).\n",
    "\n",
    "You're fairly confident that the median height of goalkeepers is higher than that of other players on the soccer field. Some of your friends don't believe you, so you are determined to show them using the data you received from FIFA and your newly acquired Python skills."
   ]
  },
  {
   "cell_type": "code",
   "execution_count": 107,
   "metadata": {
    "scrolled": false
   },
   "outputs": [
    {
     "name": "stdout",
     "output_type": "stream",
     "text": [
      "Median height of goalkeepers: 191.0\n",
      "Median height of other players: 183.0\n"
     ]
    }
   ],
   "source": [
    "heights = [191, 184, 185, 180, 181, 187, 170, 179, 183, 186, 185, 170, 187, 183, 173, 188, 183, 180, 188, 175, 193, 180, 185, 170, 183, 173, 185, 185, 168, 190]\n",
    "positions = ['GK', 'M', 'A', 'D', 'M', 'D', 'M', 'M', 'M', 'A', 'M', 'M', 'A', 'A', 'A', 'M', 'D', 'A', 'D', 'M', 'GK', 'D', 'D', 'M', 'M', 'M', 'M', 'D', 'M', 'GK']\n",
    "np_positions = np.array(positions)\n",
    "np_heights = np.array(heights)\n",
    "gk_heights = np_heights[np_positions == 'GK']\n",
    "other_heights = np_heights[np_positions != 'GK']\n",
    "print(\"Median height of goalkeepers: \" + str(np.median(gk_heights)))\n",
    "print(\"Median height of other players: \" + str(np.median(other_heights)))"
   ]
  },
  {
   "cell_type": "markdown",
   "metadata": {},
   "source": [
    "## Matplotlib\n",
    "There are many visualization packages in python, but the mother of them all, is matplotlib. \n",
    "### Motivation\n",
    "Data visualization, which is a very important part of data analysis. First of all, you will use it to explore your dataset. The better you understand your data, the better you'll be able to extract insights. And once you've found those insights, again, you'll need visualization to be able to share your valuable insights with other people.\n",
    "### pyplot\n",
    "pyplot is a subpackage of Matplotlib  \n",
    "By convention, this subpackage is imported as plt  \n",
    "`import matplotlib.pyplot as plt`\n",
    "### plot line chart(绘制折线图)\n",
    "we call `plt.plot()` and use our two lists as arguments.  \n",
    "The first argument corresponds to the horizontal axis, and the second one to the vertical axis.  \n",
    "There are several data points, and Python draws a line between them.\n",
    "\n",
    "If you pass only one argument, Python will know what to do and will use the index of the list to map onto the x axis, and the values in the list onto the y axis.\n",
    "#### `plt.show()`\n",
    "You might think that a plot will pop up right now, but Python's pretty lazy. It will wait for the `show()` function to actually display the plot. This is because you might want to add some extra ingredients to your plot before actually displaying it, such as titles and label customizations."
   ]
  },
  {
   "cell_type": "code",
   "execution_count": 2,
   "metadata": {
    "scrolled": false
   },
   "outputs": [
    {
     "data": {
      "image/png": "[encoded data removed]",
      "text/plain": [
       "<Figure size 432x288 with 1 Axes>"
      ]
     },
     "metadata": {
      "needs_background": "light"
     },
     "output_type": "display_data"
    }
   ],
   "source": [
    "import matplotlib.pyplot as plt\n",
    "year = [1950, 1951, 1952, 1953, 1954, 1955, 1956, 1957, 1958, 1959, 1960, 1961, 1962, 1963, 1964, 1965, 1966, 1967, 1968, 1969, 1970, 1971, 1972, 1973, 1974, 1975, 1976, 1977, 1978, 1979, 1980, 1981, 1982, 1983, 1984, 1985, 1986, 1987, 1988, 1989, 1990, 1991, 1992, 1993, 1994, 1995, 1996, 1997, 1998, 1999, 2000, 2001, 2002, 2003, 2004, 2005, 2006, 2007, 2008, 2009, 2010, 2011, 2012, 2013, 2014, 2015, 2016, 2017, 2018, 2019, 2020, 2021, 2022, 2023, 2024, 2025, 2026, 2027, 2028, 2029, 2030, 2031, 2032, 2033, 2034, 2035, 2036, 2037, 2038, 2039, 2040, 2041, 2042, 2043, 2044, 2045, 2046, 2047, 2048, 2049, 2050, 2051, 2052, 2053, 2054, 2055, 2056, 2057, 2058, 2059, 2060, 2061, 2062, 2063, 2064, 2065, 2066, 2067, 2068, 2069, 2070, 2071, 2072, 2073, 2074, 2075, 2076, 2077, 2078, 2079, 2080, 2081, 2082, 2083, 2084, 2085, 2086, 2087, 2088, 2089, 2090, 2091, 2092, 2093, 2094, 2095, 2096, 2097, 2098, 2099, 2100]\n",
    "pop = [2.53, 2.57, 2.62, 2.67, 2.71, 2.76, 2.81, 2.86, 2.92, 2.97, 3.03, 3.08, 3.14, 3.2, 3.26, 3.33, 3.4, 3.47, 3.54, 3.62, 3.69, 3.77, 3.84, 3.92, 4.0, 4.07, 4.15, 4.22, 4.3, 4.37, 4.45, 4.53, 4.61, 4.69, 4.78, 4.86, 4.95, 5.05, 5.14, 5.23, 5.32, 5.41, 5.49, 5.58, 5.66, 5.74, 5.82, 5.9, 5.98, 6.05, 6.13, 6.2, 6.28, 6.36, 6.44, 6.51, 6.59, 6.67, 6.75, 6.83, 6.92, 7.0, 7.08, 7.16, 7.24, 7.32, 7.4, 7.48, 7.56, 7.64, 7.72, 7.79, 7.87, 7.94, 8.01, 8.08, 8.15, 8.22, 8.29, 8.36, 8.42, 8.49, 8.56, 8.62, 8.68, 8.74, 8.8, 8.86, 8.92, 8.98, 9.04, 9.09, 9.15, 9.2, 9.26, 9.31, 9.36, 9.41, 9.46, 9.5, 9.55, 9.6, 9.64, 9.68, 9.73, 9.77, 9.81, 9.85, 9.88, 9.92, 9.96, 9.99, 10.03, 10.06, 10.09, 10.13, 10.16, 10.19, 10.22, 10.25, 10.28, 10.31, 10.33, 10.36, 10.38, 10.41, 10.43, 10.46, 10.48, 10.5, 10.52, 10.55, 10.57, 10.59, 10.61, 10.63, 10.65, 10.66, 10.68, 10.7, 10.72, 10.73, 10.75, 10.77, 10.78, 10.79, 10.81, 10.82, 10.83, 10.84, 10.85]\n",
    "plt.plot(year,pop)\n",
    "plt.show()"
   ]
  },
  {
   "cell_type": "markdown",
   "metadata": {},
   "source": [
    "### Scatter plot\n",
    "The resulting scatter plot simply plots all the individual data points; Python doesn't connect the dots with a line. For many applications, the scatter plot is often a better choice than the line plot, so remember this scatter function well. You could also say that this is a more -honest- way of plotting your data, because you can clearly see that the plot is based on just four data points.\n",
    "#### `plt.xscale('log')`\n",
    "Put the x-axis on a logarithmic scale(以对数形式显示x轴)  \n",
    "A correlation will become clear when you display the GDP per capita on a logarithmic scale. \n",
    "\n",
    "you saw that the higher GDP usually corresponds to a higher life expectancy. In other words, there is a positive correlation.\n",
    "there is not a relationship between population and life expectancy of a country"
   ]
  },
  {
   "cell_type": "code",
   "execution_count": 17,
   "metadata": {
    "scrolled": false
   },
   "outputs": [
    {
     "data": {
      "image/png": "[encoded data removed]",
      "text/plain": [
       "<Figure size 432x288 with 1 Axes>"
      ]
     },
     "metadata": {
      "needs_background": "light"
     },
     "output_type": "display_data"
    },
    {
     "data": {
      "image/png": "[encoded data removed]",
      "text/plain": [
       "<Figure size 432x288 with 1 Axes>"
      ]
     },
     "metadata": {
      "needs_background": "light"
     },
     "output_type": "display_data"
    },
    {
     "data": {
      "text/plain": [
       "<Figure size 432x288 with 0 Axes>"
      ]
     },
     "metadata": {},
     "output_type": "display_data"
    }
   ],
   "source": [
    "gdp_cap = [974.5803384, 5937.029525999998, 6223.367465, 4797.231267, 12779.37964, 34435.367439999995, 36126.4927, 29796.04834, 1391.253792, 33692.60508, 1441.284873, 3822.137084, 7446.298803, 12569.85177, 9065.800825, 10680.79282, 1217.032994, 430.0706916, 1713.778686, 2042.09524, 36319.23501, 706.016537, 1704.063724, 13171.63885, 4959.114854, 7006.580419, 986.1478792, 277.5518587, 3632.557798, 9645.06142, 1544.750112, 14619.222719999998, 8948.102923, 22833.30851, 35278.41874, 2082.4815670000007, 6025.3747520000015, 6873.262326000001, 5581.180998, 5728.353514, 12154.08975, 641.3695236000002, 690.8055759, 33207.0844, 30470.0167, 13206.48452, 752.7497265, 32170.37442, 1327.60891, 27538.41188, 5186.050003, 942.6542111, 579.2317429999998, 1201.637154, 3548.3308460000007, 39724.97867, 18008.94444, 36180.78919, 2452.210407, 3540.651564, 11605.71449, 4471.061906, 40675.99635, 25523.2771, 28569.7197, 7320.8802620000015, 31656.06806, 4519.461171, 1463.249282, 1593.06548, 23348.139730000006, 47306.98978, 10461.05868, 1569.331442, 414.5073415, 12057.49928, 1044.770126, 759.3499101, 12451.6558, 1042.581557, 1803.151496, 10956.99112, 11977.57496, 3095.7722710000007, 9253.896111, 3820.17523, 823.6856205, 944.0, 4811.060429, 1091.359778, 36797.93332, 25185.00911, 2749.320965, 619.6768923999998, 2013.977305, 49357.19017, 22316.19287, 2605.94758, 9809.185636, 4172.838464, 7408.905561, 3190.481016, 15389.924680000002, 20509.64777, 19328.70901, 7670.122558, 10808.47561, 863.0884639000002, 1598.435089, 21654.83194, 1712.472136, 9786.534714, 862.5407561000002, 47143.17964, 18678.31435, 25768.25759, 926.1410683, 9269.657808, 28821.0637, 3970.095407, 2602.394995, 4513.480643, 33859.74835, 37506.41907, 4184.548089, 28718.27684, 1107.482182, 7458.396326999998, 882.9699437999999, 18008.50924, 7092.923025, 8458.276384, 1056.380121, 33203.26128, 42951.65309, 10611.46299, 11415.80569, 2441.576404, 3025.349798, 2280.769906, 1271.211593, 469.70929810000007]\n",
    "life_exp = [43.828, 76.423, 72.301, 42.731, 75.32, 81.235, 79.829, 75.635, 64.062, 79.441, 56.728, 65.554, 74.852, 50.728, 72.39, 73.005, 52.295, 49.58, 59.723, 50.43, 80.653, 44.74100000000001, 50.651, 78.553, 72.961, 72.889, 65.152, 46.462, 55.322, 78.782, 48.328, 75.748, 78.273, 76.486, 78.332, 54.791, 72.235, 74.994, 71.33800000000002, 71.878, 51.57899999999999, 58.04, 52.947, 79.313, 80.657, 56.735, 59.448, 79.406, 60.022, 79.483, 70.259, 56.007, 46.38800000000001, 60.916, 70.19800000000001, 82.208, 73.33800000000002, 81.757, 64.69800000000001, 70.65, 70.964, 59.545, 78.885, 80.745, 80.546, 72.567, 82.603, 72.535, 54.11, 67.297, 78.623, 77.58800000000002, 71.993, 42.592, 45.678, 73.952, 59.44300000000001, 48.303, 74.241, 54.467, 64.164, 72.801, 76.195, 66.803, 74.543, 71.164, 42.082, 62.069, 52.90600000000001, 63.785, 79.762, 80.204, 72.899, 56.867, 46.859, 80.196, 75.64, 65.483, 75.53699999999998, 71.752, 71.421, 71.688, 75.563, 78.098, 78.74600000000002, 76.442, 72.476, 46.242, 65.528, 72.777, 63.062, 74.002, 42.56800000000001, 79.972, 74.663, 77.926, 48.159, 49.339, 80.941, 72.396, 58.556, 39.613, 80.884, 81.70100000000002, 74.143, 78.4, 52.517, 70.616, 58.42, 69.819, 73.923, 71.777, 51.542, 79.425, 78.242, 76.384, 73.747, 74.249, 73.422, 62.698, 42.38399999999999, 43.487]\n",
    "pop = [31.889923, 3.600523, 33.333216, 12.420476, 40.301927, 20.434176, 8.199783, 0.708573, 150.448339, 10.392226, 8.078314, 9.119152, 4.552198, 1.639131, 190.010647, 7.322858, 14.326203, 8.390505, 14.131858, 17.696293, 33.390141, 4.369038, 10.238807, 16.284741, 1318.683096, 44.22755, 0.71096, 64.606759, 3.80061, 4.133884, 18.013409, 4.493312, 11.416987, 10.228744, 5.46812, 0.496374, 9.319622, 13.75568, 80.264543, 6.939688, 0.551201, 4.906585, 76.511887, 5.23846, 61.083916, 1.454867, 1.688359, 82.400996, 22.873338, 10.70629, 12.572928, 9.947814, 1.472041, 8.502814, 7.483763, 6.980412, 9.956108, 0.301931, 1110.396331, 223.547, 69.45357, 27.499638, 4.109086, 6.426679, 58.147733, 2.780132, 127.467972, 6.053193, 35.610177, 23.301725, 49.04479, 2.505559, 3.921278, 2.012649, 3.193942, 6.036914, 19.167654, 13.327079, 24.821286, 12.031795, 3.270065, 1.250882, 108.700891, 2.874127, 0.684736, 33.757175, 19.951656, 47.76198, 2.05508, 28.90179, 16.570613, 4.115771, 5.675356, 12.894865, 135.031164, 4.627926, 3.204897, 169.270617, 3.242173, 6.667147, 28.674757, 91.077287, 38.518241, 10.642836, 3.942491, 0.798094, 22.276056, 8.860588, 0.199579, 27.601038, 12.267493, 10.150265, 6.144562, 4.553009, 5.447502, 2.009245, 9.118773, 43.997828, 40.448191, 20.378239, 42.292929, 1.133066, 9.031088, 7.554661, 19.314747, 23.174294, 38.13964, 65.068149, 5.701579, 1.056608, 10.276158, 71.158647, 29.170398, 60.776238, 301.139947, 3.447496, 26.084662, 85.262356, 4.018332, 22.211743, 11.746035, 12.311143]\n",
    "plt.scatter(gdp_cap, life_exp)\n",
    "plt.xscale('log')\n",
    "plt.show()\n",
    "plt.clf()\n",
    "plt.scatter(pop, life_exp)\n",
    "# plt.xscale('log')\n",
    "plt.show()\n",
    "plt.clf()"
   ]
  },
  {
   "cell_type": "markdown",
   "metadata": {},
   "source": [
    "### histogram\n",
    "The histogram is a type of visualization that's very useful to explore your data. It can help you to get an idea about the distribution of your variables.  \n",
    "#### bin\n",
    "To build a histogram for these values, you can divide the line into equal chunks, called bins.Finally, you draw a bar for each bin.  \n",
    "To see how it works, imagine 12 values between 0 and 6.Suppose you go for 3 bins, that each have a width of 2. Next, you count how many data points sit inside each bin.There's 4 data points in the first bin,6 in the second bin,and 2 in the third bin.\n",
    "<img src=\"./picture11.png\" width=60% height=150>\n",
    "##### Size of bin\n",
    "The number of bins is pretty important. Too few bins will oversimplify reality and won't show you the details. Too many bins will overcomplicate reality and won't show the bigger picture.\n",
    "#### plot histogram\n",
    "Finally, you draw a bar for each bin.The height of the bar corresponds to the number of data points that fall in this bin.\n",
    "\n",
    "you can use the `hist()` function to plot a histogram  \n",
    "There's a bunch of arguments you can specify, but the first two here are the most important ones. x should be a list of values you want to build a histogram for. You can use the second argument, bins, to tell Python into how many bins the data should be divided. Based on this number, hist will automatically find appropriate boundaries for all bins, and calculate how may values are in each one. If you don't specify the bins argument, it will by 10 by default."
   ]
  },
  {
   "cell_type": "code",
   "execution_count": 6,
   "metadata": {
    "scrolled": false
   },
   "outputs": [
    {
     "data": {
      "image/png": "[encoded data removed]",
      "text/plain": [
       "<Figure size 432x288 with 1 Axes>"
      ]
     },
     "metadata": {
      "needs_background": "light"
     },
     "output_type": "display_data"
    },
    {
     "data": {
      "image/png": "[encoded data removed]",
      "text/plain": [
       "<Figure size 432x288 with 1 Axes>"
      ]
     },
     "metadata": {
      "needs_background": "light"
     },
     "output_type": "display_data"
    },
    {
     "data": {
      "text/plain": [
       "<Figure size 432x288 with 0 Axes>"
      ]
     },
     "metadata": {},
     "output_type": "display_data"
    }
   ],
   "source": [
    "life_exp = [43.828, 76.423, 72.301, 42.731, 75.32, 81.235, 79.829, 75.635, 64.062, 79.441, 56.728, 65.554, 74.852, 50.728, 72.39, 73.005, 52.295, 49.58, 59.723, 50.43, 80.653, 44.74100000000001, 50.651, 78.553, 72.961, 72.889, 65.152, 46.462, 55.322, 78.782, 48.328, 75.748, 78.273, 76.486, 78.332, 54.791, 72.235, 74.994, 71.33800000000002, 71.878, 51.57899999999999, 58.04, 52.947, 79.313, 80.657, 56.735, 59.448, 79.406, 60.022, 79.483, 70.259, 56.007, 46.38800000000001, 60.916, 70.19800000000001, 82.208, 73.33800000000002, 81.757, 64.69800000000001, 70.65, 70.964, 59.545, 78.885, 80.745, 80.546, 72.567, 82.603, 72.535, 54.11, 67.297, 78.623, 77.58800000000002, 71.993, 42.592, 45.678, 73.952, 59.44300000000001, 48.303, 74.241, 54.467, 64.164, 72.801, 76.195, 66.803, 74.543, 71.164, 42.082, 62.069, 52.90600000000001, 63.785, 79.762, 80.204, 72.899, 56.867, 46.859, 80.196, 75.64, 65.483, 75.53699999999998, 71.752, 71.421, 71.688, 75.563, 78.098, 78.74600000000002, 76.442, 72.476, 46.242, 65.528, 72.777, 63.062, 74.002, 42.56800000000001, 79.972, 74.663, 77.926, 48.159, 49.339, 80.941, 72.396, 58.556, 39.613, 80.884, 81.70100000000002, 74.143, 78.4, 52.517, 70.616, 58.42, 69.819, 73.923, 71.777, 51.542, 79.425, 78.242, 76.384, 73.747, 74.249, 73.422, 62.698, 42.38399999999999, 43.487]\n",
    "plt.hist(life_exp,5)\n",
    "plt.show()\n",
    "plt.clf()\n",
    "plt.hist(life_exp,20)\n",
    "plt.show()\n",
    "plt.clf()"
   ]
  },
  {
   "cell_type": "markdown",
   "metadata": {},
   "source": [
    "### line-plot VS scatter-plot VS histogram\n",
    "#### line-plot\n",
    "When you have a time scale along the horizontal axis, the line plot is your friend.  \n",
    "#### scatter-plot\n",
    "But in many other cases, when you're trying to assess if there's a correlation between two variables, for example, the scatter plot is the better choice.  \n",
    "#### scatter-plot\n",
    "It can help you to get an idea about the distribution of your variables.And it was very easy to make a comparison."
   ]
  },
  {
   "cell_type": "code",
   "execution_count": 7,
   "metadata": {
    "scrolled": false
   },
   "outputs": [
    {
     "data": {
      "image/png": "[encoded data removed]",
      "text/plain": [
       "<Figure size 432x288 with 1 Axes>"
      ]
     },
     "metadata": {
      "needs_background": "light"
     },
     "output_type": "display_data"
    },
    {
     "data": {
      "image/png": "[encoded data removed]",
      "text/plain": [
       "<Figure size 432x288 with 1 Axes>"
      ]
     },
     "metadata": {
      "needs_background": "light"
     },
     "output_type": "display_data"
    },
    {
     "data": {
      "text/plain": [
       "<Figure size 432x288 with 0 Axes>"
      ]
     },
     "metadata": {},
     "output_type": "display_data"
    }
   ],
   "source": [
    "life_exp1950 = [28.8, 55.23, 43.08, 30.02, 62.48, 69.12, 66.8, 50.94, 37.48, 68.0, 38.22, 40.41, 53.82, 47.62, 50.92, 59.6, 31.98, 39.03, 39.42, 38.52, 68.75, 35.46, 38.09, 54.74, 44.0, 50.64, 40.72, 39.14, 42.11, 57.21, 40.48, 61.21, 59.42, 66.87, 70.78, 34.81, 45.93, 48.36, 41.89, 45.26, 34.48, 35.93, 34.08, 66.55, 67.41, 37.0, 30.0, 67.5, 43.15, 65.86, 42.02, 33.61, 32.5, 37.58, 41.91, 60.96, 64.03, 72.49, 37.37, 37.47, 44.87, 45.32, 66.91, 65.39, 65.94, 58.53, 63.03, 43.16, 42.27, 50.06, 47.45, 55.56, 55.93, 42.14, 38.48, 42.72, 36.68, 36.26, 48.46, 33.68, 40.54, 50.99, 50.79, 42.24, 59.16, 42.87, 31.29, 36.32, 41.72, 36.16, 72.13, 69.39, 42.31, 37.44, 36.32, 72.67, 37.58, 43.44, 55.19, 62.65, 43.9, 47.75, 61.31, 59.82, 64.28, 52.72, 61.05, 40.0, 46.47, 39.88, 37.28, 58.0, 30.33, 60.4, 64.36, 65.57, 32.98, 45.01, 64.94, 57.59, 38.64, 41.41, 71.86, 69.62, 45.88, 58.5, 41.22, 50.85, 38.6, 59.1, 44.6, 43.58, 39.98, 69.18, 68.44, 66.07, 55.09, 40.41, 43.16, 32.55, 42.04, 48.45]\n",
    "life_exp = [43.828, 76.423, 72.301, 42.731, 75.32, 81.235, 79.829, 75.635, 64.062, 79.441, 56.728, 65.554, 74.852, 50.728, 72.39, 73.005, 52.295, 49.58, 59.723, 50.43, 80.653, 44.74100000000001, 50.651, 78.553, 72.961, 72.889, 65.152, 46.462, 55.322, 78.782, 48.328, 75.748, 78.273, 76.486, 78.332, 54.791, 72.235, 74.994, 71.33800000000002, 71.878, 51.57899999999999, 58.04, 52.947, 79.313, 80.657, 56.735, 59.448, 79.406, 60.022, 79.483, 70.259, 56.007, 46.38800000000001, 60.916, 70.19800000000001, 82.208, 73.33800000000002, 81.757, 64.69800000000001, 70.65, 70.964, 59.545, 78.885, 80.745, 80.546, 72.567, 82.603, 72.535, 54.11, 67.297, 78.623, 77.58800000000002, 71.993, 42.592, 45.678, 73.952, 59.44300000000001, 48.303, 74.241, 54.467, 64.164, 72.801, 76.195, 66.803, 74.543, 71.164, 42.082, 62.069, 52.90600000000001, 63.785, 79.762, 80.204, 72.899, 56.867, 46.859, 80.196, 75.64, 65.483, 75.53699999999998, 71.752, 71.421, 71.688, 75.563, 78.098, 78.74600000000002, 76.442, 72.476, 46.242, 65.528, 72.777, 63.062, 74.002, 42.56800000000001, 79.972, 74.663, 77.926, 48.159, 49.339, 80.941, 72.396, 58.556, 39.613, 80.884, 81.70100000000002, 74.143, 78.4, 52.517, 70.616, 58.42, 69.819, 73.923, 71.777, 51.542, 79.425, 78.242, 76.384, 73.747, 74.249, 73.422, 62.698, 42.38399999999999, 43.487]\n",
    "\n",
    "plt.hist(life_exp,15)\n",
    "plt.show()\n",
    "plt.clf()\n",
    "plt.hist(life_exp1950,15)\n",
    "plt.show()\n",
    "plt.clf()"
   ]
  },
  {
   "cell_type": "markdown",
   "metadata": {},
   "source": [
    "### Customization\n",
    "Creating a plot is one thing. Making the correct plot, that makes the message very clear -- that's the real challenge.  \n",
    "#### Data visualization\n",
    "For each visualization, you have many options. First of all, there are the different plot types. And for each plot, you can do an infinite number of customizations. You can change colors, shapes, labels, axes, and so on. The choice depends on: one, the data, and two, the story you want to tell with this data. \n",
    "#### Axis labels\n",
    "First, it should be clearer which data we are displaying, especially to people who are seeing the graph for the first time. And second, the plot really needs to draw the attention to the population explosion.\n",
    "\n",
    "The first thing you always need to do is label your axes. Let's do this by adding the `xlabel()` and `ylabel()` functions. As inputs, we pass strings that should be placed alongside the axes. Make sure to call these functions before calling the show function, otherwise your customizations will not be displayed.\n",
    "#### Title\n",
    "We're also going to add a title to our plot, with the `title()` function. We pass the actual title, 'World Population Projections', as an argument."
   ]
  },
  {
   "cell_type": "code",
   "execution_count": 14,
   "metadata": {
    "scrolled": true
   },
   "outputs": [
    {
     "data": {
      "image/png": "[encoded data removed]",
      "text/plain": [
       "<Figure size 432x288 with 1 Axes>"
      ]
     },
     "metadata": {
      "needs_background": "light"
     },
     "output_type": "display_data"
    }
   ],
   "source": [
    "import matplotlib.pyplot as plt\n",
    "year = [1950, 1951, 1952, 1953, 1954, 1955, 1956, 1957, 1958, 1959, 1960, 1961, 1962, 1963, 1964, 1965, 1966, 1967, 1968, 1969, 1970, 1971, 1972, 1973, 1974, 1975, 1976, 1977, 1978, 1979, 1980, 1981, 1982, 1983, 1984, 1985, 1986, 1987, 1988, 1989, 1990, 1991, 1992, 1993, 1994, 1995, 1996, 1997, 1998, 1999, 2000, 2001, 2002, 2003, 2004, 2005, 2006, 2007, 2008, 2009, 2010, 2011, 2012, 2013, 2014, 2015, 2016, 2017, 2018, 2019, 2020, 2021, 2022, 2023, 2024, 2025, 2026, 2027, 2028, 2029, 2030, 2031, 2032, 2033, 2034, 2035, 2036, 2037, 2038, 2039, 2040, 2041, 2042, 2043, 2044, 2045, 2046, 2047, 2048, 2049, 2050, 2051, 2052, 2053, 2054, 2055, 2056, 2057, 2058, 2059, 2060, 2061, 2062, 2063, 2064, 2065, 2066, 2067, 2068, 2069, 2070, 2071, 2072, 2073, 2074, 2075, 2076, 2077, 2078, 2079, 2080, 2081, 2082, 2083, 2084, 2085, 2086, 2087, 2088, 2089, 2090, 2091, 2092, 2093, 2094, 2095, 2096, 2097, 2098, 2099, 2100]\n",
    "pop = [2.53, 2.57, 2.62, 2.67, 2.71, 2.76, 2.81, 2.86, 2.92, 2.97, 3.03, 3.08, 3.14, 3.2, 3.26, 3.33, 3.4, 3.47, 3.54, 3.62, 3.69, 3.77, 3.84, 3.92, 4.0, 4.07, 4.15, 4.22, 4.3, 4.37, 4.45, 4.53, 4.61, 4.69, 4.78, 4.86, 4.95, 5.05, 5.14, 5.23, 5.32, 5.41, 5.49, 5.58, 5.66, 5.74, 5.82, 5.9, 5.98, 6.05, 6.13, 6.2, 6.28, 6.36, 6.44, 6.51, 6.59, 6.67, 6.75, 6.83, 6.92, 7.0, 7.08, 7.16, 7.24, 7.32, 7.4, 7.48, 7.56, 7.64, 7.72, 7.79, 7.87, 7.94, 8.01, 8.08, 8.15, 8.22, 8.29, 8.36, 8.42, 8.49, 8.56, 8.62, 8.68, 8.74, 8.8, 8.86, 8.92, 8.98, 9.04, 9.09, 9.15, 9.2, 9.26, 9.31, 9.36, 9.41, 9.46, 9.5, 9.55, 9.6, 9.64, 9.68, 9.73, 9.77, 9.81, 9.85, 9.88, 9.92, 9.96, 9.99, 10.03, 10.06, 10.09, 10.13, 10.16, 10.19, 10.22, 10.25, 10.28, 10.31, 10.33, 10.36, 10.38, 10.41, 10.43, 10.46, 10.48, 10.5, 10.52, 10.55, 10.57, 10.59, 10.61, 10.63, 10.65, 10.66, 10.68, 10.7, 10.72, 10.73, 10.75, 10.77, 10.78, 10.79, 10.81, 10.82, 10.83, 10.84, 10.85]\n",
    "plt.plot(year,pop)\n",
    "plt.xlabel(\"Year\")\n",
    "plt.ylabel(\"Population\")\n",
    "plt.title(\"World Population Prediction\")\n",
    "plt.show()"
   ]
  },
  {
   "cell_type": "markdown",
   "metadata": {},
   "source": [
    "So, using xlabel, ylabel and title, we can give the reader more information about the data on the plot\n",
    "\n",
    "#### Ticks\n",
    "To put the population growth in perspective, I want to have the y-axis start from zero.  \n",
    "You can do this with the `yticks()` function. The first input is a list, in this example with the numbers zero up to ten, with intervals of 2.(从0到10间隔为2的数字)If we run this, the plot will change: the curve shifts up. "
   ]
  },
  {
   "cell_type": "code",
   "execution_count": 15,
   "metadata": {
    "scrolled": true
   },
   "outputs": [
    {
     "data": {
      "image/png": "[encoded data removed]",
      "text/plain": [
       "<Figure size 432x288 with 1 Axes>"
      ]
     },
     "metadata": {
      "needs_background": "light"
     },
     "output_type": "display_data"
    }
   ],
   "source": [
    "plt.plot(year,pop)\n",
    "plt.xlabel(\"Year\")\n",
    "plt.ylabel(\"Population\")\n",
    "plt.title(\"World Population Prediction\")\n",
    "plt.yticks([0, 2, 4, 6, 8, 10])\n",
    "plt.show()"
   ]
  },
  {
   "cell_type": "markdown",
   "metadata": {},
   "source": [
    "##### names of the ticks\n",
    "Next, to make it clear we're talking about billions, we can add a second argument to the yticks function, which is a list with the display names of the ticks. This list should have the same length as the first list. The tick 0 gets the name 0, the tick 2 gets the name 2B, the tick 4 gets the name 4B and so on. By the way, B stands for Billions here. If we run this version of the script,the labels will change accordingly."
   ]
  },
  {
   "cell_type": "code",
   "execution_count": 16,
   "metadata": {
    "scrolled": true
   },
   "outputs": [
    {
     "data": {
      "image/png": "[encoded data removed]",
      "text/plain": [
       "<Figure size 432x288 with 1 Axes>"
      ]
     },
     "metadata": {
      "needs_background": "light"
     },
     "output_type": "display_data"
    }
   ],
   "source": [
    "plt.plot(year,pop)\n",
    "plt.xlabel(\"Year\")\n",
    "plt.ylabel(\"Population\")\n",
    "plt.title(\"World Population Prediction\")\n",
    "plt.yticks([0, 2, 4, 6, 8, 10],\\\n",
    "           ['0', '2B', '4B', '6B', '8B', '10B'])\n",
    "plt.show()"
   ]
  },
  {
   "cell_type": "markdown",
   "metadata": {},
   "source": [
    "### Size of the scatter plot\n",
    "Right now, the scatter plot is just a cloud of blue dots, indistinguishable from each other. Let's change this. Wouldn't it be nice if the size of the dots corresponds to the population?  \n",
    "You can see that this list is added to the `scatter()` method, as the argument s, for size."
   ]
  },
  {
   "cell_type": "code",
   "execution_count": 24,
   "metadata": {},
   "outputs": [
    {
     "data": {
      "image/png": "[encoded data removed]",
      "text/plain": [
       "<Figure size 432x288 with 1 Axes>"
      ]
     },
     "metadata": {
      "needs_background": "light"
     },
     "output_type": "display_data"
    },
    {
     "data": {
      "text/plain": [
       "<Figure size 432x288 with 0 Axes>"
      ]
     },
     "metadata": {},
     "output_type": "display_data"
    }
   ],
   "source": [
    "gdp_cap = [974.5803384, 5937.029525999998, 6223.367465, 4797.231267, 12779.37964, 34435.367439999995, 36126.4927, 29796.04834, 1391.253792, 33692.60508, 1441.284873, 3822.137084, 7446.298803, 12569.85177, 9065.800825, 10680.79282, 1217.032994, 430.0706916, 1713.778686, 2042.09524, 36319.23501, 706.016537, 1704.063724, 13171.63885, 4959.114854, 7006.580419, 986.1478792, 277.5518587, 3632.557798, 9645.06142, 1544.750112, 14619.222719999998, 8948.102923, 22833.30851, 35278.41874, 2082.4815670000007, 6025.3747520000015, 6873.262326000001, 5581.180998, 5728.353514, 12154.08975, 641.3695236000002, 690.8055759, 33207.0844, 30470.0167, 13206.48452, 752.7497265, 32170.37442, 1327.60891, 27538.41188, 5186.050003, 942.6542111, 579.2317429999998, 1201.637154, 3548.3308460000007, 39724.97867, 18008.94444, 36180.78919, 2452.210407, 3540.651564, 11605.71449, 4471.061906, 40675.99635, 25523.2771, 28569.7197, 7320.8802620000015, 31656.06806, 4519.461171, 1463.249282, 1593.06548, 23348.139730000006, 47306.98978, 10461.05868, 1569.331442, 414.5073415, 12057.49928, 1044.770126, 759.3499101, 12451.6558, 1042.581557, 1803.151496, 10956.99112, 11977.57496, 3095.7722710000007, 9253.896111, 3820.17523, 823.6856205, 944.0, 4811.060429, 1091.359778, 36797.93332, 25185.00911, 2749.320965, 619.6768923999998, 2013.977305, 49357.19017, 22316.19287, 2605.94758, 9809.185636, 4172.838464, 7408.905561, 3190.481016, 15389.924680000002, 20509.64777, 19328.70901, 7670.122558, 10808.47561, 863.0884639000002, 1598.435089, 21654.83194, 1712.472136, 9786.534714, 862.5407561000002, 47143.17964, 18678.31435, 25768.25759, 926.1410683, 9269.657808, 28821.0637, 3970.095407, 2602.394995, 4513.480643, 33859.74835, 37506.41907, 4184.548089, 28718.27684, 1107.482182, 7458.396326999998, 882.9699437999999, 18008.50924, 7092.923025, 8458.276384, 1056.380121, 33203.26128, 42951.65309, 10611.46299, 11415.80569, 2441.576404, 3025.349798, 2280.769906, 1271.211593, 469.70929810000007]\n",
    "life_exp = [43.828, 76.423, 72.301, 42.731, 75.32, 81.235, 79.829, 75.635, 64.062, 79.441, 56.728, 65.554, 74.852, 50.728, 72.39, 73.005, 52.295, 49.58, 59.723, 50.43, 80.653, 44.74100000000001, 50.651, 78.553, 72.961, 72.889, 65.152, 46.462, 55.322, 78.782, 48.328, 75.748, 78.273, 76.486, 78.332, 54.791, 72.235, 74.994, 71.33800000000002, 71.878, 51.57899999999999, 58.04, 52.947, 79.313, 80.657, 56.735, 59.448, 79.406, 60.022, 79.483, 70.259, 56.007, 46.38800000000001, 60.916, 70.19800000000001, 82.208, 73.33800000000002, 81.757, 64.69800000000001, 70.65, 70.964, 59.545, 78.885, 80.745, 80.546, 72.567, 82.603, 72.535, 54.11, 67.297, 78.623, 77.58800000000002, 71.993, 42.592, 45.678, 73.952, 59.44300000000001, 48.303, 74.241, 54.467, 64.164, 72.801, 76.195, 66.803, 74.543, 71.164, 42.082, 62.069, 52.90600000000001, 63.785, 79.762, 80.204, 72.899, 56.867, 46.859, 80.196, 75.64, 65.483, 75.53699999999998, 71.752, 71.421, 71.688, 75.563, 78.098, 78.74600000000002, 76.442, 72.476, 46.242, 65.528, 72.777, 63.062, 74.002, 42.56800000000001, 79.972, 74.663, 77.926, 48.159, 49.339, 80.941, 72.396, 58.556, 39.613, 80.884, 81.70100000000002, 74.143, 78.4, 52.517, 70.616, 58.42, 69.819, 73.923, 71.777, 51.542, 79.425, 78.242, 76.384, 73.747, 74.249, 73.422, 62.698, 42.38399999999999, 43.487]\n",
    "pop = [31.889923, 3.600523, 33.333216, 12.420476, 40.301927, 20.434176, 8.199783, 0.708573, 150.448339, 10.392226, 8.078314, 9.119152, 4.552198, 1.639131, 190.010647, 7.322858, 14.326203, 8.390505, 14.131858, 17.696293, 33.390141, 4.369038, 10.238807, 16.284741, 1318.683096, 44.22755, 0.71096, 64.606759, 3.80061, 4.133884, 18.013409, 4.493312, 11.416987, 10.228744, 5.46812, 0.496374, 9.319622, 13.75568, 80.264543, 6.939688, 0.551201, 4.906585, 76.511887, 5.23846, 61.083916, 1.454867, 1.688359, 82.400996, 22.873338, 10.70629, 12.572928, 9.947814, 1.472041, 8.502814, 7.483763, 6.980412, 9.956108, 0.301931, 1110.396331, 223.547, 69.45357, 27.499638, 4.109086, 6.426679, 58.147733, 2.780132, 127.467972, 6.053193, 35.610177, 23.301725, 49.04479, 2.505559, 3.921278, 2.012649, 3.193942, 6.036914, 19.167654, 13.327079, 24.821286, 12.031795, 3.270065, 1.250882, 108.700891, 2.874127, 0.684736, 33.757175, 19.951656, 47.76198, 2.05508, 28.90179, 16.570613, 4.115771, 5.675356, 12.894865, 135.031164, 4.627926, 3.204897, 169.270617, 3.242173, 6.667147, 28.674757, 91.077287, 38.518241, 10.642836, 3.942491, 0.798094, 22.276056, 8.860588, 0.199579, 27.601038, 12.267493, 10.150265, 6.144562, 4.553009, 5.447502, 2.009245, 9.118773, 43.997828, 40.448191, 20.378239, 42.292929, 1.133066, 9.031088, 7.554661, 19.314747, 23.174294, 38.13964, 65.068149, 5.701579, 1.056608, 10.276158, 71.158647, 29.170398, 60.776238, 301.139947, 3.447496, 26.084662, 85.262356, 4.018332, 22.211743, 11.746035, 12.311143]\n",
    "plt.scatter(gdp_cap,life_exp,s = pop)\n",
    "plt.xscale('log') \n",
    "plt.xlabel('GDP per Capita [in USD]')\n",
    "plt.ylabel('Life Expectancy [in years]')\n",
    "plt.title('World Development in 2007')\n",
    "plt.xticks([1000, 10000, 100000],['1k', '10k', '100k'])\n",
    "plt.show()\n",
    "plt.clf()"
   ]
  },
  {
   "cell_type": "markdown",
   "metadata": {},
   "source": [
    "### Colors\n",
    "The next step is making the plot more colorful! To do this, a list `col` has been created for you. It's a list with a color for each corresponding country, depending on the continent the country is part of.  \n",
    "How did we make the list col you ask? The Gapminder data contains a list `continent` with the continent each country belongs to. A dictionary is constructed that maps continents onto colors:  \n",
    "```python \n",
    "dict = {\n",
    "    'Asia':'red',\n",
    "    'Europe':'green',\n",
    "    'Africa':'blue',\n",
    "    'Americas':'yellow',\n",
    "    'Oceania':'black'\n",
    "}\n",
    "```\n",
    "### Opacity of plot\n",
    "Change the opacity of the bubbles by setting the `alpha` argument  \n",
    "Alpha can be set from zero to one, where zero is totally transparent, and one is not at all transparent.\n",
    "### Text\n",
    "`text()` function can add the words into the plot.\n",
    "### gridiness(网格)\n",
    "`grid()` function can draw the gridiness into the plot."
   ]
  },
  {
   "cell_type": "code",
   "execution_count": 123,
   "metadata": {},
   "outputs": [
    {
     "data": {
      "image/png": "[encoded data removed]",
      "text/plain": [
       "<Figure size 1800x1200 with 1 Axes>"
      ]
     },
     "metadata": {
      "needs_background": "light"
     },
     "output_type": "display_data"
    }
   ],
   "source": [
    "col = ['red', 'green', 'blue', 'blue', 'yellow', 'black', 'green', 'red', 'red', 'green', 'blue', 'yellow', 'green', 'blue', 'yellow', 'green', 'blue', 'blue', 'red', 'blue', 'yellow', 'blue', 'blue', 'yellow', 'red', 'yellow', 'blue', 'blue', 'blue', 'yellow', 'blue', 'green', 'yellow', 'green', 'green', 'blue', 'yellow', 'yellow', 'blue', 'yellow', 'blue', 'blue', 'blue', 'green', 'green', 'blue', 'blue', 'green', 'blue', 'green', 'yellow', 'blue', 'blue', 'yellow', 'yellow', 'red', 'green', 'green', 'red', 'red', 'red', 'red', 'green', 'red', 'green', 'yellow', 'red', 'red', 'blue', 'red', 'red', 'red', 'red', 'blue', 'blue', 'blue', 'blue', 'blue', 'red', 'blue', 'blue', 'blue', 'yellow', 'red', 'green', 'blue', 'blue', 'red', 'blue', 'red', 'green', 'black', 'yellow', 'blue', 'blue', 'green', 'red', 'red', 'yellow', 'yellow', 'yellow', 'red', 'green', 'green', 'yellow', 'blue', 'green', 'blue', 'blue', 'red', 'blue', 'green', 'blue', 'red', 'green', 'green', 'blue', 'blue', 'green', 'red', 'blue', 'blue', 'green', 'green', 'red', 'red', 'blue', 'red', 'blue', 'yellow', 'blue', 'green', 'blue', 'green', 'yellow', 'yellow', 'yellow', 'red', 'red', 'red', 'blue', 'blue']\n",
    "plt.figure(dpi=300)\n",
    "plt.scatter(gdp_cap,life_exp,s = pop,c = col,alpha = 0.8)\n",
    "plt.xscale('log') \n",
    "plt.xlabel('GDP per Capita [in USD]')\n",
    "plt.ylabel('Life Expectancy [in years]')\n",
    "plt.title('World Development in 2007')\n",
    "plt.xticks([1000, 10000, 100000],['1k', '10k', '100k'])\n",
    "plt.text(1550, 71, 'India')\n",
    "plt.text(5700, 80, 'China')\n",
    "plt.grid(True)\n",
    "plt.show()"
   ]
  },
  {
   "cell_type": "markdown",
   "metadata": {},
   "source": [
    "## Pandas\n",
    "Pandas is a high level data manipulation tool developed by Wes McKinney, built on the Numpy and matplotlib package,providing high-performance, easy-to-use data structures and data analysis tools for Python. \n",
    "\n",
    "Compared to Numpy, it's more high level, making it very interesting for data scientists all over the world.\n",
    "\n",
    "In pandas, we store the tabular data like the brics table here in an object called a DataFrame.\n",
    "### Motivation\n",
    "As a data scientist, you'll often be working with tons of data. The form of this data can vary greatly, but pretty often, you can boil it down to a tabular structure, that is, in the form of a table like in a spreadsheet.\n",
    "#### 2D numpy array?\n",
    "Well, it's an option, but not necessarily the best one. In the two examples we covered, there are different data types and Numpy arrays are not great at handling these.  \n",
    "numpy数组为了加速运算只允许存储一种数据类型，然而大多数情况下我们的数据集包含多种不同的数据类型\n",
    "### Tabular dataset examples\n",
    "This data can come in the following form:  \n",
    "Every row is a measurement, or an observation, and for each observation, there are different variables.  \n",
    "<img src=\"./picture12.png\" width=70% height=175>\n",
    "### DataFrame\n",
    "The DataFrame is one of Pandas' most important data structures. It's basically a way to store tabular data where you can label the rows and the columns.\n",
    "\n",
    "\n",
    "Also notice that each row and column has a unique label(行和列都有唯一的标签)  \n",
    "\n",
    "Notice that the values in the different columns have different types.(不同列的值可以是不同的数据类型)\n",
    "### How to build DataFrame\n",
    "#### DataFrame from Dictionary\n",
    "The keys are the column labels, and the values are the corresponding columns, in list form.  \n",
    "After importing the pandas package as pd, you can create a DataFrame from the dictionary using `pd.DataFrame()`.  \n",
    "Pandas assigned some automatic row labels,to specify them manually, you can set the index attribute to a list with the correct labels.(手动指定列标签：将DataFrame的index属性设置为带有标签的List)"
   ]
  },
  {
   "cell_type": "code",
   "execution_count": 43,
   "metadata": {},
   "outputs": [
    {
     "name": "stdout",
     "output_type": "stream",
     "text": [
      "        country    capital    area  population\n",
      "0        Brazil   Brasilia   8.516      200.40\n",
      "1        Russia     Moscow  17.100      143.50\n",
      "2         India  New Delhi   3.286     1252.00\n",
      "3         China    Beijing   9.597     1357.00\n",
      "4  South Africa   Pretoria   1.221       52.98\n",
      "         country    capital    area  population\n",
      "BR        Brazil   Brasilia   8.516      200.40\n",
      "RU        Russia     Moscow  17.100      143.50\n",
      "IN         India  New Delhi   3.286     1252.00\n",
      "CH         China    Beijing   9.597     1357.00\n",
      "SA  South Africa   Pretoria   1.221       52.98\n"
     ]
    }
   ],
   "source": [
    "import pandas as pd\n",
    "dict = { \"country\":[\"Brazil\", \"Russia\", \"India\", \"China\", \"South Africa\"],\\\n",
    "        \"capital\":[\"Brasilia\", \"Moscow\", \"New Delhi\", \"Beijing\", \"Pretoria\"],\\\n",
    "        \"area\":[8.516, 17.10, 3.286, 9.597, 1.221],\\\n",
    "        \"population\":[200.4, 143.5, 1252, 1357, 52.98] }\n",
    "brics = pd.DataFrame(dict)\n",
    "print(brics)\n",
    "brics.index = ['BR','RU','IN','CH','SA']\n",
    "print(brics)"
   ]
  },
  {
   "cell_type": "markdown",
   "metadata": {},
   "source": [
    "#### DataFrame from external file\n",
    "Using a dictionary approach is fine, but what if you're working with tons of data, which is typically the case as a data scientist?\n",
    "\n",
    "In those cases, the data is typically available as files with a regular structure. One of those file types is the CSV file, which is short for \"comma-separated values\"  \n",
    "\n",
    "Instead, you import data from an external file that contains all this data.  \n",
    "##### CSV File\n",
    "CSV is short for comma separated values.(CSV是以逗号分隔数组的缩写)\n",
    "##### import from .CSV file\n",
    "we can do this by using Pandas `read_csv()` function,You pass the path to the csv file as an argument.\n",
    "\n",
    "there's still something wrong. The row labels are seen as a column in their own right. To solve this, we'll have to tell the read_csv function that the first column contains the row indexes. You do this by setting the `index_col` argument inside `pd.read_csv`.\n",
    "\n",
    "This time it  makes sure that the rows and columns are given appropriate labels. This is important to make accessing columns, rows and single elements in your DataFrame easy.\n",
    "\n",
    "The read_csv function features many more arguments that allow you to customize your data import, make sure to check out its documentation"
   ]
  },
  {
   "cell_type": "code",
   "execution_count": 55,
   "metadata": {
    "scrolled": false
   },
   "outputs": [
    {
     "name": "stdout",
     "output_type": "stream",
     "text": [
      "  Unnamed: 0       country    capital    area  population\n",
      "0         BR        Brazil   Brasilia   8.516      200.40\n",
      "1         RU        Russia     Moscow  17.100      143.50\n",
      "2         IN         India  New Delhi   3.286     1252.00\n",
      "3         CH         China    Beijing   9.597     1357.00\n",
      "4         SA  South Africa   Pretoria   1.221       52.98\n",
      "         country    capital    area  population\n",
      "BR        Brazil   Brasilia   8.516      200.40\n",
      "RU        Russia     Moscow  17.100      143.50\n",
      "IN         India  New Delhi   3.286     1252.00\n",
      "CH         China    Beijing   9.597     1357.00\n",
      "SA  South Africa   Pretoria   1.221       52.98\n"
     ]
    }
   ],
   "source": [
    "import pandas as pd\n",
    "brics = pd.read_csv(\"./brics.csv\")\n",
    "print(brics)\n",
    "brics = pd.read_csv(\"./brics.csv\",index_col = 0)\n",
    "print(brics)\n"
   ]
  },
  {
   "cell_type": "markdown",
   "metadata": {},
   "source": [
    "### Index and select data\n",
    "There are numerous ways in which you can index and select data from DataFrames.\n",
    "#### Column Access [ ]\n",
    "Suppose that you only want to select a column from DataFrame. \n",
    "\n",
    "you type the column label inside square brackets. \n",
    "\n",
    " But there's something strange here. The last line says Name: country, dtype: object.  \n",
    " \n",
    "So we're dealing with a Pandas Series here\n",
    "##### Series type of Pandas\n",
    "In a simplified sense, you can think of the Series as a 1-dimensional array that can be labeled, just like the DataFrame. Otherwise put, if you paste together a bunch of Series, you can create a DataFrame."
   ]
  },
  {
   "cell_type": "code",
   "execution_count": 61,
   "metadata": {
    "scrolled": false
   },
   "outputs": [
    {
     "name": "stdout",
     "output_type": "stream",
     "text": [
      "BR          Brazil\n",
      "RU          Russia\n",
      "IN           India\n",
      "CH           China\n",
      "SA    South Africa\n",
      "Name: country, dtype: object\n",
      "<class 'pandas.core.series.Series'>\n"
     ]
    }
   ],
   "source": [
    "country = brics[\"country\"]\n",
    "print(country)\n",
    "print(type(country))"
   ]
  },
  {
   "cell_type": "markdown",
   "metadata": {},
   "source": [
    "##### Selete data but keep the data in a DataFrame\n",
    "you'll need double square brackets.\n",
    "\n",
    "If you look at it from a different angle, you're actually putting a list with column labels inside another set of square bracket"
   ]
  },
  {
   "cell_type": "code",
   "execution_count": 64,
   "metadata": {},
   "outputs": [
    {
     "name": "stdout",
     "output_type": "stream",
     "text": [
      "         country\n",
      "BR        Brazil\n",
      "RU        Russia\n",
      "IN         India\n",
      "CH         China\n",
      "SA  South Africa\n",
      "<class 'pandas.core.frame.DataFrame'>\n",
      "         country    capital\n",
      "BR        Brazil   Brasilia\n",
      "RU        Russia     Moscow\n",
      "IN         India  New Delhi\n",
      "CH         China    Beijing\n",
      "SA  South Africa   Pretoria\n",
      "<class 'pandas.core.frame.DataFrame'>\n"
     ]
    }
   ],
   "source": [
    "country = brics[[\"country\"]]\n",
    "print(country)\n",
    "print(type(country))"
   ]
  },
  {
   "cell_type": "code",
   "execution_count": 73,
   "metadata": {},
   "outputs": [
    {
     "name": "stdout",
     "output_type": "stream",
     "text": [
      "         country    capital\n",
      "BR        Brazil   Brasilia\n",
      "RU        Russia     Moscow\n",
      "IN         India  New Delhi\n",
      "CH         China    Beijing\n",
      "SA  South Africa   Pretoria\n",
      "<class 'pandas.core.frame.DataFrame'>\n"
     ]
    }
   ],
   "source": [
    "capital = brics[[\"country\",\"capital\"]]\n",
    "print(capital)\n",
    "print(type(capital))"
   ]
  },
  {
   "cell_type": "markdown",
   "metadata": {},
   "source": [
    "#### Row Access [ ]\n",
    "The way to do it is by specifying a slice.To get the second, third and fourth rows of brics, we use the slice 1 colon 4. Remember that the end of the slice is exclusive and that the index starts at zero."
   ]
  },
  {
   "cell_type": "code",
   "execution_count": 67,
   "metadata": {},
   "outputs": [
    {
     "name": "stdout",
     "output_type": "stream",
     "text": [
      "   country    capital    area  population\n",
      "RU  Russia     Moscow  17.100       143.5\n",
      "IN   India  New Delhi   3.286      1252.0\n",
      "CH   China    Beijing   9.597      1357.0\n",
      "<class 'pandas.core.frame.DataFrame'>\n"
     ]
    }
   ],
   "source": [
    "print(brics[1:4])\n",
    "print(type(brics[1:4])) "
   ]
  },
  {
   "cell_type": "markdown",
   "metadata": {},
   "source": [
    "#### Adanced methods\n",
    "These square brackets work, but it only offers limited functionality. Ideally, we'd want something similar to 2D Numpy arrays. There, you also used square brackets, the index or slice before the comma referred to the rows, the index or slice after the comma referred to the columns. If we want to do a similar thing with Pandas, we have to extend our toolbox with the `loc()` and `iloc()` functions.\n",
    "##### loc(advanced method)\n",
    "loc is label-based, which means that you have to specify rows and columns based on their row and column labels.\n",
    "\n",
    "You put the label of the row of interest in square brackets after loc.we get a Pandas Series, containing all the row's information, rather inconveniently shown on different lines.(series信息单独在一列上显示，很不方便)\n",
    "\n",
    "To get a data frame, we have to put list which include the labels inside another pair of brackets.\n",
    "\n",
    "We can also select multiple rows at the same time.This will do the trick; simply add some more row labels to the list. "
   ]
  },
  {
   "cell_type": "code",
   "execution_count": 74,
   "metadata": {
    "scrolled": true
   },
   "outputs": [
    {
     "name": "stdout",
     "output_type": "stream",
     "text": [
      "country         China\n",
      "capital       Beijing\n",
      "area            9.597\n",
      "population       1357\n",
      "Name: CH, dtype: object\n",
      "<class 'pandas.core.series.Series'>\n"
     ]
    }
   ],
   "source": [
    "CH = brics.loc['CH']\n",
    "print(CH)\n",
    "print(type(CH))"
   ]
  },
  {
   "cell_type": "code",
   "execution_count": 75,
   "metadata": {},
   "outputs": [
    {
     "name": "stdout",
     "output_type": "stream",
     "text": [
      "   country  capital   area  population\n",
      "CH   China  Beijing  9.597      1357.0\n",
      "<class 'pandas.core.frame.DataFrame'>\n"
     ]
    }
   ],
   "source": [
    "DF_CH = brics.loc[['CH']]\n",
    "print(DF_CH)\n",
    "print(type(DF_CH))"
   ]
  },
  {
   "cell_type": "code",
   "execution_count": 76,
   "metadata": {},
   "outputs": [
    {
     "name": "stdout",
     "output_type": "stream",
     "text": [
      "   country    capital   area  population\n",
      "CH   China    Beijing  9.597      1357.0\n",
      "IN   India  New Delhi  3.286      1252.0\n"
     ]
    }
   ],
   "source": [
    "print(brics.loc[['CH','IN']])"
   ]
  },
  {
   "cell_type": "markdown",
   "metadata": {},
   "source": [
    "This was only selecting entire rows, that's something you could also do with the basic square brackets. The difference here is that you can extend your selection with a comma and a specification of the columns of interest.  \n",
    "(用这种在方括号中输入list的方法，我们还可以在列标签的list后，加上逗号，和行标签的list。这样就不用选取一整行)\n",
    "\n",
    "We add a comma, and a list of column labels we want to keep. The intersection gets returned. \n",
    "\n",
    "Of course, you can also use loc to select all rows but only a specific number of columns.\n",
    "\n",
    "Simply replace the first list that specifies the row labels with a colon, a slice going from beginning to end. This time, the intersection spans all rows"
   ]
  },
  {
   "cell_type": "code",
   "execution_count": 78,
   "metadata": {},
   "outputs": [
    {
     "name": "stdout",
     "output_type": "stream",
     "text": [
      "   country    capital\n",
      "CH   China    Beijing\n",
      "IN   India  New Delhi\n"
     ]
    }
   ],
   "source": [
    "print(brics.loc[['CH','IN'],['country','capital']])"
   ]
  },
  {
   "cell_type": "code",
   "execution_count": 79,
   "metadata": {
    "scrolled": true
   },
   "outputs": [
    {
     "name": "stdout",
     "output_type": "stream",
     "text": [
      "         country    capital\n",
      "BR        Brazil   Brasilia\n",
      "RU        Russia     Moscow\n",
      "IN         India  New Delhi\n",
      "CH         China    Beijing\n",
      "SA  South Africa   Pretoria\n"
     ]
    }
   ],
   "source": [
    "print(brics.loc[:,['country','capital']])"
   ]
  },
  {
   "cell_type": "markdown",
   "metadata": {},
   "source": [
    "##### iloc(advanced method)\n",
    "iloc is integer index based, so you have to specify rows and columns by their integer index\n",
    "\n",
    "loc and iloc are pretty similar, the only difference is how you refer to columns and rows.you can keep all rows or columns in a similar fashion."
   ]
  },
  {
   "cell_type": "code",
   "execution_count": 88,
   "metadata": {},
   "outputs": [
    {
     "name": "stdout",
     "output_type": "stream",
     "text": [
      "country         China\n",
      "capital       Beijing\n",
      "area            9.597\n",
      "population       1357\n",
      "Name: CH, dtype: object\n"
     ]
    }
   ],
   "source": [
    "print(brics.iloc[3])"
   ]
  },
  {
   "cell_type": "code",
   "execution_count": 80,
   "metadata": {},
   "outputs": [
    {
     "name": "stdout",
     "output_type": "stream",
     "text": [
      "   country    capital   area  population\n",
      "IN   India  New Delhi  3.286      1252.0\n",
      "CH   China    Beijing  9.597      1357.0\n"
     ]
    }
   ],
   "source": [
    "print(brics.iloc[[2,3]])"
   ]
  },
  {
   "cell_type": "code",
   "execution_count": 83,
   "metadata": {},
   "outputs": [
    {
     "name": "stdout",
     "output_type": "stream",
     "text": [
      "   country    capital\n",
      "IN   India  New Delhi\n",
      "CH   China    Beijing\n"
     ]
    }
   ],
   "source": [
    "print(brics.iloc[[2,3],[0,1]])"
   ]
  },
  {
   "cell_type": "markdown",
   "metadata": {},
   "source": [
    "#### square bracket VS `loc()` or `iloc()`\n",
    "##### square bracket\n",
    "simple square brackets work fine if you want to get columns; to get rows, you can use slicing. \n",
    "\n",
    "只想整行或者整列筛选，可以使用简单的方括号\n",
    "##### `loc()` or `iloc()`\n",
    "The loc function is more versatile: you can select rows, columns, but also rows and columns at the same time. When you use loc, subsetting becomes remarkable similar to how you subsetted 2D Numpy arrays. \n",
    "\n",
    "即想进行行筛选，又想进行列筛选，可以选择`loc()`"
   ]
  },
  {
   "cell_type": "markdown",
   "metadata": {},
   "source": [
    "### Filtering pandas DataFrames\n",
    "#### illustration\n",
    "Suppose you now want to keep the countries, so the observations in this case, for which the area is greater than 8 million square kilometers.  \n",
    "\n",
    "There are three steps to this:\n",
    "\n",
    "First of all, we want to get the area column from brics.  \n",
    "\n",
    "Next, we perform the comparison on this column and store its result.\n",
    "\n",
    "Finally, we should use this result to do the appropriate selection on the DataFrame.\n",
    "##### Get column\n",
    "There are many different ways to do this. What's important here, is that we ideally get a Pandas Series, not a Pandas DataFrame.(必须用Series数据类型)\n",
    "##### Compare\n",
    "Next, we actually perform the comparison.we simply use comparsion operator in this.Now we get a Series containing booleans or Boolean Series.\n",
    "##### subset DataFrame\n",
    "The final step is using this boolean Series to subset the Pandas DataFrame.you put Boolen Series inside square brackets.so we can get a DataFrame that conform the condition."
   ]
  },
  {
   "cell_type": "code",
   "execution_count": 96,
   "metadata": {},
   "outputs": [
    {
     "name": "stdout",
     "output_type": "stream",
     "text": [
      "   country   capital    area  population\n",
      "BR  Brazil  Brasilia   8.516       200.4\n",
      "RU  Russia    Moscow  17.100       143.5\n",
      "CH   China   Beijing   9.597      1357.0\n"
     ]
    }
   ],
   "source": [
    "print(brics[brics['area']>8])"
   ]
  },
  {
   "cell_type": "markdown",
   "metadata": {},
   "source": [
    "##### Boolean operators\n",
    "Because Pandas is built on Numpy, you can also use that function here."
   ]
  },
  {
   "cell_type": "code",
   "execution_count": 97,
   "metadata": {
    "scrolled": true
   },
   "outputs": [
    {
     "name": "stdout",
     "output_type": "stream",
     "text": [
      "   country   capital   area  population\n",
      "BR  Brazil  Brasilia  8.516       200.4\n",
      "CH   China   Beijing  9.597      1357.0\n"
     ]
    }
   ],
   "source": [
    "import numpy as np\n",
    "print(brics[np.logical_and(brics['area']>8,brics['area']<10)])"
   ]
  },
  {
   "cell_type": "markdown",
   "metadata": {},
   "source": [
    "#### Loop Data Structures\n",
    "##### 1D numpy array\n",
    "It is just same as list.\n",
    "##### 2D numpy array\n",
    "To get every element of an array, you can use a Numpy function called `nditer()`."
   ]
  },
  {
   "cell_type": "code",
   "execution_count": 99,
   "metadata": {},
   "outputs": [
    {
     "name": "stdout",
     "output_type": "stream",
     "text": [
      "1.73\n",
      "1.68\n",
      "1.71\n",
      "1.89\n",
      "1.79\n",
      "65.4\n",
      "59.2\n",
      "63.6\n",
      "88.4\n",
      "68.7\n"
     ]
    }
   ],
   "source": [
    "import numpy as np\n",
    "np_height = np.array([1.73, 1.68, 1.71, 1.89, 1.79])\n",
    "np_weight = np.array([65.4, 59.2, 63.6, 88.4, 68.7])\n",
    "meas = np.array([np_height, np_weight])\n",
    "for x in np.nditer(meas):\n",
    "    print(x)"
   ]
  },
  {
   "cell_type": "markdown",
   "metadata": {},
   "source": [
    "### Loop for Pandas DataFrame\n",
    "#### Loop over row labels\n",
    "a basic for loop simply got the column names. "
   ]
  },
  {
   "cell_type": "code",
   "execution_count": 106,
   "metadata": {},
   "outputs": [
    {
     "name": "stdout",
     "output_type": "stream",
     "text": [
      "country\n",
      "capital\n",
      "area\n",
      "population\n"
     ]
    }
   ],
   "source": [
    "brics = pd.read_csv(\"./brics.csv\",index_col=0)\n",
    "for x in brics :\n",
    "    print(x)"
   ]
  },
  {
   "cell_type": "markdown",
   "metadata": {},
   "source": [
    "#### Loop over row\n",
    "In Pandas,if you want to iterate over each row,you have to mention explicitly.\n",
    "\n",
    "You do this by calling the `iterrows()` method\n",
    "\n",
    "The `iterrows()` method looks at the data frame, and on each iteration generates two pieces of data: the label of the row and then the actual data in the row as a Pandas Series. "
   ]
  },
  {
   "cell_type": "code",
   "execution_count": 107,
   "metadata": {},
   "outputs": [
    {
     "name": "stdout",
     "output_type": "stream",
     "text": [
      "BR\n",
      "country         Brazil\n",
      "capital       Brasilia\n",
      "area             8.516\n",
      "population       200.4\n",
      "Name: BR, dtype: object\n",
      "RU\n",
      "country       Russia\n",
      "capital       Moscow\n",
      "area            17.1\n",
      "population     143.5\n",
      "Name: RU, dtype: object\n",
      "IN\n",
      "country           India\n",
      "capital       New Delhi\n",
      "area              3.286\n",
      "population         1252\n",
      "Name: IN, dtype: object\n",
      "CH\n",
      "country         China\n",
      "capital       Beijing\n",
      "area            9.597\n",
      "population       1357\n",
      "Name: CH, dtype: object\n",
      "SA\n",
      "country       South Africa\n",
      "capital           Pretoria\n",
      "area                 1.221\n",
      "population           52.98\n",
      "Name: SA, dtype: object\n"
     ]
    }
   ],
   "source": [
    "for lab,row in brics.iterrows():\n",
    "    print(lab)\n",
    "    print(row)"
   ]
  },
  {
   "cell_type": "markdown",
   "metadata": {},
   "source": [
    "#### Add column\n",
    "we need to iterate over the row,so we can get both the row label and the row data.\n",
    "\n",
    "we'll have to add this new information to a new column at the appropriate location."
   ]
  },
  {
   "cell_type": "code",
   "execution_count": 110,
   "metadata": {
    "scrolled": true
   },
   "outputs": [
    {
     "name": "stdout",
     "output_type": "stream",
     "text": [
      "         country    capital    area  population  name_length\n",
      "BR        Brazil   Brasilia   8.516      200.40          6.0\n",
      "RU        Russia     Moscow  17.100      143.50          6.0\n",
      "IN         India  New Delhi   3.286     1252.00          5.0\n",
      "CH         China    Beijing   9.597     1357.00          5.0\n",
      "SA  South Africa   Pretoria   1.221       52.98         12.0\n"
     ]
    }
   ],
   "source": [
    "for lab,row in brics.iterrows():\n",
    "    brics.loc[lab,'name_length'] = len(row['country'])\n",
    "print(brics)"
   ]
  },
  {
   "cell_type": "markdown",
   "metadata": {},
   "source": [
    "#### `apply()`\n",
    "You can vectorized operations with the apply function\n",
    "\n",
    "Previous method was not especially efficient , because you're creating a Series object on every iteration. For this small DataFrame that doesn't matter, but if you're doing funky stuff on a ginormous dataset, this loss in efficiency can become problematic.\n",
    "\n",
    "If you want to add a column to a DataFrame by calling a function on another column, the `iterrows()` method in combination with a for loop is not the preferred way to go.\n",
    "\n",
    "A way better approach if you want to calculate an entire DataFrame column by applying a function on a particular column in an element-wise fashion, is `apply()`. \n",
    "\n",
    "Basically, you're selecting the column from the DataFrame, and then, on this column, you apply the len function.\n",
    "\n",
    "Apply calls the function with each value as input and produces a new array, that you can easily store as a new column"
   ]
  },
  {
   "cell_type": "code",
   "execution_count": 112,
   "metadata": {},
   "outputs": [
    {
     "data": {
      "text/html": [
       "<div>\n",
       "<style scoped>\n",
       "    .dataframe tbody tr th:only-of-type {\n",
       "        vertical-align: middle;\n",
       "    }\n",
       "\n",
       "    .dataframe tbody tr th {\n",
       "        vertical-align: top;\n",
       "    }\n",
       "\n",
       "    .dataframe thead th {\n",
       "        text-align: right;\n",
       "    }\n",
       "</style>\n",
       "<table border=\"1\" class=\"dataframe\">\n",
       "  <thead>\n",
       "    <tr style=\"text-align: right;\">\n",
       "      <th></th>\n",
       "      <th>country</th>\n",
       "      <th>capital</th>\n",
       "      <th>area</th>\n",
       "      <th>population</th>\n",
       "      <th>name_length</th>\n",
       "    </tr>\n",
       "  </thead>\n",
       "  <tbody>\n",
       "    <tr>\n",
       "      <th>BR</th>\n",
       "      <td>Brazil</td>\n",
       "      <td>Brasilia</td>\n",
       "      <td>8.516</td>\n",
       "      <td>200.40</td>\n",
       "      <td>6</td>\n",
       "    </tr>\n",
       "    <tr>\n",
       "      <th>RU</th>\n",
       "      <td>Russia</td>\n",
       "      <td>Moscow</td>\n",
       "      <td>17.100</td>\n",
       "      <td>143.50</td>\n",
       "      <td>6</td>\n",
       "    </tr>\n",
       "    <tr>\n",
       "      <th>IN</th>\n",
       "      <td>India</td>\n",
       "      <td>New Delhi</td>\n",
       "      <td>3.286</td>\n",
       "      <td>1252.00</td>\n",
       "      <td>5</td>\n",
       "    </tr>\n",
       "    <tr>\n",
       "      <th>CH</th>\n",
       "      <td>China</td>\n",
       "      <td>Beijing</td>\n",
       "      <td>9.597</td>\n",
       "      <td>1357.00</td>\n",
       "      <td>5</td>\n",
       "    </tr>\n",
       "    <tr>\n",
       "      <th>SA</th>\n",
       "      <td>South Africa</td>\n",
       "      <td>Pretoria</td>\n",
       "      <td>1.221</td>\n",
       "      <td>52.98</td>\n",
       "      <td>12</td>\n",
       "    </tr>\n",
       "  </tbody>\n",
       "</table>\n",
       "</div>"
      ],
      "text/plain": [
       "         country    capital    area  population  name_length\n",
       "BR        Brazil   Brasilia   8.516      200.40            6\n",
       "RU        Russia     Moscow  17.100      143.50            6\n",
       "IN         India  New Delhi   3.286     1252.00            5\n",
       "CH         China    Beijing   9.597     1357.00            5\n",
       "SA  South Africa   Pretoria   1.221       52.98           12"
      ]
     },
     "execution_count": 112,
     "metadata": {},
     "output_type": "execute_result"
    }
   ],
   "source": [
    "brics = pd.read_csv(\"./brics.csv\",index_col=0)\n",
    "brics['name_length'] = brics['country'].apply(len)\n",
    "brics"
   ]
  },
  {
   "cell_type": "code",
   "execution_count": 116,
   "metadata": {},
   "outputs": [
    {
     "name": "stdout",
     "output_type": "stream",
     "text": [
      "4483145248\n",
      "4483145312\n"
     ]
    }
   ],
   "source": [
    "i=73\n",
    "print(id(i))\n",
    "i+=2\n",
    "print(id(i))"
   ]
  }
 ],
 "metadata": {
  "celltoolbar": "无",
  "kernelspec": {
   "display_name": "conda env:python36",
   "language": "python",
   "name": "python36"
  },
  "language_info": {
   "codemirror_mode": {
    "name": "ipython",
    "version": 3
   },
   "file_extension": ".py",
   "mimetype": "text/x-python",
   "name": "python",
   "nbconvert_exporter": "python",
   "pygments_lexer": "ipython3",
   "version": "3.6.13"
  },
  "metadata": {
   "interpreter": {
    "hash": "a701db1dfeb376d7343d5b7b70b60cc9fc2aaa85f5ffcb73bd090a3357aba0ee"
   }
  }
 },
 "nbformat": 4,
 "nbformat_minor": 4
}
